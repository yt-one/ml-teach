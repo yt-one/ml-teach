{
 "cells": [
  {
   "metadata": {},
   "cell_type": "markdown",
   "source": [
    "## 简答题\n",
    "1. 如果训练集有100万个实例，训练决策树（无约束）大致的深度是多少？\n",
    "2. 通常来说，子节点的基尼杂质是高于还是低于其父节点？是通常更高/更低？还是永远更高/更低？\n",
    "3. 如果决策树过拟合训练集，减少max_depth是否为一个好主意？\n",
    "4. 如果决策树对训练集欠拟合，尝试缩放输入特征是否为一个好主意？\n",
    "5. 如果在给定的训练集上训练决策树需要一个小时，那么如果将特征数量变为两倍，训练大约需要多少时间？\n",
    "6. 如果在包含100万个实例的训练集上训练决策树需要一个小时，那么在包含1000万个实例的训练集上训练决策树，大概需要多长时间？提示：考虑CART算法的计算复杂度。"
   ],
   "id": "c8b56739308b5b88"
  },
  {
   "metadata": {},
   "cell_type": "markdown",
   "source": "## 编程题",
   "id": "d57bc0d1695fa8ab"
  },
  {
   "metadata": {},
   "cell_type": "markdown",
   "source": [
    "1. 为 新月形 数据集训练并微调一棵决策树。\n",
    "\n",
    "a. 使用make_moons(n_samples=10000，noise=0.4)生成一个 新月形 数据集。\n",
    "\n",
    "b. 使用train_test_split()拆分训练集和测试集。\n",
    "\n",
    "c. 使用交叉验证的网格搜索（在GridSearchCV类的帮助下）为Decision-TreeClassifier找到适合的超参数值。提示：尝试max_leaf_nodes的多种值。\n",
    "\n",
    "d. 使用超参数对整个训练集进行训练，并测量模型在测试集上的性能。你应该得到约85%～87%的准确率。"
   ],
   "id": "df859f669d173482"
  },
  {
   "metadata": {},
   "cell_type": "markdown",
   "source": [
    "2. 按照以下步骤种植森林。\n",
    "\n",
    "a.继续之前的练习，生产1000个训练集子集，每个子集包含随机挑选的100个实例。提示：使用Scikit-Learn的ShuffleSplit类来实现。\n",
    "\n",
    "b.使用前面得到的最佳超参数值，在每个子集上训练一棵决策树。在测试集上评估这1000棵决策树。因为训练集更小，所以这些决策树的表现可能比第一棵决策树要差一些，只能达到约80%的精度。\n",
    "\n",
    "c.见证奇迹的时刻到了。用每个测试集实例，生成1000棵决策树的预测，然后仅保留次数最频繁的预测［可以使用SciPy的mode()函数］。这样你在测试集上可获得大多数投票的预测结果。\n",
    "\n",
    "d.评估测试集上的这些预测，你得到的准确率应该比第一个模型更高（高出0.5%～1.5%）。恭喜，你已经训练出了一个随机森林分类器！"
   ],
   "id": "ed6c04b5518d9498"
  },
  {
   "metadata": {
    "ExecuteTime": {
     "end_time": "2025-08-18T05:55:03.451815Z",
     "start_time": "2025-08-18T05:55:03.440813Z"
    }
   },
   "cell_type": "code",
   "source": [
    "\n",
    "import numpy as np\n",
    "# m*n*log2(m)\n",
    "\n",
    "# 1e6 * n * log2(1e6)\n",
    "# 1e7 * n * log2(1e7)\n",
    "\n",
    "# 10 * (log2(1e7) / log2（1e6)\n",
    "10 * (np.log2(1e7) / np.log2(1e6))"
   ],
   "id": "c73f731a299a3a99",
   "outputs": [
    {
     "data": {
      "text/plain": [
       "11.666666666666668"
      ]
     },
     "execution_count": 2,
     "metadata": {},
     "output_type": "execute_result"
    }
   ],
   "execution_count": 2
  },
  {
   "metadata": {},
   "cell_type": "code",
   "outputs": [],
   "execution_count": null,
   "source": "",
   "id": "8ac105cd4a2689c4"
  }
 ],
 "metadata": {
  "kernelspec": {
   "display_name": "Python 3",
   "language": "python",
   "name": "python3"
  },
  "language_info": {
   "codemirror_mode": {
    "name": "ipython",
    "version": 2
   },
   "file_extension": ".py",
   "mimetype": "text/x-python",
   "name": "python",
   "nbconvert_exporter": "python",
   "pygments_lexer": "ipython2",
   "version": "2.7.6"
  }
 },
 "nbformat": 4,
 "nbformat_minor": 5
}
