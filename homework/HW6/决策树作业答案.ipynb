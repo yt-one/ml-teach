{
 "cells": [
  {
   "metadata": {},
   "cell_type": "markdown",
   "source": "## 编程题",
   "id": "6edaea5e4b5a5a41"
  },
  {
   "metadata": {},
   "cell_type": "markdown",
   "source": [
    "1. 为 新月形 数据集训练并微调一棵决策树。\n",
    "\n",
    "a. 使用make_moons(n_samples=10000，noise=0.4)生成一个 新月形 数据集。\n",
    "\n",
    "b. 使用train_test_split()拆分训练集和测试集。\n",
    "\n",
    "c. 使用交叉验证的网格搜索（在GridSearchCV类的帮助下）为Decision-TreeClassifier找到适合的超参数值。提示：尝试max_leaf_nodes的多种值。\n",
    "\n",
    "d. 使用超参数对整个训练集进行训练，并测量模型在测试集上的性能。你应该得到约85%～87%的准确率。"
   ],
   "id": "8e6c231bc78e8838"
  },
  {
   "metadata": {
    "ExecuteTime": {
     "end_time": "2025-08-18T06:45:00.080386Z",
     "start_time": "2025-08-18T06:45:00.000341Z"
    }
   },
   "cell_type": "code",
   "source": [
    "from sklearn.datasets import make_moons\n",
    "\n",
    "X, y = make_moons(n_samples=10000, noise=0.4)"
   ],
   "id": "f9c4592bac8bb151",
   "outputs": [],
   "execution_count": 2
  },
  {
   "metadata": {
    "ExecuteTime": {
     "end_time": "2025-08-18T06:45:00.887134Z",
     "start_time": "2025-08-18T06:45:00.871171Z"
    }
   },
   "cell_type": "code",
   "source": [
    "from sklearn.model_selection import train_test_split\n",
    "\n",
    "X_train, X_test, y_train, y_test = train_test_split(X, y, shuffle=True, random_state=42, test_size=0.2)"
   ],
   "id": "730c0416147b1471",
   "outputs": [],
   "execution_count": 3
  },
  {
   "metadata": {
    "ExecuteTime": {
     "end_time": "2025-08-18T06:45:35.723942Z",
     "start_time": "2025-08-18T06:45:13.728421Z"
    }
   },
   "cell_type": "code",
   "source": [
    "from sklearn.tree import DecisionTreeClassifier\n",
    "from sklearn.model_selection import GridSearchCV\n",
    "import numpy as np\n",
    "\n",
    "tree_clf = DecisionTreeClassifier()\n",
    "param_grid = {\n",
    "    'criterion': ['gini', 'entropy'],\n",
    "    'max_leaf_nodes':   2**np.arange(1, 10),\n",
    "    'min_samples_leaf': range(1, 50, 2)\n",
    "}\n",
    "\n",
    "grid_search_tree = GridSearchCV(tree_clf, param_grid=param_grid, cv=3, scoring='accuracy')\n",
    "grid_search_tree.fit(X_train, y_train)"
   ],
   "id": "384c157b573a3dad",
   "outputs": [
    {
     "data": {
      "text/plain": [
       "GridSearchCV(cv=3, estimator=DecisionTreeClassifier(),\n",
       "             param_grid={'criterion': ['gini', 'entropy'],\n",
       "                         'max_leaf_nodes': array([  2,   4,   8,  16,  32,  64, 128, 256, 512], dtype=int32),\n",
       "                         'min_samples_leaf': range(1, 50, 2)},\n",
       "             scoring='accuracy')"
      ],
      "text/html": [
       "<style>#sk-container-id-1 {color: black;}#sk-container-id-1 pre{padding: 0;}#sk-container-id-1 div.sk-toggleable {background-color: white;}#sk-container-id-1 label.sk-toggleable__label {cursor: pointer;display: block;width: 100%;margin-bottom: 0;padding: 0.3em;box-sizing: border-box;text-align: center;}#sk-container-id-1 label.sk-toggleable__label-arrow:before {content: \"▸\";float: left;margin-right: 0.25em;color: #696969;}#sk-container-id-1 label.sk-toggleable__label-arrow:hover:before {color: black;}#sk-container-id-1 div.sk-estimator:hover label.sk-toggleable__label-arrow:before {color: black;}#sk-container-id-1 div.sk-toggleable__content {max-height: 0;max-width: 0;overflow: hidden;text-align: left;background-color: #f0f8ff;}#sk-container-id-1 div.sk-toggleable__content pre {margin: 0.2em;color: black;border-radius: 0.25em;background-color: #f0f8ff;}#sk-container-id-1 input.sk-toggleable__control:checked~div.sk-toggleable__content {max-height: 200px;max-width: 100%;overflow: auto;}#sk-container-id-1 input.sk-toggleable__control:checked~label.sk-toggleable__label-arrow:before {content: \"▾\";}#sk-container-id-1 div.sk-estimator input.sk-toggleable__control:checked~label.sk-toggleable__label {background-color: #d4ebff;}#sk-container-id-1 div.sk-label input.sk-toggleable__control:checked~label.sk-toggleable__label {background-color: #d4ebff;}#sk-container-id-1 input.sk-hidden--visually {border: 0;clip: rect(1px 1px 1px 1px);clip: rect(1px, 1px, 1px, 1px);height: 1px;margin: -1px;overflow: hidden;padding: 0;position: absolute;width: 1px;}#sk-container-id-1 div.sk-estimator {font-family: monospace;background-color: #f0f8ff;border: 1px dotted black;border-radius: 0.25em;box-sizing: border-box;margin-bottom: 0.5em;}#sk-container-id-1 div.sk-estimator:hover {background-color: #d4ebff;}#sk-container-id-1 div.sk-parallel-item::after {content: \"\";width: 100%;border-bottom: 1px solid gray;flex-grow: 1;}#sk-container-id-1 div.sk-label:hover label.sk-toggleable__label {background-color: #d4ebff;}#sk-container-id-1 div.sk-serial::before {content: \"\";position: absolute;border-left: 1px solid gray;box-sizing: border-box;top: 0;bottom: 0;left: 50%;z-index: 0;}#sk-container-id-1 div.sk-serial {display: flex;flex-direction: column;align-items: center;background-color: white;padding-right: 0.2em;padding-left: 0.2em;position: relative;}#sk-container-id-1 div.sk-item {position: relative;z-index: 1;}#sk-container-id-1 div.sk-parallel {display: flex;align-items: stretch;justify-content: center;background-color: white;position: relative;}#sk-container-id-1 div.sk-item::before, #sk-container-id-1 div.sk-parallel-item::before {content: \"\";position: absolute;border-left: 1px solid gray;box-sizing: border-box;top: 0;bottom: 0;left: 50%;z-index: -1;}#sk-container-id-1 div.sk-parallel-item {display: flex;flex-direction: column;z-index: 1;position: relative;background-color: white;}#sk-container-id-1 div.sk-parallel-item:first-child::after {align-self: flex-end;width: 50%;}#sk-container-id-1 div.sk-parallel-item:last-child::after {align-self: flex-start;width: 50%;}#sk-container-id-1 div.sk-parallel-item:only-child::after {width: 0;}#sk-container-id-1 div.sk-dashed-wrapped {border: 1px dashed gray;margin: 0 0.4em 0.5em 0.4em;box-sizing: border-box;padding-bottom: 0.4em;background-color: white;}#sk-container-id-1 div.sk-label label {font-family: monospace;font-weight: bold;display: inline-block;line-height: 1.2em;}#sk-container-id-1 div.sk-label-container {text-align: center;}#sk-container-id-1 div.sk-container {/* jupyter's `normalize.less` sets `[hidden] { display: none; }` but bootstrap.min.css set `[hidden] { display: none !important; }` so we also need the `!important` here to be able to override the default hidden behavior on the sphinx rendered scikit-learn.org. See: https://github.com/scikit-learn/scikit-learn/issues/21755 */display: inline-block !important;position: relative;}#sk-container-id-1 div.sk-text-repr-fallback {display: none;}</style><div id=\"sk-container-id-1\" class=\"sk-top-container\"><div class=\"sk-text-repr-fallback\"><pre>GridSearchCV(cv=3, estimator=DecisionTreeClassifier(),\n",
       "             param_grid={&#x27;criterion&#x27;: [&#x27;gini&#x27;, &#x27;entropy&#x27;],\n",
       "                         &#x27;max_leaf_nodes&#x27;: array([  2,   4,   8,  16,  32,  64, 128, 256, 512], dtype=int32),\n",
       "                         &#x27;min_samples_leaf&#x27;: range(1, 50, 2)},\n",
       "             scoring=&#x27;accuracy&#x27;)</pre><b>In a Jupyter environment, please rerun this cell to show the HTML representation or trust the notebook. <br />On GitHub, the HTML representation is unable to render, please try loading this page with nbviewer.org.</b></div><div class=\"sk-container\" hidden><div class=\"sk-item sk-dashed-wrapped\"><div class=\"sk-label-container\"><div class=\"sk-label sk-toggleable\"><input class=\"sk-toggleable__control sk-hidden--visually\" id=\"sk-estimator-id-1\" type=\"checkbox\" ><label for=\"sk-estimator-id-1\" class=\"sk-toggleable__label sk-toggleable__label-arrow\">GridSearchCV</label><div class=\"sk-toggleable__content\"><pre>GridSearchCV(cv=3, estimator=DecisionTreeClassifier(),\n",
       "             param_grid={&#x27;criterion&#x27;: [&#x27;gini&#x27;, &#x27;entropy&#x27;],\n",
       "                         &#x27;max_leaf_nodes&#x27;: array([  2,   4,   8,  16,  32,  64, 128, 256, 512], dtype=int32),\n",
       "                         &#x27;min_samples_leaf&#x27;: range(1, 50, 2)},\n",
       "             scoring=&#x27;accuracy&#x27;)</pre></div></div></div><div class=\"sk-parallel\"><div class=\"sk-parallel-item\"><div class=\"sk-item\"><div class=\"sk-label-container\"><div class=\"sk-label sk-toggleable\"><input class=\"sk-toggleable__control sk-hidden--visually\" id=\"sk-estimator-id-2\" type=\"checkbox\" ><label for=\"sk-estimator-id-2\" class=\"sk-toggleable__label sk-toggleable__label-arrow\">estimator: DecisionTreeClassifier</label><div class=\"sk-toggleable__content\"><pre>DecisionTreeClassifier()</pre></div></div></div><div class=\"sk-serial\"><div class=\"sk-item\"><div class=\"sk-estimator sk-toggleable\"><input class=\"sk-toggleable__control sk-hidden--visually\" id=\"sk-estimator-id-3\" type=\"checkbox\" ><label for=\"sk-estimator-id-3\" class=\"sk-toggleable__label sk-toggleable__label-arrow\">DecisionTreeClassifier</label><div class=\"sk-toggleable__content\"><pre>DecisionTreeClassifier()</pre></div></div></div></div></div></div></div></div></div></div>"
      ]
     },
     "execution_count": 5,
     "metadata": {},
     "output_type": "execute_result"
    }
   ],
   "execution_count": 5
  },
  {
   "metadata": {
    "ExecuteTime": {
     "end_time": "2025-08-18T06:45:38.454417Z",
     "start_time": "2025-08-18T06:45:38.061923Z"
    }
   },
   "cell_type": "code",
   "source": [
    "import pandas as pd\n",
    "\n",
    "pd.DataFrame(grid_search_tree.cv_results_).sort_values(by=\"mean_test_score\", ascending=False).head(5)"
   ],
   "id": "bd8709fefdb948d1",
   "outputs": [
    {
     "data": {
      "text/plain": [
       "     mean_fit_time  std_fit_time  mean_score_time  std_score_time  \\\n",
       "329       0.021632      0.004813         0.000000        0.000000   \n",
       "328       0.016998      0.005740         0.002914        0.004121   \n",
       "344       0.018083      0.001566         0.001858        0.002628   \n",
       "342       0.012090      0.002762         0.006462        0.004570   \n",
       "343       0.018185      0.003835         0.000000        0.000000   \n",
       "\n",
       "    param_criterion param_max_leaf_nodes param_min_samples_leaf  \\\n",
       "329         entropy                   32                      9   \n",
       "328         entropy                   32                      7   \n",
       "344         entropy                   32                     39   \n",
       "342         entropy                   32                     35   \n",
       "343         entropy                   32                     37   \n",
       "\n",
       "                                                params  split0_test_score  \\\n",
       "329  {'criterion': 'entropy', 'max_leaf_nodes': 32,...           0.863142   \n",
       "328  {'criterion': 'entropy', 'max_leaf_nodes': 32,...           0.862767   \n",
       "344  {'criterion': 'entropy', 'max_leaf_nodes': 32,...           0.862767   \n",
       "342  {'criterion': 'entropy', 'max_leaf_nodes': 32,...           0.862767   \n",
       "343  {'criterion': 'entropy', 'max_leaf_nodes': 32,...           0.862767   \n",
       "\n",
       "     split1_test_score  split2_test_score  mean_test_score  std_test_score  \\\n",
       "329           0.871766           0.858215         0.864374        0.005601   \n",
       "328           0.871766           0.858215         0.864249        0.005631   \n",
       "344           0.871766           0.857839         0.864124        0.005766   \n",
       "342           0.871766           0.857839         0.864124        0.005766   \n",
       "343           0.871766           0.857839         0.864124        0.005766   \n",
       "\n",
       "     rank_test_score  \n",
       "329                1  \n",
       "328                2  \n",
       "344                3  \n",
       "342                3  \n",
       "343                3  "
      ],
      "text/html": [
       "<div>\n",
       "<style scoped>\n",
       "    .dataframe tbody tr th:only-of-type {\n",
       "        vertical-align: middle;\n",
       "    }\n",
       "\n",
       "    .dataframe tbody tr th {\n",
       "        vertical-align: top;\n",
       "    }\n",
       "\n",
       "    .dataframe thead th {\n",
       "        text-align: right;\n",
       "    }\n",
       "</style>\n",
       "<table border=\"1\" class=\"dataframe\">\n",
       "  <thead>\n",
       "    <tr style=\"text-align: right;\">\n",
       "      <th></th>\n",
       "      <th>mean_fit_time</th>\n",
       "      <th>std_fit_time</th>\n",
       "      <th>mean_score_time</th>\n",
       "      <th>std_score_time</th>\n",
       "      <th>param_criterion</th>\n",
       "      <th>param_max_leaf_nodes</th>\n",
       "      <th>param_min_samples_leaf</th>\n",
       "      <th>params</th>\n",
       "      <th>split0_test_score</th>\n",
       "      <th>split1_test_score</th>\n",
       "      <th>split2_test_score</th>\n",
       "      <th>mean_test_score</th>\n",
       "      <th>std_test_score</th>\n",
       "      <th>rank_test_score</th>\n",
       "    </tr>\n",
       "  </thead>\n",
       "  <tbody>\n",
       "    <tr>\n",
       "      <th>329</th>\n",
       "      <td>0.021632</td>\n",
       "      <td>0.004813</td>\n",
       "      <td>0.000000</td>\n",
       "      <td>0.000000</td>\n",
       "      <td>entropy</td>\n",
       "      <td>32</td>\n",
       "      <td>9</td>\n",
       "      <td>{'criterion': 'entropy', 'max_leaf_nodes': 32,...</td>\n",
       "      <td>0.863142</td>\n",
       "      <td>0.871766</td>\n",
       "      <td>0.858215</td>\n",
       "      <td>0.864374</td>\n",
       "      <td>0.005601</td>\n",
       "      <td>1</td>\n",
       "    </tr>\n",
       "    <tr>\n",
       "      <th>328</th>\n",
       "      <td>0.016998</td>\n",
       "      <td>0.005740</td>\n",
       "      <td>0.002914</td>\n",
       "      <td>0.004121</td>\n",
       "      <td>entropy</td>\n",
       "      <td>32</td>\n",
       "      <td>7</td>\n",
       "      <td>{'criterion': 'entropy', 'max_leaf_nodes': 32,...</td>\n",
       "      <td>0.862767</td>\n",
       "      <td>0.871766</td>\n",
       "      <td>0.858215</td>\n",
       "      <td>0.864249</td>\n",
       "      <td>0.005631</td>\n",
       "      <td>2</td>\n",
       "    </tr>\n",
       "    <tr>\n",
       "      <th>344</th>\n",
       "      <td>0.018083</td>\n",
       "      <td>0.001566</td>\n",
       "      <td>0.001858</td>\n",
       "      <td>0.002628</td>\n",
       "      <td>entropy</td>\n",
       "      <td>32</td>\n",
       "      <td>39</td>\n",
       "      <td>{'criterion': 'entropy', 'max_leaf_nodes': 32,...</td>\n",
       "      <td>0.862767</td>\n",
       "      <td>0.871766</td>\n",
       "      <td>0.857839</td>\n",
       "      <td>0.864124</td>\n",
       "      <td>0.005766</td>\n",
       "      <td>3</td>\n",
       "    </tr>\n",
       "    <tr>\n",
       "      <th>342</th>\n",
       "      <td>0.012090</td>\n",
       "      <td>0.002762</td>\n",
       "      <td>0.006462</td>\n",
       "      <td>0.004570</td>\n",
       "      <td>entropy</td>\n",
       "      <td>32</td>\n",
       "      <td>35</td>\n",
       "      <td>{'criterion': 'entropy', 'max_leaf_nodes': 32,...</td>\n",
       "      <td>0.862767</td>\n",
       "      <td>0.871766</td>\n",
       "      <td>0.857839</td>\n",
       "      <td>0.864124</td>\n",
       "      <td>0.005766</td>\n",
       "      <td>3</td>\n",
       "    </tr>\n",
       "    <tr>\n",
       "      <th>343</th>\n",
       "      <td>0.018185</td>\n",
       "      <td>0.003835</td>\n",
       "      <td>0.000000</td>\n",
       "      <td>0.000000</td>\n",
       "      <td>entropy</td>\n",
       "      <td>32</td>\n",
       "      <td>37</td>\n",
       "      <td>{'criterion': 'entropy', 'max_leaf_nodes': 32,...</td>\n",
       "      <td>0.862767</td>\n",
       "      <td>0.871766</td>\n",
       "      <td>0.857839</td>\n",
       "      <td>0.864124</td>\n",
       "      <td>0.005766</td>\n",
       "      <td>3</td>\n",
       "    </tr>\n",
       "  </tbody>\n",
       "</table>\n",
       "</div>"
      ]
     },
     "execution_count": 6,
     "metadata": {},
     "output_type": "execute_result"
    }
   ],
   "execution_count": 6
  },
  {
   "metadata": {
    "ExecuteTime": {
     "end_time": "2025-08-18T06:45:41.829722Z",
     "start_time": "2025-08-18T06:45:41.818006Z"
    }
   },
   "cell_type": "code",
   "source": [
    "from sklearn.metrics import accuracy_score\n",
    "best_tree = grid_search_tree.best_estimator_\n",
    "accuracy_score(y_test, best_tree.predict(X_test))\n"
   ],
   "id": "92ecdc733b0e8b3",
   "outputs": [
    {
     "data": {
      "text/plain": [
       "0.8675"
      ]
     },
     "execution_count": 7,
     "metadata": {},
     "output_type": "execute_result"
    }
   ],
   "execution_count": 7
  },
  {
   "metadata": {},
   "cell_type": "markdown",
   "source": [
    "2. 按照以下步骤种植森林。\n",
    "\n",
    "a.继续之前的练习，生产1000个训练集子集，每个子集包含随机挑选的100个实例。提示：使用Scikit-Learn的ShuffleSplit类来实现。\n",
    "\n",
    "b.使用前面得到的最佳超参数值，在每个子集上训练一棵决策树。在测试集上评估这1000棵决策树。因为训练集更小，所以这些决策树的表现可能比第一棵决策树要差一些，只能达到约80%的精度。\n",
    "\n",
    "c.见证奇迹的时刻到了。用每个测试集实例，生成1000棵决策树的预测，然后仅保留次数最频繁的预测［可以使用SciPy的mode()函数］。这样你在测试集上可获得大多数投票的预测结果。\n",
    "\n",
    "d.评估测试集上的这些预测，你得到的准确率应该比第一个模型更高（高出0.5%～1.5%）。恭喜，你已经训练出了一个随机森林分类器！"
   ],
   "id": "8f9885e093c630f3"
  },
  {
   "metadata": {
    "ExecuteTime": {
     "end_time": "2025-08-18T06:46:29.385758Z",
     "start_time": "2025-08-18T06:46:25.860281Z"
    }
   },
   "cell_type": "code",
   "source": [
    "from sklearn.model_selection import ShuffleSplit\n",
    "\n",
    "m = X_train.shape[0]\n",
    "\n",
    "forests = []\n",
    "shuffleSplit = ShuffleSplit(n_splits=1500, train_size=600 / m, random_state=42)\n",
    "best_parmas = grid_search_tree.best_params_\n",
    "\n",
    "for train_index, test_index in shuffleSplit.split(X_train):\n",
    "    tree_clf_sample = DecisionTreeClassifier(**best_parmas)\n",
    "    tree_clf_sample.fit(X_train[train_index], y_train[train_index])\n",
    "    forests.append(tree_clf_sample)"
   ],
   "id": "7d14661e1bb0b9d9",
   "outputs": [],
   "execution_count": 16
  },
  {
   "metadata": {
    "ExecuteTime": {
     "end_time": "2025-08-18T06:46:35.241480Z",
     "start_time": "2025-08-18T06:46:33.829738Z"
    }
   },
   "cell_type": "code",
   "source": [
    "scores = []\n",
    "predictions = []\n",
    "for tree in forests:\n",
    "    pred = tree.predict(X_test)\n",
    "    predictions.append(pred)\n",
    "    scores.append(accuracy_score(y_test, tree.predict(X_test)))\n"
   ],
   "id": "32d35b2826b694b",
   "outputs": [],
   "execution_count": 17
  },
  {
   "metadata": {
    "ExecuteTime": {
     "end_time": "2025-08-18T06:46:35.735327Z",
     "start_time": "2025-08-18T06:46:35.719618Z"
    }
   },
   "cell_type": "code",
   "source": [
    "np.max(scores)\n",
    "np.min(scores)\n",
    "np.mean(scores)\n",
    "\n",
    "# predictions"
   ],
   "id": "df16f233e3772443",
   "outputs": [
    {
     "data": {
      "text/plain": [
       "0.842738"
      ]
     },
     "execution_count": 18,
     "metadata": {},
     "output_type": "execute_result"
    }
   ],
   "execution_count": 18
  },
  {
   "metadata": {
    "ExecuteTime": {
     "end_time": "2025-08-18T06:46:36.739237Z",
     "start_time": "2025-08-18T06:46:36.570422Z"
    }
   },
   "cell_type": "code",
   "source": [
    "# 按列 挑选最频繁的结果， 最终选择最频繁出现的结果\n",
    "from scipy import stats\n",
    "forest_pred = stats.mode(predictions, axis=0).mode\n",
    "forest_pred.shape\n",
    "accuracy_score(y_test, forest_pred)"
   ],
   "id": "2287a9c0e48355f2",
   "outputs": [
    {
     "data": {
      "text/plain": [
       "0.862"
      ]
     },
     "execution_count": 19,
     "metadata": {},
     "output_type": "execute_result"
    }
   ],
   "execution_count": 19
  },
  {
   "metadata": {},
   "cell_type": "code",
   "outputs": [],
   "execution_count": null,
   "source": "",
   "id": "63e40d8235214d45"
  }
 ],
 "metadata": {
  "kernelspec": {
   "display_name": "Python 3",
   "language": "python",
   "name": "python3"
  },
  "language_info": {
   "codemirror_mode": {
    "name": "ipython",
    "version": 2
   },
   "file_extension": ".py",
   "mimetype": "text/x-python",
   "name": "python",
   "nbconvert_exporter": "python",
   "pygments_lexer": "ipython2",
   "version": "2.7.6"
  }
 },
 "nbformat": 4,
 "nbformat_minor": 5
}
