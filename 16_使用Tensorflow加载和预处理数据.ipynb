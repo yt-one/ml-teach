{
 "cells": [
  {
   "metadata": {},
   "cell_type": "markdown",
   "source": [
    "加载和预处理数据是机器学习/深度学习项目的重要组成部分。使用Pandas加载和探索数据集（存储在CSV文件中），并应用Scikit-Learn的转换程序进行预处理。这些工具非常方便，可能会经常使用它们，尤其是在使用数据进行探索和实验时。\n",
    "\n",
    "但是，在大型数据集上训练TensorFlow模型时，更适合使用TensorFlow自己的数据加载和预处理API，它称为tf.data。它能够非常高效地加载和预处理数据，使用多线程和队列并行读取多个文件，混淆和批处理样本，等等。\n",
    "\n",
    "此外，它可以即时完成所有这些操作——它跨多个CPU内核加载和预处理下一批数据，而GPU或TPU则忙于训练当前批次的数据。tf.data API可以让你处理内存中放不下的数据集，并让你充分利用硬件资源，从而加快训练速度。\n",
    "\n",
    "现成的tf.data API可以从文本文件（例如CSV文件）、具有固定大小记录的二进制文件以及使用TensorFlow TFRecord格式（支持不同大小记录）的二进制文件中读取数据。TFRecord是一种灵活高效的二进制格式，通常包含协议缓冲区（一种开源二进制格式）。tf.data API还支持从SQL数据库读取数据。\n",
    "\n",
    "Keras还带有强大但易于使用的预处理层，可以将其嵌入模型中：这样，当你将模型部署到生产环境时，它将能够直接摄取原始数据，而无须添加任何额外的预处理代码。这消除了训练期间使用的预处理代码与生产环境中使用的预处理代码不匹配的风险。如果在使用不同编程语言编码的多个应用程序中部署模型，则不必多次重新实现相同的预处理代码，这也降低了不匹配的风险。这两个API可以联合使用——例如同时受益于tf.data数据加载的高效性和Keras预处理层的便利性。\n",
    "\n",
    "首先介绍tf.data API和TFRecord格式。然后，探索Keras预处理层以及如何将它们与tf.data API结合使用。最后，将快速浏览一些对加载和预处理数据有用的相关库，例如TensorFlow Datasets和TensorFlow Hub。"
   ],
   "id": "91797e3c262b62b4"
  },
  {
   "metadata": {},
   "cell_type": "markdown",
   "source": "## tf.data API",
   "id": "436d7d4942c4d612"
  },
  {
   "cell_type": "code",
   "id": "initial_id",
   "metadata": {
    "collapsed": true,
    "ExecuteTime": {
     "end_time": "2025-09-14T12:19:02.850601Z",
     "start_time": "2025-09-14T12:18:59.749878Z"
    }
   },
   "source": "import tensorflow as tf",
   "outputs": [],
   "execution_count": 1
  },
  {
   "metadata": {
    "ExecuteTime": {
     "end_time": "2025-09-14T12:19:02.897998Z",
     "start_time": "2025-09-14T12:19:02.857868Z"
    }
   },
   "cell_type": "code",
   "source": [
    "# tf.data API围绕 tf.data.Dataset\n",
    "X = tf.range(10)\n",
    "dataset = tf.data.Dataset.from_tensor_slices(X) # from_tensor_slices: 从数据张量创建一个数据集，\n",
    "dataset"
   ],
   "id": "644e73ebc7878908",
   "outputs": [
    {
     "data": {
      "text/plain": [
       "<_TensorSliceDataset element_spec=TensorSpec(shape=(), dtype=tf.int32, name=None)>"
      ]
     },
     "execution_count": 2,
     "metadata": {},
     "output_type": "execute_result"
    }
   ],
   "execution_count": 2
  },
  {
   "metadata": {},
   "cell_type": "markdown",
   "source": [
    "from_tensor_slices()函数接受一个张量并创建一个tf.data.Dataset,其元素是X沿第一个维度的所有切片\n",
    "\n",
    "tf.data.API是一种流式API：可以非常高效地遍历数据集的元素，但该API不是为索引或切片而设计的"
   ],
   "id": "ac5019294d775c8c"
  },
  {
   "metadata": {
    "ExecuteTime": {
     "end_time": "2025-09-14T12:19:02.973399Z",
     "start_time": "2025-09-14T12:19:02.908007Z"
    }
   },
   "cell_type": "code",
   "source": [
    "for item in dataset:\n",
    "    print(item)"
   ],
   "id": "6f24c57f49790a8e",
   "outputs": [
    {
     "name": "stdout",
     "output_type": "stream",
     "text": [
      "tf.Tensor(0, shape=(), dtype=int32)\n",
      "tf.Tensor(1, shape=(), dtype=int32)\n",
      "tf.Tensor(2, shape=(), dtype=int32)\n",
      "tf.Tensor(3, shape=(), dtype=int32)\n",
      "tf.Tensor(4, shape=(), dtype=int32)\n",
      "tf.Tensor(5, shape=(), dtype=int32)\n",
      "tf.Tensor(6, shape=(), dtype=int32)\n",
      "tf.Tensor(7, shape=(), dtype=int32)\n",
      "tf.Tensor(8, shape=(), dtype=int32)\n",
      "tf.Tensor(9, shape=(), dtype=int32)\n"
     ]
    }
   ],
   "execution_count": 3
  },
  {
   "metadata": {
    "ExecuteTime": {
     "end_time": "2025-09-14T12:19:03.019934Z",
     "start_time": "2025-09-14T12:19:02.988399Z"
    }
   },
   "cell_type": "code",
   "source": [
    "d = tf.data.Dataset.range(10)\n",
    "for item in d:\n",
    "    print(item)"
   ],
   "id": "c035700ac19c6e9d",
   "outputs": [
    {
     "name": "stdout",
     "output_type": "stream",
     "text": [
      "tf.Tensor(0, shape=(), dtype=int64)\n",
      "tf.Tensor(1, shape=(), dtype=int64)\n",
      "tf.Tensor(2, shape=(), dtype=int64)\n",
      "tf.Tensor(3, shape=(), dtype=int64)\n",
      "tf.Tensor(4, shape=(), dtype=int64)\n",
      "tf.Tensor(5, shape=(), dtype=int64)\n",
      "tf.Tensor(6, shape=(), dtype=int64)\n",
      "tf.Tensor(7, shape=(), dtype=int64)\n",
      "tf.Tensor(8, shape=(), dtype=int64)\n",
      "tf.Tensor(9, shape=(), dtype=int64)\n"
     ]
    }
   ],
   "execution_count": 4
  },
  {
   "metadata": {},
   "cell_type": "markdown",
   "source": "数据集还可能包含张量元组或名称/张量对字典，甚至是嵌套的元组和张量字典。当对元组、字典或嵌套结构进行切片时，数据集将仅对其包含的张量进行切片，同时保留元组/字典结构。",
   "id": "41d2e1db7f384948"
  },
  {
   "metadata": {
    "ExecuteTime": {
     "end_time": "2025-09-14T12:19:03.064935Z",
     "start_time": "2025-09-14T12:19:03.034933Z"
    }
   },
   "cell_type": "code",
   "source": [
    "X_nested = {\"a\": ([1,2,3], [4,5,6],[2,3,0]), \"b\": [7,8,9]}\n",
    "dataset = tf.data.Dataset.from_tensor_slices(X_nested)\n",
    "for item in dataset:\n",
    "    print(item)"
   ],
   "id": "345af23081bb6403",
   "outputs": [
    {
     "name": "stdout",
     "output_type": "stream",
     "text": [
      "{'a': (<tf.Tensor: shape=(), dtype=int32, numpy=1>, <tf.Tensor: shape=(), dtype=int32, numpy=4>, <tf.Tensor: shape=(), dtype=int32, numpy=2>), 'b': <tf.Tensor: shape=(), dtype=int32, numpy=7>}\n",
      "{'a': (<tf.Tensor: shape=(), dtype=int32, numpy=2>, <tf.Tensor: shape=(), dtype=int32, numpy=5>, <tf.Tensor: shape=(), dtype=int32, numpy=3>), 'b': <tf.Tensor: shape=(), dtype=int32, numpy=8>}\n",
      "{'a': (<tf.Tensor: shape=(), dtype=int32, numpy=3>, <tf.Tensor: shape=(), dtype=int32, numpy=6>, <tf.Tensor: shape=(), dtype=int32, numpy=0>), 'b': <tf.Tensor: shape=(), dtype=int32, numpy=9>}\n"
     ]
    }
   ],
   "execution_count": 5
  },
  {
   "metadata": {
    "ExecuteTime": {
     "end_time": "2025-09-17T14:26:15.872095Z",
     "start_time": "2025-09-17T14:26:12.202609Z"
    }
   },
   "cell_type": "code",
   "source": [
    "dataset = tf.data.Dataset.from_tensor_slices({\n",
    "    \"feature\": tf.constant([[1,2],\n",
    "                            [2,4],\n",
    "                            [3,6]]),\n",
    "    \"label\": tf.constant([10, 20, 30])\n",
    "})\n",
    "\n",
    "for element in dataset:\n",
    "    print(element)"
   ],
   "id": "4ecc517698300c98",
   "outputs": [
    {
     "name": "stdout",
     "output_type": "stream",
     "text": [
      "{'feature': <tf.Tensor: shape=(2,), dtype=int32, numpy=array([1, 2])>, 'label': <tf.Tensor: shape=(), dtype=int32, numpy=10>}\n",
      "{'feature': <tf.Tensor: shape=(2,), dtype=int32, numpy=array([2, 4])>, 'label': <tf.Tensor: shape=(), dtype=int32, numpy=20>}\n",
      "{'feature': <tf.Tensor: shape=(2,), dtype=int32, numpy=array([3, 6])>, 'label': <tf.Tensor: shape=(), dtype=int32, numpy=30>}\n"
     ]
    }
   ],
   "execution_count": 2
  },
  {
   "metadata": {},
   "cell_type": "markdown",
   "source": "### 链式转换",
   "id": "c581b418dc651806"
  },
  {
   "metadata": {},
   "cell_type": "markdown",
   "source": [
    "有了数据集后，就可以通过调用其转换方法对其进行各种转换。每个方法都返回一个新的数据集，因此可以进行链式转换\n",
    "\n",
    "数据集方法不会修改数据集，而是创建新数据集，因此请保留对这些新数据集的引用（例如使用dataset=...），否则将不会发生任何事情。"
   ],
   "id": "a3d8d347f97d6052"
  },
  {
   "metadata": {
    "ExecuteTime": {
     "end_time": "2025-09-14T12:19:03.152216Z",
     "start_time": "2025-09-14T12:19:03.121955Z"
    }
   },
   "cell_type": "code",
   "source": [
    "# 链式转换\n",
    "dataset = tf.data.Dataset.from_tensor_slices(tf.range(10))\n",
    "dataset = dataset.repeat(3).batch(7)\n",
    "\n",
    "for item in dataset:\n",
    "    print(item)"
   ],
   "id": "9c006ec43e14dcc4",
   "outputs": [
    {
     "name": "stdout",
     "output_type": "stream",
     "text": [
      "tf.Tensor([0 1 2 3 4 5 6], shape=(7,), dtype=int32)\n",
      "tf.Tensor([7 8 9 0 1 2 3], shape=(7,), dtype=int32)\n",
      "tf.Tensor([4 5 6 7 8 9 0], shape=(7,), dtype=int32)\n",
      "tf.Tensor([1 2 3 4 5 6 7], shape=(7,), dtype=int32)\n",
      "tf.Tensor([8 9], shape=(2,), dtype=int32)\n"
     ]
    }
   ],
   "execution_count": 7
  },
  {
   "metadata": {},
   "cell_type": "markdown",
   "source": [
    "![数据链式转换](./images/tensorflow/p6.png)\n",
    "\n",
    "在此示例中，首先在原始数据集上调用repeat()方法，它返回一个新数据集，该数据集将重复原始数据集的元素3次。当然，这不会将内存中的所有数据复制三遍\n",
    "\n",
    "如果不带任何参数调用此方法，则新数据集将永远重复源数据集，因此遍历该数据集的代码必须决定何时停止。\n",
    "\n",
    "然后，在此新数据集上调用batch()方法，并再次创建一个新的数据集。这把先前数据集的元素以7个元素为一个批次分组。\n",
    "\n",
    "最后，遍历此最终数据集的元素。batch()方法最后输出一个大小为2而不是7的最终批次，但是如果希望它删除最终批次，可以使用drop_remainder=True调用它，使所有批次具有完全相同的大小。"
   ],
   "id": "f73223c669376f94"
  },
  {
   "metadata": {
    "ExecuteTime": {
     "end_time": "2025-09-14T12:19:03.243660Z",
     "start_time": "2025-09-14T12:19:03.172221Z"
    }
   },
   "cell_type": "code",
   "source": [
    "# 使用map转换元素\n",
    "dataset = dataset.map(lambda x: x * 2)  # x是一个批次\n",
    "for item in dataset:\n",
    "    print(item)"
   ],
   "id": "230cfeb8669219b1",
   "outputs": [
    {
     "name": "stdout",
     "output_type": "stream",
     "text": [
      "tf.Tensor([ 0  2  4  6  8 10 12], shape=(7,), dtype=int32)\n",
      "tf.Tensor([14 16 18  0  2  4  6], shape=(7,), dtype=int32)\n",
      "tf.Tensor([ 8 10 12 14 16 18  0], shape=(7,), dtype=int32)\n",
      "tf.Tensor([ 2  4  6  8 10 12 14], shape=(7,), dtype=int32)\n",
      "tf.Tensor([16 18], shape=(2,), dtype=int32)\n"
     ]
    }
   ],
   "execution_count": 8
  },
  {
   "metadata": {},
   "cell_type": "markdown",
   "source": [
    "此map()方法是将调用的对数据应用预处理的方法。有时，这可能包括非常密集的计算，例如改变图像形状或旋转图像，\n",
    "\n",
    "因此通常需要生成多个线程来加快速度。这可以通过将num_parallel_calls参数设置为要运行的线程数或tf.data.AUTOTUNE来完成（（根据可用的CPU动态选择正确的线程数）。注意，传递给map()方法的函数必须可以转换为TF函数"
   ],
   "id": "412a9c951bfc4c5a"
  },
  {
   "metadata": {
    "ExecuteTime": {
     "end_time": "2025-09-14T12:19:03.303756Z",
     "start_time": "2025-09-14T12:19:03.248662Z"
    }
   },
   "cell_type": "code",
   "source": [
    "# 过滤数据集\n",
    "dataset = dataset.filter(lambda x: tf.reduce_sum(x) > 50)\n",
    "for item in dataset:\n",
    "    print(item)"
   ],
   "id": "c8825dd1401465e7",
   "outputs": [
    {
     "name": "stdout",
     "output_type": "stream",
     "text": [
      "tf.Tensor([14 16 18  0  2  4  6], shape=(7,), dtype=int32)\n",
      "tf.Tensor([ 8 10 12 14 16 18  0], shape=(7,), dtype=int32)\n",
      "tf.Tensor([ 2  4  6  8 10 12 14], shape=(7,), dtype=int32)\n"
     ]
    }
   ],
   "execution_count": 9
  },
  {
   "metadata": {
    "ExecuteTime": {
     "end_time": "2025-09-14T12:19:03.360428Z",
     "start_time": "2025-09-14T12:19:03.330450Z"
    }
   },
   "cell_type": "code",
   "source": [
    "# 查看数据集中的几个元素\n",
    "for item in dataset.take(2):\n",
    "    print(item)"
   ],
   "id": "6ad514f3ee74fcd",
   "outputs": [
    {
     "name": "stdout",
     "output_type": "stream",
     "text": [
      "tf.Tensor([14 16 18  0  2  4  6], shape=(7,), dtype=int32)\n",
      "tf.Tensor([ 8 10 12 14 16 18  0], shape=(7,), dtype=int32)\n"
     ]
    }
   ],
   "execution_count": 10
  },
  {
   "metadata": {},
   "cell_type": "markdown",
   "source": "### 乱序数据",
   "id": "c706ed08fabae619"
  },
  {
   "metadata": {},
   "cell_type": "markdown",
   "source": [
    "当训练集中的实例独立同分布(IID)时，梯度下降效果最佳。\n",
    "\n",
    "确保这一点的一种简单方法是使用shuffle()方法对实例进行乱序处理。它会创建一个新的数据集，该数据集首先将源数据集的第一项元素填充到缓冲区中。然后，无论何时要求提供一个元素，它都会从缓冲区中随机取出一个元素，并用源数据集中的新元素替换它，直到完全遍历完源数据集为止。它将继续从缓冲区中随机抽取元素直到其为空。必须指定缓冲区的大小，重要的是要使其足够大，否则乱序处理不会非常有效。\n",
    "\n",
    "不要超出所拥有的RAM的数量，即使有足够的RAM，也不要超出数据集的大小。如果每次运行程序都需要相同的随机顺序，那么可以提供随机种子"
   ],
   "id": "648fe3eb49b0317b"
  },
  {
   "metadata": {
    "ExecuteTime": {
     "end_time": "2025-09-14T12:19:03.402896Z",
     "start_time": "2025-09-14T12:19:03.367883Z"
    }
   },
   "cell_type": "code",
   "source": [
    "# 乱序数据\n",
    "dataset = tf.data.Dataset.range(10).repeat(2)\n",
    "dataset = dataset.shuffle(buffer_size=4, seed=42).batch(7)\n",
    "for item in dataset:\n",
    "    print(item)"
   ],
   "id": "28ac4e7579417e82",
   "outputs": [
    {
     "name": "stdout",
     "output_type": "stream",
     "text": [
      "tf.Tensor([1 4 2 3 5 0 6], shape=(7,), dtype=int64)\n",
      "tf.Tensor([9 8 2 0 3 1 4], shape=(7,), dtype=int64)\n",
      "tf.Tensor([5 7 9 6 7 8], shape=(6,), dtype=int64)\n"
     ]
    }
   ],
   "execution_count": 11
  },
  {
   "metadata": {},
   "cell_type": "markdown",
   "source": [
    "如果在经过乱序处理的数据集上调用repeat()，则默认情况下它在每次迭代时生成一个新次序数据集。，\n",
    "\n",
    "但如果希望在每次迭代中重用相同的顺序（例如用于测试或调试），则可以在调用shuffle()时设置reshuffle_each_iteration=False。"
   ],
   "id": "a5c4f081a2054e2f"
  },
  {
   "metadata": {
    "ExecuteTime": {
     "end_time": "2025-09-14T12:19:03.432707Z",
     "start_time": "2025-09-14T12:19:03.412915Z"
    }
   },
   "cell_type": "code",
   "source": [
    "dataset_test = tf.data.Dataset.range(10).shuffle(buffer_size=4, seed=42).repeat(2).batch(10)\n",
    "for item in dataset_test:\n",
    "    print(item)"
   ],
   "id": "5f6e3f87cd578be8",
   "outputs": [
    {
     "name": "stdout",
     "output_type": "stream",
     "text": [
      "tf.Tensor([1 4 2 3 5 0 6 8 7 9], shape=(10,), dtype=int64)\n",
      "tf.Tensor([3 4 2 0 1 8 5 7 9 6], shape=(10,), dtype=int64)\n"
     ]
    }
   ],
   "execution_count": 12
  },
  {
   "metadata": {},
   "cell_type": "markdown",
   "source": [
    "对于内存放不下的大型数据集，这种简单的缓冲区乱序方法可能不够用，因为与数据集相比，缓冲区很小。一种解决方法是对源数据本身进行乱序处理（例如在Linux上，可以使用shuf命令打乱文本文件）。这会大大改善乱序效果。\n",
    "\n",
    "即使源数据已经乱序了，通常也希望对其进行更彻底的乱序处理，否则在每个轮次都有重复的相同顺序，该模型最终可能会产生偏差（例如，由于源数据顺序中偶然出现了一些虚假模式）。为了进一步打乱实例，一种常见的方法是将源数据拆分为多个文件，然后在训练过程中以随机顺序读取它们。\n",
    "\n",
    "但是，位于同一文件中的实例仍然相互接近。为避免这种情况，可以随机选择多个文件并同时读取它们，并且将它们的记录穿插在一起。还可以使用shuffle()方法添加一个乱序缓冲区。 tf.data API只需几行代码"
   ],
   "id": "4ca87732c595c0a4"
  },
  {
   "metadata": {
    "ExecuteTime": {
     "end_time": "2025-09-16T08:42:20.582164Z",
     "start_time": "2025-09-16T08:42:19.777899Z"
    }
   },
   "cell_type": "code",
   "source": [
    "from sklearn.datasets import fetch_california_housing\n",
    "from sklearn.model_selection import train_test_split\n",
    "\n",
    "housing = fetch_california_housing()\n",
    "X_train_full, X_test, y_train_full, y_test = train_test_split(\n",
    "    housing.data, housing.target.reshape(-1, 1), random_state=42)\n",
    "X_train, X_valid, y_train, y_valid = train_test_split(\n",
    "    X_train_full, y_train_full, random_state=42)"
   ],
   "id": "7d2f1b355e6a895c",
   "outputs": [],
   "execution_count": 19
  },
  {
   "metadata": {
    "ExecuteTime": {
     "end_time": "2025-09-14T12:19:04.016385Z",
     "start_time": "2025-09-14T12:19:03.886352Z"
    }
   },
   "cell_type": "code",
   "source": [
    "# 把训练数据集分成20份，保存成csv文件\n",
    "# 对于内存中无法容纳的非常大的数据集，通常需要先将其拆分为多个文件，然后让 TensorFlow 并行读取这些文件。\n",
    "import numpy as np\n",
    "from pathlib import Path\n",
    "\n",
    "def save_to_csv_files(data, name_prefix, header=None, n_parts=10):\n",
    "    housing_dir = Path() / \"datasets\" / \"housing\"\n",
    "    housing_dir.mkdir(parents=True, exist_ok=True)\n",
    "    filename_format = \"my_{}_{:02d}.csv\"\n",
    "\n",
    "    filepaths = []\n",
    "    m = len(data)\n",
    "    chunks = np.array_split(np.arange(m), n_parts)\n",
    "    for file_idx, row_indices in enumerate(chunks):\n",
    "        part_csv = housing_dir / filename_format.format(name_prefix, file_idx)\n",
    "        filepaths.append(str(part_csv))\n",
    "        with open(part_csv, \"w\") as f:\n",
    "            if header is not None:\n",
    "                f.write(header)\n",
    "                f.write(\"\\n\")\n",
    "            for row_idx in row_indices:\n",
    "                f.write(\",\".join([str(col) for col in data[row_idx]]))\n",
    "                f.write(\"\\n\")\n",
    "    return filepaths\n",
    "\n",
    "train_data = np.c_[X_train, y_train]\n",
    "valid_data = np.c_[X_valid, y_valid]\n",
    "test_data = np.c_[X_test, y_test]\n",
    "header_cols = housing.feature_names + [\"MedianHouseValue\"]\n",
    "header = \",\".join(header_cols)\n",
    "\n",
    "train_filepaths = save_to_csv_files(train_data, \"train\", header, n_parts=20)\n",
    "valid_filepaths = save_to_csv_files(valid_data, \"valid\", header, n_parts=10)\n",
    "test_filepaths = save_to_csv_files(test_data, \"test\", header, n_parts=10)"
   ],
   "id": "32dd959b5f976f06",
   "outputs": [],
   "execution_count": 14
  },
  {
   "metadata": {
    "ExecuteTime": {
     "end_time": "2025-09-14T12:19:04.031387Z",
     "start_time": "2025-09-14T12:19:04.021388Z"
    }
   },
   "cell_type": "code",
   "source": "train_filepaths",
   "id": "64328a1e67fbe8ac",
   "outputs": [
    {
     "data": {
      "text/plain": [
       "['datasets\\\\housing\\\\my_train_00.csv',\n",
       " 'datasets\\\\housing\\\\my_train_01.csv',\n",
       " 'datasets\\\\housing\\\\my_train_02.csv',\n",
       " 'datasets\\\\housing\\\\my_train_03.csv',\n",
       " 'datasets\\\\housing\\\\my_train_04.csv',\n",
       " 'datasets\\\\housing\\\\my_train_05.csv',\n",
       " 'datasets\\\\housing\\\\my_train_06.csv',\n",
       " 'datasets\\\\housing\\\\my_train_07.csv',\n",
       " 'datasets\\\\housing\\\\my_train_08.csv',\n",
       " 'datasets\\\\housing\\\\my_train_09.csv',\n",
       " 'datasets\\\\housing\\\\my_train_10.csv',\n",
       " 'datasets\\\\housing\\\\my_train_11.csv',\n",
       " 'datasets\\\\housing\\\\my_train_12.csv',\n",
       " 'datasets\\\\housing\\\\my_train_13.csv',\n",
       " 'datasets\\\\housing\\\\my_train_14.csv',\n",
       " 'datasets\\\\housing\\\\my_train_15.csv',\n",
       " 'datasets\\\\housing\\\\my_train_16.csv',\n",
       " 'datasets\\\\housing\\\\my_train_17.csv',\n",
       " 'datasets\\\\housing\\\\my_train_18.csv',\n",
       " 'datasets\\\\housing\\\\my_train_19.csv']"
      ]
     },
     "execution_count": 15,
     "metadata": {},
     "output_type": "execute_result"
    }
   ],
   "execution_count": 15
  },
  {
   "metadata": {
    "ExecuteTime": {
     "end_time": "2025-09-14T12:19:04.061426Z",
     "start_time": "2025-09-14T12:19:04.051388Z"
    }
   },
   "cell_type": "code",
   "source": "print(\"\".join(open(train_filepaths[0]).readlines()[:4]))  # 展示文件前几行",
   "id": "885ceaae1c02c2c2",
   "outputs": [
    {
     "name": "stdout",
     "output_type": "stream",
     "text": [
      "MedInc,HouseAge,AveRooms,AveBedrms,Population,AveOccup,Latitude,Longitude,MedianHouseValue\n",
      "3.5214,15.0,3.0499445061043287,1.106548279689234,1447.0,1.6059933407325193,37.63,-122.43,1.442\n",
      "5.3275,5.0,6.490059642147117,0.9910536779324056,3464.0,3.4433399602385686,33.69,-117.39,1.687\n",
      "3.1,29.0,7.5423728813559325,1.5915254237288134,1328.0,2.2508474576271187,38.44,-122.98,1.621\n",
      "\n"
     ]
    }
   ],
   "execution_count": 16
  },
  {
   "metadata": {
    "ExecuteTime": {
     "end_time": "2025-09-14T12:19:04.121564Z",
     "start_time": "2025-09-14T12:19:04.091391Z"
    }
   },
   "cell_type": "code",
   "source": [
    "# 创建一个仅包含以下文件路径的数据集\n",
    "# list_files()函数返回一个乱序的文件路径的数据集，不希望打乱可以设置shuffle=False\n",
    "filepath_dataset = tf.data.Dataset.list_files(train_filepaths, seed=42)"
   ],
   "id": "81403447388d27d5",
   "outputs": [],
   "execution_count": 17
  },
  {
   "metadata": {
    "ExecuteTime": {
     "end_time": "2025-09-14T12:19:04.151567Z",
     "start_time": "2025-09-14T12:19:04.131564Z"
    }
   },
   "cell_type": "code",
   "source": [
    "# filepath_dataset被打成乱序\n",
    "for filepath in filepath_dataset:\n",
    "    print(filepath)"
   ],
   "id": "206856bd87ebb5b",
   "outputs": [
    {
     "name": "stdout",
     "output_type": "stream",
     "text": [
      "tf.Tensor(b'datasets\\\\housing\\\\my_train_05.csv', shape=(), dtype=string)\n",
      "tf.Tensor(b'datasets\\\\housing\\\\my_train_16.csv', shape=(), dtype=string)\n",
      "tf.Tensor(b'datasets\\\\housing\\\\my_train_01.csv', shape=(), dtype=string)\n",
      "tf.Tensor(b'datasets\\\\housing\\\\my_train_17.csv', shape=(), dtype=string)\n",
      "tf.Tensor(b'datasets\\\\housing\\\\my_train_00.csv', shape=(), dtype=string)\n",
      "tf.Tensor(b'datasets\\\\housing\\\\my_train_14.csv', shape=(), dtype=string)\n",
      "tf.Tensor(b'datasets\\\\housing\\\\my_train_10.csv', shape=(), dtype=string)\n",
      "tf.Tensor(b'datasets\\\\housing\\\\my_train_02.csv', shape=(), dtype=string)\n",
      "tf.Tensor(b'datasets\\\\housing\\\\my_train_12.csv', shape=(), dtype=string)\n",
      "tf.Tensor(b'datasets\\\\housing\\\\my_train_19.csv', shape=(), dtype=string)\n",
      "tf.Tensor(b'datasets\\\\housing\\\\my_train_07.csv', shape=(), dtype=string)\n",
      "tf.Tensor(b'datasets\\\\housing\\\\my_train_09.csv', shape=(), dtype=string)\n",
      "tf.Tensor(b'datasets\\\\housing\\\\my_train_13.csv', shape=(), dtype=string)\n",
      "tf.Tensor(b'datasets\\\\housing\\\\my_train_15.csv', shape=(), dtype=string)\n",
      "tf.Tensor(b'datasets\\\\housing\\\\my_train_11.csv', shape=(), dtype=string)\n",
      "tf.Tensor(b'datasets\\\\housing\\\\my_train_18.csv', shape=(), dtype=string)\n",
      "tf.Tensor(b'datasets\\\\housing\\\\my_train_04.csv', shape=(), dtype=string)\n",
      "tf.Tensor(b'datasets\\\\housing\\\\my_train_06.csv', shape=(), dtype=string)\n",
      "tf.Tensor(b'datasets\\\\housing\\\\my_train_03.csv', shape=(), dtype=string)\n",
      "tf.Tensor(b'datasets\\\\housing\\\\my_train_08.csv', shape=(), dtype=string)\n"
     ]
    }
   ],
   "execution_count": 18
  },
  {
   "metadata": {
    "ExecuteTime": {
     "end_time": "2025-09-14T12:19:04.267752Z",
     "start_time": "2025-09-14T12:19:04.203017Z"
    }
   },
   "cell_type": "code",
   "source": [
    "# 调用interleave()方法一次读取5个文件并使它们的行交织，使用skip()方法跳过每个文件的第一行\n",
    "n_readers = 5\n",
    "dataset = filepath_dataset.interleave(lambda filepath: tf.data.TextLineDataset(filepath).skip(1),\n",
    "                                      cycle_length=n_readers)"
   ],
   "id": "a8e3086634a13215",
   "outputs": [],
   "execution_count": 19
  },
  {
   "metadata": {},
   "cell_type": "markdown",
   "source": [
    "interleave()方法将创建一个数据集，该数据集将从filepath_dataset中拉出5个文件路径，对于每个路径，它将调用提供的函数（在此示例中为lambda）来创建新的数据集（TextLineDataset）。\n",
    "\n",
    "在此阶段总共有7个数据集：文件路径数据集、交织数据集和由交织数据集在内部创建的5个TextLineDataset。当遍历交织数据集时，它将循环遍历这5个TextLineDataset，每次读取一行，直到所有数据集都读出为止。\n",
    "\n",
    "然后，它将从filepath_dataset获取下五个文件路径，并以相同的方式交织它们，以此类推，直到读完文件路径。为了使交织工作更好地进行，最好使文件具有相同的大小，否则最大的文件将无法参与交织。\n",
    "\n",
    "默认情况下，interleave()不使用并行机制，它只是依次从每个文件中一次读取一行。如果想让它真正地并行读取文件，则可以将interleave()方法的num_parallel_calls参数设置为想要的线程数（map()方法也有这个参数）。也可以将其设置为tf.data.AUTOTUNE，以使TensorFlow根据可用的CPU动态选择正确的线程数"
   ],
   "id": "fe16634cbd501116"
  },
  {
   "metadata": {
    "ExecuteTime": {
     "end_time": "2025-09-14T12:19:04.325643Z",
     "start_time": "2025-09-14T12:19:04.277760Z"
    }
   },
   "cell_type": "code",
   "source": [
    "# 打印随机选择的5个csv文件的第一行\n",
    "for line in dataset.take(5):\n",
    "    print(line)"
   ],
   "id": "c003b619bb50c366",
   "outputs": [
    {
     "name": "stdout",
     "output_type": "stream",
     "text": [
      "tf.Tensor(b'4.5909,16.0,5.475877192982456,1.0964912280701755,1357.0,2.9758771929824563,33.63,-117.71,2.418', shape=(), dtype=string)\n",
      "tf.Tensor(b'2.4792,24.0,3.4547038327526134,1.1341463414634145,2251.0,3.921602787456446,34.18,-118.38,2.0', shape=(), dtype=string)\n",
      "tf.Tensor(b'4.2708,45.0,5.121387283236994,0.953757225433526,492.0,2.8439306358381504,37.48,-122.19,2.67', shape=(), dtype=string)\n",
      "tf.Tensor(b'2.1856,41.0,3.7189873417721517,1.0658227848101265,803.0,2.0329113924050635,32.76,-117.12,1.205', shape=(), dtype=string)\n",
      "tf.Tensor(b'4.1812,52.0,5.701388888888889,0.9965277777777778,692.0,2.4027777777777777,33.73,-118.31,3.215', shape=(), dtype=string)\n"
     ]
    }
   ],
   "execution_count": 20
  },
  {
   "metadata": {},
   "cell_type": "markdown",
   "source": "### 预处理数据",
   "id": "14a23d16c43419f5"
  },
  {
   "metadata": {},
   "cell_type": "markdown",
   "source": "数据以字符串的张量形式返回每个实例，需要做一些预处理：解析字符串+缩放数据",
   "id": "640160be08b6c517"
  },
  {
   "metadata": {
    "ExecuteTime": {
     "end_time": "2025-09-14T12:19:09.286741Z",
     "start_time": "2025-09-14T12:19:09.271703Z"
    }
   },
   "cell_type": "code",
   "source": [
    "from sklearn.preprocessing import StandardScaler\n",
    "\n",
    "scaler = StandardScaler()\n",
    "scaler.fit(X_train)"
   ],
   "id": "1f692dd3253c60e",
   "outputs": [
    {
     "data": {
      "text/plain": [
       "StandardScaler()"
      ],
      "text/html": [
       "<style>#sk-container-id-1 {color: black;}#sk-container-id-1 pre{padding: 0;}#sk-container-id-1 div.sk-toggleable {background-color: white;}#sk-container-id-1 label.sk-toggleable__label {cursor: pointer;display: block;width: 100%;margin-bottom: 0;padding: 0.3em;box-sizing: border-box;text-align: center;}#sk-container-id-1 label.sk-toggleable__label-arrow:before {content: \"▸\";float: left;margin-right: 0.25em;color: #696969;}#sk-container-id-1 label.sk-toggleable__label-arrow:hover:before {color: black;}#sk-container-id-1 div.sk-estimator:hover label.sk-toggleable__label-arrow:before {color: black;}#sk-container-id-1 div.sk-toggleable__content {max-height: 0;max-width: 0;overflow: hidden;text-align: left;background-color: #f0f8ff;}#sk-container-id-1 div.sk-toggleable__content pre {margin: 0.2em;color: black;border-radius: 0.25em;background-color: #f0f8ff;}#sk-container-id-1 input.sk-toggleable__control:checked~div.sk-toggleable__content {max-height: 200px;max-width: 100%;overflow: auto;}#sk-container-id-1 input.sk-toggleable__control:checked~label.sk-toggleable__label-arrow:before {content: \"▾\";}#sk-container-id-1 div.sk-estimator input.sk-toggleable__control:checked~label.sk-toggleable__label {background-color: #d4ebff;}#sk-container-id-1 div.sk-label input.sk-toggleable__control:checked~label.sk-toggleable__label {background-color: #d4ebff;}#sk-container-id-1 input.sk-hidden--visually {border: 0;clip: rect(1px 1px 1px 1px);clip: rect(1px, 1px, 1px, 1px);height: 1px;margin: -1px;overflow: hidden;padding: 0;position: absolute;width: 1px;}#sk-container-id-1 div.sk-estimator {font-family: monospace;background-color: #f0f8ff;border: 1px dotted black;border-radius: 0.25em;box-sizing: border-box;margin-bottom: 0.5em;}#sk-container-id-1 div.sk-estimator:hover {background-color: #d4ebff;}#sk-container-id-1 div.sk-parallel-item::after {content: \"\";width: 100%;border-bottom: 1px solid gray;flex-grow: 1;}#sk-container-id-1 div.sk-label:hover label.sk-toggleable__label {background-color: #d4ebff;}#sk-container-id-1 div.sk-serial::before {content: \"\";position: absolute;border-left: 1px solid gray;box-sizing: border-box;top: 0;bottom: 0;left: 50%;z-index: 0;}#sk-container-id-1 div.sk-serial {display: flex;flex-direction: column;align-items: center;background-color: white;padding-right: 0.2em;padding-left: 0.2em;position: relative;}#sk-container-id-1 div.sk-item {position: relative;z-index: 1;}#sk-container-id-1 div.sk-parallel {display: flex;align-items: stretch;justify-content: center;background-color: white;position: relative;}#sk-container-id-1 div.sk-item::before, #sk-container-id-1 div.sk-parallel-item::before {content: \"\";position: absolute;border-left: 1px solid gray;box-sizing: border-box;top: 0;bottom: 0;left: 50%;z-index: -1;}#sk-container-id-1 div.sk-parallel-item {display: flex;flex-direction: column;z-index: 1;position: relative;background-color: white;}#sk-container-id-1 div.sk-parallel-item:first-child::after {align-self: flex-end;width: 50%;}#sk-container-id-1 div.sk-parallel-item:last-child::after {align-self: flex-start;width: 50%;}#sk-container-id-1 div.sk-parallel-item:only-child::after {width: 0;}#sk-container-id-1 div.sk-dashed-wrapped {border: 1px dashed gray;margin: 0 0.4em 0.5em 0.4em;box-sizing: border-box;padding-bottom: 0.4em;background-color: white;}#sk-container-id-1 div.sk-label label {font-family: monospace;font-weight: bold;display: inline-block;line-height: 1.2em;}#sk-container-id-1 div.sk-label-container {text-align: center;}#sk-container-id-1 div.sk-container {/* jupyter's `normalize.less` sets `[hidden] { display: none; }` but bootstrap.min.css set `[hidden] { display: none !important; }` so we also need the `!important` here to be able to override the default hidden behavior on the sphinx rendered scikit-learn.org. See: https://github.com/scikit-learn/scikit-learn/issues/21755 */display: inline-block !important;position: relative;}#sk-container-id-1 div.sk-text-repr-fallback {display: none;}</style><div id=\"sk-container-id-1\" class=\"sk-top-container\"><div class=\"sk-text-repr-fallback\"><pre>StandardScaler()</pre><b>In a Jupyter environment, please rerun this cell to show the HTML representation or trust the notebook. <br />On GitHub, the HTML representation is unable to render, please try loading this page with nbviewer.org.</b></div><div class=\"sk-container\" hidden><div class=\"sk-item\"><div class=\"sk-estimator sk-toggleable\"><input class=\"sk-toggleable__control sk-hidden--visually\" id=\"sk-estimator-id-1\" type=\"checkbox\" checked><label for=\"sk-estimator-id-1\" class=\"sk-toggleable__label sk-toggleable__label-arrow\">StandardScaler</label><div class=\"sk-toggleable__content\"><pre>StandardScaler()</pre></div></div></div></div></div>"
      ]
     },
     "execution_count": 21,
     "metadata": {},
     "output_type": "execute_result"
    }
   ],
   "execution_count": 21
  },
  {
   "metadata": {
    "ExecuteTime": {
     "end_time": "2025-09-14T12:20:41.477392Z",
     "start_time": "2025-09-14T12:20:41.462401Z"
    }
   },
   "cell_type": "code",
   "source": [
    "X_mean, X_std = scaler.mean_, scaler.scale_\n",
    "n_inputs = 8\n",
    "\n",
    "def parse_csv_line(line):\n",
    "    defs = [0.] * n_inputs + [tf.constant([], dtype=tf.float32)]\n",
    "    fields = tf.io.decode_csv(line, record_defaults=defs)\n",
    "    return tf.stack(fields[:-1]), tf.stack(fields[-1:])\n",
    "\n",
    "def preprocess(line):\n",
    "    x, y = parse_csv_line(line)\n",
    "    return (x - X_mean) / X_std, y"
   ],
   "id": "d835910d93c4cbd0",
   "outputs": [],
   "execution_count": 22
  },
  {
   "metadata": {},
   "cell_type": "markdown",
   "source": [
    "- 代码假设已经预先计算了训练集中每个特征的均值和标准差。X_mean和X_std是一维张量（或NumPy数组），其中包含8个浮点数，每个输入特征一个。可以在足够大的数据集随机样本上使用Scikit-Learn StandardScaler来完成，后面改用Keras预处理层。\n",
    "- parse_csv_line()函数接受一个CSV行并对其进行解析。为此，它使用tf.io.decode_csv()函数，该函数带有两个参数：第一个是要解析的行，第二个是一个包含CSV文件中每一列的默认值的数组。这个数组不仅告诉TensorFlow每列的默认值，而且告诉TensorFlow列数及其类型。在此示例中，告诉它所有特征列都是浮点数，缺失值应默认为0，还提供了一个类型为tf.float32的空数组作为最后一列（目标值）的默认值：该数组告诉TensorFlow该列包含浮点数，但没有默认值，因此如果遇到缺失值，它会引发异常。\n",
    "- tf.io.decode_csv()函数返回标量张量（每列一个）的列表，但是需要返回一维张量数组。因此，在除最后一个（目标值）之外的所有张量上调用tf.stack()：这会将这些张量堆叠到一维数组中。然后，对目标值执行相同的操作，这使其成为具有单个值的一维张量数组，而不是标量张量。tf.io.decode_csv()函数已经完成，因此它返回输入特征和目标值。\n",
    "- 最后，自定义preprocess()函数仅调用parse_csv_line()函数，通过减去特征均值然后除以特征标准差来缩放输入特征，并返回包含缩放特征和目标值的元组。"
   ],
   "id": "4dea9acb749ac545"
  },
  {
   "metadata": {
    "ExecuteTime": {
     "end_time": "2025-09-14T12:36:29.303269Z",
     "start_time": "2025-09-14T12:36:29.271523Z"
    }
   },
   "cell_type": "code",
   "source": [
    "# 测试\n",
    "preprocess(b'4.2083,44.0,5.3232,0.9171,846.0,2.3370,37.47,-122.2,2.782')  # preprocess函数从字节字符串转换为标准化后的张量"
   ],
   "id": "a077c3960d24b00b",
   "outputs": [
    {
     "data": {
      "text/plain": [
       "(<tf.Tensor: shape=(8,), dtype=float32, numpy=\n",
       " array([ 0.16579159,  1.216324  , -0.05204564, -0.39215982, -0.5277444 ,\n",
       "        -0.2633488 ,  0.8543046 , -1.3072058 ], dtype=float32)>,\n",
       " <tf.Tensor: shape=(1,), dtype=float32, numpy=array([2.782], dtype=float32)>)"
      ]
     },
     "execution_count": 23,
     "metadata": {},
     "output_type": "execute_result"
    }
   ],
   "execution_count": 23
  },
  {
   "metadata": {},
   "cell_type": "markdown",
   "source": "### 上述操作合并",
   "id": "cb9568d85aa2151e"
  },
  {
   "metadata": {},
   "cell_type": "markdown",
   "source": [
    "为了使可重用，将到讨论的所有内容放到另外一个辅助函数中：它将创建并返回一个数据集，该数据集有效地从多个CSV文件中住房数据，对其进行预处理，对其进行随机乱序处理，并进行分批处理\n",
    "\n",
    "<img alt=\"从多个CSV文件加载和预处理数据\" height=\"500\" src=\"./images/tensorflow/p7.png\" width=\"500\"/>"
   ],
   "id": "7e386b8d8791c166"
  },
  {
   "metadata": {
    "ExecuteTime": {
     "end_time": "2025-09-14T12:42:46.493141Z",
     "start_time": "2025-09-14T12:42:46.477085Z"
    }
   },
   "cell_type": "code",
   "source": [
    "def csv_reader_dataset(filepaths, n_readers=5, n_read_threads=None,\n",
    "                       n_parse_threads=5, shuffle_buffer_size=10_000, seed=42,\n",
    "                       batch_size=32):\n",
    "    dataset = tf.data.Dataset.list_files(filepaths, seed=seed)\n",
    "    dataset = dataset.interleave(\n",
    "        lambda filepath: tf.data.TextLineDataset(filepath).skip(1),\n",
    "        cycle_length=n_readers, num_parallel_calls=n_read_threads)\n",
    "    dataset = dataset.map(preprocess, num_parallel_calls=n_parse_threads)\n",
    "    dataset = dataset.shuffle(shuffle_buffer_size, seed=seed)\n",
    "    return dataset.batch(batch_size).prefetch(1)"
   ],
   "id": "5439de3298142c30",
   "outputs": [],
   "execution_count": 24
  },
  {
   "metadata": {
    "ExecuteTime": {
     "end_time": "2025-09-14T12:43:17.447983Z",
     "start_time": "2025-09-14T12:43:17.149560Z"
    }
   },
   "cell_type": "code",
   "source": [
    "# 数据集的前2个批次\n",
    "example_set = csv_reader_dataset(train_filepaths, batch_size=3)\n",
    "for X_batch, y_batch in example_set.take(2):\n",
    "    print(\"X =\", X_batch)\n",
    "    print(\"y =\", y_batch)\n",
    "    print()"
   ],
   "id": "9861088977c51b9e",
   "outputs": [
    {
     "name": "stdout",
     "output_type": "stream",
     "text": [
      "X = tf.Tensor(\n",
      "[[-1.3957452  -0.04940685 -0.22830808  0.22648273  2.2593622   0.35200632\n",
      "   0.9667386  -1.4121602 ]\n",
      " [ 2.7112627  -1.0778131   0.69413143 -0.14870553  0.51810503  0.3507294\n",
      "  -0.82285154  0.80680597]\n",
      " [-0.13484643 -1.868895    0.01032507 -0.13787179 -0.12893449  0.03143518\n",
      "   0.2687057   0.13212144]], shape=(3, 8), dtype=float32)\n",
      "y = tf.Tensor(\n",
      "[[1.819]\n",
      " [3.674]\n",
      " [0.954]], shape=(3, 1), dtype=float32)\n",
      "\n",
      "X = tf.Tensor(\n",
      "[[ 0.09031774  0.9789995   0.1327582  -0.13753782 -0.23388447  0.10211545\n",
      "   0.97610843 -1.4121602 ]\n",
      " [ 0.05218809 -2.0271113   0.2940109  -0.02403445  0.16218767 -0.02844518\n",
      "   1.4117942  -0.93737936]\n",
      " [-0.672276    0.02970133 -0.76922584 -0.15086786  0.4962024  -0.02741998\n",
      "  -0.7853724   0.77182245]], shape=(3, 8), dtype=float32)\n",
      "y = tf.Tensor(\n",
      "[[2.725]\n",
      " [1.205]\n",
      " [1.625]], shape=(3, 1), dtype=float32)\n",
      "\n"
     ]
    }
   ],
   "execution_count": 25
  },
  {
   "metadata": {},
   "cell_type": "markdown",
   "source": "现在已经了解到如何构建有效的输入流水线，从多个文本文件加载和预处理数据。讨论了最常见的数据集方法，下面讨论prefetch（预取）的作用",
   "id": "23dd60fa4b04759"
  },
  {
   "metadata": {},
   "cell_type": "markdown",
   "source": "### 预取",
   "id": "251023b33aeff993"
  },
  {
   "metadata": {},
   "cell_type": "markdown",
   "source": [
    "通过在自定义csv_reader_dataset()函数末尾调用prefetch(1)，正在创建一个数据集，该数据集将尽最大可能总是提前准备一个批次。换句话说，当训练算法处理一个批次时，数据集已经在准备下一批次了（例如从磁盘读取数据并对其进行预处理）。如图所示，这可以显著提高性能。\n",
    "\n",
    "<img alt=\"预取可以做到当GPU处理一个批次时，CPU处理下一批次\" height=\"500\" src=\"./images/tensorflow/p8.png\" width=\"500\"/>\n",
    "\n",
    "如果确保使用多线程进行数据加载和预处理（通过在调用interleave()和map()时设置num_parallel_calls），那么可以利用多个CPU内核，希望准备一个批次数据的时间比在GPU上执行一个训练步骤的时间要短一些：这样，GPU将达到几乎100%的利用率（从CPU到GPU的数据传输时间除外），并且训练会运行得更快。\n",
    "\n",
    "如果打算购买GPU卡，它的处理能力和内存大小当然非常重要（特别是大容量的RAM对于大型计算机视觉或自然语言处理模型至关重要）。与良好性能同样重要的是GPU的内存带宽。这是它每秒可以进出RAM的数据的千兆字节数。"
   ],
   "id": "d0079eae7b2864e1"
  },
  {
   "metadata": {},
   "cell_type": "markdown",
   "source": "b如果数据集足够小，能够容纳于内存里，则可以使用数据集的cache()方法将其内容缓存到RAM中，从而显著加快训练速度。通常应该在加载和预处理数据之后，但在乱序、重复、批处理和预取之前执行此操作。这样，每个实例仅被读取和预处理一次（而不是每个轮次一次）​，但数据仍会在每个轮次有不同的乱序，并且仍会提前准备下一批次。",
   "id": "1a100ba396f97756"
  },
  {
   "metadata": {},
   "cell_type": "markdown",
   "source": "### 在Keras中使用数据集",
   "id": "db02f3ea46397b2f"
  },
  {
   "metadata": {},
   "cell_type": "markdown",
   "source": "使用csv_reader_dataset()函数为训练集，验证集，测试集创建数据集。它们会在每个轮次进行打乱",
   "id": "7708d38df5ebd179"
  },
  {
   "metadata": {
    "ExecuteTime": {
     "end_time": "2025-09-14T12:58:10.283975Z",
     "start_time": "2025-09-14T12:58:10.197250Z"
    }
   },
   "cell_type": "code",
   "source": [
    "train_set = csv_reader_dataset(train_filepaths)\n",
    "valid_set = csv_reader_dataset(valid_filepaths)\n",
    "test_set = csv_reader_dataset(test_filepaths)"
   ],
   "id": "3b1cc3dc02979422",
   "outputs": [],
   "execution_count": 26
  },
  {
   "metadata": {
    "ExecuteTime": {
     "end_time": "2025-09-14T12:58:49.812180Z",
     "start_time": "2025-09-14T12:58:46.919241Z"
    }
   },
   "cell_type": "code",
   "source": [
    "model = tf.keras.Sequential([\n",
    "    tf.keras.layers.Dense(30, activation=\"relu\", kernel_initializer=\"he_normal\",\n",
    "                          input_shape=X_train.shape[1:]),\n",
    "    tf.keras.layers.Dense(1),\n",
    "])\n",
    "model.compile(loss=\"mse\", optimizer=\"sgd\")\n",
    "model.fit(train_set, validation_data=valid_set, epochs=5)   # 传递创建的训练集"
   ],
   "id": "e6603546fdbe5392",
   "outputs": [
    {
     "name": "stdout",
     "output_type": "stream",
     "text": [
      "Epoch 1/5\n",
      "363/363 [==============================] - 1s 1ms/step - loss: 7.7211 - val_loss: 13.8498\n",
      "Epoch 2/5\n",
      "363/363 [==============================] - 0s 1ms/step - loss: 0.7721 - val_loss: 737.1022\n",
      "Epoch 3/5\n",
      "363/363 [==============================] - 0s 1ms/step - loss: 0.5557 - val_loss: 2.3159\n",
      "Epoch 4/5\n",
      "363/363 [==============================] - 0s 1ms/step - loss: 0.4238 - val_loss: 2.9735\n",
      "Epoch 5/5\n",
      "363/363 [==============================] - 0s 1ms/step - loss: 0.4361 - val_loss: 4.9848\n"
     ]
    },
    {
     "data": {
      "text/plain": [
       "<keras.src.callbacks.History at 0x27288ed4340>"
      ]
     },
     "execution_count": 27,
     "metadata": {},
     "output_type": "execute_result"
    }
   ],
   "execution_count": 27
  },
  {
   "metadata": {
    "ExecuteTime": {
     "end_time": "2025-09-14T13:50:59.574741Z",
     "start_time": "2025-09-14T13:50:59.062865Z"
    }
   },
   "cell_type": "code",
   "source": [
    "# 数据集传递给evaluate和predict方法\n",
    "test_mse = model.evaluate(test_set)\n",
    "new_set = test_set.take(3)\n",
    "y_pred = model.predict(new_set)"
   ],
   "id": "bbdee68226f276f",
   "outputs": [
    {
     "name": "stdout",
     "output_type": "stream",
     "text": [
      "162/162 [==============================] - 0s 964us/step - loss: 0.4117\n",
      "3/3 [==============================] - 0s 8ms/step\n"
     ]
    }
   ],
   "execution_count": 29
  },
  {
   "metadata": {
    "ExecuteTime": {
     "end_time": "2025-09-14T13:52:59.215675Z",
     "start_time": "2025-09-14T13:52:49.703708Z"
    }
   },
   "cell_type": "code",
   "source": [
    "# 自定义训练 也可以用上 迭代训练集\n",
    "optimizer = tf.keras.optimizers.SGD(learning_rate=0.01)\n",
    "loss_fn = tf.keras.losses.MeanSquaredError()\n",
    "\n",
    "n_epochs = 5\n",
    "for epoch in range(n_epochs):\n",
    "    for X_batch, y_batch in train_set:\n",
    "        print(\"\\rEpoch {}/{}\".format(epoch + 1, n_epochs), end=\"\")\n",
    "        with tf.GradientTape() as tape:\n",
    "            y_pred = model(X_batch)\n",
    "            main_loss = tf.reduce_mean(loss_fn(y_batch, y_pred))\n",
    "            loss = tf.add_n([main_loss] + model.losses)\n",
    "        gradients = tape.gradient(loss, model.trainable_variables)\n",
    "        optimizer.apply_gradients(zip(gradients, model.trainable_variables))"
   ],
   "id": "8fb2ca956f7f92c2",
   "outputs": [
    {
     "name": "stdout",
     "output_type": "stream",
     "text": [
      "Epoch 5/5"
     ]
    }
   ],
   "execution_count": 30
  },
  {
   "metadata": {
    "ExecuteTime": {
     "end_time": "2025-09-14T13:54:12.531561Z",
     "start_time": "2025-09-14T13:54:10.962121Z"
    }
   },
   "cell_type": "code",
   "source": [
    "# 创建TF函数来训练整个轮次的模型，加快训练速度\n",
    "@tf.function\n",
    "def train_one_epoch(model, optimizer, loss_fn, train_set):\n",
    "    for X_batch, y_batch in train_set:\n",
    "        with tf.GradientTape() as tape:\n",
    "            y_pred = model(X_batch)\n",
    "            main_loss = tf.reduce_mean(loss_fn(y_batch, y_pred))\n",
    "            loss = tf.add_n([main_loss] + model.losses)\n",
    "        gradients = tape.gradient(loss, model.trainable_variables)\n",
    "        optimizer.apply_gradients(zip(gradients, model.trainable_variables))\n",
    "\n",
    "optimizer = tf.keras.optimizers.SGD(learning_rate=0.01)\n",
    "loss_fn = tf.keras.losses.MeanSquaredError()\n",
    "for epoch in range(n_epochs):\n",
    "    print(\"\\rEpoch {}/{}\".format(epoch + 1, n_epochs), end=\"\")\n",
    "    train_one_epoch(model, optimizer, loss_fn, train_set)"
   ],
   "id": "42eea14be880e809",
   "outputs": [
    {
     "name": "stdout",
     "output_type": "stream",
     "text": [
      "Epoch 5/5"
     ]
    }
   ],
   "execution_count": 31
  },
  {
   "metadata": {},
   "cell_type": "markdown",
   "source": "## TFRecord格式",
   "id": "5fc3d3f9bd906b0e"
  },
  {
   "metadata": {},
   "cell_type": "markdown",
   "source": [
    "之前知道了如何使用tf.data API构建强大的输入流水线，然而，到目前为止，一直在使用CSV文件，这些文件通用、简单、方便但效率不高，并且不能很好地支持大型或复杂的数据结构（如图像或音频）。接下来，看看如何改用TFRecord文件。\n",
    "\n",
    "注意：如果很满意CSV文件（或任何其他格式），就不必使用TFRecord文件了。俗话说，如果没有破裂，就不要修理！当训练过程中的瓶颈是加载和解析数据时，TFRecord格式很有用。\n",
    "\n",
    "TFRecord格式是TensorFlow首选的格式，用于存储大量数据并有效读取数据。这是一种非常简单的二进制格式，只包含大小不同的二进制记录序列（每条记录由一个长度、一个用于检查长度是否损坏的CRC校验和、实际数据以及最终CRC校验和组成）。可以使用tf.io.TFRecordWriter类轻松创建TFRecord文件："
   ],
   "id": "47e43e986beacebf"
  },
  {
   "metadata": {
    "ExecuteTime": {
     "end_time": "2025-09-14T14:01:51.516296Z",
     "start_time": "2025-09-14T14:01:51.501256Z"
    }
   },
   "cell_type": "code",
   "source": [
    "with tf.io.TFRecordWriter(\"datasets/my_data.tfrecord\") as f:\n",
    "    f.write(b\"This is the first record\")\n",
    "    f.write(b\"And this is the second record\")"
   ],
   "id": "b24936b668274abe",
   "outputs": [],
   "execution_count": 34
  },
  {
   "metadata": {
    "ExecuteTime": {
     "end_time": "2025-09-14T14:02:00.246591Z",
     "start_time": "2025-09-14T14:02:00.213773Z"
    }
   },
   "cell_type": "code",
   "source": [
    "# 使用tf.data.TFRecordDataset读取一个或多个TFRecord文件\n",
    "filepaths = [\"datasets/my_data.tfrecord\"]\n",
    "dataset = tf.data.TFRecordDataset(filepaths)\n",
    "for item in dataset:\n",
    "    print(item)"
   ],
   "id": "659c9c6472400fbc",
   "outputs": [
    {
     "name": "stdout",
     "output_type": "stream",
     "text": [
      "tf.Tensor(b'This is the first record', shape=(), dtype=string)\n",
      "tf.Tensor(b'And this is the second record', shape=(), dtype=string)\n"
     ]
    }
   ],
   "execution_count": 35
  },
  {
   "metadata": {},
   "cell_type": "markdown",
   "source": "默认情况下，TFRecordDataset将一个一个地读取文件，但你可以通过向构造函数传递文件路径列表并将num_parallel_reads设置为大于1的数字，使其并行读取多个文件并交织记录。也可以使用list_files()和interleave()（就像我们之前做的那样）读取多个CSV文件。",
   "id": "fabdd9ba984d50db"
  },
  {
   "metadata": {
    "ExecuteTime": {
     "end_time": "2025-09-14T14:05:17.355407Z",
     "start_time": "2025-09-14T14:05:17.311355Z"
    }
   },
   "cell_type": "code",
   "source": [
    "filepaths = [\"my_test_{}.tfrecord\".format(i) for i in range(5)]\n",
    "for i, filepath in enumerate(filepaths):\n",
    "    with tf.io.TFRecordWriter(filepath) as f:\n",
    "        for j in range(3):\n",
    "            f.write(\"File {} record {}\".format(i, j).encode(\"utf-8\"))\n",
    "\n",
    "dataset = tf.data.TFRecordDataset(filepaths, num_parallel_reads=3)\n",
    "for item in dataset:\n",
    "    print(item)"
   ],
   "id": "80469a4ffd0c644f",
   "outputs": [
    {
     "name": "stdout",
     "output_type": "stream",
     "text": [
      "tf.Tensor(b'File 0 record 0', shape=(), dtype=string)\n",
      "tf.Tensor(b'File 1 record 0', shape=(), dtype=string)\n",
      "tf.Tensor(b'File 2 record 0', shape=(), dtype=string)\n",
      "tf.Tensor(b'File 0 record 1', shape=(), dtype=string)\n",
      "tf.Tensor(b'File 1 record 1', shape=(), dtype=string)\n",
      "tf.Tensor(b'File 2 record 1', shape=(), dtype=string)\n",
      "tf.Tensor(b'File 0 record 2', shape=(), dtype=string)\n",
      "tf.Tensor(b'File 1 record 2', shape=(), dtype=string)\n",
      "tf.Tensor(b'File 2 record 2', shape=(), dtype=string)\n",
      "tf.Tensor(b'File 3 record 0', shape=(), dtype=string)\n",
      "tf.Tensor(b'File 4 record 0', shape=(), dtype=string)\n",
      "tf.Tensor(b'File 3 record 1', shape=(), dtype=string)\n",
      "tf.Tensor(b'File 4 record 1', shape=(), dtype=string)\n",
      "tf.Tensor(b'File 3 record 2', shape=(), dtype=string)\n",
      "tf.Tensor(b'File 4 record 2', shape=(), dtype=string)\n"
     ]
    }
   ],
   "execution_count": 36
  },
  {
   "metadata": {},
   "cell_type": "markdown",
   "source": "有时，压缩的TFRecord文件可能很有用，尤其是在需要通过网络连接加载它们时。可以通过设置options参数来创建压缩的TFRecord文件：",
   "id": "80fb67059f2184cb"
  },
  {
   "metadata": {
    "ExecuteTime": {
     "end_time": "2025-09-14T14:22:00.579348Z",
     "start_time": "2025-09-14T14:22:00.537851Z"
    }
   },
   "cell_type": "code",
   "source": [
    "options = tf.io.TFRecordOptions(compression_type=\"GZIP\")\n",
    "with tf.io.TFRecordWriter(\"my_compressed.tfrecord\", options) as f:\n",
    "    f.write(\"诞生于1996 梦想做说唱领袖\".encode())\n",
    "    f.write(\"so pretty so jiggy 没有太多讲究\".encode())\n",
    "    f.write(\"想唱跳舞的男孩 创作是他的王牌\".encode())\n",
    "    f.write(\"随时随地可以表演 生活就是我的舞台\".encode())\n",
    "    f.write(\"大家的目光像是我的兴奋剂，大家好，我是来自BBT的：王·子·异\".encode())\n",
    "\n",
    "# 当读取压缩的TFRecord文件时，需要指定压缩类型\n",
    "dataset = tf.data.TFRecordDataset([\"my_compressed.tfrecord\"], compression_type=\"GZIP\")\n",
    "for item in dataset:\n",
    "    print(item)\n",
    "    print(item.numpy().decode())"
   ],
   "id": "b1c1c7f00e5a710a",
   "outputs": [
    {
     "name": "stdout",
     "output_type": "stream",
     "text": [
      "tf.Tensor(b'\\xe8\\xaf\\x9e\\xe7\\x94\\x9f\\xe4\\xba\\x8e1996 \\xe6\\xa2\\xa6\\xe6\\x83\\xb3\\xe5\\x81\\x9a\\xe8\\xaf\\xb4\\xe5\\x94\\xb1\\xe9\\xa2\\x86\\xe8\\xa2\\x96', shape=(), dtype=string)\n",
      "诞生于1996 梦想做说唱领袖\n",
      "tf.Tensor(b'so pretty so jiggy \\xe6\\xb2\\xa1\\xe6\\x9c\\x89\\xe5\\xa4\\xaa\\xe5\\xa4\\x9a\\xe8\\xae\\xb2\\xe7\\xa9\\xb6', shape=(), dtype=string)\n",
      "so pretty so jiggy 没有太多讲究\n",
      "tf.Tensor(b'\\xe6\\x83\\xb3\\xe5\\x94\\xb1\\xe8\\xb7\\xb3\\xe8\\x88\\x9e\\xe7\\x9a\\x84\\xe7\\x94\\xb7\\xe5\\xad\\xa9 \\xe5\\x88\\x9b\\xe4\\xbd\\x9c\\xe6\\x98\\xaf\\xe4\\xbb\\x96\\xe7\\x9a\\x84\\xe7\\x8e\\x8b\\xe7\\x89\\x8c', shape=(), dtype=string)\n",
      "想唱跳舞的男孩 创作是他的王牌\n",
      "tf.Tensor(b'\\xe9\\x9a\\x8f\\xe6\\x97\\xb6\\xe9\\x9a\\x8f\\xe5\\x9c\\xb0\\xe5\\x8f\\xaf\\xe4\\xbb\\xa5\\xe8\\xa1\\xa8\\xe6\\xbc\\x94 \\xe7\\x94\\x9f\\xe6\\xb4\\xbb\\xe5\\xb0\\xb1\\xe6\\x98\\xaf\\xe6\\x88\\x91\\xe7\\x9a\\x84\\xe8\\x88\\x9e\\xe5\\x8f\\xb0', shape=(), dtype=string)\n",
      "随时随地可以表演 生活就是我的舞台\n",
      "tf.Tensor(b'\\xe5\\xa4\\xa7\\xe5\\xae\\xb6\\xe7\\x9a\\x84\\xe7\\x9b\\xae\\xe5\\x85\\x89\\xe5\\x83\\x8f\\xe6\\x98\\xaf\\xe6\\x88\\x91\\xe7\\x9a\\x84\\xe5\\x85\\xb4\\xe5\\xa5\\x8b\\xe5\\x89\\x82\\xef\\xbc\\x8c\\xe5\\xa4\\xa7\\xe5\\xae\\xb6\\xe5\\xa5\\xbd\\xef\\xbc\\x8c\\xe6\\x88\\x91\\xe6\\x98\\xaf\\xe6\\x9d\\xa5\\xe8\\x87\\xaaBBT\\xe7\\x9a\\x84\\xef\\xbc\\x9a\\xe7\\x8e\\x8b\\xc2\\xb7\\xe5\\xad\\x90\\xc2\\xb7\\xe5\\xbc\\x82', shape=(), dtype=string)\n",
      "大家的目光像是我的兴奋剂，大家好，我是来自BBT的：王·子·异\n"
     ]
    }
   ],
   "execution_count": 46
  },
  {
   "metadata": {},
   "cell_type": "markdown",
   "source": "### 协议缓冲区",
   "id": "cf433cdfe24926d"
  },
  {
   "metadata": {},
   "cell_type": "markdown",
   "source": [
    "即使每条记录可以使用你想要的任何二进制格式，TFRecord文件通常包含序列化的协议缓冲区（也称为protobuf）。这是一种可移植、可扩展且高效的二进制格式，由Google开发并开源。protobuf现在被广泛使用，尤其是网络传输数据/远程函数调用，它由以下方式简单定义：\n",
    "\n",
    "```proto\n",
    "syntax = \"proto3\";\n",
    "message Person {\n",
    "    string name = 1;\n",
    "    int32 id = 2;\n",
    "    repeated string email = 3;\n",
    "}\n",
    "```\n",
    "\n",
    "写到文件里，后缀名.proto\n",
    "\n",
    "这个protobuf定义说正在使用protobuf格式的版本3，它指定每个Person对象具有字符串类型的name，类型int32的id和零个或多个email字段（每个都是字符串类型）。数字1、2和3是字段标识符，它们用在每条记录的二进制表示形式中。在.proto文件中定义后，就可以对其进行编译。这要求protoc（protobuf编译器）生成Python（或其他语言）的访问类。请注意，通常会在TensorFlow中使用的protobuf定义已经编译好，并且它们的Python类是TensorFlow库的一部分，因此不需要使用protoc。需要知道的是如何在Python中使用protobuf访问类\n",
    "\n"
   ],
   "id": "b60e4d469eb9c204"
  },
  {
   "metadata": {
    "ExecuteTime": {
     "end_time": "2025-09-14T14:30:54.098161Z",
     "start_time": "2025-09-14T14:30:54.084471Z"
    }
   },
   "cell_type": "code",
   "source": "# !protoc person.proto --python_out=. --descriptor_set_out=person.desc --include_imports  装了protoc可以执行这个指令",
   "id": "bbe08e52d29c6308",
   "outputs": [],
   "execution_count": 49
  },
  {
   "metadata": {
    "ExecuteTime": {
     "end_time": "2025-09-16T05:49:27.237739Z",
     "start_time": "2025-09-16T05:49:27.134017Z"
    }
   },
   "cell_type": "code",
   "source": [
    "# 成功执行了上面的指令可以运行这部分代码\n",
    "from person_pb2 import Person  # import the generated access class\n",
    "\n",
    "person = Person(name=\"Al\", id=123, email=[\"a@b.com\"])  # create a Person\n",
    "print(person)  # display the Person\n",
    "\n",
    "\n",
    "person.name  # read a field\n",
    "person.name = \"Alice\"  # modify a field\n",
    "person.email[0]  # repeated fields can be accessed like arrays\n",
    "person.email.append(\"c@d.com\")  # add an email address\n",
    "\n",
    "serialized = person.SerializeToString()  # serialize person to a byte string\n",
    "serialized\n",
    "\n",
    "person2 = Person()  # create a new Person\n",
    "person2.ParseFromString(serialized)  # parse the byte string (27 bytes long)"
   ],
   "id": "4e2e5c75f73554c2",
   "outputs": [
    {
     "name": "stdout",
     "output_type": "stream",
     "text": [
      "name: \"Al\"\n",
      "id: 123\n",
      "email: \"a@b.com\"\n",
      "\n"
     ]
    },
    {
     "data": {
      "text/plain": [
       "27"
      ]
     },
     "execution_count": 3,
     "metadata": {},
     "output_type": "execute_result"
    }
   ],
   "execution_count": 3
  },
  {
   "metadata": {},
   "cell_type": "markdown",
   "source": [
    "导入由protoc生成的Person类，创建一个实例并使用它，可视化并读写一些字段，然后使用SerializeToString()方法对其进行序列化。这是准备通过网络保存或传输的二进制数据。当读取或接收此二进制数据时，可以使用ParseFromString()方法对其进行解析，然后得到序列化对象的副本。\n",
    "\n",
    "可以将序列化的Person对象保存到TFRecord文件中，然后加载并解析它：一切都正常进行。但是，ParseFromString()不是TensorFlow的操作，所以不能在tf.data流水线的预处理函数中使用它。\n",
    "\n",
    "但是，可以使用tf.io.decode_proto()函数，它可以解析任何protobuf，前提是为其提供protobuf定义。\n",
    "\n",
    "在实践中，通常希望使用TensorFlow提供专用解析操作的预定义protobuf。"
   ],
   "id": "4d1bf4d5c1b778f"
  },
  {
   "metadata": {
    "ExecuteTime": {
     "end_time": "2025-09-16T05:49:43.916198Z",
     "start_time": "2025-09-16T05:49:43.811409Z"
    }
   },
   "cell_type": "code",
   "source": [
    "import tensorflow as tf\n",
    "person_tf = tf.io.decode_proto(\n",
    "    bytes=serialized,\n",
    "    message_type=\"Person\",\n",
    "    field_names=[\"name\", \"id\", \"email\"],\n",
    "    output_types=[tf.string, tf.int32, tf.string],\n",
    "    descriptor_source=\"person.desc\")\n",
    "\n",
    "person_tf.values"
   ],
   "id": "3b6e858958f3614e",
   "outputs": [
    {
     "data": {
      "text/plain": [
       "[<tf.Tensor: shape=(1,), dtype=string, numpy=array([b'Alice'], dtype=object)>,\n",
       " <tf.Tensor: shape=(1,), dtype=int32, numpy=array([123])>,\n",
       " <tf.Tensor: shape=(2,), dtype=string, numpy=array([b'a@b.com', b'c@d.com'], dtype=object)>]"
      ]
     },
     "execution_count": 5,
     "metadata": {},
     "output_type": "execute_result"
    }
   ],
   "execution_count": 5
  },
  {
   "metadata": {},
   "cell_type": "markdown",
   "source": "### Tensorflow protobuf",
   "id": "b6b06d412a517886"
  },
  {
   "metadata": {},
   "cell_type": "markdown",
   "source": [
    "TFRecord文件中通常使用的主要protobuf是Example protobuf，它表示数据集中的一个实例。它包含一个已命名特征的列表，其中每个特征可以是字节字符串列表、浮点数列表或整数列表。以下是protobuf的定义\n",
    "\n",
    "```proto\n",
    "syntax = \"proto3\";\n",
    "\n",
    "message BytesList { repeated bytes value = 1; }\n",
    "message FloatList { repeated float value = 1 [packed = true]; }\n",
    "message Int64List { repeated int64 value = 1 [packed = true]; }\n",
    "message Feature {\n",
    "    oneof kind {\n",
    "        BytesList bytes_list = 1;\n",
    "        FloatList float_list = 2;\n",
    "        Int64List int64_list = 3;\n",
    "    }\n",
    "};\n",
    "message Features { map<string, Feature> feature = 1; };\n",
    "message Example { Features features = 1; };\n",
    "```\n",
    "\n",
    "BytesList、FloatList和Int64List的定义非常简单。请注意，[packed=true]用于重复的数值字段，以实现更有效的编码。Feature包含BytesList或FloatList或Int64List。Features包含将特征名称映射到相应特征值的字典。最后，Example仅包含Features对象。\n",
    "\n",
    "为什么还要定义Example，既然它只包含一个Features对象？TensorFlow的开发人员可能有一天会决定向其中添加更多字段。只要新的Example定义仍然包含features字段，具有相同的ID，它就会向后兼容。这种可扩展性是protobuf的一大特色。"
   ],
   "id": "79c671ba59c34a2d"
  },
  {
   "metadata": {
    "ExecuteTime": {
     "end_time": "2025-09-16T07:37:57.969740Z",
     "start_time": "2025-09-16T07:37:57.957582Z"
    }
   },
   "cell_type": "code",
   "source": [
    "# 使用tf.train.Example来表示之前的person\n",
    "from tensorflow.train import BytesList, FloatList, Int64List\n",
    "from tensorflow.train import Feature, Features, Example\n",
    "\n",
    "person_example = Example(\n",
    "    features=Features(\n",
    "        feature={\n",
    "            \"name\": Feature(bytes_list=BytesList(value=[b\"Alice\"])),\n",
    "            \"id\": Feature(int64_list=Int64List(value=[123])),\n",
    "            \"emails\": Feature(bytes_list=BytesList(value=[b\"a@b.com\",\n",
    "                                                   b\"c@d.com\"]))\n",
    "        }))"
   ],
   "id": "b68fe22bbfa82d32",
   "outputs": [],
   "execution_count": 2
  },
  {
   "metadata": {
    "ExecuteTime": {
     "end_time": "2025-09-16T06:16:19.584850Z",
     "start_time": "2025-09-16T06:16:19.480666Z"
    }
   },
   "cell_type": "code",
   "source": [
    "with tf.io.TFRecordWriter(\"my_contacts.tfrecord\") as f:\n",
    "    for _ in range(5):\n",
    "        f.write(person_example.SerializeToString())"
   ],
   "id": "c41b1eb8d7b5f9a9",
   "outputs": [],
   "execution_count": 8
  },
  {
   "metadata": {},
   "cell_type": "markdown",
   "source": [
    "假如要改造项目组的数据管线：\n",
    "1. 创建一个从当前格式（例如CSV文件）读取的转换脚本：为每个实例创建一个Exampleprotobuf，将它们序列化并将它们保存到多个TFRecord文件中。\n",
    "2. 理想情况下会在此过程中对它们进行乱序处理。这需要做一些工作，所以再次确保它确实有必要（也许原本的数据流水线就可以很好地处理CSV文件）"
   ],
   "id": "3156a1126d68e3cd"
  },
  {
   "metadata": {},
   "cell_type": "markdown",
   "source": "### 加载和解析Example",
   "id": "1f0530881dba0c83"
  },
  {
   "metadata": {},
   "cell_type": "markdown",
   "source": "要加载序列化的Example protobuf，再次使用tf.data.TFRecordDataset，并使用tf.io.parse_single_example()解析每个Example。它至少需要两个参数：一个包含序列化数据的字符串标量张量，以及每个特征的描述。这种描述是一个字典，将每个特征名称映射到表示特征形状、类型和默认值的tf.io.FixedLenFeature描述符，或者映射到仅表示类型的tf.io.VarLenFeature描述符（如果特征列表的长度可能有所不同的话，例如对于\"emails\"特征）。",
   "id": "3a87dce996bab92"
  },
  {
   "metadata": {
    "ExecuteTime": {
     "end_time": "2025-09-16T06:20:04.611937Z",
     "start_time": "2025-09-16T06:20:04.553812Z"
    }
   },
   "cell_type": "code",
   "source": [
    "# 定义描述字典\n",
    "feature_description = {\n",
    "    \"name\": tf.io.FixedLenFeature([], tf.string, default_value=\"\"),\n",
    "    \"id\": tf.io.FixedLenFeature([], tf.int64, default_value=0),\n",
    "    \"emails\": tf.io.VarLenFeature(tf.string),\n",
    "}\n",
    "\n",
    "def parse(serialized_example):\n",
    "    # tf.io.parse_single_example\n",
    "    # 第一个参数： 字符串的张量（字符串是序列化的 （二进制））\n",
    "    # 第二个参数：特征描述（字典）\n",
    "    return tf.io.parse_single_example(serialized_example, feature_description)\n",
    "\n",
    "# 创建TFRecordDataset 并对其应用自定义解析函数，解析数据集里的每个序列化Example protobuf\n",
    "dataset = tf.data.TFRecordDataset([\"my_contacts.tfrecord\"]).map(parse)\n",
    "\n",
    "\n",
    "for parsed_example in dataset:\n",
    "    # print(parsed_example[\"emails\"].values)\n",
    "    # print(\"*\" * 100)\n",
    "    print(parsed_example)"
   ],
   "id": "7b3bd55ea8014d38",
   "outputs": [
    {
     "name": "stdout",
     "output_type": "stream",
     "text": [
      "tf.Tensor([b'a@b.com' b'c@d.com'], shape=(2,), dtype=string)\n",
      "****************************************************************************************************\n",
      "tf.Tensor([b'a@b.com' b'c@d.com'], shape=(2,), dtype=string)\n",
      "****************************************************************************************************\n",
      "tf.Tensor([b'a@b.com' b'c@d.com'], shape=(2,), dtype=string)\n",
      "****************************************************************************************************\n",
      "tf.Tensor([b'a@b.com' b'c@d.com'], shape=(2,), dtype=string)\n",
      "****************************************************************************************************\n",
      "tf.Tensor([b'a@b.com' b'c@d.com'], shape=(2,), dtype=string)\n",
      "****************************************************************************************************\n"
     ]
    }
   ],
   "execution_count": 15
  },
  {
   "metadata": {},
   "cell_type": "markdown",
   "source": "固定长度特征被解析为常规张量，而可变长度特征被解析为稀疏张量。可以使用tf.sparse.to_dense()将稀疏张量转换为密集张量，访问值更简单",
   "id": "e352588faf64948e"
  },
  {
   "metadata": {
    "ExecuteTime": {
     "end_time": "2025-09-16T06:22:23.408573Z",
     "start_time": "2025-09-16T06:22:23.399082Z"
    }
   },
   "cell_type": "code",
   "source": [
    "tf.sparse.to_dense(parsed_example[\"emails\"], default_value=b\"\")\n",
    "parsed_example[\"emails\"].values"
   ],
   "id": "d66fa730c9b7bc3d",
   "outputs": [
    {
     "data": {
      "text/plain": [
       "<tf.Tensor: shape=(2,), dtype=string, numpy=array([b'a@b.com', b'c@d.com'], dtype=object)>"
      ]
     },
     "execution_count": 17,
     "metadata": {},
     "output_type": "execute_result"
    }
   ],
   "execution_count": 17
  },
  {
   "metadata": {
    "ExecuteTime": {
     "end_time": "2025-09-16T07:05:13.935504Z",
     "start_time": "2025-09-16T07:05:13.849695Z"
    }
   },
   "cell_type": "code",
   "source": [
    "# 随堂练习\n",
    "import pandas as pd\n",
    "file_name = \"./datasets/housing/my_train_00.csv\"\n",
    "df = pd.read_csv(file_name)\n",
    "\n",
    "\n",
    "data_dict = df.to_dict(orient=\"list\")\n",
    "data_dict\n",
    "\n",
    "data_example = Example(\n",
    "    features=Features(\n",
    "        feature={\n",
    "           k: Feature(float_list=FloatList(value=v)) for k, v in data_dict.items()\n",
    "        }))\n",
    "#\n",
    "with tf.io.TFRecordWriter(\"train00_to_binary.tfrecord\") as f:\n",
    "    f.write(data_example.SerializeToString())"
   ],
   "id": "63ed9cb0ca6d9627",
   "outputs": [],
   "execution_count": 47
  },
  {
   "metadata": {
    "ExecuteTime": {
     "end_time": "2025-09-16T07:08:47.631571Z",
     "start_time": "2025-09-16T07:08:47.526802Z"
    }
   },
   "cell_type": "code",
   "source": [
    "feature_description = {\n",
    "        k: tf.io.VarLenFeature(tf.float32) for k in data_dict\n",
    "    }\n",
    "# print(feature_description)\n",
    "\n",
    "def parse(serialized_example):\n",
    "    # tf.io.parse_single_example\n",
    "    # 第一个参数： 字符串的张量（字符串是序列化的 （二进制））\n",
    "    # 第二个参数：特征描述（字典）\n",
    "    return tf.io.parse_single_example(serialized_example, feature_description)\n",
    "\n",
    "dataset = tf.data.TFRecordDataset([\"train00_to_binary.tfrecord\"]).map(parse)\n",
    "for parsed_example in dataset:\n",
    "    for v in parsed_example.values():\n",
    "        print(v.values)"
   ],
   "id": "e322c5363d175252",
   "outputs": [
    {
     "name": "stdout",
     "output_type": "stream",
     "text": [
      "tf.Tensor(\n",
      "[1.1065483  0.9910537  1.5915254  0.9974425  1.085092   1.1173708\n",
      " 1.0342935  1.0678295  1.1235585  4.627907   1.069173   1.\n",
      " 1.         1.0469043  1.1772152  1.2314049  1.0596659  1.0505747\n",
      " 1.1842948  1.1388012  1.0187166  0.9594595  1.092827   1.0097088\n",
      " 1.1344937  1.2068965  1.0693333  1.0781564  1.0261682  1.1192054\n",
      " 1.0349908  1.0935551  0.96747965 1.0341177  1.0455927  1.0807017\n",
      " 1.0272727  1.027027   1.0534124  0.9760192  1.1400491  1.1847222\n",
      " 1.0481284  1.0346084  1.0109171  6.5        1.0459017  0.96615386\n",
      " 1.0222223  1.0685841  1.0091075  1.0328407  1.0413625  1.057828\n",
      " 0.99435025 1.0992218  1.0618557  1.0406504  1.0570652  1.0314914\n",
      " 0.94967175 1.1682243  1.1144578  1.029661   1.1002305  1.0768431\n",
      " 0.96880734 1.1408163  1.0605307  1.1006712  1.0941176  1.0424029\n",
      " 1.0070922  0.97837836 1.0595855  1.0472313  1.074074   1.0608108\n",
      " 1.015748   1.0432433  1.1260405  1.2215569  1.20073    1.2290076\n",
      " 1.         1.2950108  1.1453288  1.0560472  1.0397112  1.0597222\n",
      " 0.983871   1.1923809  0.97310346 0.98       1.0364964  0.9722222\n",
      " 1.0313588  1.0985916  0.93333334 1.0824176  1.109434   0.99482757\n",
      " 1.3290598  1.         1.0537746  1.0375     1.0738255  1.0526316\n",
      " 1.0520232  1.0781893  1.0281457  0.9832558  0.9767442  1.178117\n",
      " 1.0909091  1.0566038  1.0065789  1.1018922  1.1493849  1.0219299\n",
      " 1.126556   1.         1.016529   2.9635417  1.0767045  1.0807174\n",
      " 1.2151898  1.0314685  1.0627615  1.1049383  1.06       0.9935484\n",
      " 0.99248123 1.043919   1.0125629  1.0997139  0.9426434  1.3261455\n",
      " 0.95302016 1.0367454  1.0341614  1.1406492  1.0452962  1.0272615\n",
      " 3.6917808  1.0378681  0.97902095 1.005618   1.0306513  1.0379747\n",
      " 1.102      1.069378   1.516      1.1263858  1.0615385  1.2070276\n",
      " 0.7619048  1.2169812  1.1283423  0.9353612  1.15       1.0687575\n",
      " 1.1052631  1.0265061  1.1689291  1.0526316  1.011142   1.1238532\n",
      " 1.0323741  1.0638298  1.045346   0.9685864  1.0081081  1.0170648\n",
      " 1.0546358  1.0613027  1.0448484  1.0131234  1.050633   1.0121951\n",
      " 1.0775862  1.0434783  1.3975904  0.98406374 1.04       1.0147929\n",
      " 1.1045197  1.0535212  1.0458716  1.1774193  1.0180722  1.1290323\n",
      " 1.023644   1.0304347  1.092683   0.99040765 1.0864865  0.8\n",
      " 1.0915576  1.124424   0.92086333 1.0706713  1.0420561  1.0233393\n",
      " 0.9626486  1.0107527  1.1281139  1.1208227  1.0715631  1.030581\n",
      " 1.0911901  1.0402144  1.8611112  1.1040189  1.559387   1.0883334\n",
      " 0.9984985  1.0299401  1.04       1.0957736  1.0628366  1.1486698\n",
      " 1.2176657  0.95564514 1.0475206  1.0940171  1.1165804  1.242515\n",
      " 1.1129477  0.9684685  0.8375     1.0611814  1.0163132  4.7031965\n",
      " 0.90588236 2.669528   0.9623494  1.1661631  0.9705882  0.95696723\n",
      " 1.4475807  1.1266968  1.1716814  1.0909091  1.0529412  0.94758064\n",
      " 1.1481482  1.2019231  1.1981132  1.0133333  0.9917898  1.0176679\n",
      " 1.7533333  1.0410677  1.0198511  1.0428015  1.0568562  1.048421\n",
      " 1.2126697  1.0419288  1.0123457  1.1952662  1.0024875  1.0348432\n",
      " 1.051597   1.0232558  1.0126382  0.9936102  0.96875    1.1833773\n",
      " 0.97995543 1.07       1.0338681  1.0392671  1.156682   1.1115619\n",
      " 1.1555556  1.015      1.0526316  0.9897959  1.070997   1.2857143\n",
      " 1.139726   1.0244361  1.011583   1.0720824  0.97020483 1.075\n",
      " 1.0978473  1.012012   0.976      1.0366492  1.0031695  1.1886792\n",
      " 2.253219   1.062696   1.0690088  1.06281    0.99130434 0.9375\n",
      " 0.9957447  0.9869281  1.0636462  1.0759493  1.082624   1.375\n",
      " 0.9507042  0.97727275 1.0123967  1.1843817  1.0784314  1.0842986\n",
      " 0.94736844 1.3866171  1.0546075  0.9409283  1.0324675  1.0074906\n",
      " 0.9907407  1.0416666  1.0550847  1.0065076  1.186323   1.0399061\n",
      " 4.75       1.0383426  1.2044088  1.0948081  1.0742972  1.0104166\n",
      " 0.98324025 1.027027   1.1271057  1.0378311  1.0241477  1.0825243\n",
      " 0.98545456 0.97508895 1.1205128  1.0773007  1.3156823  0.9979036\n",
      " 1.0597205  1.4756944  1.0536399  1.0769231  1.050885   1.06\n",
      " 1.1823599  1.0253807  1.1523316  1.0809249  1.08061    1.1028571\n",
      " 1.0679612  0.94063926 0.9638989  1.0775623  0.89320385 1.0137931\n",
      " 0.99029124 0.9860918  1.1309772  1.0916415  1.1083916  1.0094787\n",
      " 0.90751445 1.0272727  1.1474719  1.1578947  0.94262296 0.9438776\n",
      " 0.9634146  1.1371841  1.0597609  1.0398741  1.0955882  1.1144068\n",
      " 1.2015647  1.1137339  1.0557103  1.0445026  1.0086741  1.0145985\n",
      " 1.0035398  1.0521091  1.0224949  1.0204082  1.0998865  1.0225226\n",
      " 1.1099744  1.0776255  0.9801136  1.0295566  1.0535372  1.0934066\n",
      " 1.0445683  1.2916666  1.2073579  1.1970803  1.0428134  0.9382353\n",
      " 1.0449172  1.0934911  1.06089    1.0882353  0.9707602  1.0967742\n",
      " 1.0615385  0.9068493  1.0725807  1.0344086  1.0687809  1.0668473\n",
      " 1.4468085  1.0650827  1.1884817  0.9118774  1.0536193  1.1166667\n",
      " 1.0795107  1.0548246  1.007353   1.0288248  1.0332103  0.9714286\n",
      " 0.8965517  1.0201342  1.0930233  1.0229886  1.0119047  1.045658\n",
      " 1.0612245  1.085      1.0382166  0.9364486  0.9705882  1.\n",
      " 1.         1.0269749  1.0935374  1.1071428  1.1360239  1.1323252\n",
      " 1.1170568  1.0373198  0.9057971  1.0479302  1.1323252  1.0581896\n",
      " 1.1843318  1.011734   1.0467572  1.0864865  1.0555556  1.1357286\n",
      " 1.0837004  1.0977012  3.1944444  1.1677018  1.1245675  1.0413793\n",
      " 1.056391   1.0411794  1.007874   1.0834951  1.0717592  1.0552381\n",
      " 1.0954357  1.0549915  1.1024182  1.         1.0447761  1.1118422\n",
      " 1.0857143  1.0938776  1.100346   0.9348659  1.0698714  1.1206896\n",
      " 1.0900621  1.1268656  1.0421585  1.0532787  1.0264151  1.0140351\n",
      " 0.9708029  1.1428572  1.125      1.439834   1.005894   0.99014336\n",
      " 1.1035856  0.96734697 0.9933775  0.79646015 0.9914966  1.1471572\n",
      " 0.99415207 1.0421053  0.9962121  0.9870968  1.047859   1.0620155\n",
      " 1.1465863  1.1347151  1.0429688  1.0295203  1.0777777  0.96666664\n",
      " 1.0287356  1.1299213  0.9787736  1.1471354  0.9882629  1.036855\n",
      " 1.1405406  0.9845679  1.092437   1.0382916  0.94148934 1.2840096\n",
      " 0.9620637  1.0948616  1.2118843  1.0082988  1.0520505  0.98039216\n",
      " 0.994302   1.1209965  1.2038835  1.0860404  1.0335078  0.9929578\n",
      " 1.0452261  1.0643564  1.1282353  1.1220931  1.0327868  1.3668342\n",
      " 1.0268817  0.93050194 1.0957447  1.0595855  0.97362113 1.1232033\n",
      " 0.99358976 1.1554307  0.95132744 0.9598662  1.0573771  1.3397436\n",
      " 0.99444443 1.96       0.8633093  1.1419598  1.0356083  1.0573771\n",
      " 1.0737463  1.0124575  0.9325513  1.0547945  1.0801282  1.1559252\n",
      " 1.0401235  1.0363128  5.4871793  0.99233717 0.9068826  1.3565217\n",
      " 1.0354838  1.0994319  1.1691729  1.096475   0.9673913  1.1149426\n",
      " 1.0502284  1.137255   1.0894309  0.88834953 1.0913043 ], shape=(581,), dtype=float32)\n",
      "tf.Tensor(\n",
      "[ 1.6059934  3.44334    2.2508473  2.6956522  2.244384   2.7183099\n",
      "  3.0205762  2.5910852  2.3080726  1.6046512  2.269173   3.092827\n",
      "  3.7636986  3.1181989  3.7594936  1.7884297  2.5202863  4.5448275\n",
      "  1.9198718  2.230284   3.975936   2.0574324  4.1940928  2.4126213\n",
      "  2.044304   2.229885   2.864      3.004008   4.1551404  2.5894039\n",
      "  5.801105   3.4844074  2.8807588  2.835294   2.0455928  2.3192983\n",
      "  4.4863634  2.8108108  2.3026707  2.3381295  3.058968   2.7208333\n",
      "  2.3796792  3.1748633  3.014192   2.55       3.1967213  2.5753846\n",
      "  3.1506174  3.0597346  2.9107468  4.2495894  2.914842   3.722144\n",
      "  2.8615818  3.0797665  2.6881444  2.3658535  2.080163   2.3143196\n",
      "  1.8512034  4.9607477  2.8283134  3.4427967  2.9953916  2.384216\n",
      "  2.8366973  3.7285714  1.9655887  3.4362416  3.4705882  2.8162544\n",
      "  2.7375886  3.0432432  2.96114    3.213355   3.0103703  2.8716216\n",
      "  2.496063   3.3513513  1.9464923  2.6736526  2.2518249  3.3740458\n",
      "  4.4281435  2.0130153  5.0726643  2.463127   3.102888   2.7125\n",
      "  3.967742   3.6914287  3.352414   2.3        2.7937956  3.2743056\n",
      "  3.6864111  3.082942   2.490909   2.117216   4.324528   3.2293103\n",
      "  1.6324786  2.6257668  2.640124   2.0208333  3.3691275  2.586466\n",
      "  2.7398844  2.3703704  2.807947   2.8660464  3.7408638  3.9262087\n",
      "  2.5855615  2.212264   3.1480262  2.5946143  3.0193322  2.8179824\n",
      "  2.9522822  4.442177   2.5247934  2.7447917  2.9857955  2.1816144\n",
      "  3.1329114  2.0594406  4.6066947  1.965432   3.32       3.0258064\n",
      "  3.9924812  3.6182432  2.7738693  1.7997549  2.970075   2.6927223\n",
      "  3.2214766  4.007874   2.0248446  2.812983   2.348432   2.1920693\n",
      "  2.609589   2.2258065  4.230769   3.0674157  2.5478928  2.9746835\n",
      "  4.406      2.284689   2.548      2.0842571  5.753846   2.6818614\n",
      "  3.142857   2.962264   4.1684494  2.9201522  3.60125    2.2774427\n",
      "  1.935289   2.7903614  2.2307692  2.830827   3.0584958  2.6452599\n",
      "  3.377698   2.7479541  2.804296   2.539267   2.5837839  3.211604\n",
      "  2.5794702  2.8390806  3.7963636  4.3648295  4.313924   4.47561\n",
      "  2.3900862  2.9881423  2.301205   2.7768924  2.0219355  4.04142\n",
      "  3.782486   4.1647887  2.451835   2.848387   3.740964   3.171371\n",
      "  2.55911    3.8130436  2.795122   2.3501198  3.236036   3.14\n",
      "  3.275862   2.5852535  2.971223   2.7385159  2.932243   4.319569\n",
      "  3.3005095  3.077957   3.0818505  3.9511569  2.4708097  1.851682\n",
      "  3.400309   2.4289544  2.7430556  4.172577   1.8888888  2.9883332\n",
      "  3.6876876  2.2195609  2.48       2.176425   2.86535    2.539906\n",
      "  2.741325   2.794355   2.801653   3.1253562  3.195164   5.9610777\n",
      "  3.2699726  2.8243244  3.325      7.873418   2.8972268  2.5981736\n",
      "  1.8352941  2.525751   3.995482   2.1903324  2.7962184  2.590164\n",
      "  3.8508065  1.7737557  3.9575222  2.0661156  2.964706   2.7580645\n",
      "  3.0851853  4.6634617  4.6132073  3.3733332  2.6912973  2.9929328\n",
      "  3.2133334  3.0308008  2.6327543  4.3385215  3.2959867  2.9242105\n",
      "  1.7624434  2.8029351  4.037037   3.2337277  3.136816   2.7804878\n",
      "  3.019656   2.852713   2.6982622  1.5015974  2.8819444  1.8522427\n",
      "  4.42539    2.8633332  2.28877    2.2853403  1.9738864  2.458418\n",
      "  2.9777777  5.615      2.0210526  2.452381   2.844411  13.212987\n",
      "  3.7863014  2.2293234  3.0810812  2.6224256  2.5716946  2.525\n",
      "  3.0215263  3.7687688  2.35       2.9005237  2.7274168  2.818868\n",
      "  2.5064378  2.630094   2.1794229  3.9024794  3.3434782  1.275\n",
      "  3.56383    4.1928105  3.9935274  1.6835443  2.8242364  2.3970587\n",
      "  2.830986   2.8045454  2.873967   1.9598699  3.0823529  1.7175032\n",
      "  3.0394738  2.0433705  2.9215016  3.3544304  3.1347404  2.5318353\n",
      "  2.3364198  2.077381   4.6949153  1.6681128  2.8364718  3.286385\n",
      "  2.5921052  2.6765616  2.258517   1.6388261  3.7329316  3.1458333\n",
      "  2.9795158  3.2702703  2.004594   3.517024   1.6846591  3.5582523\n",
      "  3.3054545  2.5489323  1.9589744  2.798773   2.3136456  2.6813416\n",
      "  3.5374842  1.4756944  4.772031   2.2307692  2.9004424  2.575\n",
      "  1.9606675  2.808122   2.6404145  3.2763007  3.738562   1.872381\n",
      "  2.2297735  2.3789954  3.0036101  3.2936287  4.8834953  2.6\n",
      "  2.4417477  2.605007   3.101871   3.1289024  3.625874   5.0521326\n",
      "  4.138728   3.1757576  2.766854   3.5847952  3.8811476  3.6122448\n",
      "  2.887195   3.5595667  4.25498    3.2780693  2.9828432  3.5211864\n",
      "  2.3815002  3.1030042  2.832869   3.658377   2.4052045  3.8832116\n",
      "  3.0336282  1.5620347  2.3128834  2.367347   3.045403   2.9729729\n",
      "  3.6138108  3.4383562  3.2698863  3.0197043  2.2275336  2.456044\n",
      "  4.401114   2.1541667  4.505017   4.3372264  4.5137615  4.279412\n",
      "  4.605201   2.7502959  2.41452    2.9558823  2.8362572  4.2419353\n",
      "  2.7802198  3.0712328  1.4758065  3.6494625  1.9728172  3.2249322\n",
      "  2.8297873  2.         1.6439791  2.302682   2.764075   4.3166666\n",
      "  3.11315    3.6359649  2.4742646  2.8093126  2.4206643  3.552381\n",
      "  2.8965516  2.9060402  2.0981913  2.2183907  4.1369047  3.462847\n",
      "  3.844898   3.07       2.9076433  3.6878505  5.2352943  2.4479167\n",
      "  3.3807106  2.3294797  2.0867348  3.0555556  2.869955   4.36862\n",
      "  4.722408   2.3977947  2.9565217  2.167756   2.3648393  2.2801723\n",
      "  3.076037   2.9608865  3.4223228  2.2517374  3.3040123  3.3213573\n",
      "  2.845815   1.9827586  2.1458333  2.9751554  2.2145329  3.05\n",
      "  1.9661654  2.5343163  2.7821522  2.7106795  3.5833333  2.662857\n",
      "  4.33195    2.605753   2.2105262  2.9928057  2.7126865  2.7894738\n",
      "  2.500752   2.2959185  4.425606   2.5747128  1.5030743  4.4310346\n",
      "  3.279503   3.1007462  3.7622259  3.0040984  2.9169812  3.631579\n",
      "  2.3357663  2.6607144  3.4278169  2.2717843  3.3634577  2.9986558\n",
      "  3.374502   3.6979592  3.1633554  2.743363   2.957483   2.2140467\n",
      "  2.3888888  1.7578948  3.7234848  2.8129032  3.3627205  2.8313954\n",
      "  1.9096385  3.3609672  2.6796875  3.2632227  2.9        5.1\n",
      "  3.7399426  3.1141732  2.4929245  2.4036458  2.995305   1.9262899\n",
      "  3.227027   4.203704   4.672269   2.597938   4.2287235  1.7875896\n",
      "  2.0682852  2.1725955  2.5050821  3.84509    2.340694   3.4117646\n",
      "  2.7222223  3.1565835  2.5728154  2.6374013  3.5612566  3.5352113\n",
      "  2.361809   3.990099   2.7082353  3.0348837  2.9357924  2.2964823\n",
      "  4.192473   2.6544402  4.5425534  2.8316061  2.4196644  2.4558523\n",
      "  3.378205   1.6348314  2.1327434  2.5852842  4.930328   3.2948718\n",
      "  2.5759258  2.38       4.226619   2.6444724  4.1958456  4.112022\n",
      "  2.2920353  2.4190261  4.2316713  2.0164382  1.9551282  2.5301456\n",
      "  3.728395   3.4888268  0.6923077  2.6398468  4.672065   2.573913\n",
      "  2.9774194  3.3551137  3.0451128  3.5788498  2.3423913  2.4781609\n",
      "  3.1187215  1.5784314  2.5609756  2.985437   2.0086956], shape=(581,), dtype=float32)\n",
      "tf.Tensor(\n",
      "[ 3.0499444  6.49006    7.5423727  6.2890024  5.3124576  5.380282\n",
      "  4.698217   5.5116277  4.294893  21.372093   6.01203    4.924051\n",
      "  7.1369863  5.5103188  6.7130804  5.1        5.661098   3.4850574\n",
      "  4.698718   4.148265   4.1550803  4.766892   3.2763712  5.485437\n",
      "  5.954114   5.0229883  4.08       6.4208417  5.1009345  4.155629\n",
      "  4.812155   4.879418   5.4661245  4.9835296  5.0471125  5.3508773\n",
      "  3.7818182  6.009009   3.8486648  4.6666665  6.4987717  4.473611\n",
      "  5.949198   5.5555553  5.9563317 17.3        6.104918   5.1353846\n",
      "  6.274074   7.2323008  8.171221   3.6945813  8.362531   4.535966\n",
      "  6.1355934  5.922179   5.5515466  5.199187   4.1141305  6.401664\n",
      "  5.0984683  4.4841123  4.9216866  3.8792372  5.455069   4.4932504\n",
      "  5.721101   5.110204   5.2707295  3.9295301  5.1215687  5.7667847\n",
      "  6.2588654  5.443243   4.5207253  5.224756   5.945185   7.0472975\n",
      "  3.511811   8.129729   3.8632581  5.6766467  5.609489   4.1374044\n",
      "  3.5059881  4.7093277  6.0242214  4.439528   4.707581   4.076389\n",
      "  4.370968   4.735238   5.904138   4.3125     4.998175   4.6354165\n",
      "  5.404181   5.920188   4.3818183  4.668498   4.083019   5.0224137\n",
      "  2.974359   6.6871166  6.350569   5.5625     5.8120804  4.3157897\n",
      "  5.4682083  6.187243   5.557947   5.6651163  4.9169436  4.1653943\n",
      "  7.0454545  6.2240567  6.4078946  4.0524015  3.8822496  4.5219297\n",
      "  5.6950207  4.414966   5.359504  17.322916   5.7414775  6.8139014\n",
      "  8.531646   5.339161   3.958159   4.0012345  5.9        3.4258065\n",
      "  4.556391   5.9966216  6.21608    4.8438907  6.5810475  5.264151\n",
      "  4.604027   4.9816275  5.4130435  4.919629   5.3414636  3.7360594\n",
      " 16.883562   3.7587657  4.1713285  5.424157   5.8505745  6.898734\n",
      "  3.53       6.703349   6.64       5.2727275  4.723077   3.8841405\n",
      "  3.8095238  5.207547   5.2433157  6.273764   4.1675     4.6043425\n",
      "  4.5737705  7.8168674  6.520362   5.357143   6.5292478  6.200306\n",
      "  6.4244604  6.212766   4.1789975  3.670157   5.408108   5.805461\n",
      "  6.8725166  6.360153   7.683636   4.430446   3.913924   3.4804878\n",
      "  4.31681    5.513834   6.373494   4.8247013  4.907097   5.6331363\n",
      "  5.940678   2.628169   4.3486238  5.980645   3.240964   8.957662\n",
      "  4.262865   2.7673912  6.1707315  5.59952    5.962162   3.22\n",
      "  5.7538643  6.050691   5.6690645  6.6678443  5.0350466  3.5493717\n",
      "  6.232598   6.104839   7.1067615  3.6735218  5.158192   4.0428133\n",
      "  6.4837713  5.9517426  9.979167   3.7364066  6.327586   5.785\n",
      "  5.942943   3.9381237  4.88       5.681272   4.3752246  4.8544602\n",
      "  5.1908517  7.03629    6.2252064  6.3048434  4.701209   3.790419\n",
      "  4.9972453  6.5        3.675      5.8839664  6.1354    26.511415\n",
      "  4.7411766 13.603004   5.3433733  5.9154077  5.684874   4.8790984\n",
      "  7.370968   3.8950226  4.9451327  3.2809918  3.9411764  4.104839\n",
      "  4.2444444  6.548077   4.6603775  8.386666   6.2315273  4.3074207\n",
      "  7.5066667  6.4045177  6.9478908  5.673152   5.8729095  5.854737\n",
      "  5.2330317  5.8972745  5.160494   7.662722   5.965174   6.118467\n",
      "  6.815725   3.7868216  5.900474   4.5367413  5.1059027  3.6002638\n",
      "  4.9331846  5.4866667  5.406417   4.918848   5.0522275  5.036511\n",
      "  6.4871793  4.4875     3.2191389  5.663265   6.4244714  6.979221\n",
      "  4.712329   4.2030077  5.810811   7.202517   6.621974   4.4\n",
      "  6.508806   5.084084   5.64       6.235602   5.9302692  7.0490565\n",
      " 10.553648   5.5736675  4.9422836  4.7413225  7.169565   3.0375\n",
      "  6.7234044  3.7222223  4.334412   4.159019   6.0315475  6.492647\n",
      "  4.3098593  7.2522726  6.4008265  5.3362255  7.2078433  3.7767053\n",
      "  4.9692984  5.9888477  5.6348124  3.556962   7.9496756  6.022472\n",
      "  5.617284   5.220238   3.9322033  3.394794   3.7938552  5.7206573\n",
      " 28.236841   5.0213356  4.733467   5.9097066  5.5        5.9305553\n",
      "  6.6182494  5.4504504  4.206738   5.334174   4.0866475  5.830097\n",
      "  4.9454546  6.2153025  4.751282   4.602454   5.503055   5.8553457\n",
      "  6.406607   5.3402777  6.289272   4.1947627  4.9292035  5.03\n",
      "  4.261025   4.3309646  6.0331607  6.5606937  6.0174294  5.2990475\n",
      "  4.757282   5.242009   6.1263537  3.603878   3.6699028  8.537931\n",
      "  3.9417477  6.239221   4.079002   2.8469286  5.79021    5.649289\n",
      "  3.398844   5.2848487  6.570225   5.5438595  3.4057376  3.8214285\n",
      "  5.695122   4.9494586  3.5976095  6.8625393  6.002451   4.7033896\n",
      "  7.3584905  3.6630902  4.707521   6.2565446  5.670384   4.0802917\n",
      "  5.784071   3.935484   5.433538   7.         4.1906924  5.2702703\n",
      "  8.132993   3.2420092  6.0710225  6.12069    4.9847035  5.9175825\n",
      "  4.5292478  5.9583335  3.297659   3.5343065  4.522936   3.8558824\n",
      "  5.3049645  6.885207   5.491803   5.035714   6.877193   6.532258\n",
      "  4.824176   6.128767   3.794355   4.9225807  4.2224054  8.469738\n",
      "  7.3297873  4.2789254  5.8193717  4.7356324  6.2680964  6.35\n",
      "  3.8746178  4.394737   5.4558825  4.5166297  5.763838   4.6507936\n",
      "  6.5172415  4.7158837  5.108527   5.738506   5.1875     4.3169203\n",
      "  4.885714   3.43       5.6719747  6.093458   3.9019608  5.2291665\n",
      "  3.2436547  5.0847783  5.712585   7.888889   5.218236   3.9678638\n",
      "  4.0986624  5.2569976  5.695652   4.893246   4.637051   5.3771553\n",
      "  3.9331796  5.8409386  6.092006   6.466409   4.3780866  3.4391217\n",
      "  6.420705   4.        17.25       5.63354    4.799308   5.6310344\n",
      "  4.81203    6.5287237  7.2782154  5.0815535  8.946759   4.88\n",
      "  4.8215766  4.1658206  5.4992886  6.532374   6.147388   6.256579\n",
      "  5.172932   5.922449   5.629758   5.609195   3.2817216  5.183908\n",
      "  4.9037266  5.6641793  3.4148397  5.5840163  5.7018867  3.5754385\n",
      "  5.408759   6.232143   8.579226   6.5228214  6.8899803  6.5864697\n",
      "  4.61753    6.2285714  6.863135   4.9557524  5.7993197  7.006689\n",
      "  3.1783626  4.3242106  5.3560605  5.470968   4.211587   3.639535\n",
      "  3.748996   5.0069084  4.890625   7.0369005  5.133333   4.0333333\n",
      "  5.12069    5.2952757  6.4481134  4.7825522  5.673709   4.938575\n",
      "  5.3945947  3.9320989  4.2310925  6.525773   4.680851   5.1169453\n",
      "  6.212443   4.3465085  5.2838154  6.7275243  4.884858   3.5490196\n",
      "  4.689459   4.282918   6.262136   4.8858647  4.4565444  5.549296\n",
      "  4.4271355  4.2178216  6.1388235  6.4069767  6.4781423  6.5025125\n",
      "  5.404301   4.685328   4.0531917  4.527202   4.585132   5.3449693\n",
      "  6.25       3.1498127  5.761062   5.1705685  3.8114755  6.044872\n",
      "  7.112963  14.36       3.942446   6.306533   4.875371   4.931694\n",
      "  5.486726   5.07701    2.6158357  4.0876713  4.157051   4.889813\n",
      "  4.512346   6.092179  28.615385   5.4636016  3.5870445  6.134783\n",
      "  3.2241936  4.8210225  6.507519   3.9369202  4.432065   5.56092\n",
      "  6.347032   5.117647   6.300813   4.776699   4.2      ], shape=(581,), dtype=float32)\n",
      "tf.Tensor(\n",
      "[15.  5. 29. 12. 13. 50. 23. 32. 26. 11. 14. 44. 16. 17. 19. 18. 37. 23.\n",
      " 28. 27. 35. 40. 23. 52. 30. 52. 39. 36. 33. 32. 33. 35. 25. 11. 42. 50.\n",
      " 33. 23. 27. 38. 21. 41. 43. 24. 36. 17. 38. 30. 18. 19. 26. 42. 25. 32.\n",
      " 12. 27. 28. 31.  6. 23. 37. 26. 31. 33. 24. 20. 26. 30. 14. 15. 28. 36.\n",
      " 34. 31. 35. 18. 32. 33. 39. 39. 16. 15. 19. 25. 41.  4. 20. 16. 28. 19.\n",
      " 28.  9. 20. 19. 25. 43. 31. 12. 46. 40. 37. 42. 50. 52. 13. 37. 36. 32.\n",
      " 19. 47. 32. 36. 30. 51. 52. 46. 34.  8. 32. 20. 46. 37. 42. 16. 43. 41.\n",
      "  3. 48. 34. 32. 36. 15. 36. 33. 52.  7. 26. 36. 35. 15. 16. 34. 15. 16.\n",
      " 22. 52. 40. 52. 14. 10. 34.  9. 20. 52. 47. 20.  6. 19. 24. 32. 36. 32.\n",
      " 33. 21.  4. 18. 33.  2. 27. 20. 36. 38. 29. 17. 16. 33. 16. 47. 27. 36.\n",
      " 39. 35. 26. 36. 39. 33. 46. 52. 20. 31. 39. 22. 27. 44. 11. 26. 13. 42.\n",
      " 18. 33. 39. 11. 37. 42. 20. 21. 32. 42. 52. 36. 24. 35. 12. 33. 18. 27.\n",
      "  5. 17. 52.  4. 32. 28. 15. 44. 19. 12. 26. 33. 25. 31. 36. 44. 26.  5.\n",
      " 43. 26. 25. 40. 37. 32. 15. 11. 21. 34. 37. 29. 41.  7. 21. 33. 13. 52.\n",
      " 36. 29. 52. 33. 33. 15. 47. 17. 31. 24. 36. 36. 33. 30. 26. 16. 34. 17.\n",
      " 27.  4. 49. 43.  4. 43. 36. 21. 52. 36.  8.  8. 45. 52. 37. 20. 32. 46.\n",
      " 19. 45. 42. 33. 30. 18. 21. 45. 52. 14. 16.  8.  9. 42. 38. 37.  5. 29.\n",
      " 43. 36. 11. 19. 12. 25. 32. 13. 18. 43. 11. 41. 49. 36. 41.  3. 49. 48.\n",
      " 15. 12. 22. 24. 12. 19. 25. 16. 52. 26. 52. 38. 36. 34. 52. 18. 39. 16.\n",
      "  2. 18. 10. 20. 52. 16. 14. 22.  3. 21. 26. 15. 52. 27. 16. 52. 37. 46.\n",
      " 32. 26. 27. 31. 32. 33. 23. 39.  2. 25. 25. 29. 52. 52. 36. 30.  7. 31.\n",
      " 19. 45. 43. 13. 17. 34. 30. 52. 52. 42. 29. 27. 21. 43. 14. 35. 36. 43.\n",
      " 26. 12. 39. 17. 11. 22. 49. 15. 46. 31. 15. 35. 45. 25. 15. 47. 21.  7.\n",
      " 24. 37. 16. 21. 34. 43. 44. 41. 32. 16. 24. 47.  7. 43. 36. 36. 20. 17.\n",
      " 34. 16. 33. 16. 31. 27.  5. 36. 22. 16. 21. 40. 37. 21. 36. 37. 12. 52.\n",
      " 15.  7. 34. 14. 27. 36. 32. 52. 21. 45. 23.  6. 52. 22. 25. 34.  8. 35.\n",
      " 42. 17. 19. 22. 35. 14. 52. 13. 23. 36. 34. 18. 29. 33. 31. 21. 34. 29.\n",
      " 36. 21.  5. 28. 26. 22. 24. 33. 16. 33. 33. 34. 13. 25. 34. 25. 28. 20.\n",
      " 16. 13. 37. 19. 23. 44. 33. 50. 44.  6. 36. 12. 47. 39. 30. 19. 36. 39.\n",
      " 49. 39. 12. 13. 36. 32.  7. 38. 38. 17. 18. 30. 30. 11. 20. 36. 14.  8.\n",
      " 27. 30. 43. 20. 16. 39. 20. 52. 46. 26. 40. 24. 52.  2. 12. 14. 36. 35.\n",
      " 36. 23. 34. 51. 18. 20. 38. 35.  8. 37. 31. 18. 52. 43. 25. 32. 35. 51.\n",
      " 36. 39. 52. 36. 27.], shape=(581,), dtype=float32)\n",
      "tf.Tensor(\n",
      "[37.63 33.69 38.44 33.55 33.93 33.98 34.14 34.94 37.68 40.19 34.13 33.9\n",
      " 38.35 37.4  33.87 34.17 32.63 33.97 37.67 37.65 34.08 36.78 33.76 37.73\n",
      " 37.9  37.79 34.03 34.27 33.78 32.79 33.72 36.75 33.7  37.59 38.54 41.73\n",
      " 34.02 33.99 32.8  37.54 36.19 37.82 35.4  38.03 37.66 37.94 33.98 36.55\n",
      " 38.8  37.13 33.63 34.03 37.28 35.67 36.3  38.52 38.02 32.83 37.56 37.89\n",
      " 34.11 33.7  37.06 34.06 33.82 34.09 34.12 32.63 37.92 32.8  34.07 33.95\n",
      " 32.82 38.7  37.79 34.25 38.49 37.95 37.37 34.22 37.35 39.83 39.49 34.04\n",
      " 34.06 37.99 36.52 33.7  37.8  32.73 34.3  33.21 34.03 33.84 34.05 36.21\n",
      " 36.59 40.39 33.92 34.16 32.69 37.37 33.83 37.74 38.54 34.19 37.79 33.78\n",
      " 38.68 38.11 34.1  37.46 37.47 37.78 37.57 37.3  33.85 34.25 34.06 37.11\n",
      " 35.13 33.95 33.67 34.28 33.93 34.14 38.43 34.09 33.96 34.1  37.64 37.2\n",
      " 37.75 34.36 37.82 34.18 34.25 37.97 37.66 37.31 32.85 33.93 38.75 37.39\n",
      " 39.06 37.76 33.95 37.73 39.86 36.35 34.07 39.23 33.49 38.02 33.77 34.2\n",
      " 35.24 34.68 36.72 37.38 34.09 34.21 34.07 37.36 34.12 36.58 34.14 36.83\n",
      " 33.87 37.96 33.88 38.63 37.98 35.51 33.85 37.99 33.71 33.97 36.48 34.09\n",
      " 37.8  37.58 38.92 38.97 32.74 34.1  37.74 37.8  37.41 40.57 34.08 34.41\n",
      " 33.88 34.05 39.27 38.   37.61 33.81 38.5  33.88 34.13 39.03 37.66 33.96\n",
      " 37.24 36.13 34.87 33.99 37.77 32.76 36.71 35.38 38.87 36.75 35.7  38.34\n",
      " 34.04 33.83 38.05 37.78 38.51 38.12 36.76 34.13 34.44 38.65 34.23 37.47\n",
      " 34.07 37.34 34.12 33.97 37.52 34.25 34.27 34.23 34.02 41.23 33.84 33.79\n",
      " 32.68 32.75 36.93 33.99 34.   33.86 33.99 34.59 34.2  34.05 37.51 38.3\n",
      " 37.75 36.99 37.85 34.04 34.02 37.35 38.54 36.98 39.1  34.87 33.79 33.84\n",
      " 33.76 34.19 38.   33.22 34.12 34.04 34.04 33.71 34.17 34.06 33.57 33.99\n",
      " 34.14 33.71 37.79 33.81 37.95 37.79 33.98 37.76 34.06 33.81 33.63 38.02\n",
      " 38.14 33.81 32.82 38.55 37.33 34.69 39.25 38.35 37.77 37.62 37.31 34.23\n",
      " 37.33 33.95 33.89 37.45 33.09 38.96 33.99 37.23 32.64 36.97 38.97 37.9\n",
      " 33.87 34.06 39.75 33.96 38.73 37.53 34.15 36.63 33.94 37.66 34.09 34.04\n",
      " 39.12 38.54 34.28 33.01 36.31 38.03 33.78 38.97 37.78 34.71 34.08 33.9\n",
      " 33.91 37.88 36.76 33.81 36.97 37.69 37.59 33.61 37.33 39.92 34.13 36.33\n",
      " 32.77 32.81 32.97 33.94 37.46 33.49 37.83 40.6  38.35 34.12 34.05 34.13\n",
      " 38.61 33.76 33.85 34.06 37.37 32.8  34.   33.89 33.63 36.59 36.62 33.92\n",
      " 34.07 33.98 33.98 33.97 34.48 34.05 34.02 34.05 34.03 37.15 37.55 33.94\n",
      " 38.   37.8  37.9  38.04 33.79 37.59 33.9  37.78 34.03 34.24 37.42 38.62\n",
      " 34.38 38.06 34.08 33.53 37.39 37.38 37.71 35.13 34.16 33.94 38.36 34.22\n",
      " 34.08 34.18 33.72 37.71 37.61 33.92 33.09 32.75 33.49 39.06 33.75 33.97\n",
      " 37.34 33.8  37.35 39.16 33.86 37.72 37.31 37.76 33.17 37.75 36.35 33.83\n",
      " 34.08 34.64 34.65 34.04 33.72 38.13 33.74 37.7  34.13 33.06 33.91 34.\n",
      " 34.01 38.67 32.62 34.12 33.12 37.88 33.64 39.16 33.92 33.15 33.89 34.05\n",
      " 38.66 37.84 39.14 37.94 39.53 36.32 38.9  37.79 37.69 33.84 37.76 37.7\n",
      " 33.79 37.55 32.8  38.82 38.59 33.46 37.78 33.67 34.08 37.7  37.81 36.84\n",
      " 33.95 37.61 33.91 34.98 33.87 34.04 35.41 37.28 33.94 38.03 37.62 37.66\n",
      " 34.09 33.84 33.04 36.61 37.27 34.03 33.71 40.58 33.92 39.52 32.8  33.97\n",
      " 33.79 33.23 38.68 37.74 39.5  33.79 37.36 37.34 34.13 33.57 33.9  37.05\n",
      " 37.75 33.99 33.9  36.98 37.48 36.56 38.55 34.06 34.11 34.02 34.14 34.22\n",
      " 38.34 33.94 37.47 33.11 34.29 34.27 34.16 34.04 34.12 33.83 38.46 33.61\n",
      " 34.02 36.77 33.98 36.96 34.64 34.11 34.04 32.73 34.06 38.67 33.94 36.65\n",
      " 37.45 34.16 37.92 35.69 34.23 33.93 38.4  35.4  33.94 38.57 38.51 34.13\n",
      " 34.11 33.86 39.75 34.   33.89 38.31 37.8  34.08 37.33 34.   34.19 37.12\n",
      " 33.85 37.66 37.66 33.92 38.44], shape=(581,), dtype=float32)\n",
      "tf.Tensor(\n",
      "[-122.43 -117.39 -122.98 -117.7  -116.93 -118.06 -118.01 -120.42 -122.08\n",
      " -121.08 -117.2  -118.08 -121.95 -121.97 -117.86 -119.23 -117.07 -118.16\n",
      " -122.07 -122.09 -118.19 -119.77 -117.98 -122.16 -122.45 -122.47 -118.48\n",
      " -118.52 -117.91 -116.97 -117.9  -119.76 -117.99 -120.96 -121.43 -122.64\n",
      " -118.18 -117.97 -117.23 -122.31 -119.12 -122.27 -118.99 -121.31 -122.45\n",
      " -119.57 -118.06 -119.39 -121.18 -121.67 -117.9  -118.19 -122.02 -119.24\n",
      " -119.33 -121.98 -122.1  -117.22 -122.01 -122.47 -118.33 -116.2  -122.07\n",
      " -117.76 -117.94 -117.91 -117.82 -117.08 -122.05 -115.56 -117.18 -118.02\n",
      " -116.92 -121.47 -122.21 -119.2  -121.5  -122.08 -121.95 -118.21 -121.99\n",
      " -121.5  -121.53 -118.37 -117.65 -121.89 -119.73 -117.88 -121.22 -117.08\n",
      " -118.43 -117.24 -117.67 -117.86 -118.14 -119.09 -119.73 -122.37 -118.25\n",
      " -118.24 -117.12 -121.82 -118.31 -122.46 -121.67 -118.32 -121.2  -117.95\n",
      " -121.47 -122.23 -117.88 -122.23 -122.13 -122.22 -122.34 -121.89 -117.99\n",
      " -118.29 -117.72 -120.25 -119.46 -118.24 -118.31 -117.21 -118.29 -118.16\n",
      " -121.39 -118.27 -118.24 -117.72 -122.09 -121.7  -122.2  -118.93 -122.25\n",
      " -118.59 -118.54 -121.33 -122.1  -121.81 -116.89 -116.9  -120.86 -122.01\n",
      " -120.13 -122.47 -118.24 -122.41 -121.59 -119.67 -118.2  -121.2  -115.84\n",
      " -122.13 -118.28 -118.43 -119.01 -118.27 -120.05 -121.82 -118.16 -118.24\n",
      " -118.39 -122.07 -117.63 -119.45 -117.86 -119.88 -117.57 -122.1  -118.29\n",
      " -121.44 -122.01 -120.68 -117.8  -122.12 -117.79 -118.22 -119.44 -118.22\n",
      " -122.21 -120.76 -120.   -123.1  -117.17 -117.36 -122.18 -122.41 -122.08\n",
      " -123.96 -117.96 -118.4  -118.08 -118.28 -121.23 -122.28 -120.94 -117.99\n",
      " -122.79 -118.38 -118.08 -121.06 -122.41 -118.23 -121.82 -119.08 -120.41\n",
      " -118.19 -122.5  -117.15 -121.62 -118.95 -120.   -119.79 -118.5  -120.98\n",
      " -117.5  -118.06 -121.3  -121.95 -121.46 -122.26 -119.83 -118.1  -118.53\n",
      " -120.93 -119.16 -122.21 -117.94 -122.05 -117.93 -118.41 -121.97 -116.85\n",
      " -119.28 -117.27 -118.06 -122.27 -118.12 -118.32 -117.05 -117.23 -121.78\n",
      " -118.34 -118.43 -118.08 -118.47 -117.92 -119.18 -117.9  -120.83 -122.29\n",
      " -122.19 -121.99 -122.23 -117.96 -117.98 -121.8  -121.49 -121.97 -123.16\n",
      " -120.33 -117.96 -118.11 -117.82 -118.38 -122.31 -117.27 -118.06 -118.46\n",
      " -117.74 -117.77 -118.34 -118.39 -117.71 -118.43 -117.27 -117.86 -122.42\n",
      " -118.12 -121.97 -120.45 -118.28 -122.46 -117.93 -118.08 -117.9  -121.82\n",
      " -121.05 -118.21 -117.27 -121.36 -121.98 -120.37 -120.06 -121.99 -122.45\n",
      " -121.02 -121.77 -119.14 -121.77 -118.36 -118.19 -122.18 -117.1  -122.64\n",
      " -118.39 -122.   -117.   -121.91 -121.05 -122.06 -117.89 -118.44 -121.86\n",
      " -118.21 -121.2  -122.31 -117.29 -121.92 -118.22 -121.89 -118.28 -118.33\n",
      " -120.2  -121.35 -119.2  -117.06 -119.68 -121.33 -118.03 -121.31 -122.44\n",
      " -118.12 -118.35 -118.25 -118.06 -122.14 -119.8  -117.98 -122.   -120.97\n",
      " -120.98 -117.92 -121.79 -122.19 -118.18 -119.78 -117.19 -116.94 -117.08\n",
      " -117.53 -121.91 -117.67 -122.26 -124.14 -121.98 -118.21 -117.75 -118.08\n",
      " -121.45 -118.31 -117.93 -118.31 -120.75 -115.57 -118.24 -118.14 -117.61\n",
      " -120.18 -119.31 -118.18 -117.74 -118.3  -118.18 -118.   -117.22 -117.72\n",
      " -118.88 -118.33 -118.36 -121.64 -122.26 -117.47 -121.82 -122.43 -122.29\n",
      " -121.22 -117.92 -120.69 -117.88 -122.23 -117.66 -118.26 -122.12 -121.37\n",
      " -119.86 -120.4  -118.21 -116.12 -120.71 -120.72 -122.45 -120.56 -118.32\n",
      " -117.96 -122.01 -118.52 -118.36 -118.95 -117.76 -122.41 -122.43 -117.36\n",
      " -116.66 -117.13 -117.65 -122.91 -118.31 -118.22 -121.88 -118.26 -121.96\n",
      " -121.62 -118.38 -122.4  -122.11 -122.5  -117.35 -122.45 -119.41 -118.07\n",
      " -118.06 -120.46 -118.19 -117.67 -117.86 -121.3  -117.93 -122.18 -118.04\n",
      " -117.16 -117.47 -118.27 -118.26 -121.16 -117.06 -118.17 -117.07 -122.28\n",
      " -117.93 -121.62 -118.01 -117.11 -118.36 -118.3  -121.3  -122.26 -120.16\n",
      " -122.36 -121.65 -119.34 -121.07 -122.16 -120.99 -118.29 -121.96 -122.18\n",
      " -118.26 -121.97 -117.03 -121.14 -121.31 -117.34 -122.49 -118.01 -118.\n",
      " -122.15 -122.26 -120.69 -118.27 -122.03 -118.29 -120.43 -117.58 -118.31\n",
      " -118.98 -122.12 -117.14 -121.65 -122.45 -121.79 -117.44 -117.88 -117.26\n",
      " -119.26 -121.9  -118.56 -117.87 -122.37 -118.11 -121.49 -115.56 -118.1\n",
      " -118.29 -117.23 -121.17 -121.95 -122.19 -118.21 -120.58 -121.9  -118.18\n",
      " -117.71 -118.02 -122.03 -122.17 -118.25 -118.22 -121.83 -122.12 -121.92\n",
      " -121.5  -118.39 -117.41 -117.63 -117.86 -118.38 -121.96 -118.29 -122.25\n",
      " -117.07 -118.47 -118.46 -118.12 -118.16 -118.05 -118.35 -122.76 -116.48\n",
      " -117.94 -119.74 -118.26 -121.98 -120.47 -118.06 -117.71 -117.16 -118.46\n",
      " -121.2  -118.22 -120.31 -122.14 -117.51 -121.29 -120.9  -118.4  -118.04\n",
      " -122.5  -118.95 -118.21 -121.49 -122.45 -116.31 -117.32 -117.96 -121.\n",
      " -118.41 -118.19 -120.55 -122.41 -117.31 -120.65 -118.1  -118.4  -122.12\n",
      " -118.36 -121.87 -121.87 -118.13 -122.71], shape=(581,), dtype=float32)\n",
      "tf.Tensor(\n",
      "[ 3.5214  5.3275  3.1     7.1736  2.0549  2.9583  3.52    2.7188  2.6563\n",
      "  1.6944  3.4138  4.2083  5.8269  5.8792  5.6573  3.6875  3.7583  2.3068\n",
      "  3.2417  2.8203  1.9038  1.9375  2.1375  4.1164  8.4888  2.8125  3.5076\n",
      "  5.5649  4.0362  2.6635  4.3899  1.6548  4.0345  2.3849  2.4618  2.2206\n",
      "  3.0972  5.7268  2.4643  4.0726  2.9145  1.1108  4.0208  3.7413  4.7755\n",
      "  3.4861  4.7266  3.3869  5.1857  5.6205 10.1454  1.9719  9.3464  2.0025\n",
      "  4.9464  2.7989  3.6523  3.4318  4.4259  7.2905  8.2335  2.2989  3.8625\n",
      "  1.9937  5.0764  3.0441  5.27    2.6146  4.7094  1.3882  2.1154  4.2292\n",
      "  5.0118  3.625   2.875   3.8162  3.3689  4.8702  3.0357  9.2463  4.5427\n",
      "  1.6948  1.5313  2.25    2.25    4.1016  2.5921  3.8029  2.1186  1.4254\n",
      "  1.7062  2.1293  4.7056  3.0087  3.4118  1.9861  3.3438  3.3005  2.0893\n",
      "  3.3333  2.0673  3.7214  2.775   5.3961  4.2432  4.1731  2.4798  3.7303\n",
      "  5.0155  4.      4.2685  5.6629  4.983   2.489   7.0422  5.0662  4.9777\n",
      "  3.0795  1.9643  1.5319  2.1955  1.4792  5.3074  5.7421  3.3836  7.4817\n",
      "  5.4445  4.1667  1.7396  2.4952  5.2838  4.65    1.5809  4.6607  5.883\n",
      "  4.2009  6.2788  2.0043  3.875   4.4792  2.8906  2.2321  2.5625  4.0068\n",
      "  2.875   2.5933  1.35    3.7835  2.8657  4.9432  2.2708  5.2359  2.0347\n",
      "  2.9583  2.9063  2.773   3.125   3.2125  1.8299  6.8462  2.1696  3.5777\n",
      "  4.2386  7.5     6.0758  3.7813  6.2089  4.2132  5.1929  4.3571  3.0739\n",
      "  1.6343  4.317   4.3218  5.806   4.675   7.1069  4.0609  1.1728  2.48\n",
      "  3.0682  3.6181  3.5     2.5761  3.7039  3.6227  2.2467  1.8295  4.6875\n",
      "  2.3167  2.2679 10.0285  3.6417  1.6037  3.3603  3.4471  3.8372  2.2\n",
      "  3.75    5.2999  5.9546  3.8417  3.8438  2.5913  6.0538  3.1528  5.062\n",
      "  3.0114  3.5833  3.0445  4.3451  3.5938  4.225   1.123   1.5957  3.5508\n",
      "  5.1647  3.8512  1.15    6.3942  1.68    3.1025  1.976   9.7912  5.1163\n",
      "  4.5568  2.7556  2.92    3.3523  6.6087  3.5385  4.6176  4.5317  4.0132\n",
      "  4.6667  3.7708  5.2557  2.1898  5.0719  4.1477  3.2174  3.3456  2.4053\n",
      "  1.675   3.7614  3.3333  2.5938  2.7396  2.6964  7.6286  4.6635  1.6691\n",
      "  1.9167  5.8123  6.3434  4.7955  4.4653  5.614   2.5639  3.7083  2.775\n",
      "  3.9375  5.2816  5.5581  6.2944  1.9866  4.621   1.8849  4.5667  3.1235\n",
      "  3.0429  5.5631  4.1161  3.8158  4.045   4.0189  4.1     3.152   2.1343\n",
      "  4.6875  5.431   3.1719  0.9337  3.4531  5.4635  7.6084  6.1426  2.2361\n",
      "  2.9875  3.6923  4.5083  2.8021  6.1388  4.7946  3.01    2.4659  4.5052\n",
      "  1.6731  6.6455  2.5714  7.5443  4.1635  2.9293  4.      4.4375  1.7273\n",
      "  5.1322  9.0704  4.9792  3.5112  4.8214  2.6998  3.3594  6.2389  3.5046\n",
      "  2.3241  7.7499  4.6125  3.2976  3.4167  3.4323  2.1187  2.4677  2.628\n",
      "  4.1316  3.5691  3.4006  3.5192  2.9936  4.918   6.6453  2.7083  2.943\n",
      "  2.5179  3.2645  3.3804  4.6731  6.2275  1.6429  3.7201  2.8941  3.4667\n",
      "  4.6484  5.3369  6.6633  1.023   3.5341  3.2386  2.4397  2.8175  5.4584\n",
      "  4.2263  5.6062  2.1935  3.48    4.025   4.4375  2.5139  2.1908  8.4546\n",
      "  1.0424  6.5704  1.9621  2.0278  2.4964  4.5714  1.2056  4.5735  6.1078\n",
      "  2.3026  1.4481  2.4583  4.2415  2.9432  3.0398  6.0663  3.6646  2.7321\n",
      "  7.7848  2.1736  2.1078  6.1684  5.9572  3.0687  4.4583  4.1047  4.4286\n",
      "  5.5376  3.1726  2.3906  6.5945  1.9338  5.753   5.7083  5.1524  3.0139\n",
      "  2.1471  2.6544  2.2907  1.654   3.2721  2.2813  4.7639  4.4033  4.3173\n",
      "  2.6641  5.9441  5.5209  3.3864  6.0994  4.3636  3.4773  4.1692  8.5326\n",
      "  1.5909  2.693   4.3603  1.939   6.287   3.0313  2.4196  3.1779  5.2019\n",
      "  2.4556  6.3021  4.2672 13.8093  3.1406  3.625   4.95    2.2222  2.5978\n",
      "  3.4202  0.8106  3.9963  4.6563  2.3333  2.8942  3.3017  4.0268  4.645\n",
      "  5.8661  2.2241  1.852   1.9074  3.7796  3.9167  4.2944  2.4122  4.1429\n",
      "  2.7543  3.809   5.2305  4.7019  3.1325  1.9323  3.3188  2.6736  3.9722\n",
      "  3.0862  1.4833  3.1574  1.7375  5.9849  6.4788  5.061   9.7037  3.3906\n",
      "  3.5488  3.168   4.3281  5.07    3.1711  5.5395  3.0278  5.888   4.6467\n",
      "  3.5547  2.8406  2.2083  2.3056  5.097   2.4741  3.6639  3.5313  2.0658\n",
      "  3.875   5.8691  6.3223  3.4402  6.7206  5.98    2.3682  5.1782  6.6319\n",
      "  2.5417  5.0714  8.2934  3.5326  2.1538  4.1767  3.9028  1.5987  2.9821\n",
      "  3.3427  2.9875  3.      6.2631  2.1705  2.1964  2.2179  3.5966  7.9213\n",
      "  4.877   5.5601  3.9728  3.1587  2.1793  1.7262  4.3321  3.8194  2.7039\n",
      "  5.2362  3.3295  2.5181  5.6168  3.1905  2.2679  3.89    1.5615  5.4688\n",
      "  3.0054  4.2935  4.8015  2.8631  1.3971  3.55    6.1187  4.5152  2.9167\n",
      "  3.871   2.5737  1.2315  3.1167  3.4063  3.0854  4.625   2.0972  7.0674\n",
      "  2.9803  2.5938  2.25    7.8647  4.1     3.1053  3.8158  4.1181  4.1667\n",
      "  4.1307  3.6875  2.1903  1.7155  1.9441  1.6063  2.2604  4.2937  2.5893\n",
      "  5.5284  2.1071  1.625   1.9145  1.9234  4.1058  2.7311  3.6007  2.7933\n",
      "  4.8906  2.4896  5.0677  4.1786  1.7   ], shape=(581,), dtype=float32)\n",
      "tf.Tensor(\n",
      "[1.442   1.687   1.621   2.621   0.956   1.726   1.873   1.337   1.841\n",
      " 1.375   1.267   1.683   1.502   2.555   2.16    5.00001 1.455   1.578\n",
      " 2.108   1.952   1.395   0.677   1.5     1.982   5.00001 5.00001 3.818\n",
      " 2.712   1.779   1.136   1.807   0.494   2.294   1.22    1.013   0.632\n",
      " 1.25    3.003   2.444   3.854   1.142   0.975   0.904   1.053   2.807\n",
      " 1.375   1.776   0.804   2.201   3.008   5.00001 1.342   5.00001 0.547\n",
      " 1.156   1.267   1.597   2.004   1.58    5.00001 4.302   0.606   2.323\n",
      " 1.036   2.286   1.854   2.094   1.594   2.347   0.694   0.753   1.795\n",
      " 1.653   0.913   1.438   2.35    0.834   2.356   2.083   5.00001 1.984\n",
      " 0.875   0.503   3.333   0.905   1.705   0.942   2.054   0.944   1.113\n",
      " 1.646   1.514   1.655   1.594   3.411   0.477   0.926   0.985   0.965\n",
      " 3.743   0.885   1.679   2.25    4.169   3.265   3.521   1.015   1.885\n",
      " 0.973   1.415   2.166   3.436   1.667   1.191   5.00001 3.316   2.126\n",
      " 1.615   1.132   0.505   0.269   0.975   4.019   1.676   1.299   5.00001\n",
      " 2.376   3.448   1.059   1.818   1.726   3.857   0.7     1.879   3.407\n",
      " 2.713   3.222   0.908   1.621   2.125   1.583   0.718   1.461   2.495\n",
      " 0.875   3.596   0.895   2.713   1.196   1.188   1.596   2.133   0.689\n",
      " 1.66    1.469   1.405   0.65    1.854   0.578   3.209   1.708   2.456\n",
      " 5.00001 5.00001 2.268   0.873   2.834   0.965   1.65    2.282   2.186\n",
      " 0.71    1.94    2.091   3.049   2.254   3.134   1.713   0.417   1.389\n",
      " 1.565   1.786   1.036   0.949   3.615   0.928   0.889   2.438   2.889\n",
      " 0.926   1.518   5.00001 2.081   2.75    1.625   1.789   1.293   1.531\n",
      " 2.483   3.594   3.967   1.872   2.507   1.516   2.41    1.137   1.589\n",
      " 1.575   3.229   2.148   1.778   0.952   1.276   0.467   1.014   0.991\n",
      " 1.547   1.638   1.125   3.567   0.841   1.037   0.673   5.00001 2.332\n",
      " 1.701   2.132   2.028   1.708   4.165   1.344   3.523   2.326   1.631\n",
      " 3.846   1.104   1.888   0.655   2.2     3.151   1.651   1.598   1.784\n",
      " 1.667   3.143   1.988   2.85    1.256   1.708   3.304   1.984   1.833\n",
      " 0.828   2.815   3.736   1.581   1.932   2.233   1.23    2.524   1.208\n",
      " 3.412   2.218   2.183   2.656   1.774   1.911   0.908   2.715   4.208\n",
      " 1.296   2.278   2.325   5.00001 2.26    3.029   0.964   1.528   4.\n",
      " 2.507   2.467   1.154   0.923   4.143   2.021   4.025   4.507   0.938\n",
      " 1.663   1.597   4.052   1.188   3.024   2.906   1.635   1.029   5.00001\n",
      " 0.958   3.026   5.00001 3.484   1.639   1.136   3.943   3.53    0.582\n",
      " 3.149   5.00001 1.704   2.319   2.019   2.161   2.021   5.00001 1.183\n",
      " 1.593   3.348   3.617   1.026   3.391   1.446   2.313   2.192   2.511\n",
      " 2.      1.163   2.194   1.591   0.606   1.306   2.701   0.821   3.417\n",
      " 1.04    1.75    1.058   1.733   3.944   0.692   1.831   2.567   1.609\n",
      " 1.459   3.125   2.837   0.542   1.821   1.125   1.406   1.352   2.465\n",
      " 2.032   2.268   1.833   1.914   1.281   1.326   1.9     0.946   5.00001\n",
      " 0.814   4.147   1.181   3.6     0.888   0.686   0.875   1.955   2.19\n",
      " 0.906   0.517   1.369   1.401   0.94    1.654   3.726   1.099   1.043\n",
      " 5.00001 1.713   1.335   2.881   4.438   0.885   1.31    4.667   2.349\n",
      " 2.125   1.987   0.818   2.773   1.125   1.855   3.295   3.731   1.156\n",
      " 1.875   1.281   1.339   1.      0.738   0.673   2.515   2.676   2.783\n",
      " 1.852   2.282   2.033   3.979   2.549   1.484   2.263   3.445   3.152\n",
      " 2.219   1.741   2.488   1.003   3.964   1.661   1.944   1.711   2.799\n",
      " 0.971   3.338   2.194   5.00001 3.162   1.98    3.226   0.529   1.429\n",
      " 1.891   0.833   1.268   1.62    1.577   1.167   0.875   2.055   2.762\n",
      " 4.045   1.273   1.015   0.996   1.59    1.897   3.547   1.27    2.596\n",
      " 1.778   1.107   2.051   1.911   2.15    1.611   1.171   1.913   1.278\n",
      " 0.79    0.652   0.892   1.222   3.71    1.994   2.18    4.251   1.789\n",
      " 2.056   1.894   2.2     2.33    1.019   2.733   3.563   4.477   1.851\n",
      " 1.947   3.357   0.55    0.985   1.886   1.512   1.286   1.421   2.146\n",
      " 0.945   3.6     2.232   1.924   3.446   2.45    0.974   2.25    2.696\n",
      " 1.188   2.556   5.00001 2.625   0.769   1.566   0.938   0.594   1.425\n",
      " 1.542   1.72    1.219   2.66    0.53    1.5     0.675   2.458   4.778\n",
      " 1.443   2.052   1.909   1.004   1.079   1.156   2.986   1.594   3.64\n",
      " 2.368   5.00001 1.055   1.754   2.353   1.5     1.403   1.086   3.05\n",
      " 1.423   1.9     1.797   1.886   1.344   4.767   3.42    1.992   1.153\n",
      " 1.629   0.769   0.982   2.583   1.38    2.487   2.221   1.125   5.00001\n",
      " 1.154   1.154   0.766   5.00001 3.15    0.731   2.487   1.727   1.519\n",
      " 2.957   1.017   1.625   1.088   1.844   0.554   0.681   1.832   0.83\n",
      " 3.31    0.995   0.947   2.25    0.746   1.076   1.693   2.618   2.069\n",
      " 3.344   2.385   2.333   2.015   3.5    ], shape=(581,), dtype=float32)\n",
      "tf.Tensor(\n",
      "[1447. 3464. 1328. 1054. 3297.  579. 2202. 1337. 1401.   69. 1509.  733.\n",
      " 1099. 1662.  891. 2164. 1056. 1977. 1198. 1414. 1487.  609. 1988.  994.\n",
      " 1292.  194. 1074. 1499. 2223.  782. 3150. 1676. 1063. 2410. 1346.  661.\n",
      "  987. 1560.  776.  975. 1245. 1959.  890. 1743. 2761.   51.  975.  837.\n",
      " 1276. 1383. 1598. 2588. 1198. 2639. 1013. 1583. 2086. 1164. 1531. 3895.\n",
      "  846. 2654.  939. 1625. 2600. 2296. 1546. 1827. 4741. 1024.  885.  797.\n",
      "  772.  563. 1143. 1973. 2032.  425.  317. 1240. 1637.  893.  617.  442.\n",
      " 1479.  928. 1466.  835. 1719. 1953.  246. 1938. 4861.  920. 3062.  943.\n",
      " 1058. 1970.  411. 1156. 1146. 1873.  382.  856. 2553.  485.  502. 1376.\n",
      "  474. 1152. 1696. 3081. 1126. 1543.  967.  938.  957. 3565. 1718. 1285.\n",
      " 1423.  653.  611.  527. 1051.  973.  990.  589. 1101. 1592.  664.  469.\n",
      "  531. 1071. 1104. 4404. 1191.  999.  480. 1527.  652. 1820.  674. 1769.\n",
      "  381. 1587. 1210. 1092.  665.  470. 2203.  955.  637.  940.  374. 2824.\n",
      "   66.  314. 1559.  768. 2881. 1888. 2243. 1158. 1479.  753. 1098. 1730.\n",
      "  939. 1679. 1175.  970.  956.  941. 1558.  741. 3132. 1663. 1704. 1835.\n",
      " 1109.  756.  191.  697. 1567. 1366. 1339. 2957. 1069.  883. 1242. 1573.\n",
      " 1840. 1754.  573.  980. 1796.  157. 2755.  561.  413.  775. 1255. 2406.\n",
      " 1944. 1145.  866. 1537. 1312. 1211. 2200.  906.  395. 3530.  986. 1793.\n",
      " 2456. 1112.   62. 5613. 1596. 1623. 1738.  693. 1356. 1097. 3700. 1991.\n",
      " 1187.  627.  266. 3732. 1776.  569.  156. 1177. 2653.  725. 1331. 1264.\n",
      "  955. 1960. 2236.  250. 1008.  684.  833.  485.  489.  253. 1639.  847.\n",
      "  482. 1476. 1061. 1115. 1971. 1389.  779. 1337.  327. 1093. 1261.  798.\n",
      " 1229.  736. 1708.  470. 1660. 1404. 1987.  859. 1284.  873. 1285. 1212.\n",
      " 1742. 2246. 2112.  721. 1883. 5087. 1382. 1186.  798. 2292. 1381.  101.\n",
      " 1544. 1255. 1175.  554. 1721.  747.  584.  839. 1737. 4722.  769.  102.\n",
      " 1675. 1283. 3702. 2128. 5640.  326.  402. 1234. 1391. 1807. 1572. 2669.\n",
      "  693. 1649.  856. 1590. 1931.  676.  757.  349. 1108.  769. 2862. 1400.\n",
      "  197. 8656. 1127.  726. 1859.  906. 1600.  726. 1309. 2789. 1186.  733.\n",
      "  909. 2865.  764. 2281. 1136. 1279. 2784.  425. 2491. 1363. 1311.  515.\n",
      " 1645. 2766. 7644. 2834. 1716.  983.  689.  521.  832. 1189.  503.  377.\n",
      " 1509. 1873. 1492. 3107. 1037. 1066.  716. 1048. 1970.  613.  947.  708.\n",
      "  947.  986. 1068. 3124. 1217. 1662. 5175. 1446. 1017. 2795. 1941.  532.\n",
      " 1714. 1259. 1131.  116. 2683.  660. 1413. 1506. 1151. 1226. 1165.  447.\n",
      " 1580.  517. 1347. 2971. 1476. 1455. 1948. 2324. 1031. 1407.  485. 1052.\n",
      " 1265. 1121.  366. 1697. 4790. 3570.  532. 1936.  628.  601. 1031.  259.\n",
      " 1018. 1658.  673. 1267. 1312. 1119.   84. 1299.  812.  772. 1390. 3868.\n",
      "  942.  614.  913. 1973. 1602.  470.  666. 1209. 1227.  770. 1920. 2311.\n",
      " 2824. 2827.  408.  995. 1251. 1058. 1335. 2271. 2269. 2916. 2141. 1664.\n",
      " 1292.  345.  309.  479.  640. 1769.  523. 4985. 1060. 1396. 1548. 1398.\n",
      " 1044. 3080. 1554.  832. 1454.  848. 1663. 1125. 1279.  672. 2689.  771.\n",
      " 1056.  831. 2231. 1466.  773. 2070.  640.  149. 1947. 1095. 1712. 6693.\n",
      " 2541.  906. 1433.  310. 1739.  662.  817.  835.  983.  436. 1335. 1461.\n",
      "  951. 1946.  686. 2653.  261.  153. 2603.  791. 1057. 1846. 1276.  784.\n",
      "  597. 1362. 1112. 1764.  795.  749. 1363. 1649. 3204. 2780. 1484.  348.\n",
      " 1911. 1774.  265. 3004. 3401. 1004.  940.  806. 2302.  522. 2149.  457.\n",
      " 3899. 1375.  854. 2186. 1009. 1196. 1054.  873.  482.  773. 1203.  514.\n",
      " 1391.  119. 1175. 2105. 1414. 1505.  777. 2136. 1443.  736.  610. 1217.\n",
      " 1208. 1249.   27.  689. 1154.  592. 1846. 1181.  810. 1929.  862. 1078.\n",
      "  683.  161.  315.  615.  462.], shape=(581,), dtype=float32)\n"
     ]
    }
   ],
   "execution_count": 50
  },
  {
   "metadata": {
    "ExecuteTime": {
     "end_time": "2025-09-16T06:57:51.972178Z",
     "start_time": "2025-09-16T06:57:51.869454Z"
    }
   },
   "cell_type": "code",
   "source": "tf.sparse.to_dense(parsed_example[\"AveBedrms\"])",
   "id": "105d9499ca5536a1",
   "outputs": [
    {
     "data": {
      "text/plain": [
       "<tf.Tensor: shape=(581,), dtype=float32, numpy=\n",
       "array([1.1065483 , 0.9910537 , 1.5915254 , 0.9974425 , 1.085092  ,\n",
       "       1.1173708 , 1.0342935 , 1.0678295 , 1.1235585 , 4.627907  ,\n",
       "       1.069173  , 1.        , 1.        , 1.0469043 , 1.1772152 ,\n",
       "       1.2314049 , 1.0596659 , 1.0505747 , 1.1842948 , 1.1388012 ,\n",
       "       1.0187166 , 0.9594595 , 1.092827  , 1.0097088 , 1.1344937 ,\n",
       "       1.2068965 , 1.0693333 , 1.0781564 , 1.0261682 , 1.1192054 ,\n",
       "       1.0349908 , 1.0935551 , 0.96747965, 1.0341177 , 1.0455927 ,\n",
       "       1.0807017 , 1.0272727 , 1.027027  , 1.0534124 , 0.9760192 ,\n",
       "       1.1400491 , 1.1847222 , 1.0481284 , 1.0346084 , 1.0109171 ,\n",
       "       6.5       , 1.0459017 , 0.96615386, 1.0222223 , 1.0685841 ,\n",
       "       1.0091075 , 1.0328407 , 1.0413625 , 1.057828  , 0.99435025,\n",
       "       1.0992218 , 1.0618557 , 1.0406504 , 1.0570652 , 1.0314914 ,\n",
       "       0.94967175, 1.1682243 , 1.1144578 , 1.029661  , 1.1002305 ,\n",
       "       1.0768431 , 0.96880734, 1.1408163 , 1.0605307 , 1.1006712 ,\n",
       "       1.0941176 , 1.0424029 , 1.0070922 , 0.97837836, 1.0595855 ,\n",
       "       1.0472313 , 1.074074  , 1.0608108 , 1.015748  , 1.0432433 ,\n",
       "       1.1260405 , 1.2215569 , 1.20073   , 1.2290076 , 1.        ,\n",
       "       1.2950108 , 1.1453288 , 1.0560472 , 1.0397112 , 1.0597222 ,\n",
       "       0.983871  , 1.1923809 , 0.97310346, 0.98      , 1.0364964 ,\n",
       "       0.9722222 , 1.0313588 , 1.0985916 , 0.93333334, 1.0824176 ,\n",
       "       1.109434  , 0.99482757, 1.3290598 , 1.        , 1.0537746 ,\n",
       "       1.0375    , 1.0738255 , 1.0526316 , 1.0520232 , 1.0781893 ,\n",
       "       1.0281457 , 0.9832558 , 0.9767442 , 1.178117  , 1.0909091 ,\n",
       "       1.0566038 , 1.0065789 , 1.1018922 , 1.1493849 , 1.0219299 ,\n",
       "       1.126556  , 1.        , 1.016529  , 2.9635417 , 1.0767045 ,\n",
       "       1.0807174 , 1.2151898 , 1.0314685 , 1.0627615 , 1.1049383 ,\n",
       "       1.06      , 0.9935484 , 0.99248123, 1.043919  , 1.0125629 ,\n",
       "       1.0997139 , 0.9426434 , 1.3261455 , 0.95302016, 1.0367454 ,\n",
       "       1.0341614 , 1.1406492 , 1.0452962 , 1.0272615 , 3.6917808 ,\n",
       "       1.0378681 , 0.97902095, 1.005618  , 1.0306513 , 1.0379747 ,\n",
       "       1.102     , 1.069378  , 1.516     , 1.1263858 , 1.0615385 ,\n",
       "       1.2070276 , 0.7619048 , 1.2169812 , 1.1283423 , 0.9353612 ,\n",
       "       1.15      , 1.0687575 , 1.1052631 , 1.0265061 , 1.1689291 ,\n",
       "       1.0526316 , 1.011142  , 1.1238532 , 1.0323741 , 1.0638298 ,\n",
       "       1.045346  , 0.9685864 , 1.0081081 , 1.0170648 , 1.0546358 ,\n",
       "       1.0613027 , 1.0448484 , 1.0131234 , 1.050633  , 1.0121951 ,\n",
       "       1.0775862 , 1.0434783 , 1.3975904 , 0.98406374, 1.04      ,\n",
       "       1.0147929 , 1.1045197 , 1.0535212 , 1.0458716 , 1.1774193 ,\n",
       "       1.0180722 , 1.1290323 , 1.023644  , 1.0304347 , 1.092683  ,\n",
       "       0.99040765, 1.0864865 , 0.8       , 1.0915576 , 1.124424  ,\n",
       "       0.92086333, 1.0706713 , 1.0420561 , 1.0233393 , 0.9626486 ,\n",
       "       1.0107527 , 1.1281139 , 1.1208227 , 1.0715631 , 1.030581  ,\n",
       "       1.0911901 , 1.0402144 , 1.8611112 , 1.1040189 , 1.559387  ,\n",
       "       1.0883334 , 0.9984985 , 1.0299401 , 1.04      , 1.0957736 ,\n",
       "       1.0628366 , 1.1486698 , 1.2176657 , 0.95564514, 1.0475206 ,\n",
       "       1.0940171 , 1.1165804 , 1.242515  , 1.1129477 , 0.9684685 ,\n",
       "       0.8375    , 1.0611814 , 1.0163132 , 4.7031965 , 0.90588236,\n",
       "       2.669528  , 0.9623494 , 1.1661631 , 0.9705882 , 0.95696723,\n",
       "       1.4475807 , 1.1266968 , 1.1716814 , 1.0909091 , 1.0529412 ,\n",
       "       0.94758064, 1.1481482 , 1.2019231 , 1.1981132 , 1.0133333 ,\n",
       "       0.9917898 , 1.0176679 , 1.7533333 , 1.0410677 , 1.0198511 ,\n",
       "       1.0428015 , 1.0568562 , 1.048421  , 1.2126697 , 1.0419288 ,\n",
       "       1.0123457 , 1.1952662 , 1.0024875 , 1.0348432 , 1.051597  ,\n",
       "       1.0232558 , 1.0126382 , 0.9936102 , 0.96875   , 1.1833773 ,\n",
       "       0.97995543, 1.07      , 1.0338681 , 1.0392671 , 1.156682  ,\n",
       "       1.1115619 , 1.1555556 , 1.015     , 1.0526316 , 0.9897959 ,\n",
       "       1.070997  , 1.2857143 , 1.139726  , 1.0244361 , 1.011583  ,\n",
       "       1.0720824 , 0.97020483, 1.075     , 1.0978473 , 1.012012  ,\n",
       "       0.976     , 1.0366492 , 1.0031695 , 1.1886792 , 2.253219  ,\n",
       "       1.062696  , 1.0690088 , 1.06281   , 0.99130434, 0.9375    ,\n",
       "       0.9957447 , 0.9869281 , 1.0636462 , 1.0759493 , 1.082624  ,\n",
       "       1.375     , 0.9507042 , 0.97727275, 1.0123967 , 1.1843817 ,\n",
       "       1.0784314 , 1.0842986 , 0.94736844, 1.3866171 , 1.0546075 ,\n",
       "       0.9409283 , 1.0324675 , 1.0074906 , 0.9907407 , 1.0416666 ,\n",
       "       1.0550847 , 1.0065076 , 1.186323  , 1.0399061 , 4.75      ,\n",
       "       1.0383426 , 1.2044088 , 1.0948081 , 1.0742972 , 1.0104166 ,\n",
       "       0.98324025, 1.027027  , 1.1271057 , 1.0378311 , 1.0241477 ,\n",
       "       1.0825243 , 0.98545456, 0.97508895, 1.1205128 , 1.0773007 ,\n",
       "       1.3156823 , 0.9979036 , 1.0597205 , 1.4756944 , 1.0536399 ,\n",
       "       1.0769231 , 1.050885  , 1.06      , 1.1823599 , 1.0253807 ,\n",
       "       1.1523316 , 1.0809249 , 1.08061   , 1.1028571 , 1.0679612 ,\n",
       "       0.94063926, 0.9638989 , 1.0775623 , 0.89320385, 1.0137931 ,\n",
       "       0.99029124, 0.9860918 , 1.1309772 , 1.0916415 , 1.1083916 ,\n",
       "       1.0094787 , 0.90751445, 1.0272727 , 1.1474719 , 1.1578947 ,\n",
       "       0.94262296, 0.9438776 , 0.9634146 , 1.1371841 , 1.0597609 ,\n",
       "       1.0398741 , 1.0955882 , 1.1144068 , 1.2015647 , 1.1137339 ,\n",
       "       1.0557103 , 1.0445026 , 1.0086741 , 1.0145985 , 1.0035398 ,\n",
       "       1.0521091 , 1.0224949 , 1.0204082 , 1.0998865 , 1.0225226 ,\n",
       "       1.1099744 , 1.0776255 , 0.9801136 , 1.0295566 , 1.0535372 ,\n",
       "       1.0934066 , 1.0445683 , 1.2916666 , 1.2073579 , 1.1970803 ,\n",
       "       1.0428134 , 0.9382353 , 1.0449172 , 1.0934911 , 1.06089   ,\n",
       "       1.0882353 , 0.9707602 , 1.0967742 , 1.0615385 , 0.9068493 ,\n",
       "       1.0725807 , 1.0344086 , 1.0687809 , 1.0668473 , 1.4468085 ,\n",
       "       1.0650827 , 1.1884817 , 0.9118774 , 1.0536193 , 1.1166667 ,\n",
       "       1.0795107 , 1.0548246 , 1.007353  , 1.0288248 , 1.0332103 ,\n",
       "       0.9714286 , 0.8965517 , 1.0201342 , 1.0930233 , 1.0229886 ,\n",
       "       1.0119047 , 1.045658  , 1.0612245 , 1.085     , 1.0382166 ,\n",
       "       0.9364486 , 0.9705882 , 1.        , 1.        , 1.0269749 ,\n",
       "       1.0935374 , 1.1071428 , 1.1360239 , 1.1323252 , 1.1170568 ,\n",
       "       1.0373198 , 0.9057971 , 1.0479302 , 1.1323252 , 1.0581896 ,\n",
       "       1.1843318 , 1.011734  , 1.0467572 , 1.0864865 , 1.0555556 ,\n",
       "       1.1357286 , 1.0837004 , 1.0977012 , 3.1944444 , 1.1677018 ,\n",
       "       1.1245675 , 1.0413793 , 1.056391  , 1.0411794 , 1.007874  ,\n",
       "       1.0834951 , 1.0717592 , 1.0552381 , 1.0954357 , 1.0549915 ,\n",
       "       1.1024182 , 1.        , 1.0447761 , 1.1118422 , 1.0857143 ,\n",
       "       1.0938776 , 1.100346  , 0.9348659 , 1.0698714 , 1.1206896 ,\n",
       "       1.0900621 , 1.1268656 , 1.0421585 , 1.0532787 , 1.0264151 ,\n",
       "       1.0140351 , 0.9708029 , 1.1428572 , 1.125     , 1.439834  ,\n",
       "       1.005894  , 0.99014336, 1.1035856 , 0.96734697, 0.9933775 ,\n",
       "       0.79646015, 0.9914966 , 1.1471572 , 0.99415207, 1.0421053 ,\n",
       "       0.9962121 , 0.9870968 , 1.047859  , 1.0620155 , 1.1465863 ,\n",
       "       1.1347151 , 1.0429688 , 1.0295203 , 1.0777777 , 0.96666664,\n",
       "       1.0287356 , 1.1299213 , 0.9787736 , 1.1471354 , 0.9882629 ,\n",
       "       1.036855  , 1.1405406 , 0.9845679 , 1.092437  , 1.0382916 ,\n",
       "       0.94148934, 1.2840096 , 0.9620637 , 1.0948616 , 1.2118843 ,\n",
       "       1.0082988 , 1.0520505 , 0.98039216, 0.994302  , 1.1209965 ,\n",
       "       1.2038835 , 1.0860404 , 1.0335078 , 0.9929578 , 1.0452261 ,\n",
       "       1.0643564 , 1.1282353 , 1.1220931 , 1.0327868 , 1.3668342 ,\n",
       "       1.0268817 , 0.93050194, 1.0957447 , 1.0595855 , 0.97362113,\n",
       "       1.1232033 , 0.99358976, 1.1554307 , 0.95132744, 0.9598662 ,\n",
       "       1.0573771 , 1.3397436 , 0.99444443, 1.96      , 0.8633093 ,\n",
       "       1.1419598 , 1.0356083 , 1.0573771 , 1.0737463 , 1.0124575 ,\n",
       "       0.9325513 , 1.0547945 , 1.0801282 , 1.1559252 , 1.0401235 ,\n",
       "       1.0363128 , 5.4871793 , 0.99233717, 0.9068826 , 1.3565217 ,\n",
       "       1.0354838 , 1.0994319 , 1.1691729 , 1.096475  , 0.9673913 ,\n",
       "       1.1149426 , 1.0502284 , 1.137255  , 1.0894309 , 0.88834953,\n",
       "       1.0913043 ], dtype=float32)>"
      ]
     },
     "execution_count": 44,
     "metadata": {},
     "output_type": "execute_result"
    }
   ],
   "execution_count": 44
  },
  {
   "metadata": {},
   "cell_type": "markdown",
   "source": [
    "BytesList可以包含任何二进制数据，包括序列化的对象。例如，可以使用tf.io.encode_jpeg()和JPEG格式对图像进行编码，然后将此二进制数据放入BytesList。稍后，当代码读取TFRecord时，它将先解析Example，然后它需要调用tf.io.decode_jpeg()来解析数据并获取原始图像（或者使用tf.io.decode_image()来解码BMP、GIF、JPEG或PNG图像）。\n",
    "\n",
    "还可以使用tf.io.serialize_tensor()来序列化张量，并将生成的字节字符串放入BytesList特征中，从而将张量存储在BytesList中。稍后当解析TFRecord时，可以使用tf.io.parse_tensor()解析此数据。"
   ],
   "id": "64135a2ad985d061"
  },
  {
   "metadata": {
    "ExecuteTime": {
     "end_time": "2025-09-16T07:37:44.426742Z",
     "start_time": "2025-09-16T07:37:05.531938Z"
    }
   },
   "cell_type": "code",
   "source": [
    "import matplotlib.pyplot as plt\n",
    "from sklearn.datasets import load_sample_images\n",
    "import tensorflow as tf\n",
    "import numpy as np\n",
    "\n",
    "img = load_sample_images()[\"images\"][0]\n",
    "img2 = load_sample_images()[\"images\"][1]\n",
    "\n",
    "plt.subplot(121)\n",
    "plt.imshow(img)\n",
    "plt.axis(\"off\")\n",
    "\n",
    "plt.subplot(122)\n",
    "plt.imshow(img2)\n",
    "plt.axis(\"off\")\n",
    "plt.show()"
   ],
   "id": "efb85affa267086b",
   "outputs": [
    {
     "data": {
      "text/plain": [
       "<Figure size 640x480 with 2 Axes>"
      ],
      "image/png": "[encoded data removed]"
     },
     "metadata": {},
     "output_type": "display_data"
    }
   ],
   "execution_count": 1
  },
  {
   "metadata": {
    "ExecuteTime": {
     "end_time": "2025-09-16T07:30:45.185704Z",
     "start_time": "2025-09-16T07:30:45.174145Z"
    }
   },
   "cell_type": "code",
   "source": "img2.shape",
   "id": "458ea2f9c7e8f390",
   "outputs": [
    {
     "data": {
      "text/plain": [
       "(427, 640, 3)"
      ]
     },
     "execution_count": 62,
     "metadata": {},
     "output_type": "execute_result"
    }
   ],
   "execution_count": 62
  },
  {
   "metadata": {
    "ExecuteTime": {
     "end_time": "2025-09-16T07:41:03.104837Z",
     "start_time": "2025-09-16T07:41:02.966942Z"
    }
   },
   "cell_type": "code",
   "source": [
    "data = tf.io.encode_jpeg(img)\n",
    "data2 = tf.io.encode_jpeg(img2)\n",
    "\n",
    "example_with_image = Example(features=Features(feature=\n",
    "    {\n",
    "    \"images\": Feature(bytes_list=BytesList(value=[data.numpy(), data2.numpy()]))\n",
    "    }))\n",
    "serialized_example = example_with_image.SerializeToString()\n",
    "with tf.io.TFRecordWriter(\"my_images.tfrecord\") as f:\n",
    "    f.write(serialized_example)"
   ],
   "id": "7e721070209597af",
   "outputs": [],
   "execution_count": 8
  },
  {
   "metadata": {
    "ExecuteTime": {
     "end_time": "2025-09-16T07:44:12.511776Z",
     "start_time": "2025-09-16T07:44:12.196745Z"
    }
   },
   "cell_type": "code",
   "source": [
    "feature_description = {\"images\": tf.io.VarLenFeature(tf.string) }\n",
    "\n",
    "def parse(serialized_example):\n",
    "    example_with_image = tf.io.parse_single_example(serialized_example,\n",
    "                                                    feature_description)\n",
    "    return example_with_image\n",
    "\n",
    "dataset = tf.data.TFRecordDataset([\"my_images.tfrecord\"]).map(parse)\n",
    "\n",
    "\n",
    "for image in dataset:\n",
    "    all_imgs =  image[\"images\"].values\n",
    "    plt.subplot(121)\n",
    "\n",
    "    img1 =  tf.io.decode_image(all_imgs[0])\n",
    "    plt.imshow(img1)\n",
    "    plt.axis(\"off\")\n",
    "\n",
    "    plt.subplot(122)\n",
    "    img2 =  tf.io.decode_image(all_imgs[1])\n",
    "    plt.imshow(img2)\n",
    "    plt.axis(\"off\")\n",
    "    plt.show()"
   ],
   "id": "74f2fe7c7ed6c6c",
   "outputs": [
    {
     "data": {
      "text/plain": [
       "<Figure size 640x480 with 2 Axes>"
      ],
      "image/png": "[encoded data removed]"
     },
     "metadata": {},
     "output_type": "display_data"
    }
   ],
   "execution_count": 11
  },
  {
   "metadata": {
    "ExecuteTime": {
     "end_time": "2025-09-14T15:02:59.896357Z",
     "start_time": "2025-09-14T15:02:59.884289Z"
    }
   },
   "cell_type": "code",
   "source": [
    "# 张量序列化 + 解析\n",
    "tensor = tf.constant([[0., 1.], [2., 3.], [4., 5.]])\n",
    "serialized = tf.io.serialize_tensor(tensor)\n",
    "serialized\n",
    "\n",
    "tf.io.parse_tensor(serialized, out_type=tf.float32)\n",
    "\n",
    "sparse_tensor = parsed_example[\"emails\"]\n",
    "serialized_sparse = tf.io.serialize_sparse(sparse_tensor)\n",
    "serialized_sparse\n",
    "\n",
    "BytesList(value=serialized_sparse.numpy())"
   ],
   "id": "ed73509fbbfbd7a5",
   "outputs": [
    {
     "data": {
      "text/plain": [
       "value: \"\\010\\t\\022\\010\\022\\002\\010\\002\\022\\002\\010\\001\\\"\\020\\000\\000\\000\\000\\000\\000\\000\\000\\001\\000\\000\\000\\000\\000\\000\\000\"\n",
       "value: \"\\010\\007\\022\\004\\022\\002\\010\\002\\\"\\020\\007\\007a@b.comc@d.com\"\n",
       "value: \"\\010\\t\\022\\004\\022\\002\\010\\001\\\"\\010\\002\\000\\000\\000\\000\\000\\000\\000\""
      ]
     },
     "execution_count": 66,
     "metadata": {},
     "output_type": "execute_result"
    }
   ],
   "execution_count": 66
  },
  {
   "metadata": {},
   "cell_type": "markdown",
   "source": "### 使用SequenceExample protobuf处理",
   "id": "f93201ca124fe3cc"
  },
  {
   "metadata": {},
   "cell_type": "markdown",
   "source": [
    "Example protobuf非常灵活，因此它可能足以满足大多数用例。但是，当处理列表的列表时，使用它可能有些麻烦。例如，假设要对文本文档进行分类，每个文档可以被表示为句子的列表，其中每个句子被表示为单词的列表。也许每个文档也都有一个注释列表，其中每个注释都表示为单词的列表。也可能有一些上下文数据，例如文档的作者、标题和出版日期。TensorFlow的SequenceExample protobuf是针对此类用例设计的。\n",
    "\n",
    "以下是SequenceExample protobuf的定义：\n",
    "```proto\n",
    "syntax = \"proto3\";\n",
    "\n",
    "message FeatureList { repeated Feature feature = 1; };\n",
    "message FeatureLists { map<string, FeatureList> feature_list = 1; };\n",
    "message SequenceExample {\n",
    "    Features context = 1;\n",
    "    FeatureLists feature_lists = 2;\n",
    "};\n",
    "\n",
    "```\n",
    "\n",
    "SequenceExample包含一个用于上下文数据的Features对象，以及一个FeatureLists对象［包含一个或多个命名的FeatureList对象（一个名为\"content\"，另一个名为\"comments\"）］。每个FeatureList包含一个Feature对象的列表，每个对象可以是一个字节字符串列表、一个64位整数列表或一个浮点数列表（在本示例中，每个Feature代表一个句子或一个注释，可能以单词标识符列表的形式存在）。构建SequenceExample并对其进行序列化和解析的过程与Example的构建、序列化和解析过程相似，但是必须使用tf.io.parse_single_sequence_example()解析单个SequenceExample或者使用tf.io.parse_sequence_example()来批量解析。这两个函数都返回一个包含上下文特征（作为字典）和特征列表（也作为字典）的元组。如果特征列表包含大小不同的序列，则可能需要使用tf.RaggedTensor.from_sparse()将它们转换为不规则的张量\n"
   ],
   "id": "c58b7972818c6330"
  },
  {
   "metadata": {
    "ExecuteTime": {
     "end_time": "2025-09-16T08:00:09.325020Z",
     "start_time": "2025-09-16T08:00:09.312567Z"
    }
   },
   "cell_type": "code",
   "source": [
    "from tensorflow.train import FeatureList, FeatureLists, SequenceExample\n",
    "\n",
    "context = Features(feature={\n",
    "    \"author_id\": Feature(int64_list=Int64List(value=[123])),\n",
    "    \"title\": Feature(bytes_list=BytesList(value=[b\"A\", b\"desert\", b\"place\", b\".\"])),\n",
    "    \"pub_date\": Feature(int64_list=Int64List(value=[1623, 12, 25]))\n",
    "})\n",
    "\n",
    "content = [[\"When\", \"shall\", \"we\", \"three\", \"meet\", \"again\", \"?\"],\n",
    "           [\"In\", \"thunder\", \",\", \"lightning\", \",\", \"or\", \"in\", \"rain\", \"?\"]]\n",
    "\n",
    "comments = [[\"When\", \"the\", \"hurlyburly\", \"'s\", \"done\", \".\"],\n",
    "            [\"When\", \"the\", \"battle\", \"'s\", \"lost\", \"and\", \"won\", \".\"]]\n",
    "\n",
    "def words_to_feature(words):\n",
    "    return Feature(bytes_list=BytesList(value=[word.encode(\"utf-8\")\n",
    "                                               for word in words]))\n",
    "\n",
    "content_features = [words_to_feature(sentence) for sentence in content]\n",
    "comments_features = [words_to_feature(comment) for comment in comments]\n",
    "\n",
    "sequence_example = SequenceExample(\n",
    "    context=context,\n",
    "    feature_lists=FeatureLists(feature_list={\n",
    "        \"content\": FeatureList(feature=content_features),\n",
    "        \"comments\": FeatureList(feature=comments_features)\n",
    "    }))"
   ],
   "id": "5fb7296a889212ce",
   "outputs": [],
   "execution_count": 12
  },
  {
   "metadata": {
    "ExecuteTime": {
     "end_time": "2025-09-16T08:00:11.392282Z",
     "start_time": "2025-09-16T08:00:11.380706Z"
    }
   },
   "cell_type": "code",
   "source": "sequence_example",
   "id": "830a5211552450dc",
   "outputs": [
    {
     "data": {
      "text/plain": [
       "context {\n",
       "  feature {\n",
       "    key: \"title\"\n",
       "    value {\n",
       "      bytes_list {\n",
       "        value: \"A\"\n",
       "        value: \"desert\"\n",
       "        value: \"place\"\n",
       "        value: \".\"\n",
       "      }\n",
       "    }\n",
       "  }\n",
       "  feature {\n",
       "    key: \"pub_date\"\n",
       "    value {\n",
       "      int64_list {\n",
       "        value: 1623\n",
       "        value: 12\n",
       "        value: 25\n",
       "      }\n",
       "    }\n",
       "  }\n",
       "  feature {\n",
       "    key: \"author_id\"\n",
       "    value {\n",
       "      int64_list {\n",
       "        value: 123\n",
       "      }\n",
       "    }\n",
       "  }\n",
       "}\n",
       "feature_lists {\n",
       "  feature_list {\n",
       "    key: \"content\"\n",
       "    value {\n",
       "      feature {\n",
       "        bytes_list {\n",
       "          value: \"When\"\n",
       "          value: \"shall\"\n",
       "          value: \"we\"\n",
       "          value: \"three\"\n",
       "          value: \"meet\"\n",
       "          value: \"again\"\n",
       "          value: \"?\"\n",
       "        }\n",
       "      }\n",
       "      feature {\n",
       "        bytes_list {\n",
       "          value: \"In\"\n",
       "          value: \"thunder\"\n",
       "          value: \",\"\n",
       "          value: \"lightning\"\n",
       "          value: \",\"\n",
       "          value: \"or\"\n",
       "          value: \"in\"\n",
       "          value: \"rain\"\n",
       "          value: \"?\"\n",
       "        }\n",
       "      }\n",
       "    }\n",
       "  }\n",
       "  feature_list {\n",
       "    key: \"comments\"\n",
       "    value {\n",
       "      feature {\n",
       "        bytes_list {\n",
       "          value: \"When\"\n",
       "          value: \"the\"\n",
       "          value: \"hurlyburly\"\n",
       "          value: \"\\'s\"\n",
       "          value: \"done\"\n",
       "          value: \".\"\n",
       "        }\n",
       "      }\n",
       "      feature {\n",
       "        bytes_list {\n",
       "          value: \"When\"\n",
       "          value: \"the\"\n",
       "          value: \"battle\"\n",
       "          value: \"\\'s\"\n",
       "          value: \"lost\"\n",
       "          value: \"and\"\n",
       "          value: \"won\"\n",
       "          value: \".\"\n",
       "        }\n",
       "      }\n",
       "    }\n",
       "  }\n",
       "}"
      ]
     },
     "execution_count": 13,
     "metadata": {},
     "output_type": "execute_result"
    }
   ],
   "execution_count": 13
  },
  {
   "metadata": {
    "ExecuteTime": {
     "end_time": "2025-09-16T08:01:29.484133Z",
     "start_time": "2025-09-16T08:01:29.471103Z"
    }
   },
   "cell_type": "code",
   "source": "serialized_sequence_example = sequence_example.SerializeToString()",
   "id": "4ac840f93287e9fa",
   "outputs": [],
   "execution_count": 14
  },
  {
   "metadata": {
    "ExecuteTime": {
     "end_time": "2025-09-16T08:04:10.221089Z",
     "start_time": "2025-09-16T08:04:10.207453Z"
    }
   },
   "cell_type": "code",
   "source": [
    "context_feature_descriptions = {\n",
    "    \"author_id\": tf.io.FixedLenFeature([], tf.int64, default_value=0),\n",
    "    \"title\": tf.io.VarLenFeature(tf.string),\n",
    "    \"pub_date\": tf.io.FixedLenFeature([3], tf.int64, default_value=[0, 0, 0]),\n",
    "}\n",
    "sequence_feature_descriptions = {\n",
    "    \"content\": tf.io.VarLenFeature(tf.string),\n",
    "    \"comments\": tf.io.VarLenFeature(tf.string),\n",
    "}"
   ],
   "id": "20e4a773d2a42aa5",
   "outputs": [],
   "execution_count": 15
  },
  {
   "metadata": {
    "ExecuteTime": {
     "end_time": "2025-09-16T08:08:18.019829Z",
     "start_time": "2025-09-16T08:08:17.622047Z"
    }
   },
   "cell_type": "code",
   "source": [
    "parsed_context, parsed_feature_lists = tf.io.parse_single_sequence_example(\n",
    "    serialized_sequence_example, context_feature_descriptions,\n",
    "    sequence_feature_descriptions)\n",
    "\n",
    "parsed_context, parsed_feature_lists\n",
    "parsed_content = tf.RaggedTensor.from_sparse(parsed_feature_lists[\"content\"])\n",
    "parsed_content"
   ],
   "id": "5bbdb3486226d83",
   "outputs": [
    {
     "data": {
      "text/plain": [
       "<tf.RaggedTensor [[b'When', b'shall', b'we', b'three', b'meet', b'again', b'?'],\n",
       " [b'In', b'thunder', b',', b'lightning', b',', b'or', b'in', b'rain', b'?']]>"
      ]
     },
     "execution_count": 17,
     "metadata": {},
     "output_type": "execute_result"
    }
   ],
   "execution_count": 17
  },
  {
   "metadata": {
    "ExecuteTime": {
     "end_time": "2025-09-14T15:11:32.340079Z",
     "start_time": "2025-09-14T15:11:32.325100Z"
    }
   },
   "cell_type": "code",
   "source": "parsed_context",
   "id": "2e60a46dbe4eb263",
   "outputs": [
    {
     "data": {
      "text/plain": [
       "{'title': SparseTensor(indices=tf.Tensor(\n",
       " [[0]\n",
       "  [1]\n",
       "  [2]\n",
       "  [3]], shape=(4, 1), dtype=int64), values=tf.Tensor([b'A' b'desert' b'place' b'.'], shape=(4,), dtype=string), dense_shape=tf.Tensor([4], shape=(1,), dtype=int64)),\n",
       " 'author_id': <tf.Tensor: shape=(), dtype=int64, numpy=123>,\n",
       " 'pub_date': <tf.Tensor: shape=(3,), dtype=int64, numpy=array([1623,   12,   25], dtype=int64)>}"
      ]
     },
     "execution_count": 72,
     "metadata": {},
     "output_type": "execute_result"
    }
   ],
   "execution_count": 72
  },
  {
   "metadata": {
    "ExecuteTime": {
     "end_time": "2025-09-14T15:11:36.638016Z",
     "start_time": "2025-09-14T15:11:36.623017Z"
    }
   },
   "cell_type": "code",
   "source": "parsed_context[\"title\"].values",
   "id": "8d49461dbfb9ea93",
   "outputs": [
    {
     "data": {
      "text/plain": [
       "<tf.Tensor: shape=(4,), dtype=string, numpy=array([b'A', b'desert', b'place', b'.'], dtype=object)>"
      ]
     },
     "execution_count": 73,
     "metadata": {},
     "output_type": "execute_result"
    }
   ],
   "execution_count": 73
  },
  {
   "metadata": {
    "ExecuteTime": {
     "end_time": "2025-09-14T15:11:40.329538Z",
     "start_time": "2025-09-14T15:11:40.312493Z"
    }
   },
   "cell_type": "code",
   "source": "parsed_feature_lists",
   "id": "195a575929af44e0",
   "outputs": [
    {
     "data": {
      "text/plain": [
       "{'comments': SparseTensor(indices=tf.Tensor(\n",
       " [[0 0]\n",
       "  [0 1]\n",
       "  [0 2]\n",
       "  [0 3]\n",
       "  [0 4]\n",
       "  [0 5]\n",
       "  [1 0]\n",
       "  [1 1]\n",
       "  [1 2]\n",
       "  [1 3]\n",
       "  [1 4]\n",
       "  [1 5]\n",
       "  [1 6]\n",
       "  [1 7]], shape=(14, 2), dtype=int64), values=tf.Tensor(\n",
       " [b'When' b'the' b'hurlyburly' b\"'s\" b'done' b'.' b'When' b'the' b'battle'\n",
       "  b\"'s\" b'lost' b'and' b'won' b'.'], shape=(14,), dtype=string), dense_shape=tf.Tensor([2 8], shape=(2,), dtype=int64)),\n",
       " 'content': SparseTensor(indices=tf.Tensor(\n",
       " [[0 0]\n",
       "  [0 1]\n",
       "  [0 2]\n",
       "  [0 3]\n",
       "  [0 4]\n",
       "  [0 5]\n",
       "  [0 6]\n",
       "  [1 0]\n",
       "  [1 1]\n",
       "  [1 2]\n",
       "  [1 3]\n",
       "  [1 4]\n",
       "  [1 5]\n",
       "  [1 6]\n",
       "  [1 7]\n",
       "  [1 8]], shape=(16, 2), dtype=int64), values=tf.Tensor(\n",
       " [b'When' b'shall' b'we' b'three' b'meet' b'again' b'?' b'In' b'thunder'\n",
       "  b',' b'lightning' b',' b'or' b'in' b'rain' b'?'], shape=(16,), dtype=string), dense_shape=tf.Tensor([2 9], shape=(2,), dtype=int64))}"
      ]
     },
     "execution_count": 74,
     "metadata": {},
     "output_type": "execute_result"
    }
   ],
   "execution_count": 74
  },
  {
   "metadata": {
    "ExecuteTime": {
     "end_time": "2025-09-14T15:12:02.769863Z",
     "start_time": "2025-09-14T15:12:02.754860Z"
    }
   },
   "cell_type": "code",
   "source": "print(tf.RaggedTensor.from_sparse(parsed_feature_lists[\"content\"]))",
   "id": "7d7c26988709002",
   "outputs": [
    {
     "name": "stdout",
     "output_type": "stream",
     "text": [
      "<tf.RaggedTensor [[b'When', b'shall', b'we', b'three', b'meet', b'again', b'?'],\n",
      " [b'In', b'thunder', b',', b'lightning', b',', b'or', b'in', b'rain', b'?']]>\n"
     ]
    }
   ],
   "execution_count": 75
  },
  {
   "metadata": {},
   "cell_type": "markdown",
   "source": "## Keras预处理层",
   "id": "f5fd3dc8dbded9d4"
  },
  {
   "metadata": {},
   "cell_type": "markdown",
   "source": [
    "为神经网络准备数据通常需要对数值特征进行归一化，对分类特征和文本进行编码，裁剪和调整图像大小等。有几种选择：\n",
    "- 预处理可以在准备训练数据文件时提前完成，使用任何工具，例如NumPy、Pandas或Scikit-Learn。需要在生产环境中应用完全相同的预处理步骤，以确保生产模型接收到与训练时相似的预处理输入。\n",
    "- 可以在使用tf.data加载数据时动态预处理数据，方法是使用数据集的map()方法对数据集的每个元素应用预处理函数。同样，也需要在生产环境中应用相同的预处理步骤。\n",
    "- 最后一种方法是将预处理层直接包含在模型中，这样它就可以在训练期间即时预处理所有输入数据，然后在生产环境中使用相同的预处理层。剩余部分将研究最后一种方法。\n",
    "\n",
    "Keras提供了许多可以包含在模型中的预处理层：它们可以应用于数值特征、分类特征、图像和文本。接下来介绍数值特征和分类特征，以及基本的文本预处理和图片预处理。"
   ],
   "id": "66d14ca28a2be350"
  },
  {
   "metadata": {},
   "cell_type": "markdown",
   "source": "### 归一化层",
   "id": "dd3867e3c17c554f"
  },
  {
   "metadata": {},
   "cell_type": "markdown",
   "source": "Keras提供了一个归一化层(Normalization)，可以使用它来标准化输入特征。可以在创建层时指定每个特征的均值和方差，或者更简单地在拟合模型之前将训练集传递给层的adapt()方法，这样层就可以在训练模型之前自行测量特征均值和方差：",
   "id": "c27a5a4b3e165349"
  },
  {
   "metadata": {
    "ExecuteTime": {
     "end_time": "2025-09-16T08:46:22.273968Z",
     "start_time": "2025-09-16T08:46:19.067687Z"
    }
   },
   "cell_type": "code",
   "source": [
    "norm_layer = tf.keras.layers.Normalization()\n",
    "model = tf.keras.models.Sequential([\n",
    "    norm_layer,\n",
    "    tf.keras.layers.Dense(1)\n",
    "])\n",
    "model.compile(loss=\"mse\", optimizer=tf.keras.optimizers.SGD(learning_rate=2e-3))\n",
    "\n",
    "norm_layer.adapt(X_train)  # 计算每个特征的均值+方差\n",
    "model.fit(X_train, y_train, validation_data=(X_valid, y_valid), epochs=5)"
   ],
   "id": "2fe629c5b88d7b0e",
   "outputs": [
    {
     "name": "stdout",
     "output_type": "stream",
     "text": [
      "Epoch 1/5\n",
      "363/363 [==============================] - 1s 2ms/step - loss: 2.5206 - val_loss: 0.8555\n",
      "Epoch 2/5\n",
      "363/363 [==============================] - 0s 1ms/step - loss: 0.6996 - val_loss: 0.5970\n",
      "Epoch 3/5\n",
      "363/363 [==============================] - 0s 1ms/step - loss: 0.5940 - val_loss: 0.5537\n",
      "Epoch 4/5\n",
      "363/363 [==============================] - 0s 1ms/step - loss: 0.5746 - val_loss: 0.9267\n",
      "Epoch 5/5\n",
      "363/363 [==============================] - 0s 1ms/step - loss: 0.5699 - val_loss: 0.5363\n"
     ]
    },
    {
     "data": {
      "text/plain": [
       "<keras.src.callbacks.History at 0x218ba6bfcd0>"
      ]
     },
     "execution_count": 24,
     "metadata": {},
     "output_type": "execute_result"
    }
   ],
   "execution_count": 24
  },
  {
   "metadata": {},
   "cell_type": "markdown",
   "source": [
    "传递给adapt()方法的数据样本必须足够大才能代表数据集，但它不一定是完整的训练集：对于Normalization层，从训练集中随机抽取的几百个实例通常足以很好地估计特征均值和方差。\n",
    "\n",
    "由于在模型中包含了Normalization层，因此可以将这个模型部署到生产环境中，而不必再次担心归一化：模型会处理它。这种方法完全消除了预处理不匹配的风险，当人们试图为训练环境和生产环境维护不同的预处理代码但更新一个而忘记更新另一个时，就会发生预处理不匹配的情况。然后，生产环境模型最终会收到以其不希望的方式预处理的数据。如果幸运的话，会得到一个明显的错误。否则，模型的精度就会悄悄下降。\n",
    "\n",
    "将预处理层直接包含在模型中既好又直接，但它会减慢训练速度：事实上，由于预处理是在训练过程中即时执行的，因此每个轮次都会发生一次。最好在训练前对整个训练集一次性进行归一化。为此，可以以独立的方式使用Normalization层"
   ],
   "id": "e28e204ab93758e8"
  },
  {
   "metadata": {
    "ExecuteTime": {
     "end_time": "2025-09-16T08:46:01.991433Z",
     "start_time": "2025-09-16T08:46:01.477867Z"
    }
   },
   "cell_type": "code",
   "source": [
    "norm_layer = tf.keras.layers.Normalization()\n",
    "norm_layer.adapt(X_train)\n",
    "X_train_scaled = norm_layer(X_train)\n",
    "X_valid_scaled = norm_layer(X_valid)"
   ],
   "id": "62ee99731ee11567",
   "outputs": [],
   "execution_count": 21
  },
  {
   "metadata": {
    "ExecuteTime": {
     "end_time": "2025-09-16T08:46:16.054813Z",
     "start_time": "2025-09-16T08:46:13.429148Z"
    }
   },
   "cell_type": "code",
   "source": [
    "# 这回训练速度应该加快\n",
    "model = tf.keras.models.Sequential([tf.keras.layers.Dense(1)])\n",
    "model.compile(loss=\"mse\", optimizer=tf.keras.optimizers.SGD(learning_rate=2e-3))\n",
    "model.fit(X_train_scaled, y_train, epochs=5,\n",
    "          validation_data=(X_valid_scaled, y_valid))"
   ],
   "id": "2b5ab792382fac4",
   "outputs": [
    {
     "name": "stdout",
     "output_type": "stream",
     "text": [
      "Epoch 1/5\n",
      "363/363 [==============================] - 1s 2ms/step - loss: 2.6152 - val_loss: 0.7547\n",
      "Epoch 2/5\n",
      "363/363 [==============================] - 0s 1ms/step - loss: 0.6279 - val_loss: 0.7319\n",
      "Epoch 3/5\n",
      "363/363 [==============================] - 0s 1ms/step - loss: 0.5423 - val_loss: 0.4928\n",
      "Epoch 4/5\n",
      "363/363 [==============================] - 0s 1ms/step - loss: 0.5313 - val_loss: 0.8994\n",
      "Epoch 5/5\n",
      "363/363 [==============================] - 0s 1ms/step - loss: 0.5370 - val_loss: 0.5092\n"
     ]
    },
    {
     "data": {
      "text/plain": [
       "<keras.src.callbacks.History at 0x218ba6beb00>"
      ]
     },
     "execution_count": 23,
     "metadata": {},
     "output_type": "execute_result"
    }
   ],
   "execution_count": 23
  },
  {
   "metadata": {
    "ExecuteTime": {
     "end_time": "2025-09-16T08:47:10.868481Z",
     "start_time": "2025-09-16T08:47:10.529904Z"
    }
   },
   "cell_type": "code",
   "source": [
    "# 模型部署时，可以包装自适应后（adapt后）的Normalization层和刚刚训练的模型\n",
    "\n",
    "final_model = tf.keras.Sequential([norm_layer, model])\n",
    "X_new = X_test[:3]\n",
    "y_pred = final_model(X_new)"
   ],
   "id": "11df2c88a62a303f",
   "outputs": [],
   "execution_count": 25
  },
  {
   "metadata": {},
   "cell_type": "markdown",
   "source": "此外，Keras预处理层与tf.data API配合得很好。例如，可以将tf.data.Dataset传递给预处理层的adapt()方法，也可以使用数据集的map()方法将Keras预处理层应用于tf.data.Dataset。例如，以下是如何将自适应(adapt后）Normalization层应用于数据集中每个批次的输入特征：\n",
   "id": "653722602a806d8f"
  },
  {
   "metadata": {
    "ExecuteTime": {
     "end_time": "2025-09-16T08:49:55.202028Z",
     "start_time": "2025-09-16T08:49:54.811311Z"
    }
   },
   "cell_type": "code",
   "source": [
    "dataset = tf.data.Dataset.from_tensor_slices((X_train, y_train)).batch(5)\n",
    "dataset = dataset.map(lambda X, y: (norm_layer(X), y))\n",
    "list(dataset.take(1))"
   ],
   "id": "20f1034b10ed822",
   "outputs": [
    {
     "data": {
      "text/plain": [
       "[(<tf.Tensor: shape=(5, 8), dtype=float32, numpy=\n",
       "  array([[-0.19397898, -1.0778134 , -0.94338703,  0.01485134,  0.02073434,\n",
       "          -0.5729169 ,  0.9292575 , -1.4221283 ],\n",
       "         [ 0.7519828 , -1.8688954 ,  0.40547714, -0.23327859,  1.8614666 ,\n",
       "           0.20516504, -0.91655123,  1.0966992 ],\n",
       "         [-0.4146912 ,  0.02970134,  0.8180874 ,  1.0567816 , -0.08786613,\n",
       "          -0.29983333,  1.3087244 , -1.6970019 ],\n",
       "         [ 1.7188952 , -1.315138  ,  0.3266428 , -0.21955286, -0.337921  ,\n",
       "          -0.11146676, -0.982138  ,  0.94177264],\n",
       "         [-0.96207213, -1.2360299 , -0.05625897, -0.03124575,  1.709061  ,\n",
       "          -0.3025704 , -0.8041154 ,  1.3265917 ]], dtype=float32)>,\n",
       "  <tf.Tensor: shape=(5, 1), dtype=float64, numpy=\n",
       "  array([[1.442],\n",
       "         [1.687],\n",
       "         [1.621],\n",
       "         [2.621],\n",
       "         [0.956]])>)]"
      ]
     },
     "execution_count": 26,
     "metadata": {},
     "output_type": "execute_result"
    }
   ],
   "execution_count": 26
  },
  {
   "metadata": {
    "ExecuteTime": {
     "end_time": "2025-09-16T08:51:16.690346Z",
     "start_time": "2025-09-16T08:51:16.662787Z"
    }
   },
   "cell_type": "code",
   "source": [
    "# 也可以随时编写自定义的层  来做预处理\n",
    "class MyNormalization(tf.keras.layers.Layer):\n",
    "    def adapt(self, X):\n",
    "        self.mean_ = np.mean(X, axis=0, keepdims=True)\n",
    "        self.std_ = np.std(X, axis=0, keepdims=True)\n",
    "\n",
    "    def call(self, inputs):\n",
    "        eps = tf.keras.backend.epsilon()  # 获取很小的epsilon\n",
    "        return (inputs - self.mean_) / (self.std_ + eps)\n",
    "\n",
    "\n",
    "my_norm_layer = MyNormalization()\n",
    "my_norm_layer.adapt(X_train)\n",
    "X_train_scaled = my_norm_layer(X_train)"
   ],
   "id": "487979211d5fed46",
   "outputs": [],
   "execution_count": 27
  },
  {
   "metadata": {},
   "cell_type": "markdown",
   "source": "### 离散化层",
   "id": "e9784bc7581e7b0a"
  },
  {
   "metadata": {},
   "cell_type": "markdown",
   "source": "离散化层的目标是通过将值范围（称为bin）映射到类别来将数值特征转换为分类特征。这有时对于具有多峰分布的特征或与目标具有高度非线性关系的特征很有用。例如，以下代码将一个数值特征age映射到三个类别［小于18岁、18～50岁（不包括）和50岁及以上］：",
   "id": "7f933c365bfee126"
  },
  {
   "metadata": {
    "ExecuteTime": {
     "end_time": "2025-09-16T08:53:22.031806Z",
     "start_time": "2025-09-16T08:53:21.754788Z"
    }
   },
   "cell_type": "code",
   "source": [
    "age = tf.constant([[10.],\n",
    "                   [93.],\n",
    "                   [57.],\n",
    "                   [18.],\n",
    "                   [37.],\n",
    "                   [5.]])\n",
    "\n",
    "discretize_layer = tf.keras.layers.Discretization(bin_boundaries=[18., 50.])\n",
    "age_categories = discretize_layer(age)\n",
    "age_categories"
   ],
   "id": "267597a35a7925e8",
   "outputs": [
    {
     "data": {
      "text/plain": [
       "<tf.Tensor: shape=(6, 1), dtype=int64, numpy=\n",
       "array([[0],\n",
       "       [2],\n",
       "       [2],\n",
       "       [1],\n",
       "       [1],\n",
       "       [0]], dtype=int64)>"
      ]
     },
     "execution_count": 28,
     "metadata": {},
     "output_type": "execute_result"
    }
   ],
   "execution_count": 28
  },
  {
   "metadata": {
    "ExecuteTime": {
     "end_time": "2025-09-16T08:54:41.632868Z",
     "start_time": "2025-09-16T08:54:41.133352Z"
    }
   },
   "cell_type": "code",
   "source": [
    "discretize_layer = tf.keras.layers.Discretization(num_bins=3) # 改为提供所需的bin数量，然后调用层的adapt()方法，根据值的百分位数找到合适的边界。 bins=3， -> 0 33 66 1\n",
    "discretize_layer.adapt(age)\n",
    "age_categories = discretize_layer(age)\n",
    "age_categories"
   ],
   "id": "b950a8551f3e0e65",
   "outputs": [
    {
     "data": {
      "text/plain": [
       "<tf.Tensor: shape=(6, 1), dtype=int64, numpy=\n",
       "array([[1],\n",
       "       [2],\n",
       "       [2],\n",
       "       [1],\n",
       "       [2],\n",
       "       [0]], dtype=int64)>"
      ]
     },
     "execution_count": 29,
     "metadata": {},
     "output_type": "execute_result"
    }
   ],
   "execution_count": 29
  },
  {
   "metadata": {},
   "cell_type": "markdown",
   "source": "### 类别编码层",
   "id": "46af00ecfc9e8c27"
  },
  {
   "metadata": {
    "ExecuteTime": {
     "end_time": "2025-09-16T08:55:55.699324Z",
     "start_time": "2025-09-16T08:55:55.560275Z"
    }
   },
   "cell_type": "code",
   "source": [
    "onehot_layer = tf.keras.layers.CategoryEncoding(num_tokens=3)\n",
    "onehot_layer(age_categories)"
   ],
   "id": "df190b727eec56a1",
   "outputs": [
    {
     "data": {
      "text/plain": [
       "<tf.Tensor: shape=(6, 3), dtype=float32, numpy=\n",
       "array([[0., 1., 0.],\n",
       "       [0., 0., 1.],\n",
       "       [0., 0., 1.],\n",
       "       [0., 1., 0.],\n",
       "       [0., 0., 1.],\n",
       "       [1., 0., 0.]], dtype=float32)>"
      ]
     },
     "execution_count": 30,
     "metadata": {},
     "output_type": "execute_result"
    }
   ],
   "execution_count": 30
  },
  {
   "metadata": {
    "ExecuteTime": {
     "end_time": "2025-09-16T08:59:39.753601Z",
     "start_time": "2025-09-16T08:59:39.741395Z"
    }
   },
   "cell_type": "code",
   "source": [
    "# 一次对多个分类特征进行编码:输出张量为任何输入特征中存在的每个类别中包含一个1 (多热编码)\n",
    "\n",
    "# [1 1 0]\n",
    "# [0 0 1]\n",
    "# [1 0 1]\n",
    "two_age_categories = np.array([[1, 1],\n",
    "                               [2,2],\n",
    "                               [2,1]])\n",
    "onehot_layer(two_age_categories)"
   ],
   "id": "254de765f074bbc7",
   "outputs": [
    {
     "data": {
      "text/plain": [
       "<tf.Tensor: shape=(3, 3), dtype=float32, numpy=\n",
       "array([[0., 2., 0.],\n",
       "       [0., 0., 2.],\n",
       "       [0., 1., 1.]], dtype=float32)>"
      ]
     },
     "execution_count": 38,
     "metadata": {},
     "output_type": "execute_result"
    }
   ],
   "execution_count": 38
  },
  {
   "metadata": {
    "ExecuteTime": {
     "end_time": "2025-09-16T08:59:40.110590Z",
     "start_time": "2025-09-16T08:59:40.100598Z"
    }
   },
   "cell_type": "code",
   "source": [
    "# 想了解每个类别的出现次数,可以在创建CategoryEncoding层设置output_mode = \"count\"\n",
    "onehot_layer = tf.keras.layers.CategoryEncoding(num_tokens=3, output_mode=\"count\")  # 计数编码\n",
    "onehot_layer(two_age_categories)"
   ],
   "id": "441fc4a04ef0e9df",
   "outputs": [
    {
     "data": {
      "text/plain": [
       "<tf.Tensor: shape=(3, 3), dtype=float32, numpy=\n",
       "array([[0., 2., 0.],\n",
       "       [0., 0., 2.],\n",
       "       [0., 1., 1.]], dtype=float32)>"
      ]
     },
     "execution_count": 39,
     "metadata": {},
     "output_type": "execute_result"
    }
   ],
   "execution_count": 39
  },
  {
   "metadata": {
    "ExecuteTime": {
     "end_time": "2025-09-16T09:03:21.381580Z",
     "start_time": "2025-09-16T09:03:21.370127Z"
    }
   },
   "cell_type": "code",
   "source": [
    "# 不知道类别是来自第几个分类, 多热编码和计数编码都会丢失信息([0,1]和[1,0]都被编码成[1.,1.,0.]\n",
    "\n",
    "onehot_layer = tf.keras.layers.CategoryEncoding(num_tokens=3 + 3)\n",
    "onehot_layer(two_age_categories + [0, 3])  # 给第二个分类+3,调整类别标识符使它们不重叠"
   ],
   "id": "8dce998ba18cd0be",
   "outputs": [
    {
     "data": {
      "text/plain": [
       "<tf.Tensor: shape=(3, 6), dtype=float32, numpy=\n",
       "array([[0., 1., 0., 0., 1., 0.],\n",
       "       [0., 0., 1., 0., 0., 1.],\n",
       "       [0., 0., 1., 0., 1., 0.]], dtype=float32)>"
      ]
     },
     "execution_count": 41,
     "metadata": {},
     "output_type": "execute_result"
    }
   ],
   "execution_count": 41
  },
  {
   "metadata": {
    "ExecuteTime": {
     "end_time": "2025-09-16T09:05:12.575450Z",
     "start_time": "2025-09-16T09:05:12.516524Z"
    }
   },
   "cell_type": "code",
   "source": [
    "onehot_layer = tf.keras.layers.CategoryEncoding(num_tokens=3,\n",
    "                                                output_mode=\"one_hot\")\n",
    "tf.keras.layers.concatenate([onehot_layer(cat)\n",
    "                             for cat in tf.transpose(two_age_categories)])"
   ],
   "id": "100bd3021107404d",
   "outputs": [
    {
     "data": {
      "text/plain": [
       "<tf.Tensor: shape=(3, 6), dtype=float32, numpy=\n",
       "array([[0., 1., 0., 0., 1., 0.],\n",
       "       [0., 0., 1., 0., 0., 1.],\n",
       "       [0., 0., 1., 0., 1., 0.]], dtype=float32)>"
      ]
     },
     "execution_count": 42,
     "metadata": {},
     "output_type": "execute_result"
    }
   ],
   "execution_count": 42
  },
  {
   "metadata": {
    "ExecuteTime": {
     "end_time": "2025-09-16T09:06:39.758258Z",
     "start_time": "2025-09-16T09:06:39.746763Z"
    }
   },
   "cell_type": "code",
   "source": "tf.keras.layers.Flatten()(tf.one_hot(two_age_categories, depth=3))",
   "id": "23262d86ac43cf9f",
   "outputs": [
    {
     "data": {
      "text/plain": [
       "<tf.Tensor: shape=(3, 6), dtype=float32, numpy=\n",
       "array([[0., 1., 0., 0., 1., 0.],\n",
       "       [0., 0., 1., 0., 0., 1.],\n",
       "       [0., 0., 1., 0., 1., 0.]], dtype=float32)>"
      ]
     },
     "execution_count": 44,
     "metadata": {},
     "output_type": "execute_result"
    }
   ],
   "execution_count": 44
  },
  {
   "metadata": {},
   "cell_type": "markdown",
   "source": "### StringLookup层",
   "id": "cc345cab89dfe4d9"
  },
  {
   "metadata": {
    "ExecuteTime": {
     "end_time": "2025-09-16T09:13:47.443018Z",
     "start_time": "2025-09-16T09:13:47.340298Z"
    }
   },
   "cell_type": "code",
   "source": [
    "# 用于分类文本特征\n",
    "\n",
    "cities = [\"Auckland\", \"Paris\", \"Paris\", \"San Francisco\"]\n",
    "str_lookup_layer = tf.keras.layers.StringLookup()  # 创建StringLookup层\n",
    "str_lookup_layer.adapt(cities)  # 适应数据\n",
    "\n",
    "str_lookup_layer([[\"Paris\"], [\"Auckland\"], [\"Auckland\"], [\"Beijing\"]])  # 模拟测试数据\n",
    "# str_lookup_layer(cities)  # 使用该层对文本编码, 已知类别按照从最频繁出现的类别 到最不频繁出现的类别    从1开始编号"
   ],
   "id": "982381b261e6f23c",
   "outputs": [
    {
     "data": {
      "text/plain": [
       "<tf.Tensor: shape=(4, 1), dtype=int64, numpy=\n",
       "array([[1],\n",
       "       [3],\n",
       "       [3],\n",
       "       [0]], dtype=int64)>"
      ]
     },
     "execution_count": 49,
     "metadata": {},
     "output_type": "execute_result"
    }
   ],
   "execution_count": 49
  },
  {
   "metadata": {
    "ExecuteTime": {
     "end_time": "2025-09-16T09:16:25.053072Z",
     "start_time": "2025-09-16T09:16:24.949369Z"
    }
   },
   "cell_type": "code",
   "source": [
    "# 在创建StringLookup层时设置output_mode = \"one_hot\", 它将为每个列别输出一个独热向量,而部署一个整数\n",
    "str_lookup_layer = tf.keras.layers.StringLookup(output_mode=\"one_hot\")\n",
    "str_lookup_layer.adapt(cities)\n",
    "str_lookup_layer([[\"Paris\"], [\"Auckland\"], [\"Auckland\"], [\"Beijing\"], [\"Tianjin\"]])"
   ],
   "id": "62ef6560b155768b",
   "outputs": [
    {
     "data": {
      "text/plain": [
       "<tf.Tensor: shape=(5, 4), dtype=float32, numpy=\n",
       "array([[0., 1., 0., 0.],\n",
       "       [0., 0., 0., 1.],\n",
       "       [0., 0., 0., 1.],\n",
       "       [1., 0., 0., 0.],\n",
       "       [1., 0., 0., 0.]], dtype=float32)>"
      ]
     },
     "execution_count": 50,
     "metadata": {},
     "output_type": "execute_result"
    }
   ],
   "execution_count": 50
  },
  {
   "metadata": {},
   "cell_type": "markdown",
   "source": "如果训练集非常大，将层调整为适应(adapt)训练集的随机子集可能会很方便。在这种情况下，层的adapt()方法可能会遗漏一些罕见的类别。默认情况下，它会将它们全部映射到类别0，使模型无法区分它们。为了降低这种风险（同时仍然只在训练集的一个子集上调整），可以将num_oov_indices设置为大于1的整数。这是要使用的词汇表外桶[out-of-vocabulary(OOV)buckets]的数量：每个未知类别将伪随机映射到OOV桶之一，使用哈希函数对OOV桶的数量取模（取余数）。这将使模型至少能够区分一些罕见的类别。例如：",
   "id": "258c180c8406be1c"
  },
  {
   "metadata": {
    "ExecuteTime": {
     "end_time": "2025-09-16T09:25:14.311473Z",
     "start_time": "2025-09-16T09:25:13.920500Z"
    }
   },
   "cell_type": "code",
   "source": [
    "str_lookup_layer = tf.keras.layers.StringLookup(num_oov_indices=5)\n",
    "str_lookup_layer.adapt(cities)\n",
    "\n",
    "\n",
    "str_lookup_layer([[\"Paris\"], [\"Auckland\"], [\"Foo\"], [\"Bar\"], [\"Baz\"]])"
   ],
   "id": "ae0566b298f13bf8",
   "outputs": [
    {
     "data": {
      "text/plain": [
       "<tf.Tensor: shape=(5, 1), dtype=int64, numpy=\n",
       "array([[5],\n",
       "       [7],\n",
       "       [4],\n",
       "       [3],\n",
       "       [4]], dtype=int64)>"
      ]
     },
     "execution_count": 51,
     "metadata": {},
     "output_type": "execute_result"
    }
   ],
   "execution_count": 51
  },
  {
   "metadata": {},
   "cell_type": "markdown",
   "source": "由于有5个OOV桶，第一个已知类别的ID现在是5(\"Paris\")。但是\"Foo\"、\"Bar\"和\"Baz\"是未知的，所以它们都被映射到某个OOV桶中。\"Bar\"有自己的专用桶（ID为3），但是\"Foo\"和\"Baz\"恰好映射到同一个桶（ID为4），因此模型无法区分它们。这称为哈希冲突。降低冲突风险的唯一方法是增加OOV桶的数量。但是，这也会增加类别的总数，一旦类别被独热编码，这将需要更多的RAM和额外的模型参数。所以，不要将这个数字增加太多。",
   "id": "ffef4e338fba6103"
  },
  {
   "metadata": {
    "ExecuteTime": {
     "end_time": "2025-09-16T09:26:17.311133Z",
     "start_time": "2025-09-16T09:26:17.160871Z"
    }
   },
   "cell_type": "code",
   "source": [
    "# 一个用IntegerLookup层的例子:\n",
    "ids = [123, 456, 789, 123,123, 456]\n",
    "int_lookup_layer = tf.keras.layers.IntegerLookup()\n",
    "int_lookup_layer.adapt(ids)\n",
    "\n",
    "int_lookup_layer([[123], [456], [123], [111]])\n",
    "\n",
    "# 1 2  1  0"
   ],
   "id": "1c2d5b069c353d54",
   "outputs": [
    {
     "data": {
      "text/plain": [
       "<tf.Tensor: shape=(4, 1), dtype=int64, numpy=\n",
       "array([[1],\n",
       "       [2],\n",
       "       [1],\n",
       "       [0]], dtype=int64)>"
      ]
     },
     "execution_count": 52,
     "metadata": {},
     "output_type": "execute_result"
    }
   ],
   "execution_count": 52
  },
  {
   "metadata": {},
   "cell_type": "markdown",
   "source": "### 哈希层",
   "id": "9d7400a1ae31e369"
  },
  {
   "metadata": {},
   "cell_type": "markdown",
   "source": "对于每个类别，Keras哈希层计算一个哈希值，对桶（或bin）的数量取模。映射完全是伪随机的，但跨运行和平台稳定（即相同的类别将始终映射到相同的整数，只要bin的数量不变)",
   "id": "812dcf22d82fe7d5"
  },
  {
   "metadata": {
    "ExecuteTime": {
     "end_time": "2025-09-15T15:07:16.339614Z",
     "start_time": "2025-09-15T15:07:16.312416Z"
    }
   },
   "cell_type": "code",
   "source": [
    "hashing_layer = tf.keras.layers.Hashing(num_bins=10)\n",
    "hashing_layer([[\"Paris\"], [\"Tokyo\"], [\"Auckland\"], [\"Montreal\"]])"
   ],
   "id": "83eef94ea291204d",
   "outputs": [
    {
     "data": {
      "text/plain": [
       "<tf.Tensor: shape=(4, 1), dtype=int64, numpy=\n",
       "array([[0],\n",
       "       [1],\n",
       "       [9],\n",
       "       [1]], dtype=int64)>"
      ]
     },
     "execution_count": 26,
     "metadata": {},
     "output_type": "execute_result"
    }
   ],
   "execution_count": 26
  },
  {
   "metadata": {},
   "cell_type": "markdown",
   "source": "这个层不需要任何调整,不需要去适应(adapt)数据,在核外学习中(数据集太大无法放入内存),会很有用. 但是依然会有哈希冲突的问题: 两个不同的词映射到了相同的ID,使得模型无法区分它们.通常使用StringLookup层.",
   "id": "b283ba6cc7a26011"
  },
  {
   "metadata": {},
   "cell_type": "markdown",
   "source": "### 使用嵌入编码分类特征",
   "id": "d4c21041246792cf"
  },
  {
   "metadata": {},
   "cell_type": "markdown",
   "source": [
    "嵌入是一些高维数据（例如类别或词汇表中的单词）的密集表示。如果有50000个可能的类别，则独热编码将产生50000维的稀疏向量（即主要包含零）。\n",
    "\n",
    "相反，嵌入将是一个相对较小的密集向量，例如，只有100个维度。在深度学习中，嵌入通常被随机初始化，然后与其他模型参数一起通过梯度下降进行训练。例如，房价数据集中的\"NEAR BAY\"类别最初可以由一个随机向量（例如[0.131，0.890])表示，而\"NEAR OCEAN\"类别可能由另一个随机向量（例如[0.631，0.791]）表示。\n",
    "\n",
    "![训练期间嵌入会逐渐改善](./images/tensorflow/p9.png)\n",
    "\n",
    "在此示例中，使用二维嵌入，但维数是可以调整的超参数。由于这些嵌入是可训练的，它们会在训练过程中逐渐改善。由于在本例中它们代表非常类似的类别，梯度下降最终肯定会将它们推得更近，同时它倾向于将它们从\"INLAND\"类别的嵌入中移开.\n",
    "\n",
    "事实上，类别表示越好，神经网络就越容易做出准确的预测，因此训练倾向于使嵌入成为有用的类别表示。这称为表示学习"
   ],
   "id": "2aead156a7c43d5"
  },
  {
   "metadata": {},
   "cell_type": "markdown",
   "source": "Keras提供了一个Embedding层，它包装了一个嵌入矩阵：在该矩阵中，每个类别一行，每个嵌入维度一列。默认情况下，它是随机初始化的。要将类别ID转换为嵌入，Embedding层只是查找并返回对应于该类别的行",
   "id": "58a2136775971877"
  },
  {
   "metadata": {
    "ExecuteTime": {
     "end_time": "2025-09-15T15:25:42.575167Z",
     "start_time": "2025-09-15T15:25:42.518361Z"
    }
   },
   "cell_type": "code",
   "source": [
    "# 初始化一个包含5行和二维嵌入的Embedding层，并用它来编码一些类\n",
    "embedding_layer = tf.keras.layers.Embedding(input_dim=5, output_dim=2)\n",
    "embedding_layer(np.array([2, 4, 2]))"
   ],
   "id": "59021014cbe6c1b0",
   "outputs": [
    {
     "data": {
      "text/plain": [
       "<tf.Tensor: shape=(3, 2), dtype=float32, numpy=\n",
       "array([[-0.0156639 ,  0.04400568],\n",
       "       [ 0.02798482, -0.04213367],\n",
       "       [-0.0156639 ,  0.04400568]], dtype=float32)>"
      ]
     },
     "execution_count": 27,
     "metadata": {},
     "output_type": "execute_result"
    }
   ],
   "execution_count": 27
  },
  {
   "metadata": {},
   "cell_type": "markdown",
   "source": [
    "Embedding层是随机初始化的，因此在模型外部将其用作独立的预处理层没有意义，除非使用预训练权重对其进行初始化\n",
    "\n",
    "如果想嵌入一个分类文本属性，那么可以简单地连接一个StringLookup层和一个Embedding层\n",
    "\n",
    "注意，嵌入矩阵的行数应等于词汇表的大小，即类别总数，包括已知类别加上OOV桶（默认情况下只有一个）。StringLookup类的vocabulary_size()方法可以方便地返回这个数字"
   ],
   "id": "f3fb86dc3824b84c"
  },
  {
   "metadata": {
    "ExecuteTime": {
     "end_time": "2025-09-15T15:29:01.794734Z",
     "start_time": "2025-09-15T15:29:01.685772Z"
    }
   },
   "cell_type": "code",
   "source": [
    "ocean_prox = [\"<1H OCEAN\", \"INLAND\", \"NEAR OCEAN\", \"NEAR BAY\", \"ISLAND\"]\n",
    "str_lookup_layer = tf.keras.layers.StringLookup()\n",
    "str_lookup_layer.adapt(ocean_prox)\n",
    "lookup_and_embed = tf.keras.Sequential([\n",
    "    tf.keras.layers.InputLayer(input_shape=[], dtype=tf.string),\n",
    "    str_lookup_layer,\n",
    "    tf.keras.layers.Embedding(input_dim=str_lookup_layer.vocabulary_size(),\n",
    "                              output_dim=2)  # 这里使用2维嵌入,嵌入通常有10--300个维度,具体取决于任务,词汇表大小和训练集大小,需要调整这个超参数\n",
    "])\n",
    "lookup_and_embed(np.array([\"<1H OCEAN\", \"ISLAND\", \"<1H OCEAN\"]))"
   ],
   "id": "f64eb09e33764983",
   "outputs": [
    {
     "data": {
      "text/plain": [
       "<tf.Tensor: shape=(3, 2), dtype=float32, numpy=\n",
       "array([[-0.0274471 ,  0.00136548],\n",
       "       [-0.03852878, -0.0316556 ],\n",
       "       [-0.0274471 ,  0.00136548]], dtype=float32)>"
      ]
     },
     "execution_count": 28,
     "metadata": {},
     "output_type": "execute_result"
    }
   ],
   "execution_count": 28
  },
  {
   "metadata": {
    "ExecuteTime": {
     "end_time": "2025-09-15T15:43:20.763840Z",
     "start_time": "2025-09-15T15:43:18.829113Z"
    }
   },
   "cell_type": "code",
   "source": [
    "# 搭建Keras模型:可以处理分类文本特征以及常规数值特征,并学习每个类别(以及每个OOV桶)的嵌入(embedding)\n",
    "\n",
    "# 生成随机假数据\n",
    "X_train_num = np.random.rand(10_000, 8)\n",
    "X_train_cat = np.random.choice(ocean_prox, size=10_000).astype(object)\n",
    "y_train = np.random.rand(10_000, 1)\n",
    "X_valid_num = np.random.rand(2_000, 8)\n",
    "X_valid_cat = np.random.choice(ocean_prox, size=2_000).astype(object)\n",
    "y_valid = np.random.rand(2_000, 1)\n",
    "\n",
    "num_input = tf.keras.layers.Input(shape=[8], name=\"num\")\n",
    "cat_input = tf.keras.layers.Input(shape=[], dtype=tf.string, name=\"cat\")\n",
    "cat_embeddings = lookup_and_embed(cat_input)\n",
    "encoded_inputs = tf.keras.layers.concatenate([num_input, cat_embeddings])\n",
    "outputs = tf.keras.layers.Dense(1)(encoded_inputs)\n",
    "model = tf.keras.models.Model(inputs=[num_input, cat_input], outputs=[outputs])\n",
    "model.compile(loss=\"mse\", optimizer=\"sgd\")\n",
    "history = model.fit((X_train_num, X_train_cat), y_train, epochs=5,\n",
    "                    validation_data=((X_valid_num, X_valid_cat), y_valid))"
   ],
   "id": "4f2c955b41bbed14",
   "outputs": [
    {
     "name": "stdout",
     "output_type": "stream",
     "text": [
      "Epoch 1/5\n",
      "313/313 [==============================] - 1s 1ms/step - loss: 0.2138 - val_loss: 0.1512\n",
      "Epoch 2/5\n",
      "313/313 [==============================] - 0s 950us/step - loss: 0.1264 - val_loss: 0.1092\n",
      "Epoch 3/5\n",
      "313/313 [==============================] - 0s 942us/step - loss: 0.0986 - val_loss: 0.0941\n",
      "Epoch 4/5\n",
      "313/313 [==============================] - 0s 950us/step - loss: 0.0886 - val_loss: 0.0888\n",
      "Epoch 5/5\n",
      "313/313 [==============================] - 0s 855us/step - loss: 0.0850 - val_loss: 0.0869\n"
     ]
    }
   ],
   "execution_count": 29
  },
  {
   "metadata": {},
   "cell_type": "markdown",
   "source": [
    "该模型采用两个输入：num_input（每个实例包含8个数值特征，以及cat_input（每个实例包含一个分类文本输入）。该模型使用之前创建的lookup_and_embed模型将每个海洋邻近类别编码为相应的可训练嵌入。接下来，它使用concatenate()函数连接数值输入和嵌入以生成完整的编码输入，这些输入已做好准备被提供给神经网络。此时，我们可以添加任何类型的神经网络，但为了简单起见，我们只添加一个密集输出层，然后使用刚刚定义的输入和输出创建Keras模型。接下来，编译模型并训练它，同时传递数值输入和分类输入。\n",
    "\n",
    "由于Input层被命名为\"num\"和\"cat\"，我们也可以使用字典而不是元组将训练数据传递给fit()方法：{\"num\"：X_train_num，\"cat\"：X_train_cat}。或者，可以传递包含批次的tf.data.Dataset，每个批次表示为((X_batch_num，X_batch_cat)，y_batch)或({\"num\"：X_batch_num，\"cat\"：X_batch_cat}，y_batch)。当然，验证数据也是如此。"
   ],
   "id": "a844955ec37383e2"
  },
  {
   "metadata": {
    "ExecuteTime": {
     "end_time": "2025-09-15T15:52:48.162261Z",
     "start_time": "2025-09-15T15:52:46.514404Z"
    }
   },
   "cell_type": "code",
   "source": [
    "train_set = tf.data.Dataset.from_tensor_slices(\n",
    "    ({\"num\":X_train_num, \"cat\":X_train_cat}, y_train)).batch(32)\n",
    "valid_set = tf.data.Dataset.from_tensor_slices(\n",
    "    ((X_valid_num, X_valid_cat), y_valid)).batch(32)\n",
    "history = model.fit(train_set, epochs=5,\n",
    "                    validation_data=valid_set)"
   ],
   "id": "8b29be324dd72641",
   "outputs": [
    {
     "name": "stdout",
     "output_type": "stream",
     "text": [
      "Epoch 1/5\n",
      "313/313 [==============================] - 0s 1ms/step - loss: 0.0836 - val_loss: 0.0863\n",
      "Epoch 2/5\n",
      "313/313 [==============================] - 0s 966us/step - loss: 0.0830 - val_loss: 0.0861\n",
      "Epoch 3/5\n",
      "313/313 [==============================] - 0s 859us/step - loss: 0.0827 - val_loss: 0.0859\n",
      "Epoch 4/5\n",
      "313/313 [==============================] - 0s 906us/step - loss: 0.0826 - val_loss: 0.0859\n",
      "Epoch 5/5\n",
      "313/313 [==============================] - 0s 950us/step - loss: 0.0825 - val_loss: 0.0859\n"
     ]
    }
   ],
   "execution_count": 30
  },
  {
   "metadata": {},
   "cell_type": "markdown",
   "source": "#### 词嵌入",
   "id": "9fa5e574f8835240"
  },
  {
   "metadata": {},
   "cell_type": "markdown",
   "source": [
    "嵌入通常不仅是当前任务的有用表示，而且很多时候可以成功地重用于其他任务。最常见的示例是词嵌入（即单个单词的嵌入) 在执行自然语言处理任务时，与训练自己的词嵌入相比，重用预先训练的词嵌入通常效果更好。使用向量来表示单词的想法可以追溯到20世纪60年代，许多复杂的技术已被用来生成有用的向量，包括神经网络技术。\n",
    "\n",
    "但是这种表示真正取得成功是在2013年，当时Google研究人员发表了一篇论文(https://arxiv.org/abs/1310.4546)， 描述了一种使用神经网络学习词嵌入的有效技术，这种技术大大优于以前的尝试。这使他们能够在非常大的文本语料库上学习嵌入：他们训练了一个神经网络来预测任何给定单词附近的单词，并获得了惊人的词嵌入。例如，同义词具有非常接近的嵌入，France、Spain和Italy等与语义相关的词最终聚类在一起。但是，这不仅与邻近性有关：词嵌入还沿着嵌入空间中有意义的轴进行组织。这是一个著名的示例：如果计算King-Man+Woman（加减这些单词的嵌入向量），则结果非常接近Queen单词的嵌入。换句话说，词嵌入编码了性别的概念！同样，你可以计算Madrid-Spain+France，其结果接近Paris，这似乎表明首都的概念也在嵌入中进行了编码。\n",
    "\n",
    "![相似单词的词嵌入接近,词有了空间位置的概念](./images/tensorflow/p10.png)"
   ],
   "id": "c2f35eee2438d23b"
  },
  {
   "metadata": {},
   "cell_type": "code",
   "outputs": [],
   "execution_count": null,
   "source": "",
   "id": "9032fd55d909fc71"
  }
 ],
 "metadata": {
  "kernelspec": {
   "display_name": "Python 3",
   "language": "python",
   "name": "python3"
  },
  "language_info": {
   "codemirror_mode": {
    "name": "ipython",
    "version": 2
   },
   "file_extension": ".py",
   "mimetype": "text/x-python",
   "name": "python",
   "nbconvert_exporter": "python",
   "pygments_lexer": "ipython2",
   "version": "2.7.6"
  }
 },
 "nbformat": 4,
 "nbformat_minor": 5
}
