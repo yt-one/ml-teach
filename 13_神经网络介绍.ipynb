{
 "cells": [
  {
   "metadata": {},
   "cell_type": "markdown",
   "source": [
    "**神经网络（Neural Network）** 指的是一种特定类型的假设函数，它由 **多个参数化的、可微分的函数（也称为“层”）组合而成，用于形成输出**。\n",
    "\n",
    "这个术语源自生物学的启发，但实际上只要符合上述类型的任何假设函数，都可以被称为神经网络，和生物学关联不大\n",
    "\n",
    "神经网络是深度学习的核心。它们用途广泛、功能强大且可扩展，使其非常适合处理大型和高度复杂的机器学习任务，例如对数十亿个图像进行分类（例如Google Images），为语音识别服务提供支持，每天向成千上万的用户推荐（例如抖音）观看的最佳视频，或学习在围棋游戏（DeepMind的AlphaGo）中击败世界冠军。\n",
    "\n",
    "学习顺序：浏览下最简单的神经网络，然后到多层感知机，之后通过Tensorflow的Keras API实现神经网络"
   ],
   "id": "e864a7d6bec1756c"
  },
  {
   "metadata": {},
   "cell_type": "markdown",
   "source": [
    "## 神经网络的发展过程\n",
    "\n",
    "1. 人工神经网络已经存在很长一段时间了：它们于1943首次提出，该模型计算了生物神经元如何在动物大脑中协同工作，利用命题逻辑进行复杂的计算。这是第一个人工神经网络架构。从那时起，许多其他架构被发明出来。\n",
    "\n",
    "2. 人工神经网络的早期成功导致人们普遍相信，我们很快将与真正的智能机器进行对话。当在20世纪60年代人们清楚地知道不能兑现这一承诺（至少相当长一段时间）时，资金流向了其他地方，人工神经网络进入了漫长的冬天。\n",
    "\n",
    "3. 在20世纪80年代初期，发明了新的架构，并开发了更好的训练技术，从而激发了人们对连接主义（神经网络的研究）的兴趣。但是进展缓慢。\n",
    "\n",
    "4. 到了20世纪90年代，发明了其他强大的机器学习技术，例如支持向量机。这些技术提供了似乎比人工神经网络更好的结果和更坚实的理论基础，神经网络的研究再次被搁置。\n",
    "\n",
    "5. 现在目睹了对人工神经网络的另一波兴趣。这波浪潮会像以前一样消灭吗？这里有一些充分的理由使我们相信这次是不同的，人们对人工神经网络重新充满兴趣将对我们的生活产生更深远的影响：\n",
    "    - 现在有大量数据可用于训练神经网络，并且在非常大和复杂的问题上，人工神经网络通常优于其他机器学习技术。\n",
    "    - 自20世纪90年代以来，计算能力的飞速增长使得现在有可能在合理的时间内训练大型神经网络。这部分是由于摩尔定律（集成电路中的器件数量在过去的50年中，每两年大约增加一倍）这还要归功于游戏产业——刺激了数百万计强大的GPU卡的生产。此外，云平台已使所有人都可以使用这个功能。\n",
    "    - 训练算法已得到改进。它们与20世纪90年代使用的略有不同，但是这些相对较小的调整产生了巨大的积极影响。\n",
    "    - 在实践中，人工神经网络的一些理论局限性被证明是良性的。例如，许多人认为ANN训练算法注定要失败，因为它们可能会陷入局部最优解，但事实证明这在实践中并不是一个大问题，尤其是对于较大的神经网络：局部最优解通常表现得几乎与全局最优解一样好。\n",
    "    - 人工神经网络似乎已经进入了资金和发展的良性循环。基于人工神经网络的好产品会成为头条新闻，这吸引了越来越多的关注和资金，从而带来了越来越多的进步甚至产生了惊人的产品。"
   ],
   "id": "89bed25200f54f6"
  },
  {
   "metadata": {},
   "cell_type": "markdown",
   "source": "## 感知机",
   "id": "777fd34d480360ea"
  },
  {
   "metadata": {},
   "cell_type": "markdown",
   "source": [
    "感知机是最简单的神经网络架构，于 1957 年发明。它称为阈值逻辑单元（Threshold Logic Unit，TLU），有时也称为线性阈值单元（Linear Threshold Unit，LTU）。输入和输出是数字（而不是二进制开/关值），并且每个输入连接都与权重相关联。TLU 首先计算其输入的线性函数：\n",
    "\n",
    "$$z = w_1 x_1 + w_2 x_2 + \\dots + w_n x_n + b = \\mathbf{w}^T \\mathbf{x} + b.$$\n",
    "\n",
    "然后它对结果应用阶跃函数：\n",
    "\n",
    "$$h_w(x) = \\text{step}(z).$$\n",
    "\n",
    "所以它几乎与逻辑回归一样，只是它使用阶跃函数而不是sigmoid函数。就像在逻辑回归中一样，模型参数是输入权重 $\\mathbf{w}$ 和偏置项 $b$。\n",
    "\n",
    "![TLU单元](./images/neural_network/p1.png)"
   ],
   "id": "cfad556317b92331"
  },
  {
   "metadata": {},
   "cell_type": "markdown",
   "source": [
    "感知机中最常用的阶跃函数是 Heaviside 阶跃函数。有时使用符号函数代替。\n",
    "\n",
    "**公式：感知机中使用的常见阶跃函数（假设阈值 = 0）**\n",
    "\n",
    "$$\n",
    "\\text{heaviside}(z) =\n",
    "\\begin{cases}\n",
    "0, & z < 0 \\\\\n",
    "1, & z \\ge 0\n",
    "\\end{cases}\n",
    "\\qquad\n",
    "\\text{sgn}(z) =\n",
    "\\begin{cases}\n",
    "-1, & z < 0 \\\\\n",
    "0, & z = 0 \\\\\n",
    "+1, & z > 0\n",
    "\\end{cases}\n",
    "$$\n",
    "\n",
    "单个 TLU 可用于简单的线性二元分类。它计算其输入的线性函数，如果该结果大于阈值，则输出正类；否则，它输出负类。\n",
    "\n",
    "有点像逻辑回归 或线性 SVM 分类。例如，可以使用单个 TLU 根据花瓣长度和宽度对鸢尾花进行分类。训练这样的 TLU 需要求出 $w_1、w_2$ 和 $b$ 的正确值（训练算法将在稍后讨论）。\n"
   ],
   "id": "7be43ad2a3125f00"
  },
  {
   "metadata": {},
   "cell_type": "markdown",
   "source": [
    " 感知机由一个或多个组织在单层中的TLU组成，其中每个TLU都连接到每个输入。这样的层称为全连接层，或密集层。这些输入构成输入层。由于TLU层产生最终输出，因此称为输出层。例如，具有两个输入和三个输出的感知机如下图所示：\n",
    "\n",
    "![两个输入神经元和三个输出神经元的感知机](./images/neural_network/p2.png)\n",
    "\n",
    "这个感知机可以同时将实例分类为三个不同的二元类，这使它成为一个多标签分类器。它也可以用于多类分类。\n",
    "\n",
    "借助线性代数，下面公式 可用于同时针对多个实例有效地计算一层人工神经元的输出。\n",
    "\n",
    "**公式：计算全连接层的输出**\n",
    "\n",
    "$$\n",
    "h_{\\mathbf{w}, b}(\\mathbf{X}) = \\phi(\\mathbf{XW} + \\mathbf{b})\n",
    "$$\n",
    "\n",
    "其中：\n",
    "- $\\mathbf{X}$ 代表输入特征的矩阵。每个实例一行，每个特征一列。\n",
    "- 权重矩阵 $\\mathbf{W}$ 包含所有连接权重。每个输入一行，每个神经元一列。\n",
    "\n",
    "- 偏置向量 $\\mathbf{b}$ 包含所有偏置项：每个神经元一个。\n",
    "\n",
    "- 函数 $\\phi$ 称为激活函数：当神经元是 TLU 时，它是阶跃函数（后面会讨论其他激活函数）。\n",
    "\n"
   ],
   "id": "8184abde2cf6efd1"
  },
  {
   "metadata": {},
   "cell_type": "markdown",
   "source": [
    "## 感知机的训练\n",
    "\n",
    "感知机一次被送入一个训练实例，并且针对每个实例进行预测。对于产生错误预测的每个输出神经元，它会增强来自输入的连接权重，这些权重有助于正确的预测。这个规则公式如下：\n",
    "\n",
    "**公式：感知机学习规则（权重更新）**\n",
    "\n",
    "$$\n",
    "w_{i,j}^{\\text{下一步}} = w_{i,j} + \\eta (y_j - \\hat{y}_j) x_i\n",
    "$$\n",
    "\n",
    "其中：\n",
    "- $w_{i,j}$ 是第 $i$ 个输入和第 $j$ 个神经元之间的连接权重。\n",
    "- $x_i$ 是当前训练实例的第 $i$ 个输入值。\n",
    "- $\\hat{y}_j$ 是当前训练实例的第 $j$ 个输出神经元的输出。\n",
    "- $y_j$ 是当前训练实例的第 $j$ 个输出神经元的目标输出。\n",
    "- $\\eta$ 是学习率\n",
    "\n",
    "每个输出神经元的决策边界都是线性的，因此感知机无法学习复杂的模式（和逻辑回归很像）；但如果训练实例是线性可分离的，这个算法会收敛到一个解"
   ],
   "id": "ccac53b0fff43ba"
  },
  {
   "metadata": {
    "ExecuteTime": {
     "end_time": "2025-08-22T07:22:37.335464Z",
     "start_time": "2025-08-22T07:22:37.302918Z"
    }
   },
   "cell_type": "code",
   "source": [
    "# Scikit-Learn的 Perceptron类\n",
    "import numpy as np\n",
    "from sklearn.datasets import load_iris\n",
    "from sklearn.linear_model import Perceptron\n",
    "from sklearn.preprocessing import StandardScaler\n",
    "\n",
    "iris = load_iris(as_frame=True)\n",
    "X = iris.data[[\"petal length (cm)\", \"petal width (cm)\"]].values\n",
    "y = (iris.target == 0)\n",
    "\n",
    "per_clf = Perceptron(random_state=42)\n",
    "per_clf.fit(X, y)\n",
    "\n",
    "print(per_clf.coef_, per_clf.intercept_)\n",
    "X_new = [[2,0.5],[3,1]]\n",
    "y_pred = per_clf.predict(X_new)\n",
    "y_pred"
   ],
   "id": "5c6ea09606c8b1fa",
   "outputs": [
    {
     "name": "stdout",
     "output_type": "stream",
     "text": [
      "[[-1.4 -2.2]] [4.]\n"
     ]
    },
    {
     "data": {
      "text/plain": [
       "array([ True, False])"
      ]
     },
     "execution_count": 16,
     "metadata": {},
     "output_type": "execute_result"
    }
   ],
   "execution_count": 16
  },
  {
   "metadata": {
    "ExecuteTime": {
     "end_time": "2025-08-22T07:23:12.791064Z",
     "start_time": "2025-08-22T07:23:12.730394Z"
    }
   },
   "cell_type": "code",
   "source": [
    "# 练习： 自己实现一下（numpy) 感知机的训练，就用上面代码的数据集\n",
    "iris = load_iris(as_frame=True)\n",
    "X = iris.data[[\"petal length (cm)\", \"petal width (cm)\"]].values\n",
    "y = (iris.target == 0)\n",
    "\n",
    "\n",
    "# 训练过程\n",
    "np.random.seed(42)\n",
    "w = np.random.rand(2)\n",
    "b = np.random.rand()\n",
    "eta = 0.1\n",
    "epoches = 20\n",
    "\n",
    "\n",
    "for _ in range(epoches):\n",
    "    for i in range(X.shape[0]):\n",
    "        y_real = y[i]\n",
    "        y_pred = 1 if np.dot(w, X[i]) + b >= 0 else 0\n",
    "\n",
    "        w = w + eta * (y_real - y_pred) * X[i]\n",
    "        b   = b + eta*(y_real - y_pred)"
   ],
   "id": "35c465cf6e3b5360",
   "outputs": [],
   "execution_count": 17
  },
  {
   "metadata": {
    "ExecuteTime": {
     "end_time": "2025-08-22T07:23:20.118862Z",
     "start_time": "2025-08-22T07:23:20.108361Z"
    }
   },
   "cell_type": "code",
   "source": [
    "print(w, b)\n",
    "X_new = [[2,0.5],\n",
    "         [3,1]]\n",
    "\n",
    "print(X_new @ w + b  >= 0)\n",
    "\n",
    "from sklearn.metrics import accuracy_score\n",
    "accuracy_score(X@w + b >=0, y)"
   ],
   "id": "b045b14c401b9e1d",
   "outputs": [
    {
     "name": "stdout",
     "output_type": "stream",
     "text": [
      "[-0.50545988  0.50071431] 0.931993941811405\n",
      "[ True False]\n"
     ]
    },
    {
     "data": {
      "text/plain": [
       "1.0"
      ]
     },
     "execution_count": 19,
     "metadata": {},
     "output_type": "execute_result"
    }
   ],
   "execution_count": 19
  },
  {
   "metadata": {},
   "cell_type": "markdown",
   "source": [
    "感知机有严重缺陷，特别是它们无法解决一些微不足道的问题［例如，异或(XOR)分类问题］。任何其他线性分类模型（例如逻辑回归分类器）都是如此\n",
    "\n",
    "![XOR分类问题](./images/neural_network/p3.png)\n",
    "\n",
    "可以通过堆叠多个感知机来消除感知机的局限性，得出来的神经网络叫多层感知机。 MLP(Multi Layer Perceptron)可以解决异或问题：可以把值(0,0),(0,1),(1,0),(1,1)代入下图验证：\n",
    "\n",
    "![XOR的MLP](./images/neural_network/p4.png)"
   ],
   "id": "e7bec66dda52feb4"
  },
  {
   "metadata": {
    "ExecuteTime": {
     "end_time": "2025-08-22T08:27:28.878893Z",
     "start_time": "2025-08-22T08:27:28.607813Z"
    }
   },
   "cell_type": "code",
   "source": [
    "# 随堂练习：使用Numpy模拟这个感知机，并测试4个输入：(0,0),(0,1),(1,0),(1,1)\n",
    "import numpy as np\n",
    "\n",
    "def step(z):  # 阶跃函数\n",
    "    # 实现阶跃函数\n",
    "    return np.where(z >=0, 1, 0)\n",
    "\n",
    "\n",
    "def mlp_xor(X):\n",
    "    # 按图片给定的权重，实现两层感知机\n",
    "\n",
    "    # 第一层\n",
    "    W1 = np.ones((2,2))\n",
    "    b1 = np.array([[-1.5, -0.5]])\n",
    "    z1 = step(X@W1 + b1)  # shape: (m,2)\n",
    "\n",
    "    # 第二层\n",
    "    W2 = np.array([-1,1]).reshape(2,1)\n",
    "    b2= -0.5\n",
    "    z2 = step(z1 @W2 + b2)\n",
    "\n",
    "    return z2\n",
    "\n",
    "\n",
    "\n",
    "# 测试 4 个输入\n",
    "X = np.array([[0,0],[1,0],[0,1],[1,1]])\n",
    "print(\"X:\\n\", X)\n",
    "print(\"XOR:\\n\", mlp_xor(X))  # 期望 [0,1,1,0]"
   ],
   "id": "3404756548a9a7bf",
   "outputs": [
    {
     "name": "stdout",
     "output_type": "stream",
     "text": [
      "X:\n",
      " [[0 0]\n",
      " [1 0]\n",
      " [0 1]\n",
      " [1 1]]\n",
      "XOR:\n",
      " [[0]\n",
      " [1]\n",
      " [1]\n",
      " [0]]\n"
     ]
    }
   ],
   "execution_count": 20
  },
  {
   "metadata": {},
   "cell_type": "markdown",
   "source": "## 多层感知机和反向传播",
   "id": "4c264afb94fd62f3"
  },
  {
   "metadata": {},
   "cell_type": "markdown",
   "source": [
    "MLP由一层输入层、一层或多层TLU（称为隐藏层）和一个TLU的最后一层（称为输出层）组成。靠近输入层的层通常称为较低层，靠近输出层的层通常称为较高层。\n",
    "\n",
    "![2个输入，1个4个神经元的隐藏层和3个输出神经元的MLP](./images/neural_network/p5.png)\n",
    "\n",
    "输入到输出仅沿一个方向流动，因此该架构是前馈神经网络（Feedforward Neural Network, FNN）的一个示例\n",
    "\n",
    "当一个神经网络包含一个深层的隐藏层时，它称为深度神经网络(Deep Neural Network，DNN)。深度学习领域研究DNN，\n",
    "\n",
    "更广泛地说，它对包含深度计算堆栈的模型感兴趣。即便如此，只要涉及神经网络（甚至是浅层的神经网络），许多人就会谈论深度学习。"
   ],
   "id": "71bd97988736100b"
  },
  {
   "metadata": {},
   "cell_type": "markdown",
   "source": [
    "- 通用函数逼近 (Universal Function Approximation)\n",
    "\n",
    "**定理（1维情况）**：\n",
    "给定任意光滑函数\n",
    "$$f: \\mathbb{R} \\to \\mathbb{R},$$\n",
    "闭区间\n",
    "$$\\mathcal{D} \\subset \\mathbb{R},$$\n",
    "以及一个 $\\epsilon > 0$，\n",
    "\n",
    "我们可以构造一个单隐层神经网络 $\\hat{f}$，使得：\n",
    "$$\n",
    "\\max_{x \\in \\mathcal{D}} \\, | f(x) - \\hat{f}(x) | \\le \\epsilon\n",
    "$$\n",
    "\n",
    "通用逼近定理说明：只要网络有足够的隐藏单元，一个单隐层神经网络就能在任意精度上逼近任何连续函数。"
   ],
   "id": "361c2729030fb63c"
  },
  {
   "metadata": {},
   "cell_type": "markdown",
   "source": [
    "训练MLP的方法是梯度下降：计算模型误差（损失函数）相对于模型参数的梯度。\n",
    "\n",
    "具有多层的MLP如何计算梯度？"
   ],
   "id": "4e7981e2340f3870"
  },
  {
   "metadata": {},
   "cell_type": "markdown",
   "source": [
    "### 多层感知机（MLP）的梯度计算方法\n",
    "\n",
    "在训练多层感知机（MLP）时，目标是最小化损失函数\n",
    "\n",
    "$$\n",
    "L(\\hat{y}, y)\n",
    "$$\n",
    "\n",
    "并求解各层参数（权重和偏置）的梯度，以便进行梯度下降更新。\n",
    "\n",
    "1. 数值微分（数值模拟方式）\n",
    "\n",
    "最直观的方法是使用**数值微分**：\n",
    "对每个参数 \\$w\\$，我们用有限差分近似：\n",
    "\n",
    "$$\n",
    "\\frac{\\partial f}{\\partial w} \\approx \\frac{f(w + \\epsilon) - f(w)}{\\epsilon}\n",
    "$$\n",
    "\n",
    "\n",
    "优点：思路直观，易于理解。\n",
    "\n",
    "缺点：\n",
    "\n",
    "* **计算开销极大**：若网络有成千上万个参数，就需要成千上万次函数计算。\n",
    "* **不准确**：有限差分会引入截断误差和舍入误差。\n",
    "* **不可扩展**：在深度神经网络中完全不现实。\n",
    "\n",
    "可以作为教学演示/梯度检查，但不能作为实际训练方法。\n",
    "\n",
    "---\n",
    "\n",
    "2. 符号法（手动推公式）\n",
    "\n",
    "另一种方式是**符号推导**：\n",
    "\n",
    "* 对网络的计算公式逐层写出，\n",
    "* 然后直接按链式法则（chain rule）手工推导每个参数的偏导数。\n",
    "\n",
    "优点：\n",
    "\n",
    "* 能得到**精确的解析梯度**，没有数值误差。\n",
    "* 数学上严谨。\n",
    "\n",
    "缺点：\n",
    "\n",
    "* **枯燥繁琐**：网络层数一多，公式就会爆炸式增长。\n",
    "* **容易出错**：人工推导常常漏项或符号错误。\n",
    "* **难以通用**：每换一个网络结构，都要重新手工推导一遍，无法转化成通用程序。\n"
   ],
   "id": "ae1485cc7eaa8f4f"
  },
  {
   "metadata": {},
   "cell_type": "markdown",
   "source": [
    "考虑一个最小的两层网络：\n",
    "输入 $\\mathbf{x} \\in \\mathbb{R}^2$，隐藏层 2 个神经元，输出层 1 个神经元。\n",
    "\n",
    "**模型公式：**\n",
    "\n",
    "**隐藏层：**\n",
    "$$\n",
    "z^{(1)} = W^{(1)} \\mathbf{x} + b^{(1)}, \\quad a^{(1)} = \\sigma(z^{(1)})\n",
    "$$\n",
    "\n",
    "**输出层：**\n",
    "$$\n",
    "z^{(2)} = W^{(2)} a^{(1)} + b^{(2)}, \\quad \\hat{y} = \\sigma(z^{(2)})\n",
    "$$\n",
    "\n",
    "其中 $\\sigma$ 为 Sigmoid 激活函数：\n",
    "$$\n",
    "\\sigma(u) = \\frac{1}{1+e^{-u}}\n",
    "$$\n",
    "\n",
    "\n",
    "\n",
    "采用平方误差：\n",
    "$$\n",
    "L = \\frac{1}{2} (y - \\hat{y})^2\n",
    "$$\n",
    "\n",
    "\n",
    "\n",
    "我们想要求 $\\frac{\\partial L}{\\partial W^{(2)}}$ 和 $\\frac{\\partial L}{\\partial W^{(1)}}$。\n",
    "\n",
    "\n",
    "\n",
    "对输出层权重 $W^{(2)}$：\n",
    "$$\n",
    "\\frac{\\partial L}{\\partial W^{(2)}}\n",
    "= \\frac{\\partial L}{\\partial \\hat{y}} \\cdot \\frac{\\partial \\hat{y}}{\\partial z^{(2)}} \\cdot \\frac{\\partial z^{(2)}}{\\partial W^{(2)}}\n",
    "$$\n",
    "\n",
    "分别计算：\n",
    "\n",
    "- $\\frac{\\partial L}{\\partial \\hat{y}} = -(y - \\hat{y})$\n",
    "- $\\frac{\\partial \\hat{y}}{\\partial z^{(2)}} = \\hat{y}(1-\\hat{y})$\n",
    "- $\\frac{\\partial z^{(2)}}{\\partial W^{(2)}} = a^{(1)}$\n",
    "\n",
    "所以：\n",
    "$$\n",
    "\\frac{\\partial L}{\\partial W^{(2)}} = -(y - \\hat{y}) \\cdot \\hat{y}(1-\\hat{y}) \\cdot a^{(1)}\n",
    "$$\n",
    "\n",
    "\n",
    "\n",
    "对输入层权重 $W^{(1)}$：\n",
    "$$\n",
    "\\frac{\\partial L}{\\partial W^{(1)}}\n",
    "= \\frac{\\partial L}{\\partial \\hat{y}} \\cdot\n",
    "\\frac{\\partial \\hat{y}}{\\partial z^{(2)}} \\cdot\n",
    "\\frac{\\partial z^{(2)}}{\\partial a^{(1)}} \\cdot\n",
    "\\frac{\\partial a^{(1)}}{\\partial z^{(1)}} \\cdot\n",
    "\\frac{\\partial z^{(1)}}{\\partial W^{(1)}}\n",
    "$$\n",
    "\n",
    "分别计算：\n",
    "\n",
    "- $\\frac{\\partial L}{\\partial \\hat{y}} = -(y - \\hat{y})$\n",
    "- $\\frac{\\partial \\hat{y}}{\\partial z^{(2)}} = \\hat{y}(1-\\hat{y})$\n",
    "- $\\frac{\\partial z^{(2)}}{\\partial a^{(1)}} = W^{(2)}$\n",
    "- $\\frac{\\partial a^{(1)}}{\\partial z^{(1)}} = a^{(1)}(1-a^{(1)})$ （逐元素）\n",
    "- $\\frac{\\partial z^{(1)}}{\\partial W^{(1)}} = \\mathbf{x}$\n",
    "\n",
    "合并：\n",
    "$$\n",
    "\\frac{\\partial L}{\\partial W^{(1)}}\n",
    "= \\Big( -(y - \\hat{y}) \\cdot \\hat{y}(1-\\hat{y}) \\cdot W^{(2)} \\Big)\n",
    "\\odot \\big(a^{(1)}(1-a^{(1)})\\big) \\cdot \\mathbf{x}^T\n",
    "$$\n",
    "\n",
    "\n",
    "\n",
    "**结论与评价：**\n",
    "\n",
    "- 一层还能手写。\n",
    "- 层数一多，链式法则展开就非常冗长。\n",
    "- 推导过程容易漏项、符号出错。\n",
    "\n",
    "这就是符号法的 **枯燥与不易编程** 之处。\n",
    "因此我们需要 **反向传播算法**，用统一的矩阵运算高效实现梯度计算。\n"
   ],
   "id": "4d77316c85a6104"
  },
  {
   "metadata": {},
   "cell_type": "markdown",
   "source": [
    "3. 反向传播\n",
    "\n",
    "用统一的矩阵运算，把梯度传播过程高效、程序化地实现出来。\n",
    "\n",
    "- 设定与记号\n",
    "\n",
    "* 批量输入：\\$X\\in\\mathbb{R}^{m\\times d\\_0}\\$，\\$m\\$ 为 batch 大小\n",
    "* 第 \\$i\\$ 层参数：\\$W\\_i\\in\\mathbb{R}^{d\\_i\\times d\\_{i+1}}\\$，\\$b\\_i\\in\\mathbb{R}^{1\\times d\\_{i+1}}\\$（按行广播）\n",
    "* 预激活/激活：\\$A\\_i=Z\\_i W\\_i + b\\_i,\\quad Z\\_{i+1}=\\sigma\\_i(A\\_i)\\$\n",
    "* 输出：\\$\\hat Y=Z\\_{L+1}\\$，标签 \\$Y\\in\\mathbb{R}^{m\\times d\\_{L+1}}\\$\n",
    "* 损失（均方误差，取平均）：\n",
    "\n",
    "  $$\n",
    "  \\ell(\\hat Y,Y)=\\frac{1}{2m}\\,\\lVert \\hat Y-Y\\rVert_F^2\n",
    "  $$\n",
    "\n",
    "\n",
    "\n",
    "- 前向传播 （Forward pass）\n",
    "\n",
    "1. 初始化：$Z_1=X$\n",
    "2. 迭代（\\$i=1,\\dots,L\\$）：\n",
    "\n",
    "   $$\n",
    "   A_i = Z_i W_i + b_i,\\qquad Z_{i+1}=\\sigma_i(A_i)\n",
    "   $$\n",
    "\n",
    "\n",
    "\n",
    "- 反向传播 （Backward pass）\n",
    "\n",
    "1. 初始化输出层梯度：\n",
    "\n",
    "   $$\n",
    "   G_{L+1} \\;=\\; \\nabla_{Z_{L+1}}\\ell \\;=\\; \\frac{1}{m}\\,(\\,Z_{L+1}-Y\\,)\n",
    "   $$\n",
    "2. 反向迭代（\\$i=L,\\dots,1\\$）：\n",
    "\n",
    "   * 层内误差信号（Hadamard 乘积）\n",
    "\n",
    "     $$\n",
    "     \\delta_i \\;=\\; G_{i+1}\\ \\circ\\ \\sigma_i'(A_i)\n",
    "     $$\n",
    "   * 本层参数梯度\n",
    "\n",
    "     $$\n",
    "     \\nabla_{W_i}\\ell \\;=\\; Z_i^\\top\\delta_i,\n",
    "     \\qquad\n",
    "     \\nabla_{b_i}\\ell \\;=\\; \\mathbf{1}^\\top\\delta_i \\quad(\\mathbf{1}\\in\\mathbb{R}^{m\\times 1})\n",
    "     $$\n",
    "   * 传回上一层的梯度\n",
    "\n",
    "     $$\n",
    "     G_i \\;=\\; \\delta_i\\, W_i^\\top\n",
    "     $$\n",
    "\n",
    "\n",
    "\n",
    "-  总结\n",
    "\n",
    "> ** 反向传播（Backpropagation） = 链式求导法则 + 中间结果缓存（\\$Z\\_i, A\\_i\\$）**\n",
    "\n",
    "> 计算量与一次前向传播同阶（仅常数倍开销），且解析精确、可向量化、高效实现。\n",
    "\n"
   ],
   "id": "93e4d88bf5ed5713"
  },
  {
   "metadata": {},
   "cell_type": "markdown",
   "source": [
    "\n",
    "随堂练习：用numpy实现简单 反向传播\n",
    "\n",
    "考虑一个两层 MLP：\n",
    "\n",
    "* 输入 \\$\\mathbf{x} \\in \\mathbb{R}^2\\$\n",
    "* 隐藏层：2 个神经元，激活函数为 **Sigmoid**\n",
    "* 输出层：1 个神经元，激活函数为 **Sigmoid**\n",
    "\n",
    "\n",
    "\n",
    "1. 神经网络结构\n",
    "\n",
    "**前向传播 Forward pass：**\n",
    "\n",
    "* 隐藏层：\n",
    "\n",
    "$$\n",
    "a^{(1)} = W^{(1)} \\mathbf{x} + b^{(1)}, \\quad\n",
    "z^{(1)} = \\sigma(a^{(1)})\n",
    "$$\n",
    "\n",
    "* 输出层：\n",
    "\n",
    "$$\n",
    "\\hat{y} = W^{(2)} z^{(1)} + b^{(2)}\n",
    "$$\n",
    "\n",
    "* 损失函数（平方误差）：\n",
    "\n",
    "$$\n",
    "L = \\tfrac{1}{2} (\\hat{y} - y)^2\n",
    "$$\n",
    "\n",
    "\n",
    "\n",
    "2. 参数设置\n",
    "\n",
    "给定一组具体参数：\n",
    "\n",
    "* 输入 \\$\\mathbf{x} = \\begin{bmatrix}1 \\ 0\\end{bmatrix}\\$\n",
    "* 目标输出 \\$y = 1\\$\n",
    "* \\$W^{(1)} = \\begin{bmatrix}0.5 & -0.5 \\ 0.3 & 0.8 \\end{bmatrix}, \\quad b^{(1)} = \\begin{bmatrix}0 \\ 0\\end{bmatrix}\\$\n",
    "* \\$W^{(2)} = \\begin{bmatrix}1 \\ -1\\end{bmatrix}^T, \\quad b^{(2)} = 0\\$\n",
    "\n",
    "\n",
    "\n",
    "3. 任务\n",
    "\n",
    "a. **前向传播**\n",
    "\n",
    "b. **反向传播**：\n",
    "   计算以下梯度：\n",
    "\n",
    "   * \\$\\frac{\\partial L}{\\partial W^{(2)}}, \\frac{\\partial L}{\\partial W^{(1)}}\\$\n",
    "\n",
    "提示：Sigmoid 导数为\n",
    "\n",
    "$$\n",
    "\\sigma'(u) = \\sigma(u)(1-\\sigma(u))\n",
    "$$\n",
    "\n"
   ],
   "id": "568e5a5f36f0118f"
  },
  {
   "metadata": {
    "ExecuteTime": {
     "end_time": "2025-08-21T14:34:31.637791Z",
     "start_time": "2025-08-21T14:34:31.618579Z"
    }
   },
   "cell_type": "code",
   "source": [
    "# 随堂练习： 自己实现 有1个隐藏层的MLP的 反向传播计算梯度的过程\n",
    "\n",
    "def sigmoid(z):\n",
    "    return 1 / (1 + np.exp(-z))\n",
    "\n",
    "def forward_pass(w1, b1, w2, b2, x):\n",
    "    # todo:\n",
    "    ...\n",
    "\n",
    "def backprop(w1, b1, w2, b2, x, y):\n",
    "    # todo:\n",
    "    ...\n",
    "\n",
    "def loss(w1, b1, w2, b2, x, y):\n",
    "    # todo:\n",
    "    ...\n",
    "\n",
    "def compute_dw_check(w1, b1, w2, b2, x, y, eps=1e-7):\n",
    "    dw1 = []\n",
    "    for i in range(w1.shape[0]):\n",
    "        for j in range(w1.shape[1]):\n",
    "            eps_mat = np.zeros_like(w1)\n",
    "            eps_mat[i, j] = eps\n",
    "            dw1.append((loss(w1 + eps_mat, b1, w2, b2, x, y) - loss(w1 - eps_mat, b1, w2, b2, X_input, y_target)) / (2*eps))\n",
    "\n",
    "    w2_1_approx = (loss(w1, b1, w2 + np.array([[eps], [0]]), b2, x, y) - loss(w1, b1, w2 - np.array([[eps], [0]]), b2, X_input, y_target)) / (2*eps)\n",
    "    w2_2_approx = (loss(w1, b1, w2 + np.array([[0], [eps]]), b2, x, y) - loss(w1, b1, w2 - np.array([[0], [eps]]), b2, X_input, y_target)) / (2*eps)\n",
    "\n",
    "    return  {\"dw1\": np.array(dw1).reshape(w1.shape), \"dw2\": np.array([w2_1_approx, w2_2_approx]).reshape(w2.shape)}\n",
    "\n",
    "# 变量初始化\n",
    "X_input = np.array([[1,0]])\n",
    "y_target = 1\n",
    "\n",
    "W1 = np.array([[0.5,-0.5],\n",
    "               [0.3, 0.8]])\n",
    "b1 = np.array([[0,0]])\n",
    "\n",
    "W2 = np.array([[1],\n",
    "               [-1]])\n",
    "\n",
    "b2 = 0\n",
    "\n",
    "\n",
    "gradient_check_result = compute_dw_check(W1, b1, W2, b2, X_input, y_target)\n",
    "backprop_result = backprop(W1, b1, W2, b2, X_input, y_target)\n",
    "\n",
    "for k in [\"dw1\", \"dw2\"]:\n",
    "    print(f\"梯度检查 {k}：\\n{gradient_check_result[k]}\")\n",
    "    print(f\"反向传播 {k} \\n{backprop_result[k]}\")"
   ],
   "id": "2d3bcca5fdd48ad9",
   "outputs": [
    {
     "name": "stdout",
     "output_type": "stream",
     "text": [
      "梯度检查 dw1：\n",
      "[[-0.02541303  0.02541303]\n",
      " [ 0.          0.        ]]\n",
      "反向传播 dw1 \n",
      "[[-0.02541303  0.02541303]\n",
      " [ 0.          0.        ]]\n",
      "梯度检查 dw2：\n",
      "[[-0.06731203]\n",
      " [-0.04082681]]\n",
      "反向传播 dw2 \n",
      "[[-0.06731203]\n",
      " [-0.04082681]]\n"
     ]
    }
   ],
   "execution_count": 29
  },
  {
   "metadata": {},
   "cell_type": "markdown",
   "source": [
    "了解下反向传播计算梯度的优势后，更详细地了解一下反向传播的工作流程：\n",
    "\n",
    "- 它一次处理一个小批量（例如，每次包含32个实例），并且多次遍历整个训练集。每次遍历都称为一个轮次。\n",
    "- 每个小批量通过输入层进入网络。然后，该算法为小批量中的每个实例计算第一个隐藏层中所有神经元的输出。结果传递到下一层，计算其输出并传递到下一层，以此类推，直到获得最后一层的输出，即输出层。这就是前向传递(forward pass)：就像进行预测一样，只是保留了所有中间结果，因为反向传递需要它们。\n",
    "- 接下来，该算法测量网络的输出误差（即该算法使用一种损失函数，该函数将网络的期望输出与实际输出进行比较，并返回一些误差测量值）。\n",
    "- 然后它计算每个输出偏置和到输出层的每个连接对误差的贡献程度。通过应用链式求导法则来进行分析，从而使此步骤变得快速而精确。\n",
    "- 之后，该算法再次使用链式法则测量这些误差贡献中有多少来自下层中的每个连接，算法一直进行，到达输入层为止。如前所述，这种反向传递通过在网络中向后传播误差梯度（因此得名该算法），有效地测量了网络中所有连接权重和偏置的误差梯度。\n",
    "- 最后，该算法执行梯度下降步骤，使用刚刚计算出的误差梯度来调整网络中的所有连接权重\n",
    "\n",
    "注意：随机初始化所有隐藏层的连接权重很重要，否则训练将失败。例如，如果将所有权重和偏置初始化为零，则给定层中的所有神经元将完全相同，从而反向传播将以完全相同的方式影响它们，因此它们将保持相同。换句话说，尽管每层有数百个神经元，但是模型会像每层只有一个神经元一样工作：不会太聪明。\n",
    "\n",
    "相反，如果随机初始化权重，则会破坏对称性，并允许反向传播来训练各种各样的神经元。简而言之，反向传播对小批量进行预测（前向传递），测量误差，然后反向通过每一层以测量每个参数的误差贡献（反向传递），最后调整连接权重和偏置以减少误差（梯度下降步骤）。"
   ],
   "id": "c2a731a8b0bc07e7"
  },
  {
   "metadata": {},
   "cell_type": "markdown",
   "source": [
    "为了让反向传播算法正常工作，作者对MLP的架构进行了重要更改：将阶跃函数替换为逻辑函数σ(z)=1/(1+exp(-z))，也称为sigmoid函数。这一点很重要，因为阶跃函数仅包含平坦段，所以没有梯度可使用（梯度下降不能在平面上移动），而sigmoid函数在各处均具有定义明确的非零导数，从而使梯度下降在每一步都可以有所进展。实际上，反向传播算法可以与许多其他激活函数（不仅是sigmoid函数）一起很好地工作。这是另外两个受欢迎的选择：\n",
    "\n",
    "**双曲正切函数**：\n",
    "$$\n",
    "\\tanh(z) = 2\\sigma(2z) - 1\n",
    "$$\n",
    "\n",
    "与 sigmoid 函数一样，该激活函数为 S 形，连续且可微，但其输出值范围为 $-1 \\sim 1$ （而不是 sigmoid 函数的 $0 \\sim 1$）。\n",
    "在训练开始时，该范围倾向于使每一层的输出或多或少地以 0 为中心，这通常有助于加快收敛速度。\n",
    "\n",
    "\n",
    "\n",
    "**线性整流单元函数**：\n",
    "$$\n",
    "\\text{ReLU}(z) = \\max(0, z)\n",
    "$$\n",
    "\n",
    "ReLU 函数是连续的，但不幸的是，在 $z=0$ 时，该函数不可微分（斜率会突然变化，这可能使梯度下降反弹），如果 $z<0$ 则其导数为 $0$。\n",
    "但是，实际应用中，它运行良好并且具有计算快速的优点，因此它已成为默认值 。\n",
    "\n",
    "重要的是，它没有最大输出值这一事实有助于减少“梯度下降”期间的某些问题（之后对此进行讨论）。\n",
    "\n"
   ],
   "id": "7d80b5b07d84371c"
  },
  {
   "metadata": {
    "ExecuteTime": {
     "end_time": "2025-08-21T14:58:36.794817Z",
     "start_time": "2025-08-21T14:58:35.721626Z"
    }
   },
   "cell_type": "code",
   "source": [
    "import matplotlib.pyplot as plt\n",
    "\n",
    "def relu(z):\n",
    "    return np.maximum(0, z)\n",
    "\n",
    "def derivative(f, z, eps=0.000001):\n",
    "    return (f(z + eps) - f(z - eps))/(2 * eps)\n",
    "\n",
    "max_z = 4.5\n",
    "z = np.linspace(-max_z, max_z, 200)\n",
    "\n",
    "plt.figure(figsize=(11, 3.1))\n",
    "\n",
    "plt.subplot(121)\n",
    "plt.plot([-max_z, 0], [0, 0], \"r-\", linewidth=2, label=\"Heaviside\")\n",
    "plt.plot(z, relu(z), \"m-.\", linewidth=2, label=\"ReLU\")\n",
    "plt.plot([0, 0], [0, 1], \"r-\", linewidth=0.5)\n",
    "plt.plot([0, max_z], [1, 1], \"r-\", linewidth=2)\n",
    "plt.plot(z, sigmoid(z), \"g--\", linewidth=2, label=\"Sigmoid\")\n",
    "plt.plot(z, np.tanh(z), \"b-\", linewidth=1, label=\"Tanh\")\n",
    "plt.grid(True)\n",
    "plt.title(\"Activation functions\")\n",
    "plt.axis([-max_z, max_z, -1.65, 2.4])\n",
    "plt.gca().set_yticks([-1, 0, 1, 2])\n",
    "plt.legend(loc=\"lower right\", fontsize=13)\n",
    "\n",
    "plt.subplot(122)\n",
    "plt.plot(z, derivative(np.sign, z), \"r-\", linewidth=2, label=\"Heaviside\")\n",
    "plt.plot(0, 0, \"ro\", markersize=5)\n",
    "plt.plot(0, 0, \"rx\", markersize=10)\n",
    "plt.plot(z, derivative(sigmoid, z), \"g--\", linewidth=2, label=\"Sigmoid\")\n",
    "plt.plot(z, derivative(np.tanh, z), \"b-\", linewidth=1, label=\"Tanh\")\n",
    "plt.plot([-max_z, 0], [0, 0], \"m-.\", linewidth=2)\n",
    "plt.plot([0, max_z], [1, 1], \"m-.\", linewidth=2)\n",
    "plt.plot([0, 0], [0, 1], \"m-.\", linewidth=1.2)\n",
    "plt.plot(0, 1, \"mo\", markersize=5)\n",
    "plt.plot(0, 1, \"mx\", markersize=10)\n",
    "plt.grid(True)\n",
    "plt.title(\"Derivatives\")\n",
    "plt.axis([-max_z, max_z, -0.2, 1.2])\n",
    "\n",
    "plt.show()"
   ],
   "id": "963ce9d829b79d4d",
   "outputs": [
    {
     "data": {
      "text/plain": [
       "<Figure size 1100x310 with 2 Axes>"
      ],
      "image/png": "[encoded data removed]"
     },
     "metadata": {},
     "output_type": "display_data"
    }
   ],
   "execution_count": 30
  },
  {
   "metadata": {},
   "cell_type": "markdown",
   "source": [
    "为什么需要激活函数？\n",
    "\n",
    "如果连接多个线性变换，那么得到的只是一个线性变换。例如，如果 $f(x)=2x+3$ 且 $g(x)=5x-1$，则连接这两个线性函数可以得到另一个线性函数：\n",
    "$$\n",
    "f(g(x)) = 2(5x-1)+3 = 10x+1\n",
    "$$\n",
    "\n",
    "因此，如果层之间没有非线性，那么即使是很深的层堆叠也等同于单个层，因此你无法解决非常复杂的问题。\n",
    "\n",
    "相反，具有非线性激活的足够大的 DNN 理论上可以近似任何连续函数。"
   ],
   "id": "1227fcee78bff1f9"
  },
  {
   "metadata": {
    "ExecuteTime": {
     "end_time": "2025-08-22T09:12:48.382356Z",
     "start_time": "2025-08-22T09:12:48.371876Z"
    }
   },
   "cell_type": "code",
   "source": [
    "def sigmoid(zi_bian_liang):\n",
    "    return 1 / (1+np.exp(-zi_bian_liang))\n",
    "\n",
    "x = 0.5\n",
    "y = sigmoid(0.5)\n",
    "\n",
    "dy_dx = (sigmoid(0.5 + 1e-7) - sigmoid(0.5)) / (1e-7)\n",
    "print(dy_dx)\n",
    "\n",
    "print(y * (1-y))"
   ],
   "id": "f10c57878b80caf5",
   "outputs": [
    {
     "name": "stdout",
     "output_type": "stream",
     "text": [
      "0.23500370871509801\n",
      "0.2350037122015945\n"
     ]
    }
   ],
   "execution_count": 23
  },
  {
   "metadata": {},
   "cell_type": "markdown",
   "source": "## MLP回归",
   "id": "bdf6434e05fabcf9"
  },
  {
   "metadata": {},
   "cell_type": "markdown",
   "source": [
    "MLP可用于回归任务。如果要预测单个值（例如，房屋的价格，给定其许多特征），则只需要单个输出神经元：其输出就是预测值。\n",
    "\n",
    "对于多元回归（即一次预测多个值），每个输出维度需要一个输出神经元。例如，要在图像中定位物体的中心，你需要预测2D坐标，因此需要两个输出神经元。\n",
    "\n",
    "如果还想在物体周围放置边框，则还需要两个数值：物体的宽度和高度。因此，得到了四个输出神经元。"
   ],
   "id": "171d0c2f25db383a"
  },
  {
   "metadata": {},
   "cell_type": "markdown",
   "source": [
    "Scikit-Learn包含一个MLPRegressor类，用它来构建一个具有三个隐藏层的MLP，每个隐藏层由50个神经元组成，并在房屋数据集上对其进行训练。\n",
    "\n",
    "为简单起见，我们将使用Scikit-Learn的fetch_california_housing()函数来加载数据。这个数据集只包含数值特征（没有ocean_proximity特征），并且没有缺失值。\n",
    "\n",
    "下面的代码首先获取和拆分数据集，然后创建一个流水线来标准化输入特征，之后再将它们送到MLPRegressor。\n",
    "\n",
    "标准化神经网络非常重要，因为它们是使用梯度下降训练的，当特征具有非常不同的尺度时，梯度下降不会很好地收敛。\n",
    "\n",
    "最后，代码训练模型并评估其验证误差。该模型在隐藏层中使用ReLU激活函数，并使用称为Adam的梯度下降变体（后面会讨论）来最小化均方误差，并使用一点点l2正则化（你可以通过超参数alpha进行控制）："
   ],
   "id": "eea187787bf0b2fb"
  },
  {
   "metadata": {
    "ExecuteTime": {
     "end_time": "2025-08-21T23:03:37.656816Z",
     "start_time": "2025-08-21T23:03:32.192808Z"
    }
   },
   "cell_type": "code",
   "source": [
    "from sklearn.pipeline import make_pipeline\n",
    "from sklearn.neural_network import MLPRegressor\n",
    "from sklearn.model_selection import train_test_split\n",
    "from sklearn.datasets import fetch_california_housing\n",
    "from sklearn.metrics import mean_squared_error\n",
    "from sklearn.preprocessing import StandardScaler\n",
    "\n",
    "housing = fetch_california_housing()  # 可能要换成作业5的数据集\n",
    "X_train_full, X_test, y_train_full, y_test = train_test_split(housing.data, housing.target, random_state=42)\n",
    "X_train, X_valid, y_train, y_valid = train_test_split(X_train_full, y_train_full, random_state=42)\n",
    "\n",
    "mlp_reg = MLPRegressor(hidden_layer_sizes=[50,50,50], random_state=42)\n",
    "pipeline = make_pipeline(StandardScaler(), mlp_reg)\n",
    "pipeline.fit(X_train, y_train)\n",
    "\n",
    "y_pred = pipeline.predict(X_valid)\n",
    "rmse = mean_squared_error(y_valid, y_pred, squared=False)\n",
    "\n",
    "rmse"
   ],
   "id": "17b50bab1a6b919",
   "outputs": [
    {
     "data": {
      "text/plain": [
       "0.5053326657968626"
      ]
     },
     "execution_count": 3,
     "metadata": {},
     "output_type": "execute_result"
    }
   ],
   "execution_count": 3
  },
  {
   "metadata": {},
   "cell_type": "markdown",
   "source": [
    "注意，此 MLP 不对输出层使用任何激活函数，因此它可以自由输出它想要的任何值。这通常没问题，但是如果你想保证输出永远是正数，那么你应该在输出层使用 ReLU 激活函数，或者 softplus 激活函数，它是 ReLU 的平滑变体：\n",
    "\n",
    "$$\n",
    "\\text{softplus}(z) = \\log(1 + \\exp(z))\n",
    "$$\n",
    "\n",
    "当 $z$ 为负时，softplus 接近 0；当 $z$ 为正时，softplus 接近 $z$。\n",
    "\n",
    "最后，如果你想保证预测总是落在给定的值范围内，那么你应该使用 sigmoid 函数或双曲正切函数，并将目标缩放到适当的范围：\n",
    "\n",
    "- sigmoid 为 $0 \\sim 1$\n",
    "- tanh 为 $-1 \\sim 1$\n",
    "\n",
    "遗憾的是，`MLPRegressor` 类不支持输出层中的激活函数。\n",
    "\n",
    "只需几行代码即可使用Scikit-Learn构建和训练标准MLP，但构建出的神经网络功能有限。这就是马上使用Keras实现MLP的原因。"
   ],
   "id": "24a0a8e4cba611"
  },
  {
   "metadata": {},
   "cell_type": "markdown",
   "source": [
    "`MLPRegressor` 类使用均方误差，这通常是回归所需的，但如果训练集中有很多异常值，可能更愿意改用平均绝对误差。\n",
    "\n",
    "或者，可能想要使用 Huber 损失，它是两者的组合。当误差小于阈值 $\\delta$（通常为 1）时，它是二次的，但当误差大于 $\\delta$ 时，它是线性的。线性部分使其对异常值的敏感度低于均方误差，而二次部分使其收敛速度更快，比平均绝对误差更精确。但是，`MLPRegressor` 只支持 MSE。\n",
    "\n",
    "下表总结了回归 MLP 的典型架构。\n",
    "\n",
    "** 典型的回归 MLP 架构**\n",
    "\n",
    "| 超参数                     | 典型值                                                                 |\n",
    "|----------------------------|------------------------------------------------------------------------|\n",
    "| 隐藏层数量                 | 取决于问题，但通常为 1～5                                               |\n",
    "| 每个隐藏层的神经元数量     | 取决于问题，但通常为 10～100                                            |\n",
    "| 输出神经元数量             | 每个预测维度输出 1 个神经元                                             |\n",
    "| 隐藏层激活                 | ReLU                                                                   |\n",
    "| 输出激活                   | 无，或 ReLU/softplus（如果输出为正）或 sigmoid/tanh（如果输出有界）       |\n",
    "| 损失函数                   | MSE，或 Huber（如果存在异常值）                                         |\n"
   ],
   "id": "b6768b490b500ba7"
  },
  {
   "metadata": {},
   "cell_type": "markdown",
   "source": "## MLP分类",
   "id": "eebf3d1dea94938d"
  },
  {
   "metadata": {},
   "cell_type": "markdown",
   "source": "todo： MLP分类的内容",
   "id": "651242cb998e7dc2"
  },
  {
   "metadata": {},
   "cell_type": "markdown",
   "source": [
    "随堂练习：使用Tensorflow playground（神经网络模拟器）：https://playground.tensorflow.org/， 感受神经网络的相关超参数\n",
    "\n",
    "a.神经网络学习到的模式。单击“Run”按钮（左上方），尝试训练默认的神经网络。请注意，它如何快速找到一个适合分类任务的最优解。第一隐藏层中的神经元已经学会了简单模式，而第二隐藏层中的神经元已经学会了将第一隐藏层的简单模式组合为更复杂的模式。通常，层数越多，模式越复杂。\n",
    "\n",
    "b.激活函数。尝试用ReLU激活函数替换tanh激活函数，然后再次训练网络。注意，它很快找到了最优解，但这次边界是线性的。这是由于ReLU函数的形状引起的。\n",
    "\n",
    "c.局部极小值的风险。修改网络架构，使其只有一个具有3个神经元的隐藏层。对其进行多次训练（要重置网络权重，请单击“Play”按钮旁边的“Reset”按钮）。请注意，训练时间变化很大，有时甚至会停留在局部最小值中。\n",
    "\n",
    "d.当神经网络太小时会发生的情况。删除一个神经元，只保留两个。请注意，即使你尝试多次，神经网络现在也无法找到一个好的解。该模型的参数太少，系统欠拟合训练集。\n",
    "\n",
    "e.当神经网络足够大时会发生的情况。将神经元的数量设置为8个，然后对网络进行几次训练。请注意，它现在始终能快速运行，并且不会卡在某一点。这显示了神经网络理论中的一个重要发现：大型神经网络很少会陷入局部极小值，即使陷入了，这些局部最优也几乎与全局最优一样好。但是，它们仍然可能在很长一段时间内停滞不前。\n",
    "\n",
    "f. 深层网络中梯度消失的风险。选择spiral数据集（“DATA”下的右下数据集），并将网络架构更改为4个隐藏层，每个隐藏层具有8个神经元。请注意，训练花费的时间更长，并且经常长时间停滞不前。还要注意，（右侧）最高层的神经元倾向于比（左侧）最低层的神经元更快地进化。这个问题称为“梯度消失”，可以通过后面要讨论的其他技术来缓解。\n",
    "\n",
    "g. 尝试其他参数，建立对神经网络的直观了解。"
   ],
   "id": "8d12fb501f5ded5f"
  },
  {
   "metadata": {},
   "cell_type": "code",
   "outputs": [],
   "execution_count": null,
   "source": "",
   "id": "bc0a75a8206d7d28"
  }
 ],
 "metadata": {
  "kernelspec": {
   "display_name": "Python 3",
   "language": "python",
   "name": "python3"
  },
  "language_info": {
   "codemirror_mode": {
    "name": "ipython",
    "version": 2
   },
   "file_extension": ".py",
   "mimetype": "text/x-python",
   "name": "python",
   "nbconvert_exporter": "python",
   "pygments_lexer": "ipython2",
   "version": "2.7.6"
  }
 },
 "nbformat": 4,
 "nbformat_minor": 5
}
