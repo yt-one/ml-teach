{
 "cells": [
  {
   "metadata": {},
   "cell_type": "markdown",
   "source": [
    "**神经网络（Neural Network）** 指的是一种特定类型的假设函数，它由 **多个参数化的、可微分的函数（也称为“层”）组合而成，用于形成输出**。\n",
    "\n",
    "这个术语源自生物学的启发，但实际上只要符合上述类型的任何假设函数，都可以被称为神经网络，和生物学关联不大\n",
    "\n",
    "神经网络是深度学习的核心。它们用途广泛、功能强大且可扩展，使其非常适合处理大型和高度复杂的机器学习任务，例如对数十亿个图像进行分类（例如Google Images），为语音识别服务提供支持，每天向成千上万的用户推荐（例如抖音）观看的最佳视频，或学习在围棋游戏（DeepMind的AlphaGo）中击败世界冠军。\n",
    "\n",
    "学习顺序：浏览下最简单的神经网络，然后到多层感知机，之后通过Tensorflow的Keras API实现神经网络"
   ],
   "id": "e864a7d6bec1756c"
  },
  {
   "metadata": {},
   "cell_type": "markdown",
   "source": [
    "## 神经网络的发展过程\n",
    "\n",
    "1. 人工神经网络已经存在很长一段时间了：它们于1943首次提出，该模型计算了生物神经元如何在动物大脑中协同工作，利用命题逻辑进行复杂的计算。这是第一个人工神经网络架构。从那时起，许多其他架构被发明出来。\n",
    "\n",
    "2. 人工神经网络的早期成功导致人们普遍相信，我们很快将与真正的智能机器进行对话。当在20世纪60年代人们清楚地知道不能兑现这一承诺（至少相当长一段时间）时，资金流向了其他地方，人工神经网络进入了漫长的冬天。\n",
    "\n",
    "3. 在20世纪80年代初期，发明了新的架构，并开发了更好的训练技术，从而激发了人们对连接主义（神经网络的研究）的兴趣。但是进展缓慢。\n",
    "\n",
    "4. 到了20世纪90年代，发明了其他强大的机器学习技术，例如支持向量机。这些技术提供了似乎比人工神经网络更好的结果和更坚实的理论基础，神经网络的研究再次被搁置。\n",
    "\n",
    "5. 现在目睹了对人工神经网络的另一波兴趣。这波浪潮会像以前一样消灭吗？这里有一些充分的理由使我们相信这次是不同的，人们对人工神经网络重新充满兴趣将对我们的生活产生更深远的影响：\n",
    "    - 现在有大量数据可用于训练神经网络，并且在非常大和复杂的问题上，人工神经网络通常优于其他机器学习技术。\n",
    "    - 自20世纪90年代以来，计算能力的飞速增长使得现在有可能在合理的时间内训练大型神经网络。这部分是由于摩尔定律（集成电路中的器件数量在过去的50年中，每两年大约增加一倍）这还要归功于游戏产业——刺激了数百万计强大的GPU卡的生产。此外，云平台已使所有人都可以使用这个功能。\n",
    "    - 训练算法已得到改进。它们与20世纪90年代使用的略有不同，但是这些相对较小的调整产生了巨大的积极影响。\n",
    "    - 在实践中，人工神经网络的一些理论局限性被证明是良性的。例如，许多人认为ANN训练算法注定要失败，因为它们可能会陷入局部最优解，但事实证明这在实践中并不是一个大问题，尤其是对于较大的神经网络：局部最优解通常表现得几乎与全局最优解一样好。\n",
    "    - 人工神经网络似乎已经进入了资金和发展的良性循环。基于人工神经网络的好产品会成为头条新闻，这吸引了越来越多的关注和资金，从而带来了越来越多的进步甚至产生了惊人的产品。"
   ],
   "id": "89bed25200f54f6"
  },
  {
   "metadata": {},
   "cell_type": "markdown",
   "source": "## 感知机",
   "id": "777fd34d480360ea"
  },
  {
   "metadata": {},
   "cell_type": "markdown",
   "source": [
    "感知机是最简单的神经网络架构，于 1957 年发明。它称为阈值逻辑单元（Threshold Logic Unit，TLU），有时也称为线性阈值单元（Linear Threshold Unit，LTU）。输入和输出是数字（而不是二进制开/关值），并且每个输入连接都与权重相关联。TLU 首先计算其输入的线性函数：\n",
    "\n",
    "$$z = w_1 x_1 + w_2 x_2 + \\dots + w_n x_n + b = \\mathbf{w}^T \\mathbf{x} + b.$$\n",
    "\n",
    "然后它对结果应用阶跃函数：\n",
    "\n",
    "$$h_w(x) = \\text{step}(z).$$\n",
    "\n",
    "所以它几乎与逻辑回归一样，只是它使用阶跃函数而不是sigmoid函数。就像在逻辑回归中一样，模型参数是输入权重 $\\mathbf{w}$ 和偏置项 $b$。\n",
    "\n",
    "![TLU单元](./images/neural_network/p1.png)"
   ],
   "id": "cfad556317b92331"
  },
  {
   "metadata": {},
   "cell_type": "markdown",
   "source": [
    "感知机中最常用的阶跃函数是 Heaviside 阶跃函数。有时使用符号函数代替。\n",
    "\n",
    "**公式：感知机中使用的常见阶跃函数（假设阈值 = 0）**\n",
    "\n",
    "$$\n",
    "\\text{heaviside}(z) =\n",
    "\\begin{cases}\n",
    "0, & z < 0 \\\\\n",
    "1, & z \\ge 0\n",
    "\\end{cases}\n",
    "\\qquad\n",
    "\\text{sgn}(z) =\n",
    "\\begin{cases}\n",
    "-1, & z < 0 \\\\\n",
    "0, & z = 0 \\\\\n",
    "+1, & z > 0\n",
    "\\end{cases}\n",
    "$$\n",
    "\n",
    "单个 TLU 可用于简单的线性二元分类。它计算其输入的线性函数，如果该结果大于阈值，则输出正类；否则，它输出负类。\n",
    "\n",
    "有点像逻辑回归 或线性 SVM 分类。例如，可以使用单个 TLU 根据花瓣长度和宽度对鸢尾花进行分类。训练这样的 TLU 需要求出 $w_1、w_2$ 和 $b$ 的正确值（训练算法将在稍后讨论）。\n"
   ],
   "id": "7be43ad2a3125f00"
  },
  {
   "metadata": {},
   "cell_type": "markdown",
   "source": [
    " 感知机由一个或多个组织在单层中的TLU组成，其中每个TLU都连接到每个输入。这样的层称为全连接层，或密集层。这些输入构成输入层。由于TLU层产生最终输出，因此称为输出层。例如，具有两个输入和三个输出的感知机如下图所示：\n",
    "\n",
    "![两个输入神经元和三个输出神经元的感知机](./images/neural_network/p2.png)\n",
    "\n",
    "这个感知机可以同时将实例分类为三个不同的二元类，这使它成为一个多标签分类器。它也可以用于多类分类。\n",
    "\n",
    "借助线性代数，下面公式 可用于同时针对多个实例有效地计算一层人工神经元的输出。\n",
    "\n",
    "**公式：计算全连接层的输出**\n",
    "\n",
    "$$\n",
    "h_{\\mathbf{w}, b}(\\mathbf{X}) = \\phi(\\mathbf{XW} + \\mathbf{b})\n",
    "$$\n",
    "\n",
    "其中：\n",
    "- $\\mathbf{X}$ 代表输入特征的矩阵。每个实例一行，每个特征一列。\n",
    "- 权重矩阵 $\\mathbf{W}$ 包含所有连接权重。每个输入一行，每个神经元一列。\n",
    "\n",
    "- 偏置向量 $\\mathbf{b}$ 包含所有偏置项：每个神经元一个。\n",
    "\n",
    "- 函数 $\\phi$ 称为激活函数：当神经元是 TLU 时，它是阶跃函数（后面会讨论其他激活函数）。\n",
    "\n"
   ],
   "id": "8184abde2cf6efd1"
  },
  {
   "metadata": {},
   "cell_type": "markdown",
   "source": [
    "## 感知机的训练\n",
    "\n",
    "感知机一次被送入一个训练实例，并且针对每个实例进行预测。对于产生错误预测的每个输出神经元，它会增强来自输入的连接权重，这些权重有助于正确的预测。这个规则公式如下：\n",
    "\n",
    "**公式：感知机学习规则（权重更新）**\n",
    "\n",
    "$$\n",
    "w_{i,j}^{\\text{下一步}} = w_{i,j} + \\eta (y_j - \\hat{y}_j) x_i\n",
    "$$\n",
    "\n",
    "其中：\n",
    "- $w_{i,j}$ 是第 $i$ 个输入和第 $j$ 个神经元之间的连接权重。\n",
    "- $x_i$ 是当前训练实例的第 $i$ 个输入值。\n",
    "- $\\hat{y}_j$ 是当前训练实例的第 $j$ 个输出神经元的输出。\n",
    "- $y_j$ 是当前训练实例的第 $j$ 个输出神经元的目标输出。\n",
    "- $\\eta$ 是学习率\n",
    "\n",
    "每个输出神经元的决策边界都是线性的，因此感知机无法学习复杂的模式（和逻辑回归很像）；但如果训练实例是线性可分离的，这个算法会收敛到一个解"
   ],
   "id": "ccac53b0fff43ba"
  },
  {
   "metadata": {
    "ExecuteTime": {
     "end_time": "2025-08-24T06:22:26.424707Z",
     "start_time": "2025-08-24T06:22:25.439740Z"
    }
   },
   "cell_type": "code",
   "source": [
    "# Scikit-Learn的 Perceptron类\n",
    "import numpy as np\n",
    "import pandas as pd\n",
    "from sklearn.datasets import load_iris\n",
    "from sklearn.linear_model import Perceptron\n",
    "from sklearn.preprocessing import StandardScaler\n",
    "\n",
    "iris = load_iris(as_frame=True)\n",
    "X = iris.data[[\"petal length (cm)\", \"petal width (cm)\"]].values\n",
    "y = (iris.target == 0)\n",
    "\n",
    "per_clf = Perceptron(random_state=42)\n",
    "per_clf.fit(X, y)\n",
    "\n",
    "print(per_clf.coef_, per_clf.intercept_)\n",
    "X_new = [[2,0.5],[3,1]]\n",
    "y_pred = per_clf.predict(X_new)\n",
    "y_pred"
   ],
   "id": "5c6ea09606c8b1fa",
   "outputs": [
    {
     "name": "stdout",
     "output_type": "stream",
     "text": [
      "[[-1.4 -2.2]] [4.]\n"
     ]
    },
    {
     "data": {
      "text/plain": [
       "array([ True, False])"
      ]
     },
     "execution_count": 1,
     "metadata": {},
     "output_type": "execute_result"
    }
   ],
   "execution_count": 1
  },
  {
   "metadata": {
    "ExecuteTime": {
     "end_time": "2025-08-24T06:22:26.518455Z",
     "start_time": "2025-08-24T06:22:26.455964Z"
    }
   },
   "cell_type": "code",
   "source": [
    "# 练习： 自己实现一下（numpy) 感知机的训练，就用上面代码的数据集\n",
    "iris = load_iris(as_frame=True)\n",
    "X = iris.data[[\"petal length (cm)\", \"petal width (cm)\"]].values\n",
    "y = (iris.target == 0)\n",
    "\n",
    "\n",
    "# 训练过程\n",
    "np.random.seed(42)\n",
    "w = np.random.rand(2)\n",
    "b = np.random.rand()\n",
    "eta = 0.1\n",
    "epoches = 20\n",
    "\n",
    "\n",
    "for _ in range(epoches):\n",
    "    for i in range(X.shape[0]):\n",
    "        y_real = y[i]\n",
    "        y_pred = 1 if np.dot(w, X[i]) + b >= 0 else 0\n",
    "\n",
    "        w = w + eta * (y_real - y_pred) * X[i]\n",
    "        b   = b + eta*(y_real - y_pred)"
   ],
   "id": "35c465cf6e3b5360",
   "outputs": [],
   "execution_count": 2
  },
  {
   "metadata": {
    "ExecuteTime": {
     "end_time": "2025-08-24T06:22:26.549706Z",
     "start_time": "2025-08-24T06:22:26.534083Z"
    }
   },
   "cell_type": "code",
   "source": [
    "print(w, b)\n",
    "X_new = [[2,0.5],\n",
    "         [3,1]]\n",
    "\n",
    "print(X_new @ w + b  >= 0)\n",
    "\n",
    "from sklearn.metrics import accuracy_score\n",
    "accuracy_score(X@w + b >=0, y)"
   ],
   "id": "b045b14c401b9e1d",
   "outputs": [
    {
     "name": "stdout",
     "output_type": "stream",
     "text": [
      "[-0.50545988  0.50071431] 0.931993941811405\n",
      "[ True False]\n"
     ]
    },
    {
     "data": {
      "text/plain": [
       "1.0"
      ]
     },
     "execution_count": 3,
     "metadata": {},
     "output_type": "execute_result"
    }
   ],
   "execution_count": 3
  },
  {
   "metadata": {},
   "cell_type": "markdown",
   "source": [
    "感知机有严重缺陷，特别是它们无法解决一些微不足道的问题［例如，异或(XOR)分类问题］。任何其他线性分类模型（例如逻辑回归分类器）都是如此\n",
    "\n",
    "![XOR分类问题](./images/neural_network/p3.png)\n",
    "\n",
    "可以通过堆叠多个感知机来消除感知机的局限性，得出来的神经网络叫多层感知机。 MLP(Multi Layer Perceptron)可以解决异或问题：可以把值(0,0),(0,1),(1,0),(1,1)代入下图验证：\n",
    "\n",
    "![XOR的MLP](./images/neural_network/p4.png)"
   ],
   "id": "e7bec66dda52feb4"
  },
  {
   "metadata": {
    "ExecuteTime": {
     "end_time": "2025-08-24T06:22:26.596582Z",
     "start_time": "2025-08-24T06:22:26.580960Z"
    }
   },
   "cell_type": "code",
   "source": [
    "# 随堂练习：使用Numpy模拟这个感知机，并测试4个输入：(0,0),(0,1),(1,0),(1,1)\n",
    "import numpy as np\n",
    "\n",
    "def step(z):  # 阶跃函数\n",
    "    # 实现阶跃函数\n",
    "    return np.where(z >=0, 1, 0)\n",
    "\n",
    "\n",
    "def mlp_xor(X):\n",
    "    # 按图片给定的权重，实现两层感知机\n",
    "\n",
    "    # 第一层\n",
    "    W1 = np.ones((2,2))\n",
    "    b1 = np.array([[-1.5, -0.5]])\n",
    "    z1 = step(X@W1 + b1)  # shape: (m,2)\n",
    "\n",
    "    # 第二层\n",
    "    W2 = np.array([-1,1]).reshape(2,1)\n",
    "    b2= -0.5\n",
    "    z2 = step(z1 @W2 + b2)\n",
    "\n",
    "    return z2\n",
    "\n",
    "\n",
    "\n",
    "# 测试 4 个输入\n",
    "X = np.array([[0,0],[1,0],[0,1],[1,1]])\n",
    "print(\"X:\\n\", X)\n",
    "print(\"XOR:\\n\", mlp_xor(X))  # 期望 [0,1,1,0]"
   ],
   "id": "3404756548a9a7bf",
   "outputs": [
    {
     "name": "stdout",
     "output_type": "stream",
     "text": [
      "X:\n",
      " [[0 0]\n",
      " [1 0]\n",
      " [0 1]\n",
      " [1 1]]\n",
      "XOR:\n",
      " [[0]\n",
      " [1]\n",
      " [1]\n",
      " [0]]\n"
     ]
    }
   ],
   "execution_count": 4
  },
  {
   "metadata": {},
   "cell_type": "markdown",
   "source": "## 多层感知机和反向传播",
   "id": "4c264afb94fd62f3"
  },
  {
   "metadata": {},
   "cell_type": "markdown",
   "source": [
    "MLP由一层输入层、一层或多层TLU（称为隐藏层）和一个TLU的最后一层（称为输出层）组成。靠近输入层的层通常称为较低层，靠近输出层的层通常称为较高层。\n",
    "\n",
    "![2个输入，1个4个神经元的隐藏层和3个输出神经元的MLP](./images/neural_network/p5.png)\n",
    "\n",
    "输入到输出仅沿一个方向流动，因此该架构是前馈神经网络（Feedforward Neural Network, FNN）的一个示例\n",
    "\n",
    "当一个神经网络包含一个深层的隐藏层时，它称为深度神经网络(Deep Neural Network，DNN)。深度学习领域研究DNN，\n",
    "\n",
    "更广泛地说，它对包含深度计算堆栈的模型感兴趣。即便如此，只要涉及神经网络（甚至是浅层的神经网络），许多人就会谈论深度学习。"
   ],
   "id": "71bd97988736100b"
  },
  {
   "metadata": {},
   "cell_type": "markdown",
   "source": [
    "- 通用函数逼近 (Universal Function Approximation)\n",
    "\n",
    "**定理（1维情况）**：\n",
    "给定任意光滑函数\n",
    "$$f: \\mathbb{R} \\to \\mathbb{R},$$\n",
    "闭区间\n",
    "$$\\mathcal{D} \\subset \\mathbb{R},$$\n",
    "以及一个 $\\epsilon > 0$，\n",
    "\n",
    "我们可以构造一个单隐层神经网络 $\\hat{f}$，使得：\n",
    "$$\n",
    "\\max_{x \\in \\mathcal{D}} \\, | f(x) - \\hat{f}(x) | \\le \\epsilon\n",
    "$$\n",
    "\n",
    "通用逼近定理说明：只要网络有足够的隐藏单元，一个单隐层神经网络就能在任意精度上逼近任何连续函数。"
   ],
   "id": "361c2729030fb63c"
  },
  {
   "metadata": {},
   "cell_type": "markdown",
   "source": [
    "训练MLP的方法是梯度下降：计算模型误差（损失函数）相对于模型参数的梯度。\n",
    "\n",
    "具有多层的MLP如何计算梯度？"
   ],
   "id": "4e7981e2340f3870"
  },
  {
   "metadata": {},
   "cell_type": "markdown",
   "source": [
    "### 多层感知机（MLP）的梯度计算方法\n",
    "\n",
    "在训练多层感知机（MLP）时，目标是最小化损失函数\n",
    "\n",
    "$$\n",
    "L(\\hat{y}, y)\n",
    "$$\n",
    "\n",
    "并求解各层参数（权重和偏置）的梯度，以便进行梯度下降更新。\n",
    "\n",
    "1. 数值微分（数值模拟方式）\n",
    "\n",
    "最直观的方法是使用**数值微分**：\n",
    "对每个参数 \\$w\\$，我们用有限差分近似：\n",
    "\n",
    "$$\n",
    "\\frac{\\partial f}{\\partial w} \\approx \\frac{f(w + \\epsilon) - f(w)}{\\epsilon}\n",
    "$$\n",
    "\n",
    "\n",
    "优点：思路直观，易于理解。\n",
    "\n",
    "缺点：\n",
    "\n",
    "* **计算开销极大**：若网络有成千上万个参数，就需要成千上万次函数计算。\n",
    "* **不准确**：有限差分会引入截断误差和舍入误差。\n",
    "* **不可扩展**：在深度神经网络中完全不现实。\n",
    "\n",
    "可以作为教学演示/梯度检查，但不能作为实际训练方法。\n",
    "\n",
    "---\n",
    "\n",
    "2. 符号法（手动推公式）\n",
    "\n",
    "另一种方式是**符号推导**：\n",
    "\n",
    "* 对网络的计算公式逐层写出，\n",
    "* 然后直接按链式法则（chain rule）手工推导每个参数的偏导数。\n",
    "\n",
    "优点：\n",
    "\n",
    "* 能得到**精确的解析梯度**，没有数值误差。\n",
    "* 数学上严谨。\n",
    "\n",
    "缺点：\n",
    "\n",
    "* **枯燥繁琐**：网络层数一多，公式就会爆炸式增长。\n",
    "* **容易出错**：人工推导常常漏项或符号错误。\n",
    "* **难以通用**：每换一个网络结构，都要重新手工推导一遍，无法转化成通用程序。\n"
   ],
   "id": "ae1485cc7eaa8f4f"
  },
  {
   "metadata": {},
   "cell_type": "markdown",
   "source": [
    "考虑一个最小的两层网络：\n",
    "输入 $\\mathbf{x} \\in \\mathbb{R}^2$，隐藏层 2 个神经元，输出层 1 个神经元。\n",
    "\n",
    "**模型公式：**\n",
    "\n",
    "**隐藏层：**\n",
    "$$\n",
    "z^{(1)} = W^{(1)} \\mathbf{x} + b^{(1)}, \\quad a^{(1)} = \\sigma(z^{(1)})\n",
    "$$\n",
    "\n",
    "**输出层：**\n",
    "$$\n",
    "z^{(2)} = W^{(2)} a^{(1)} + b^{(2)}, \\quad \\hat{y} = \\sigma(z^{(2)})\n",
    "$$\n",
    "\n",
    "其中 $\\sigma$ 为 Sigmoid 激活函数：\n",
    "$$\n",
    "\\sigma(u) = \\frac{1}{1+e^{-u}}\n",
    "$$\n",
    "\n",
    "\n",
    "\n",
    "采用平方误差：\n",
    "$$\n",
    "L = \\frac{1}{2} (y - \\hat{y})^2\n",
    "$$\n",
    "\n",
    "\n",
    "\n",
    "我们想要求 $\\frac{\\partial L}{\\partial W^{(2)}}$ 和 $\\frac{\\partial L}{\\partial W^{(1)}}$。\n",
    "\n",
    "\n",
    "\n",
    "对输出层权重 $W^{(2)}$：\n",
    "$$\n",
    "\\frac{\\partial L}{\\partial W^{(2)}}\n",
    "= \\frac{\\partial L}{\\partial \\hat{y}} \\cdot \\frac{\\partial \\hat{y}}{\\partial z^{(2)}} \\cdot \\frac{\\partial z^{(2)}}{\\partial W^{(2)}}\n",
    "$$\n",
    "\n",
    "分别计算：\n",
    "\n",
    "- $\\frac{\\partial L}{\\partial \\hat{y}} = -(y - \\hat{y})$\n",
    "- $\\frac{\\partial \\hat{y}}{\\partial z^{(2)}} = \\hat{y}(1-\\hat{y})$\n",
    "- $\\frac{\\partial z^{(2)}}{\\partial W^{(2)}} = a^{(1)}$\n",
    "\n",
    "所以：\n",
    "$$\n",
    "\\frac{\\partial L}{\\partial W^{(2)}} = -(y - \\hat{y}) \\cdot \\hat{y}(1-\\hat{y}) \\cdot a^{(1)}\n",
    "$$\n",
    "\n",
    "\n",
    "\n",
    "对输入层权重 $W^{(1)}$：\n",
    "$$\n",
    "\\frac{\\partial L}{\\partial W^{(1)}}\n",
    "= \\frac{\\partial L}{\\partial \\hat{y}} \\cdot\n",
    "\\frac{\\partial \\hat{y}}{\\partial z^{(2)}} \\cdot\n",
    "\\frac{\\partial z^{(2)}}{\\partial a^{(1)}} \\cdot\n",
    "\\frac{\\partial a^{(1)}}{\\partial z^{(1)}} \\cdot\n",
    "\\frac{\\partial z^{(1)}}{\\partial W^{(1)}}\n",
    "$$\n",
    "\n",
    "分别计算：\n",
    "\n",
    "- $\\frac{\\partial L}{\\partial \\hat{y}} = -(y - \\hat{y})$\n",
    "- $\\frac{\\partial \\hat{y}}{\\partial z^{(2)}} = \\hat{y}(1-\\hat{y})$\n",
    "- $\\frac{\\partial z^{(2)}}{\\partial a^{(1)}} = W^{(2)}$\n",
    "- $\\frac{\\partial a^{(1)}}{\\partial z^{(1)}} = a^{(1)}(1-a^{(1)})$ （逐元素）\n",
    "- $\\frac{\\partial z^{(1)}}{\\partial W^{(1)}} = \\mathbf{x}$\n",
    "\n",
    "合并：\n",
    "$$\n",
    "\\frac{\\partial L}{\\partial W^{(1)}}\n",
    "= \\Big( -(y - \\hat{y}) \\cdot \\hat{y}(1-\\hat{y}) \\cdot W^{(2)} \\Big)\n",
    "\\odot \\big(a^{(1)}(1-a^{(1)})\\big) \\cdot \\mathbf{x}^T\n",
    "$$\n",
    "\n",
    "\n",
    "\n",
    "**结论与评价：**\n",
    "\n",
    "- 一层还能手写。\n",
    "- 层数一多，链式法则展开就非常冗长。\n",
    "- 推导过程容易漏项、符号出错。\n",
    "\n",
    "这就是符号法的 **枯燥与不易编程** 之处。\n",
    "因此我们需要 **反向传播算法**，用统一的矩阵运算高效实现梯度计算。\n"
   ],
   "id": "4d77316c85a6104"
  },
  {
   "metadata": {},
   "cell_type": "markdown",
   "source": [
    "3. 反向传播\n",
    "\n",
    "用统一的矩阵运算，把梯度传播过程高效、程序化地实现出来。\n",
    "\n",
    "- 设定与记号\n",
    "\n",
    "* 批量输入：\\$X\\in\\mathbb{R}^{m\\times d\\_0}\\$，\\$m\\$ 为 batch 大小\n",
    "* 第 \\$i\\$ 层参数：\\$W\\_i\\in\\mathbb{R}^{d\\_i\\times d\\_{i+1}}\\$，\\$b\\_i\\in\\mathbb{R}^{1\\times d\\_{i+1}}\\$（按行广播）\n",
    "* 预激活/激活：\\$A\\_i=Z\\_i W\\_i + b\\_i,\\quad Z\\_{i+1}=\\sigma\\_i(A\\_i)\\$\n",
    "* 输出：\\$\\hat Y=Z\\_{L+1}\\$，标签 \\$Y\\in\\mathbb{R}^{m\\times d\\_{L+1}}\\$\n",
    "* 损失（均方误差，取平均）：\n",
    "\n",
    "  $$\n",
    "  \\ell(\\hat Y,Y)=\\frac{1}{2m}\\,\\lVert \\hat Y-Y\\rVert_F^2\n",
    "  $$\n",
    "\n",
    "\n",
    "\n",
    "- 前向传播 （Forward pass）\n",
    "\n",
    "1. 初始化：$Z_1=X$\n",
    "2. 迭代（\\$i=1,\\dots,L\\$）：\n",
    "\n",
    "   $$\n",
    "   A_i = Z_i W_i + b_i,\\qquad Z_{i+1}=\\sigma_i(A_i)\n",
    "   $$\n",
    "\n",
    "\n",
    "\n",
    "- 反向传播 （Backward pass）\n",
    "\n",
    "1. 初始化输出层梯度：\n",
    "\n",
    "   $$\n",
    "   G_{L+1} \\;=\\; \\nabla_{Z_{L+1}}\\ell \\;=\\; \\frac{1}{m}\\,(\\,Z_{L+1}-Y\\,)\n",
    "   $$\n",
    "2. 反向迭代（\\$i=L,\\dots,1\\$）：\n",
    "\n",
    "   * 层内误差信号（Hadamard 乘积）\n",
    "\n",
    "     $$\n",
    "     \\delta_i \\;=\\; G_{i+1}\\ \\circ\\ \\sigma_i'(A_i)\n",
    "     $$\n",
    "   * 本层参数梯度\n",
    "\n",
    "     $$\n",
    "     \\nabla_{W_i}\\ell \\;=\\; Z_i^\\top\\delta_i,\n",
    "     \\qquad\n",
    "     \\nabla_{b_i}\\ell \\;=\\; \\mathbf{1}^\\top\\delta_i \\quad(\\mathbf{1}\\in\\mathbb{R}^{m\\times 1})\n",
    "     $$\n",
    "   * 传回上一层的梯度\n",
    "\n",
    "     $$\n",
    "     G_i \\;=\\; \\delta_i\\, W_i^\\top\n",
    "     $$\n",
    "\n",
    "\n",
    "\n",
    "-  总结\n",
    "\n",
    "> ** 反向传播（Backpropagation） = 链式求导法则 + 中间结果缓存（\\$Z\\_i, A\\_i\\$）**\n",
    "\n",
    "> 计算量与一次前向传播同阶（仅常数倍开销），且解析精确、可向量化、高效实现。\n",
    "\n"
   ],
   "id": "93e4d88bf5ed5713"
  },
  {
   "metadata": {},
   "cell_type": "markdown",
   "source": [
    "\n",
    "随堂练习：用numpy实现简单 反向传播\n",
    "\n",
    "考虑一个两层 MLP：\n",
    "\n",
    "* 输入 \\$\\mathbf{x} \\in \\mathbb{R}^2\\$\n",
    "* 隐藏层：2 个神经元，激活函数为 **Sigmoid**\n",
    "* 输出层：1 个神经元，激活函数为 **Sigmoid**\n",
    "\n",
    "\n",
    "\n",
    "1. 神经网络结构\n",
    "\n",
    "**前向传播 Forward pass：**\n",
    "\n",
    "* 隐藏层：\n",
    "\n",
    "$$\n",
    "a^{(1)} = W^{(1)} \\mathbf{x} + b^{(1)}, \\quad\n",
    "z^{(1)} = \\sigma(a^{(1)})\n",
    "$$\n",
    "\n",
    "* 输出层：\n",
    "\n",
    "$$\n",
    "\\hat{y} = W^{(2)} z^{(1)} + b^{(2)}\n",
    "$$\n",
    "\n",
    "* 损失函数（平方误差）：\n",
    "\n",
    "$$\n",
    "L = \\tfrac{1}{2} (\\hat{y} - y)^2\n",
    "$$\n",
    "\n",
    "\n",
    "\n",
    "2. 参数设置\n",
    "\n",
    "给定一组具体参数：\n",
    "\n",
    "* 输入 \\$\\mathbf{x} = \\begin{bmatrix}1 \\ 0\\end{bmatrix}\\$\n",
    "* 目标输出 \\$y = 1\\$\n",
    "* \\$W^{(1)} = \\begin{bmatrix}0.5 & -0.5 \\ 0.3 & 0.8 \\end{bmatrix}, \\quad b^{(1)} = \\begin{bmatrix}0 \\ 0\\end{bmatrix}\\$\n",
    "* \\$W^{(2)} = \\begin{bmatrix}1 \\ -1\\end{bmatrix}^T, \\quad b^{(2)} = 0\\$\n",
    "\n",
    "\n",
    "\n",
    "3. 任务\n",
    "\n",
    "a. **前向传播**\n",
    "\n",
    "b. **反向传播**：\n",
    "   计算以下梯度：\n",
    "\n",
    "   * \\$\\frac{\\partial L}{\\partial W^{(2)}}, \\frac{\\partial L}{\\partial W^{(1)}}\\$\n",
    "\n",
    "提示：Sigmoid 导数为\n",
    "\n",
    "$$\n",
    "\\sigma'(u) = \\sigma(u)(1-\\sigma(u))\n",
    "$$\n",
    "\n"
   ],
   "id": "568e5a5f36f0118f"
  },
  {
   "metadata": {
    "ExecuteTime": {
     "end_time": "2025-08-26T06:05:14.842635Z",
     "start_time": "2025-08-26T06:05:14.812294Z"
    }
   },
   "cell_type": "code",
   "source": [
    "# 随堂练习： 自己实现 有1个隐藏层的MLP的 反向传播计算梯度的过程\n",
    "import numpy as np\n",
    "\n",
    "def sigmoid(z):\n",
    "    return 1 / (1 + np.exp(-z))\n",
    "\n",
    "def forward_pass(w1, b1, w2, b2, x):\n",
    "    z1 = x\n",
    "    a2 = np.dot(z1, w1) + b1\n",
    "    z2 = sigmoid(a2)\n",
    "\n",
    "    a3 = np.dot(z2, w2) + b2\n",
    "    z3 = sigmoid(a3)\n",
    "\n",
    "    return {\"a2\":a2, \"z2\":z2, \"a3\":a3, \"z3\":z3}\n",
    "\n",
    "\n",
    "def backprop(w1, b1, w2, b2, x, y):\n",
    "    forward_result = forward_pass(w1, b1, w2, b2, x)\n",
    "    G3 = forward_result[\"z3\"] - y      # 1*1\n",
    "    dw2 = np.dot(forward_result[\"z2\"].T   , G3 * forward_result[\"z3\"] * (1 -  forward_result[\"z3\"]))  # d*1\n",
    "    db2 = G3 * forward_result[\"z3\"] * (1 -  forward_result[\"z3\"])                                     # 1*1\n",
    "\n",
    "    G2 = np.dot(G3 * forward_result[\"z3\"] * (1 -  forward_result[\"z3\"]), w2.T)                        # 1*d\n",
    "    dw1 = np.dot(x.T, G2 * forward_result[\"z2\"] * (1 -  forward_result[\"z2\"]))                        # n*d\n",
    "\n",
    "    return {\"dw1\": dw1, \"dw2\": dw2}\n",
    "\n",
    "\n",
    "def loss(w1, b1, w2, b2, x, y):\n",
    "    return 1/2 * ((y - forward_pass(w1, b1, w2, b2, x)[\"z3\"]) ** 2)\n",
    "\n",
    "def compute_dw_check(w1, b1, w2, b2, x, y, eps=1e-7):\n",
    "    dw1 = []\n",
    "    for i in range(w1.shape[0]):\n",
    "        for j in range(w1.shape[1]):\n",
    "            eps_mat = np.zeros_like(w1)\n",
    "            eps_mat[i, j] = eps\n",
    "            dw1.append((loss(w1 + eps_mat, b1, w2, b2, x, y) - loss(w1 - eps_mat, b1, w2, b2, X_input, y_target)) / (2*eps))\n",
    "\n",
    "    w2_1_approx = (loss(w1, b1, w2 + np.array([[eps], [0]]), b2, x, y) - loss(w1, b1, w2 - np.array([[eps], [0]]), b2, X_input, y_target)) / (2*eps)\n",
    "    w2_2_approx = (loss(w1, b1, w2 + np.array([[0], [eps]]), b2, x, y) - loss(w1, b1, w2 - np.array([[0], [eps]]), b2, X_input, y_target)) / (2*eps)\n",
    "\n",
    "    return  {\"dw1\": np.array(dw1).reshape(w1.shape), \"dw2\": np.array([w2_1_approx, w2_2_approx]).reshape(w2.shape)}\n",
    "\n",
    "# 变量初始化\n",
    "X_input = np.array([[1,0]])\n",
    "y_target = 1\n",
    "\n",
    "W1 = np.array([[0.5,-0.5],\n",
    "               [0.3, 0.8]])\n",
    "b1 = np.array([[0,0]])\n",
    "\n",
    "W2 = np.array([[1],\n",
    "               [-1]])\n",
    "\n",
    "b2 = 0\n",
    "\n",
    "\n",
    "gradient_check_result = compute_dw_check(W1, b1, W2, b2, X_input, y_target)\n",
    "backprop_result = backprop(W1, b1, W2, b2, X_input, y_target)\n",
    "\n",
    "for k in [\"dw1\", \"dw2\"]:\n",
    "    print(f\"梯度检查 {k}：\\n{gradient_check_result[k]}\")\n",
    "    print(f\"反向传播 {k} \\n{backprop_result[k]}\")"
   ],
   "id": "2d3bcca5fdd48ad9",
   "outputs": [
    {
     "name": "stdout",
     "output_type": "stream",
     "text": [
      "梯度检查 dw1：\n",
      "[[-0.02541303  0.02541303]\n",
      " [ 0.          0.        ]]\n",
      "反向传播 dw1 \n",
      "[[-0.02541303  0.02541303]\n",
      " [ 0.          0.        ]]\n",
      "梯度检查 dw2：\n",
      "[[-0.06731203]\n",
      " [-0.04082681]]\n",
      "反向传播 dw2 \n",
      "[[-0.06731203]\n",
      " [-0.04082681]]\n"
     ]
    }
   ],
   "execution_count": 8
  },
  {
   "metadata": {},
   "cell_type": "markdown",
   "source": [
    "了解反向传播计算梯度的优势后，更详细地了解一下反向传播的工作流程：\n",
    "\n",
    "- 它一次处理一个小批量（例如，每次包含32个实例），并且多次遍历整个训练集。每次遍历都称为一个轮次。\n",
    "- 每个小批量通过输入层进入网络。然后，该算法为小批量中的每个实例计算第一个隐藏层中所有神经元的输出。结果传递到下一层，计算其输出并传递到下一层，以此类推，直到获得最后一层的输出，即输出层。这就是前向传递(forward pass)：就像进行预测一样，只是保留了所有中间结果，因为反向传递需要它们。\n",
    "- 接下来，该算法测量网络的输出误差（即该算法使用一种损失函数，该函数将网络的期望输出与实际输出进行比较，并返回一些误差测量值）。\n",
    "- 然后它计算每个输出偏置和到输出层的每个连接对误差的贡献程度。通过应用链式求导法则来进行分析，从而使此步骤变得快速而精确。\n",
    "- 之后，该算法再次使用链式法则测量这些误差贡献中有多少来自下层中的每个连接，算法一直进行，到达输入层为止。如前所述，这种反向传递通过在网络中向后传播误差梯度（因此得名该算法），有效地测量了网络中所有连接权重和偏置的误差梯度。\n",
    "- 最后，该算法执行梯度下降步骤，使用刚刚计算出的误差梯度来调整网络中的所有连接权重\n",
    "\n",
    "注意：随机初始化所有隐藏层的连接权重很重要，否则训练将失败。例如，如果将所有权重和偏置初始化为零，则给定层中的所有神经元将完全相同，从而反向传播将以完全相同的方式影响它们，因此它们将保持相同。换句话说，尽管每层有数百个神经元，但是模型会像每层只有一个神经元一样工作：不会太聪明。\n",
    "\n",
    "相反，如果随机初始化权重，则会破坏对称性，并允许反向传播来训练各种各样的神经元。简而言之，反向传播对小批量进行预测（前向传递），测量误差，然后反向通过每一层以测量每个参数的误差贡献（反向传递），最后调整连接权重和偏置以减少误差（梯度下降步骤）。"
   ],
   "id": "c2a731a8b0bc07e7"
  },
  {
   "metadata": {},
   "cell_type": "markdown",
   "source": [
    "为了让反向传播算法正常工作，作者对MLP的架构进行了重要更改：将阶跃函数替换为逻辑函数σ(z)=1/(1+exp(-z))，也称为sigmoid函数。这一点很重要，因为阶跃函数仅包含平坦段，所以没有梯度可使用（梯度下降不能在平面上移动），而sigmoid函数在各处均具有定义明确的非零导数，从而使梯度下降在每一步都可以有所进展。实际上，反向传播算法可以与许多其他激活函数（不仅是sigmoid函数）一起很好地工作。这是另外两个受欢迎的选择：\n",
    "\n",
    "**双曲正切函数**：\n",
    "$$\n",
    "\\tanh(z) = 2\\sigma(2z) - 1\n",
    "$$\n",
    "\n",
    "与 sigmoid 函数一样，该激活函数为 S 形，连续且可微，但其输出值范围为 $-1 \\sim 1$ （而不是 sigmoid 函数的 $0 \\sim 1$）。\n",
    "在训练开始时，该范围倾向于使每一层的输出或多或少地以 0 为中心，这通常有助于加快收敛速度。\n",
    "\n",
    "\n",
    "\n",
    "**线性整流单元函数**：\n",
    "$$\n",
    "\\text{ReLU}(z) = \\max(0, z)\n",
    "$$\n",
    "\n",
    "ReLU 函数是连续的，但不幸的是，在 $z=0$ 时，该函数不可微分（斜率会突然变化，这可能使梯度下降反弹），如果 $z<0$ 则其导数为 $0$。\n",
    "但是，实际应用中，它运行良好并且具有计算快速的优点，因此它已成为默认值 。\n",
    "\n",
    "重要的是，它没有最大输出值这一事实有助于减少“梯度下降”期间的某些问题（之后对此进行讨论）。\n",
    "\n"
   ],
   "id": "7d80b5b07d84371c"
  },
  {
   "metadata": {
    "ExecuteTime": {
     "end_time": "2025-08-24T06:24:22.673020Z",
     "start_time": "2025-08-24T06:24:22.129537Z"
    }
   },
   "cell_type": "code",
   "source": [
    "import matplotlib.pyplot as plt\n",
    "\n",
    "def relu(z):\n",
    "    return np.maximum(0, z)\n",
    "\n",
    "def derivative(f, z, eps=0.000001):\n",
    "    return (f(z + eps) - f(z - eps))/(2 * eps)\n",
    "\n",
    "max_z = 4.5\n",
    "z = np.linspace(-max_z, max_z, 200)\n",
    "\n",
    "plt.figure(figsize=(11, 3.1))\n",
    "\n",
    "plt.subplot(121)\n",
    "plt.plot([-max_z, 0], [0, 0], \"r-\", linewidth=2, label=\"Heaviside\")\n",
    "plt.plot(z, relu(z), \"m-.\", linewidth=2, label=\"ReLU\")\n",
    "plt.plot([0, 0], [0, 1], \"r-\", linewidth=0.5)\n",
    "plt.plot([0, max_z], [1, 1], \"r-\", linewidth=2)\n",
    "plt.plot(z, sigmoid(z), \"g--\", linewidth=2, label=\"Sigmoid\")\n",
    "plt.plot(z, np.tanh(z), \"b-\", linewidth=1, label=\"Tanh\")\n",
    "plt.grid(True)\n",
    "plt.title(\"Activation functions\")\n",
    "plt.axis([-max_z, max_z, -1.65, 2.4])\n",
    "plt.gca().set_yticks([-1, 0, 1, 2])\n",
    "plt.legend(loc=\"lower right\", fontsize=13)\n",
    "\n",
    "plt.subplot(122)\n",
    "plt.plot(z, derivative(np.sign, z), \"r-\", linewidth=2, label=\"Heaviside\")\n",
    "plt.plot(0, 0, \"ro\", markersize=5)\n",
    "plt.plot(0, 0, \"rx\", markersize=10)\n",
    "plt.plot(z, derivative(sigmoid, z), \"g--\", linewidth=2, label=\"Sigmoid\")\n",
    "plt.plot(z, derivative(np.tanh, z), \"b-\", linewidth=1, label=\"Tanh\")\n",
    "plt.plot([-max_z, 0], [0, 0], \"m-.\", linewidth=2)\n",
    "plt.plot([0, max_z], [1, 1], \"m-.\", linewidth=2)\n",
    "plt.plot([0, 0], [0, 1], \"m-.\", linewidth=1.2)\n",
    "plt.plot(0, 1, \"mo\", markersize=5)\n",
    "plt.plot(0, 1, \"mx\", markersize=10)\n",
    "plt.grid(True)\n",
    "plt.title(\"Derivatives\")\n",
    "plt.axis([-max_z, max_z, -0.2, 1.2])\n",
    "\n",
    "plt.show()"
   ],
   "id": "963ce9d829b79d4d",
   "outputs": [
    {
     "data": {
      "text/plain": [
       "<Figure size 1100x310 with 2 Axes>"
      ],
      "image/png": "[encoded data removed]"
     },
     "metadata": {},
     "output_type": "display_data"
    }
   ],
   "execution_count": 7
  },
  {
   "metadata": {},
   "cell_type": "markdown",
   "source": [
    "为什么需要激活函数？\n",
    "\n",
    "如果连接多个线性变换，那么得到的只是一个线性变换。例如，如果 $f(x)=2x+3$ 且 $g(x)=5x-1$，则连接这两个线性函数可以得到另一个线性函数：\n",
    "$$\n",
    "f(g(x)) = 2(5x-1)+3 = 10x+1\n",
    "$$\n",
    "\n",
    "因此，如果层之间没有非线性，那么即使是很深的层堆叠也等同于单个层，因此你无法解决非常复杂的问题。\n",
    "\n",
    "相反，具有非线性激活的足够大的 DNN 理论上可以近似任何连续函数。"
   ],
   "id": "1227fcee78bff1f9"
  },
  {
   "metadata": {
    "ExecuteTime": {
     "end_time": "2025-08-24T06:24:25.912181Z",
     "start_time": "2025-08-24T06:24:25.896552Z"
    }
   },
   "cell_type": "code",
   "source": [
    "def sigmoid(zi_bian_liang):\n",
    "    return 1 / (1+np.exp(-zi_bian_liang))\n",
    "\n",
    "x = 0.5\n",
    "y = sigmoid(0.5)\n",
    "\n",
    "dy_dx = (sigmoid(0.5 + 1e-7) - sigmoid(0.5)) / (1e-7)\n",
    "print(dy_dx)\n",
    "\n",
    "print(y * (1-y))"
   ],
   "id": "f10c57878b80caf5",
   "outputs": [
    {
     "name": "stdout",
     "output_type": "stream",
     "text": [
      "0.23500370871509801\n",
      "0.2350037122015945\n"
     ]
    }
   ],
   "execution_count": 8
  },
  {
   "metadata": {},
   "cell_type": "markdown",
   "source": "## MLP回归",
   "id": "bdf6434e05fabcf9"
  },
  {
   "metadata": {},
   "cell_type": "markdown",
   "source": [
    "MLP可用于回归任务。如果要预测单个值（例如，房屋的价格，给定其许多特征），则只需要单个输出神经元：其输出就是预测值。\n",
    "\n",
    "对于多元回归（即一次预测多个值），每个输出维度需要一个输出神经元。例如，要在图像中定位物体的中心，你需要预测2D坐标，因此需要两个输出神经元。\n",
    "\n",
    "如果还想在物体周围放置边框，则还需要两个数值：物体的宽度和高度。因此，得到了四个输出神经元。"
   ],
   "id": "171d0c2f25db383a"
  },
  {
   "metadata": {},
   "cell_type": "markdown",
   "source": [
    "Scikit-Learn包含一个MLPRegressor类，用它来构建一个具有三个隐藏层的MLP，每个隐藏层由50个神经元组成，并在房屋数据集上对其进行训练。\n",
    "\n",
    "为简单起见，我们将使用Scikit-Learn的fetch_california_housing()函数来加载数据。这个数据集只包含数值特征（没有ocean_proximity特征），并且没有缺失值。\n",
    "\n",
    "下面的代码首先获取和拆分数据集，然后创建一个流水线来标准化输入特征，之后再将它们送到MLPRegressor。\n",
    "\n",
    "标准化神经网络非常重要，因为它们是使用梯度下降训练的，当特征具有非常不同的尺度时，梯度下降不会很好地收敛。\n",
    "\n",
    "最后，代码训练模型并评估其验证误差。该模型在隐藏层中使用ReLU激活函数，并使用称为Adam的梯度下降变体（后面会讨论）来最小化均方误差，并使用一点点l2正则化（你可以通过超参数alpha进行控制）："
   ],
   "id": "eea187787bf0b2fb"
  },
  {
   "metadata": {
    "ExecuteTime": {
     "end_time": "2025-08-24T06:24:50.377736Z",
     "start_time": "2025-08-24T06:24:45.315552Z"
    }
   },
   "cell_type": "code",
   "source": [
    "from sklearn.pipeline import make_pipeline\n",
    "from sklearn.neural_network import MLPRegressor\n",
    "from sklearn.model_selection import train_test_split\n",
    "from sklearn.datasets import fetch_california_housing\n",
    "from sklearn.metrics import mean_squared_error\n",
    "from sklearn.preprocessing import StandardScaler\n",
    "\n",
    "housing = fetch_california_housing()  # 可能要换成作业5的数据集\n",
    "X_train_full, X_test, y_train_full, y_test = train_test_split(housing.data, housing.target, random_state=42)\n",
    "X_train, X_valid, y_train, y_valid = train_test_split(X_train_full, y_train_full, random_state=42)\n",
    "\n",
    "mlp_reg = MLPRegressor(hidden_layer_sizes=[50,50,50], random_state=42)\n",
    "pipeline = make_pipeline(StandardScaler(), mlp_reg)\n",
    "pipeline.fit(X_train, y_train)\n",
    "\n",
    "y_pred = pipeline.predict(X_valid)\n",
    "rmse = mean_squared_error(y_valid, y_pred, squared=False)\n",
    "\n",
    "rmse"
   ],
   "id": "17b50bab1a6b919",
   "outputs": [
    {
     "data": {
      "text/plain": [
       "0.5053326657968626"
      ]
     },
     "execution_count": 9,
     "metadata": {},
     "output_type": "execute_result"
    }
   ],
   "execution_count": 9
  },
  {
   "metadata": {},
   "cell_type": "markdown",
   "source": [
    "注意，此 MLP 不对输出层使用任何激活函数，因此它可以自由输出它想要的任何值。这通常没问题，但是如果你想保证输出永远是正数，那么你应该在输出层使用 ReLU 激活函数，或者 softplus 激活函数，它是 ReLU 的平滑变体：\n",
    "\n",
    "$$\n",
    "\\text{softplus}(z) = \\log(1 + \\exp(z))\n",
    "$$\n",
    "\n",
    "当 $z$ 为负时，softplus 接近 0；当 $z$ 为正时，softplus 接近 $z$。\n",
    "\n",
    "最后，如果你想保证预测总是落在给定的值范围内，那么你应该使用 sigmoid 函数或双曲正切函数，并将目标缩放到适当的范围：\n",
    "\n",
    "- sigmoid 为 $0 \\sim 1$\n",
    "- tanh 为 $-1 \\sim 1$\n",
    "\n",
    "遗憾的是，`MLPRegressor` 类不支持输出层中的激活函数。\n",
    "\n",
    "只需几行代码即可使用Scikit-Learn构建和训练标准MLP，但构建出的神经网络功能有限。这就是马上使用Keras实现MLP的原因。"
   ],
   "id": "24a0a8e4cba611"
  },
  {
   "metadata": {},
   "cell_type": "markdown",
   "source": [
    "`MLPRegressor` 类使用均方误差，这通常是回归所需的，但如果训练集中有很多异常值，可能更愿意改用平均绝对误差。\n",
    "\n",
    "或者，可能想要使用 Huber 损失，它是两者的组合。当误差小于阈值 $\\delta$（通常为 1）时，它是二次的，但当误差大于 $\\delta$ 时，它是线性的。线性部分使其对异常值的敏感度低于均方误差，而二次部分使其收敛速度更快，比平均绝对误差更精确。但是，`MLPRegressor` 只支持 MSE。\n",
    "\n",
    "下表总结了回归 MLP 的典型架构。\n",
    "\n",
    "**典型的回归 MLP 架构**\n",
    "\n",
    "| 超参数                     | 典型值                                                                 |\n",
    "|----------------------------|------------------------------------------------------------------------|\n",
    "| 隐藏层数量                 | 取决于问题，但通常为 1～5                                               |\n",
    "| 每个隐藏层的神经元数量     | 取决于问题，但通常为 10～100                                            |\n",
    "| 输出神经元数量             | 每个预测维度输出 1 个神经元                                             |\n",
    "| 隐藏层激活                 | ReLU                                                                   |\n",
    "| 输出激活                   | 无，或 ReLU/softplus（如果输出为正）或 sigmoid/tanh（如果输出有界）       |\n",
    "| 损失函数                   | MSE，或 Huber（如果存在异常值）                                         |\n"
   ],
   "id": "b6768b490b500ba7"
  },
  {
   "metadata": {},
   "cell_type": "markdown",
   "source": "## MLP分类",
   "id": "eebf3d1dea94938d"
  },
  {
   "metadata": {},
   "cell_type": "markdown",
   "source": [
    "MLP也可以用于分类任务。对于二进制分类问题，只需要使用sigmoid激活函数的单个输出神经元：输出将是0和1之间的数字，可以将其解释为正类的估计概率。负类的估计概率等于1减去该数字。\n",
    "\n",
    "MLP还可以轻松处理多标签二元分类任务。例如，你可能有一个电子邮件分类系统，该系统可以预测每个收到的电子邮件是正常邮件还是垃圾邮件，并同时预测它是否是紧急电子邮件。\n",
    "\n",
    "在这种情况下，需要两个输出神经元，两个都使用sigmoid激活函数：第一个输出电子邮件件为垃圾邮件的可能性，第二个输出电子邮件为紧急邮件的可能性。更一般地，为每个正类用一个输出神经元。请注意，每个输出概率不一定要加起来等于1。这使得模型可以输出标签的任意组合：可以包含非紧急正常邮件、紧急正常邮件、非紧急垃圾邮件，甚至可能是紧急垃圾邮件（尽管这可能是一个错误）。\n",
    "\n",
    "如果每个实例只属于三个或更多分类中的一个类（例如，用于数字图像分类的类0~9），则每个类需要一个输出神经元，并且应该将输出层使用softmax激活函数（见下图）。softmax函数将确保所有估计的概率都在0和1之间，并且它们加起来等于1，因为分类是互斥的。这称为多类分类。\n",
    "\n",
    "![softmax输出的神经网络](./images/neural_network/p6.png)\n"
   ],
   "id": "651242cb998e7dc2"
  },
  {
   "metadata": {},
   "cell_type": "markdown",
   "source": [
    "关于损失函数，由于正在预测概率分布，因此交叉熵损失（或对数损失）通常是一个不错的选择。\n",
    "\n",
    "Scikit-Learn在`sklearn.neural_network`包中有一个`MLPClassifier`类。它几乎与`MLPRegressor`类相同，只是它最小化交叉熵而不是MSE。\n",
    "\n",
    "**典型的分类MLP架构**\n",
    "\n",
    "| 超参数     | 二元分类              | 多标签二元分类       | 多类分类    |\n",
    "|------------|-------------------|------------------|-------------|\n",
    "| 隐藏层     | 通常为 1~5 层，具体取决于任务                   |             |\n",
    "| 输出神经元数量 | 1                 | 每个二元标签 1        | 每个类 1     |\n",
    "| 输出层激活 | sigmoid           | sigmoid          | softmax     |\n",
    "| 损失函数   | 交叉熵               | 交叉熵              | 交叉熵      |\n"
   ],
   "id": "f844e4de95423505"
  },
  {
   "metadata": {},
   "cell_type": "markdown",
   "source": [
    "随堂练习：使用Tensorflow playground（神经网络模拟器）：https://playground.tensorflow.org/， 感受神经网络的相关超参数\n",
    "\n",
    "a.神经网络学习到的模式。单击“Run”按钮（左上方），尝试训练默认的神经网络。请注意，它如何快速找到一个适合分类任务的最优解。第一隐藏层中的神经元已经学会了简单模式，而第二隐藏层中的神经元已经学会了将第一隐藏层的简单模式组合为更复杂的模式。通常，层数越多，模式越复杂。\n",
    "\n",
    "b.激活函数。尝试用ReLU激活函数替换tanh激活函数，然后再次训练网络。注意，它很快找到了最优解，但这次边界是线性的。这是由于ReLU函数的形状引起的。\n",
    "\n",
    "c.局部极小值的风险。修改网络架构，使其只有一个具有3个神经元的隐藏层。对其进行多次训练（要重置网络权重，请单击“Play”按钮旁边的“Reset”按钮）。请注意，训练时间变化很大，有时甚至会停留在局部最小值中。\n",
    "\n",
    "d.当神经网络太小时会发生的情况。删除一个神经元，只保留两个。请注意，即使你尝试多次，神经网络现在也无法找到一个好的解。该模型的参数太少，系统欠拟合训练集。\n",
    "\n",
    "e.当神经网络足够大时会发生的情况。将神经元的数量设置为8个，然后对网络进行几次训练。请注意，它现在始终能快速运行，并且不会卡在某一点。这显示了神经网络理论中的一个重要发现：大型神经网络很少会陷入局部极小值，即使陷入了，这些局部最优也几乎与全局最优一样好。但是，它们仍然可能在很长一段时间内停滞不前。\n",
    "\n",
    "f. 深层网络中梯度消失的风险。选择spiral数据集（“DATA”下的右下数据集），并将网络架构更改为4个隐藏层，每个隐藏层具有8个神经元。请注意，训练花费的时间更长，并且经常长时间停滞不前。还要注意，（右侧）最高层的神经元倾向于比（左侧）最低层的神经元更快地进化。这个问题称为“梯度消失”，可以通过后面要讨论的其他技术来缓解。\n",
    "\n",
    "g. 尝试其他参数，建立对神经网络的直观了解。"
   ],
   "id": "8d12fb501f5ded5f"
  },
  {
   "metadata": {},
   "cell_type": "markdown",
   "source": "## 使用Keras实现MLP\n",
   "id": "7de47987f4dc9a27"
  },
  {
   "metadata": {},
   "cell_type": "markdown",
   "source": [
    "Keras是TensorFlow的高级深度学习API，可以构建、训练、评估和执行各种神经网络\n",
    "\n",
    "Keras仅支持TensorFlow。同样，TensorFlow曾经包含多个高级API，但在TensorFlow 2问世时，Keras被正式选为其首选的高级API。安装TensorFlow也会自动安装Keras，如果没有安装TensorFlow，则Keras将无法运行。简而言之，Keras和TensorFlow绑定在一起\n",
    "\n",
    "其他流行的深度学习库有Facebook的PyTorch (https://pytorch.org) 和谷歌的JAX (https://github.com/google/jax)\n",
    "\n",
    "归功于它的简单性和出色的文档，Pytorch的受欢迎程度在2018年后呈指数级增长，它的API和Keras非常相似，了解Keras后容易迁移到Pytorch\n",
    "\n",
    "接下来将通过Keras构建用于图像分类的MLP"
   ],
   "id": "82bb380d7c1fd34d"
  },
  {
   "metadata": {},
   "cell_type": "markdown",
   "source": "### 使用顺序API构建图像分类器",
   "id": "97b39f67bc795c25"
  },
  {
   "metadata": {},
   "cell_type": "markdown",
   "source": [
    "加载数据集。将使用Fashion MNIST，它是MNIST的直接替代品。\n",
    "\n",
    "它具有与MNIST完全相同的格式（70000个灰度图像，每幅28×28像素，有10个类），但是这些图像代表的是时尚物品，而不是手写数字，\n",
    "\n",
    "因此每个类都更加多样，问题比MNIST更具挑战性。例如，简单的线性模型在MNIST上可以达到约92%的精度，但在Fashion MNIST上仅能达到约83%的精度。"
   ],
   "id": "2e056a0b10cb556b"
  },
  {
   "metadata": {
    "ExecuteTime": {
     "end_time": "2025-08-26T08:09:39.257443Z",
     "start_time": "2025-08-26T08:09:38.963958Z"
    }
   },
   "cell_type": "code",
   "source": [
    "# Keras提供了一些实用函数来获取和加载常见数据集，包括MNIST、Fashion MNIST等。\n",
    "import tensorflow as tf\n",
    "\n",
    "# 加载Fashion MNIST。它已经被打乱并分成了训练集（60000个图像）和测试集（10000个图像）\n",
    "fashion_mnist = tf.keras.datasets.fashion_mnist.load_data()\n",
    "(X_train_full, y_train_full), (X_test , y_test) = fashion_mnist\n",
    "\n",
    "# 保留训练集中的最后5000个图像进行验证\n",
    "X_train, y_train = X_train_full[:-5000], y_train_full[:-5000]\n",
    "X_valid, y_valid = X_train_full[-5000:], y_train_full[-5000:]\n",
    "\n",
    "# Tensorflow通常导入为tf，Keras API可通过tf.keras使用"
   ],
   "id": "b5ebfc9c9bcce1b5",
   "outputs": [],
   "execution_count": 21
  },
  {
   "metadata": {
    "ExecuteTime": {
     "end_time": "2025-08-26T08:09:40.885563Z",
     "start_time": "2025-08-26T08:09:40.751209Z"
    }
   },
   "cell_type": "code",
   "source": [
    "X_train.shape\n",
    "X_train.dtype\n",
    "\n",
    "X_train, X_valid, X_test = X_train / 255., X_valid / 255., X_test / 255. # 将像素强度降低到0-1的范围，255.是为了转成浮点数\n",
    "#\n",
    "# 之前的mnist，标签等于5时，说明图像代表手写数字5；但是对于Fashion MNIST,需要一个类名列表来了解需要处理的内容\n",
    "class_names = [\"T-shirt/top\", \"Trouser\", \"Pullover\", \"Dress\", \"Coat\", \"Sandal\", \"Shirt\", \"Sneaker\", \"Bag\", \"Ankle boot\"]\n",
    "y_train[0]\n",
    "class_names[y_train[0]]"
   ],
   "id": "66d730f051c31eb1",
   "outputs": [
    {
     "data": {
      "text/plain": [
       "'Ankle boot'"
      ]
     },
     "execution_count": 22,
     "metadata": {},
     "output_type": "execute_result"
    }
   ],
   "execution_count": 22
  },
  {
   "metadata": {
    "ExecuteTime": {
     "end_time": "2025-08-26T08:09:18.455468Z",
     "start_time": "2025-08-26T08:09:18.398128Z"
    }
   },
   "cell_type": "code",
   "source": [
    "import matplotlib.pyplot as plt\n",
    "plt.imshow(X_train[0], cmap=\"binary\")\n",
    "plt.axis('off')\n",
    "plt.show()"
   ],
   "id": "4020b15765db3c2d",
   "outputs": [
    {
     "data": {
      "text/plain": [
       "<Figure size 640x480 with 1 Axes>"
      ],
      "image/png": "[encoded data removed]"
     },
     "metadata": {},
     "output_type": "display_data"
    }
   ],
   "execution_count": 19
  },
  {
   "metadata": {
    "ExecuteTime": {
     "end_time": "2025-08-26T08:09:30.530569Z",
     "start_time": "2025-08-26T08:09:28.997363Z"
    }
   },
   "cell_type": "code",
   "source": [
    "n_rows = 4\n",
    "n_cols = 10\n",
    "plt.figure(figsize=(n_cols * 1.2, n_rows * 1.2))\n",
    "for row in range(n_rows):\n",
    "    for col in range(n_cols):\n",
    "        index = n_cols * row + col\n",
    "        plt.subplot(n_rows, n_cols, index + 1)\n",
    "        plt.imshow(X_train[index], cmap=\"binary\", interpolation=\"nearest\")\n",
    "        plt.axis('off')\n",
    "        plt.title(class_names[y_train[index]])\n",
    "plt.subplots_adjust(wspace=0.2, hspace=0.5)\n",
    "\n",
    "plt.show()"
   ],
   "id": "684d2cc9c04523a4",
   "outputs": [
    {
     "data": {
      "text/plain": [
       "<Figure size 1200x480 with 40 Axes>"
      ],
      "image/png": "[encoded data removed]"
     },
     "metadata": {},
     "output_type": "display_data"
    }
   ],
   "execution_count": 20
  },
  {
   "metadata": {
    "ExecuteTime": {
     "end_time": "2025-08-26T07:33:00.568991Z",
     "start_time": "2025-08-26T07:33:00.461816Z"
    }
   },
   "cell_type": "code",
   "source": [
    "# 使用顺序（Squential API创建模型），创建具有两个隐藏层的分类MLP\n",
    "tf.random.set_seed(42)\n",
    "model = tf.keras.Sequential()\n",
    "\n",
    "model.add(tf.keras.layers.Input(shape=[28, 28]))\n",
    "model.add(tf.keras.layers.Flatten())\n",
    "model.add(tf.keras.layers.Dense(300, activation=\"relu\"))  # tf.keras.activations.relu\n",
    "model.add(tf.keras.layers.Dense(100, activation=\"relu\"))\n",
    "model.add(tf.keras.layers.Dense(10, activation=\"softmax\"))"
   ],
   "id": "90acf94953f07ab2",
   "outputs": [],
   "execution_count": 5
  },
  {
   "metadata": {
    "ExecuteTime": {
     "end_time": "2025-08-26T07:33:03.735168Z",
     "start_time": "2025-08-26T07:33:03.723354Z"
    }
   },
   "cell_type": "code",
   "source": "tf.keras.backend.clear_session()",
   "id": "886cbd7be539c36b",
   "outputs": [],
   "execution_count": 6
  },
  {
   "metadata": {},
   "cell_type": "markdown",
   "source": [
    "- 首先，设置TensorFlow的随机种子以使结果可重现：每次运行notebook时，隐藏层和输出层的随机权重都是相同的。\n",
    "- 还可以选择使用tf.keras.utils.set_random_seed()函数，它可以方便地为TensorFlow、Python (random.seed())和NumPy(np.random.seed())设置随机种子\n",
    "- 下一行创建一个Sequential模型。这是用于神经网络的最简单的Keras模型，仅由顺序连接的单层堆栈组成。这称为顺序API。\n",
    "- 然后，构建第一层（Input层）并将其添加到模型中。我们指定输入shape，其中不包括批量大小，仅包括实例的形状。Keras需要知道输入的形状，以便确定第一个隐藏层连接权重矩阵的形状。\n",
    "- 接下来添加一个Flatten层。它的作用是将每个输入图像转换为一维数组：例如，如果它接收到形状为[32，28，28]的批次，就把它重塑为[32，784]。\n",
    "- 换句话说，如果它接收到输入数据X，它会计算X.reshape(-1，784)。该层没有任何参数，只是用来做一些简单的预处理。\n",
    "- 接下来添加具有300个神经元的Dense隐藏层。它使用ReLU激活函数。每个Dense层管理自己的权重矩阵，其中包含神经元及其输入之间的所有连接权重。它还管理偏置项的一个向量（每个神经元一个）。\n",
    "- 之后，添加第二个有100个神经元的Dense隐藏层，还是使用ReLU激活函数。\n",
    "- 最后，添加一个包含10个神经元的Dense输出层（每个类一个），使用softmax激活函数，因为这些类是互斥的\n",
    "\n",
    "激活函数的完整列表：https://keras.io/api/layers/activations"
   ],
   "id": "3142aafc94b78954"
  },
  {
   "metadata": {
    "ExecuteTime": {
     "end_time": "2025-08-26T08:00:40.029751Z",
     "start_time": "2025-08-26T08:00:39.987347Z"
    }
   },
   "cell_type": "code",
   "source": [
    "# 与其逐层添加，不如传递一个层列表\n",
    "# 还可以不用Input层，直接用Flatten，并指定input_shape\n",
    "\n",
    "model = tf.keras.Sequential([\n",
    "    tf.keras.layers.Flatten(input_shape=[28,28]),\n",
    "    tf.keras.layers.Dense(300, activation=\"relu\"),\n",
    "    tf.keras.layers.Dense(100, activation=\"relu\"),\n",
    "    tf.keras.layers.Dense(10, activation=\"softmax\")\n",
    "])"
   ],
   "id": "eff354211330d2f4",
   "outputs": [],
   "execution_count": 16
  },
  {
   "metadata": {
    "ExecuteTime": {
     "end_time": "2025-08-26T07:33:07.724400Z",
     "start_time": "2025-08-26T07:33:07.699252Z"
    }
   },
   "cell_type": "code",
   "source": [
    "# 模型的summary()方法显示模型的所有层，\n",
    "# 包括每个层的名称（除非在创建层时进行设置，否则会自动生成）、其输出形状（None表示批大小任意），以及它的参数数量。摘要(summary)以参数总数结尾，包括可训练和不可训练的参数。在这里，只有可训练的参数\n",
    "model.summary()"
   ],
   "id": "cb27244deac771b6",
   "outputs": [
    {
     "name": "stdout",
     "output_type": "stream",
     "text": [
      "Model: \"sequential\"\n",
      "_________________________________________________________________\n",
      " Layer (type)                Output Shape              Param #   \n",
      "=================================================================\n",
      " flatten (Flatten)           (None, 784)               0         \n",
      "                                                                 \n",
      " dense (Dense)               (None, 300)               235500    \n",
      "                                                                 \n",
      " dense_1 (Dense)             (None, 100)               30100     \n",
      "                                                                 \n",
      " dense_2 (Dense)             (None, 10)                1010      \n",
      "                                                                 \n",
      "=================================================================\n",
      "Total params: 266610 (1.02 MB)\n",
      "Trainable params: 266610 (1.02 MB)\n",
      "Non-trainable params: 0 (0.00 Byte)\n",
      "_________________________________________________________________\n"
     ]
    }
   ],
   "execution_count": 8
  },
  {
   "metadata": {
    "ExecuteTime": {
     "end_time": "2025-08-26T07:33:11.043763Z",
     "start_time": "2025-08-26T07:33:09.551415Z"
    }
   },
   "cell_type": "code",
   "source": "tf.keras.utils.plot_model(model, \"./images/neural_network/my_fashion_mnist_model.png\", show_shapes=True)",
   "id": "f347b8f102d0bb3",
   "outputs": [
    {
     "data": {
      "image/png": "[encoded data removed]",
      "text/plain": [
       "<IPython.core.display.Image object>"
      ]
     },
     "execution_count": 9,
     "metadata": {},
     "output_type": "execute_result"
    }
   ],
   "execution_count": 9
  },
  {
   "metadata": {},
   "cell_type": "markdown",
   "source": [
    "请注意，Dense层通常有很多参数。例如，第一个隐藏层的连接权重为784×300，外加300个偏置项，总共有235500个参数！这为模型提供了足够的灵活性来拟合训练数据，但这也意味着模型存在过拟合的风险，尤其是在你没有大量训练数据的情况下；\n",
    "\n",
    "模型中的每一层都必须有一个唯一的名称（例如，\"dense_2\"）。可以使用构造函数的name参数显式设置图层名称，但通常让Keras自动命名图层更简单\n",
    "\n",
    "Keras还通过在需要时附加索引来确保名称全局唯一，即使跨模型也是如此，如\"dense_2\"。 命名唯一保证合并模型时不会出现名称冲突\n",
    "\n",
    "Keras管理的所有全局状态都存储在Keras会话中，可以使用tf.keras.backend.clear_session()清除该会话，可以重置名称计数器"
   ],
   "id": "f9e4018f8b03736f"
  },
  {
   "metadata": {
    "ExecuteTime": {
     "end_time": "2025-08-24T06:25:49.450426Z",
     "start_time": "2025-08-24T06:25:49.434809Z"
    }
   },
   "cell_type": "code",
   "source": "# tf.keras.backend.clear_session()",
   "id": "86fa35ab8dff6f3c",
   "outputs": [],
   "execution_count": 19
  },
  {
   "metadata": {
    "ExecuteTime": {
     "end_time": "2025-08-26T07:14:29.413524Z",
     "start_time": "2025-08-26T07:14:29.404008Z"
    }
   },
   "cell_type": "code",
   "source": [
    "# 使用layers属性轻松获取模型的层列表，或使用get_layers()方法按名称访问层\n",
    "model.layers\n",
    "hidden1 = model.layers[1]\n",
    "hidden1.name\n",
    "model.get_layer(\"dense\") is hidden1"
   ],
   "id": "8d2484101c9bc8df",
   "outputs": [
    {
     "data": {
      "text/plain": [
       "True"
      ]
     },
     "execution_count": 29,
     "metadata": {},
     "output_type": "execute_result"
    }
   ],
   "execution_count": 29
  },
  {
   "metadata": {
    "ExecuteTime": {
     "end_time": "2025-08-26T07:15:33.415424Z",
     "start_time": "2025-08-26T07:15:33.398968Z"
    }
   },
   "cell_type": "code",
   "source": [
    "# 使用get_weights()和 set_weights()方法访问层的所有参数。对于Dense层，包括连接权重和偏置项\n",
    "weights, biases = hidden1.get_weights()\n",
    "weights\n",
    "weights.shape\n",
    "biases\n",
    "biases.shape"
   ],
   "id": "33830882f341096f",
   "outputs": [
    {
     "data": {
      "text/plain": [
       "(300,)"
      ]
     },
     "execution_count": 33,
     "metadata": {},
     "output_type": "execute_result"
    }
   ],
   "execution_count": 33
  },
  {
   "metadata": {},
   "cell_type": "markdown",
   "source": [
    "注意，Dense层随机初始化了连接权重（这是打破对称性所必需的，正如前面所讨论的）\n",
    "\n",
    "并且偏置被初始化为零，这是可以的。如果要使用其他初始化方法，则可以在创建层时设置kernel_initializer（核是连接权重矩阵的另一个名称）或bias_initializer，完整初始化器列表：https://keras.io/api/layers/initializers\n",
    "\n",
    "权重矩阵的形状取决于输入的数量，这就是在创建模型时指定input_shape的原因。\n",
    "\n",
    "如果不指定输入形状，也没关系：Keras会简单地等待，直到它知道输入形状，然后才会实际构建模型参数。\n",
    "\n",
    "当向它提供一些数据（例如，在训练期间）或调用它的build()方法时，就会发生这种情况。\n",
    "\n",
    "在构建模型参数之前，将无法执行某些操作，例如显示模型摘要或保存模型。因此，如果在创建模型时知道输入形状，最好指定它。"
   ],
   "id": "e5be02df93585c04"
  },
  {
   "metadata": {
    "ExecuteTime": {
     "end_time": "2025-08-26T08:00:44.619752Z",
     "start_time": "2025-08-26T08:00:44.591558Z"
    }
   },
   "cell_type": "code",
   "source": [
    "# 创建模型后，必须调用compile()方法来指定损失函数 和 要使用的优化器。\n",
    "# 也可以选择指定在训练和评估期间要计算的其他指标\n",
    "\n",
    "\n",
    "# model.compile(loss=\"sparse_categorical_crossentropy\", optimizer=\"sgd\", metrics=[\"accuracy\"])\n",
    "# model.compile(loss=\"sparse_categorical_crossentropy\", optimizer=tf.keras.optimizers.SGD(), metrics=[\"accuracy\"])\n",
    "\n",
    "model.compile(loss=tf.keras.losses.sparse_categorical_crossentropy,\n",
    "              optimizer=tf.keras.optimizers.SGD(),\n",
    "              metrics=[tf.keras.metrics.sparse_categorical_accuracy])"
   ],
   "id": "c1f6027a9b97e209",
   "outputs": [],
   "execution_count": 17
  },
  {
   "metadata": {},
   "cell_type": "markdown",
   "source": [
    "使用loss=\"sparse_categorical_crossentropy\"等同于使用loss=tf.keras.losses.sparse_categorical_crossentropy。\n",
    "\n",
    "同样，使用optimizer=\"sgd\"等同于使用optimizer=tf.keras.optimizers.SGD()\n",
    "\n",
    "使用metrics=[\"accuracy\"]等同于使用metrics=[tf.keras.metrics.sparse_categorical_accuracy]（使用此损失时）。\n",
    "\n",
    "将使用许多其他损失、优化器和指标，有关完整列表，请参阅 https://keras.io/api/losses https://keras.io/api/optimizers 和 https://keras.io/api/metrics。"
   ],
   "id": "aa3768c8920246f3"
  },
  {
   "metadata": {},
   "cell_type": "markdown",
   "source": [
    "使用\"sparse_categorical_crossentropy\"损失，因为有稀疏标签（即对于每个实例，只有一个目标类索引，在这种情况下为0～9），并且这些类是互斥的。\n",
    "\n",
    "相反，如果每个实例的每个类都有一个目标概率（例如独热向量，[0.，0.，0.，1.，0.，0.，0.，0.，0.，0]代表类3），则需要使用\"categorical_crossentropy\"损失。\n",
    "\n",
    "如果进行二元分类或多标签二元分类，则在输出层中使用\"sigmoid\"激活函数，而不是\"softmax\"激活函数，并且使用\"binary_crossentropy\"损失。"
   ],
   "id": "b7d4a3353b6ff038"
  },
  {
   "metadata": {
    "ExecuteTime": {
     "end_time": "2025-08-26T07:54:44.440182Z",
     "start_time": "2025-08-26T07:54:44.400652Z"
    }
   },
   "cell_type": "code",
   "source": [
    "# 如果要将稀疏标签（即类索引）转换为独热向量标签，则使用tf.keras.utils.to_categorical()函数。反之，请使用np.argmax()函数和axis=1。\n",
    "import numpy as np\n",
    "tf.keras.utils.to_categorical([0, 5, 1, 0], num_classes=10)\n",
    "\n",
    "np.argmax(\n",
    "    [[1., 0., 0., 0., 0., 0., 0., 0., 0., 0.],\n",
    "     [0., 0., 0., 0., 0., 1., 0., 0., 0., 0.],\n",
    "     [0., 1., 0., 0., 0., 0., 0., 0., 0., 0.],\n",
    "     [1., 0., 0., 0., 0., 0., 0., 0., 0., 0.]],\n",
    "    axis=1\n",
    ")"
   ],
   "id": "a192460d83463921",
   "outputs": [
    {
     "data": {
      "text/plain": [
       "array([0, 5, 1, 0], dtype=int64)"
      ]
     },
     "execution_count": 12,
     "metadata": {},
     "output_type": "execute_result"
    }
   ],
   "execution_count": 12
  },
  {
   "metadata": {},
   "cell_type": "markdown",
   "source": [
    "关于优化器，\"sgd\" 表示我们使用随机梯度下降来训练模型。换句话说，Keras 将执行先前所述的反向传播算法（即反向模式自动微分加梯度下降）。之后讨论更有效的优化器，它们改进了梯度下降，而不是自动微分。\n",
    "\n",
    "使用 SGD 优化器时，调整学习率很重要。因此，通常会希望使用\n",
    "\n",
    "optimizer = tf.keras.optimizers.SGD(learning_rate=?)\n"
   ],
   "id": "cac5ae9b2ef2c5f2"
  },
  {
   "metadata": {
    "ExecuteTime": {
     "end_time": "2025-08-26T08:11:44.021312Z",
     "start_time": "2025-08-26T08:09:53.216429Z"
    }
   },
   "cell_type": "code",
   "source": [
    "# 训练和评估模型\n",
    "history = model.fit(X_train, y_train, epochs=30, validation_data=(X_valid, y_valid))"
   ],
   "id": "40e4328ef0899a92",
   "outputs": [
    {
     "name": "stdout",
     "output_type": "stream",
     "text": [
      "Epoch 1/30\n",
      "1719/1719 [==============================] - 4s 2ms/step - loss: 1.2881 - sparse_categorical_accuracy: 0.7309 - val_loss: 0.5840 - val_sparse_categorical_accuracy: 0.7922\n",
      "Epoch 2/30\n",
      "1719/1719 [==============================] - 4s 2ms/step - loss: 0.5519 - sparse_categorical_accuracy: 0.8113 - val_loss: 0.5297 - val_sparse_categorical_accuracy: 0.8072\n",
      "Epoch 3/30\n",
      "1719/1719 [==============================] - 4s 2ms/step - loss: 0.4799 - sparse_categorical_accuracy: 0.8351 - val_loss: 0.4630 - val_sparse_categorical_accuracy: 0.8398\n",
      "Epoch 4/30\n",
      "1719/1719 [==============================] - 4s 2ms/step - loss: 0.4443 - sparse_categorical_accuracy: 0.8462 - val_loss: 0.4276 - val_sparse_categorical_accuracy: 0.8522\n",
      "Epoch 5/30\n",
      "1719/1719 [==============================] - 4s 2ms/step - loss: 0.4172 - sparse_categorical_accuracy: 0.8548 - val_loss: 0.4112 - val_sparse_categorical_accuracy: 0.8554\n",
      "Epoch 6/30\n",
      "1719/1719 [==============================] - 4s 2ms/step - loss: 0.3976 - sparse_categorical_accuracy: 0.8602 - val_loss: 0.4170 - val_sparse_categorical_accuracy: 0.8524\n",
      "Epoch 7/30\n",
      "1719/1719 [==============================] - 4s 2ms/step - loss: 0.3827 - sparse_categorical_accuracy: 0.8661 - val_loss: 0.3959 - val_sparse_categorical_accuracy: 0.8620\n",
      "Epoch 8/30\n",
      "1719/1719 [==============================] - 4s 2ms/step - loss: 0.3699 - sparse_categorical_accuracy: 0.8689 - val_loss: 0.3840 - val_sparse_categorical_accuracy: 0.8648\n",
      "Epoch 9/30\n",
      "1719/1719 [==============================] - 4s 2ms/step - loss: 0.3590 - sparse_categorical_accuracy: 0.8731 - val_loss: 0.3691 - val_sparse_categorical_accuracy: 0.8672\n",
      "Epoch 10/30\n",
      "1719/1719 [==============================] - 4s 2ms/step - loss: 0.3481 - sparse_categorical_accuracy: 0.8757 - val_loss: 0.3694 - val_sparse_categorical_accuracy: 0.8698\n",
      "Epoch 11/30\n",
      "1719/1719 [==============================] - 4s 2ms/step - loss: 0.3393 - sparse_categorical_accuracy: 0.8789 - val_loss: 0.3687 - val_sparse_categorical_accuracy: 0.8676\n",
      "Epoch 12/30\n",
      "1719/1719 [==============================] - 4s 2ms/step - loss: 0.3317 - sparse_categorical_accuracy: 0.8807 - val_loss: 0.3607 - val_sparse_categorical_accuracy: 0.8692\n",
      "Epoch 13/30\n",
      "1719/1719 [==============================] - 4s 2ms/step - loss: 0.3240 - sparse_categorical_accuracy: 0.8835 - val_loss: 0.3440 - val_sparse_categorical_accuracy: 0.8738\n",
      "Epoch 14/30\n",
      "1719/1719 [==============================] - 4s 2ms/step - loss: 0.3175 - sparse_categorical_accuracy: 0.8862 - val_loss: 0.3573 - val_sparse_categorical_accuracy: 0.8736\n",
      "Epoch 15/30\n",
      "1719/1719 [==============================] - 4s 2ms/step - loss: 0.3118 - sparse_categorical_accuracy: 0.8874 - val_loss: 0.3521 - val_sparse_categorical_accuracy: 0.8736\n",
      "Epoch 16/30\n",
      "1719/1719 [==============================] - 4s 2ms/step - loss: 0.3053 - sparse_categorical_accuracy: 0.8901 - val_loss: 0.3436 - val_sparse_categorical_accuracy: 0.8764\n",
      "Epoch 17/30\n",
      "1719/1719 [==============================] - 6s 4ms/step - loss: 0.3005 - sparse_categorical_accuracy: 0.8902 - val_loss: 0.3486 - val_sparse_categorical_accuracy: 0.8732\n",
      "Epoch 18/30\n",
      "1719/1719 [==============================] - 4s 2ms/step - loss: 0.2947 - sparse_categorical_accuracy: 0.8927 - val_loss: 0.3379 - val_sparse_categorical_accuracy: 0.8780\n",
      "Epoch 19/30\n",
      "1719/1719 [==============================] - 4s 2ms/step - loss: 0.2902 - sparse_categorical_accuracy: 0.8944 - val_loss: 0.3427 - val_sparse_categorical_accuracy: 0.8742\n",
      "Epoch 20/30\n",
      "1719/1719 [==============================] - 4s 2ms/step - loss: 0.2856 - sparse_categorical_accuracy: 0.8957 - val_loss: 0.3290 - val_sparse_categorical_accuracy: 0.8780\n",
      "Epoch 21/30\n",
      "1719/1719 [==============================] - 4s 2ms/step - loss: 0.2807 - sparse_categorical_accuracy: 0.8979 - val_loss: 0.3286 - val_sparse_categorical_accuracy: 0.8804\n",
      "Epoch 22/30\n",
      "1719/1719 [==============================] - 4s 2ms/step - loss: 0.2760 - sparse_categorical_accuracy: 0.8975 - val_loss: 0.3303 - val_sparse_categorical_accuracy: 0.8804\n",
      "Epoch 23/30\n",
      "1719/1719 [==============================] - 3s 2ms/step - loss: 0.2727 - sparse_categorical_accuracy: 0.9004 - val_loss: 0.3445 - val_sparse_categorical_accuracy: 0.8744\n",
      "Epoch 24/30\n",
      "1719/1719 [==============================] - 4s 2ms/step - loss: 0.2674 - sparse_categorical_accuracy: 0.9021 - val_loss: 0.3290 - val_sparse_categorical_accuracy: 0.8808\n",
      "Epoch 25/30\n",
      "1719/1719 [==============================] - 3s 2ms/step - loss: 0.2641 - sparse_categorical_accuracy: 0.9036 - val_loss: 0.3283 - val_sparse_categorical_accuracy: 0.8824\n",
      "Epoch 26/30\n",
      "1719/1719 [==============================] - 3s 2ms/step - loss: 0.2612 - sparse_categorical_accuracy: 0.9052 - val_loss: 0.3225 - val_sparse_categorical_accuracy: 0.8822\n",
      "Epoch 27/30\n",
      "1719/1719 [==============================] - 4s 2ms/step - loss: 0.2562 - sparse_categorical_accuracy: 0.9057 - val_loss: 0.3374 - val_sparse_categorical_accuracy: 0.8822\n",
      "Epoch 28/30\n",
      "1719/1719 [==============================] - 3s 2ms/step - loss: 0.2539 - sparse_categorical_accuracy: 0.9065 - val_loss: 0.3201 - val_sparse_categorical_accuracy: 0.8846\n",
      "Epoch 29/30\n",
      "1719/1719 [==============================] - 4s 2ms/step - loss: 0.2500 - sparse_categorical_accuracy: 0.9087 - val_loss: 0.3340 - val_sparse_categorical_accuracy: 0.8818\n",
      "Epoch 30/30\n",
      "1719/1719 [==============================] - 4s 2ms/step - loss: 0.2467 - sparse_categorical_accuracy: 0.9092 - val_loss: 0.3216 - val_sparse_categorical_accuracy: 0.8854\n"
     ]
    }
   ],
   "execution_count": 23
  },
  {
   "metadata": {},
   "cell_type": "markdown",
   "source": [
    "将输入特征(X_train)和目标类(y_train)以及要训练的轮次数传递给它（否则它将默认为1，这绝对不足以收敛为一个好的模型）。\n",
    "\n",
    "还传递了一个验证集（这是可选的）。Keras将在每个轮次结束时测量此集合上的损失和其他指标，这对于查看模型的实际效果非常有用。\n",
    "\n",
    "如果训练集的性能好于验证集，则模型可能过拟合训练集，或者存在错误，例如训练集和验证集之间的数据不匹配。"
   ],
   "id": "92acb98d725d0821"
  },
  {
   "metadata": {},
   "cell_type": "markdown",
   "source": [
    "随堂练习：形状错误很常见，尤其是在刚开始时，因此应该熟悉错误消息：尝试使用错误形状的输入或标签拟合模型，然后查看你得到的错误。\n",
    "\n",
    "同样，尝试使用loss=\"categorical_crossentropy\"而不是loss=\"sparse_categorical_crossentropy\"编译模型。\n",
    "\n",
    "或者可以删除Flatten层\n",
    "\n",
    "或者使用metrics=[tf.keras.metrics.categorical_crossentroy]  看看运行出来会出什么报错 / 有什么不对的地方"
   ],
   "id": "bea5fd024db40aee"
  },
  {
   "metadata": {
    "ExecuteTime": {
     "end_time": "2025-08-26T08:42:18.688357Z",
     "start_time": "2025-08-26T08:40:30.465231Z"
    }
   },
   "cell_type": "code",
   "source": [
    "model = tf.keras.Sequential([\n",
    "    tf.keras.layers.Flatten(input_shape=[28,28]),\n",
    "    tf.keras.layers.Dense(300, activation=\"relu\"),\n",
    "    tf.keras.layers.Dense(100, activation=\"relu\"),\n",
    "    tf.keras.layers.Dense(10, activation=\"softmax\")\n",
    "])\n",
    "# model.summary()\n",
    "model.compile(loss=tf.keras.losses.sparse_categorical_crossentropy,\n",
    "              optimizer=tf.keras.optimizers.SGD(),\n",
    "              metrics=[tf.keras.metrics.sparse_categorical_accuracy])\n",
    "model.fit(X_train, y_train, epochs=30, validation_data=(X_valid, y_valid))"
   ],
   "id": "eb88dbf601945fdb",
   "outputs": [
    {
     "name": "stdout",
     "output_type": "stream",
     "text": [
      "Epoch 1/30\n",
      "1719/1719 [==============================] - 4s 2ms/step - loss: 0.7136 - categorical_accuracy: 0.1073 - val_loss: 0.5045 - val_categorical_accuracy: 0.0912\n",
      "Epoch 2/30\n",
      "1719/1719 [==============================] - 3s 2ms/step - loss: 0.4862 - categorical_accuracy: 0.1034 - val_loss: 0.4606 - val_categorical_accuracy: 0.0772\n",
      "Epoch 3/30\n",
      "1719/1719 [==============================] - 4s 2ms/step - loss: 0.4402 - categorical_accuracy: 0.1031 - val_loss: 0.4193 - val_categorical_accuracy: 0.0952\n",
      "Epoch 4/30\n",
      "1719/1719 [==============================] - 4s 2ms/step - loss: 0.4159 - categorical_accuracy: 0.1029 - val_loss: 0.3946 - val_categorical_accuracy: 0.1006\n",
      "Epoch 5/30\n",
      "1719/1719 [==============================] - 4s 2ms/step - loss: 0.3950 - categorical_accuracy: 0.1037 - val_loss: 0.3909 - val_categorical_accuracy: 0.0882\n",
      "Epoch 6/30\n",
      "1719/1719 [==============================] - 3s 2ms/step - loss: 0.3787 - categorical_accuracy: 0.1030 - val_loss: 0.3872 - val_categorical_accuracy: 0.1110\n",
      "Epoch 7/30\n",
      "1719/1719 [==============================] - 3s 2ms/step - loss: 0.3659 - categorical_accuracy: 0.1032 - val_loss: 0.3690 - val_categorical_accuracy: 0.1084\n",
      "Epoch 8/30\n",
      "1719/1719 [==============================] - 4s 2ms/step - loss: 0.3543 - categorical_accuracy: 0.1027 - val_loss: 0.3678 - val_categorical_accuracy: 0.1046\n",
      "Epoch 9/30\n",
      "1719/1719 [==============================] - 4s 2ms/step - loss: 0.3432 - categorical_accuracy: 0.1031 - val_loss: 0.3460 - val_categorical_accuracy: 0.0974\n",
      "Epoch 10/30\n",
      "1719/1719 [==============================] - 4s 2ms/step - loss: 0.3333 - categorical_accuracy: 0.1028 - val_loss: 0.3495 - val_categorical_accuracy: 0.0996\n",
      "Epoch 11/30\n",
      "1719/1719 [==============================] - 4s 2ms/step - loss: 0.3244 - categorical_accuracy: 0.1023 - val_loss: 0.3761 - val_categorical_accuracy: 0.0886\n",
      "Epoch 12/30\n",
      "1719/1719 [==============================] - 4s 2ms/step - loss: 0.3164 - categorical_accuracy: 0.1027 - val_loss: 0.3416 - val_categorical_accuracy: 0.0894\n",
      "Epoch 13/30\n",
      "1719/1719 [==============================] - 4s 2ms/step - loss: 0.3088 - categorical_accuracy: 0.1025 - val_loss: 0.3274 - val_categorical_accuracy: 0.0980\n",
      "Epoch 14/30\n",
      "1719/1719 [==============================] - 4s 2ms/step - loss: 0.3015 - categorical_accuracy: 0.1021 - val_loss: 0.3354 - val_categorical_accuracy: 0.1070\n",
      "Epoch 15/30\n",
      "1719/1719 [==============================] - 4s 2ms/step - loss: 0.2956 - categorical_accuracy: 0.1021 - val_loss: 0.3293 - val_categorical_accuracy: 0.1102\n",
      "Epoch 16/30\n",
      "1719/1719 [==============================] - 4s 2ms/step - loss: 0.2888 - categorical_accuracy: 0.1018 - val_loss: 0.3251 - val_categorical_accuracy: 0.0890\n",
      "Epoch 17/30\n",
      "1719/1719 [==============================] - 4s 2ms/step - loss: 0.2831 - categorical_accuracy: 0.1020 - val_loss: 0.3321 - val_categorical_accuracy: 0.1054\n",
      "Epoch 18/30\n",
      "1719/1719 [==============================] - 4s 2ms/step - loss: 0.2771 - categorical_accuracy: 0.1014 - val_loss: 0.3177 - val_categorical_accuracy: 0.1042\n",
      "Epoch 19/30\n",
      "1719/1719 [==============================] - 4s 2ms/step - loss: 0.2722 - categorical_accuracy: 0.1019 - val_loss: 0.3465 - val_categorical_accuracy: 0.1098\n",
      "Epoch 20/30\n",
      "1719/1719 [==============================] - 4s 2ms/step - loss: 0.2675 - categorical_accuracy: 0.1014 - val_loss: 0.3147 - val_categorical_accuracy: 0.0900\n",
      "Epoch 21/30\n",
      "1719/1719 [==============================] - 4s 2ms/step - loss: 0.2620 - categorical_accuracy: 0.1020 - val_loss: 0.3116 - val_categorical_accuracy: 0.1048\n",
      "Epoch 22/30\n",
      "1719/1719 [==============================] - 4s 2ms/step - loss: 0.2571 - categorical_accuracy: 0.1018 - val_loss: 0.3095 - val_categorical_accuracy: 0.0968\n",
      "Epoch 23/30\n",
      "1719/1719 [==============================] - 4s 2ms/step - loss: 0.2532 - categorical_accuracy: 0.1020 - val_loss: 0.3337 - val_categorical_accuracy: 0.0810\n",
      "Epoch 24/30\n",
      "1719/1719 [==============================] - 4s 2ms/step - loss: 0.2476 - categorical_accuracy: 0.1016 - val_loss: 0.3119 - val_categorical_accuracy: 0.1146\n",
      "Epoch 25/30\n",
      "1719/1719 [==============================] - 4s 2ms/step - loss: 0.2439 - categorical_accuracy: 0.1019 - val_loss: 0.3150 - val_categorical_accuracy: 0.1124\n",
      "Epoch 26/30\n",
      "1719/1719 [==============================] - 4s 2ms/step - loss: 0.2399 - categorical_accuracy: 0.1015 - val_loss: 0.3086 - val_categorical_accuracy: 0.0906\n",
      "Epoch 27/30\n",
      "1719/1719 [==============================] - 4s 2ms/step - loss: 0.2345 - categorical_accuracy: 0.1013 - val_loss: 0.3143 - val_categorical_accuracy: 0.1006\n",
      "Epoch 28/30\n",
      "1719/1719 [==============================] - 4s 2ms/step - loss: 0.2322 - categorical_accuracy: 0.1013 - val_loss: 0.3147 - val_categorical_accuracy: 0.1098\n",
      "Epoch 29/30\n",
      "1719/1719 [==============================] - 4s 2ms/step - loss: 0.2280 - categorical_accuracy: 0.1018 - val_loss: 0.3115 - val_categorical_accuracy: 0.0998\n",
      "Epoch 30/30\n",
      "1719/1719 [==============================] - 4s 2ms/step - loss: 0.2246 - categorical_accuracy: 0.1015 - val_loss: 0.3090 - val_categorical_accuracy: 0.0958\n"
     ]
    },
    {
     "data": {
      "text/plain": [
       "<keras.src.callbacks.History at 0x27b005bda80>"
      ]
     },
     "execution_count": 28,
     "metadata": {},
     "output_type": "execute_result"
    }
   ],
   "execution_count": 28
  },
  {
   "metadata": {},
   "cell_type": "markdown",
   "source": [
    "已经训练了神经网络！\n",
    "\n",
    "在训练期间的每个轮次，Keras在进度条的左侧显示到目前为止已处理的批次数。批量大小默认为32，由于训练集有55000个图像，因此模型每轮经过1719个批次：1718个批次大小为32，1个批次大小为24。\n",
    "\n",
    "在进度条之后，可以看到每个样本的平均训练时间，以及训练集和验证集的损失和精度（或你要求的任何其他额外指标）。请注意，训练损失下降了，这是一个好兆头，30轮后验证精度达到88.54%。这略低于训练精度，因此会出现一点点过拟合，但不会很大。\n",
    "\n",
    "可以将validation_split设置为希望Keras用于验证的训练集的比率，而不是使用validation_data参数传递验证集。例如，validation_split=0.1告诉Keras使用数据的最后10%（在打乱之前）进行验证。"
   ],
   "id": "9140eb0848d648a6"
  },
  {
   "metadata": {},
   "cell_type": "markdown",
   "source": [
    "如果训练集非常不平衡，其中某些类的样本过多，而其他类的样本不足，那么在调用fit()方法时设置class_weight参数会很有用，给样本不足的类更大的权重，给样本过多的类更小的权重。\n",
    "\n",
    "Keras在计算损失时将使用这些权重。如果需要每个实例的权重，请设置sample_weight参数。如果同时提供了class_weight和sample_weight，则Keras会将它们相乘。\n",
    "\n",
    "例如，如果某些实例由专家标记，而另一些实例使用众包平台标记，则每个实例的权重可能很有用：可能希望为前者赋予更大权重。\n",
    "\n",
    "还可以通过将其作为validation_data元组的第三项添加到验证集中来提供样本权重（但不提供类权重）"
   ],
   "id": "a45cb4cf79762cca"
  },
  {
   "metadata": {
    "ExecuteTime": {
     "end_time": "2025-08-26T09:14:07.447676Z",
     "start_time": "2025-08-26T09:14:06.585446Z"
    }
   },
   "cell_type": "code",
   "source": [
    "# fit()方法返回一个History对象，其中包含训练参数(history.params)、经历的轮次列表(history.epoch)，\n",
    "# 最重要的是包含在训练集和验证集（如果有）上每轮结束时测得的损失和额外指标的字典(history.history)。\n",
    "history.params\n",
    "history.epoch\n",
    "history.history\n",
    "\n",
    "# 使用此字典创建pandas DataFrame并调用其plot()方法\n",
    "import pandas as pd\n",
    "pd.DataFrame(history.history)\n",
    "\n",
    "pd.DataFrame(history.history).plot(\n",
    "    figsize=(8, 5), xlim=[0, 29], ylim=[0, 1], grid=True, xlabel=\"Epoch\",\n",
    "    style=[\"r--\", \"r--.\", \"b-\", \"b-*\"])\n",
    "plt.legend(loc=\"lower left\")\n",
    "\n",
    "plt.show()"
   ],
   "id": "28a14ac86ef58b60",
   "outputs": [
    {
     "data": {
      "text/plain": [
       "<Figure size 800x500 with 1 Axes>"
      ],
      "image/png": "[encoded data removed]"
     },
     "metadata": {},
     "output_type": "display_data"
    }
   ],
   "execution_count": 33
  },
  {
   "metadata": {},
   "cell_type": "markdown",
   "source": [
    "可以看到训练期间训练精度和验证精度都在稳步提高，而训练损失和验证损失则在下降。这很好。\n",
    "\n",
    "验证曲线起初彼此比较接近，但随着时间的推移它们变得越来越远，这表明存在一点点过拟合。\n",
    "\n",
    "在这种情况下，刚开始训练时，该模型看起来在验证集上的表现要好于在训练集上的表现。\n",
    "\n",
    "但是事实并非如此：验证误差是在每个轮次结束时计算的，而训练误差是使用每个轮次运行平均值计算的。\n",
    "\n",
    "因此，训练曲线应向左移动半个轮次。"
   ],
   "id": "e891ee1064454f95"
  },
  {
   "metadata": {
    "ExecuteTime": {
     "end_time": "2025-08-24T06:34:34.388339Z",
     "start_time": "2025-08-24T06:34:34.268100Z"
    }
   },
   "cell_type": "code",
   "source": [
    "# 训练曲线向左移动0.5个轮次\n",
    "plt.figure(figsize=(8, 5))\n",
    "for key, style in zip(history.history, [\"r--\", \"r--.\", \"b-\", \"b-*\"]):\n",
    "    epochs = np.array(history.epoch) + (0 if key.startswith(\"val_\") else -0.5)\n",
    "    plt.plot(epochs, history.history[key], style, label=key)\n",
    "plt.xlabel(\"Epoch\")\n",
    "plt.axis([-0.5, 29, 0., 1])\n",
    "plt.legend(loc=\"lower left\")\n",
    "plt.grid()\n",
    "plt.show()"
   ],
   "id": "f4181727d3aef74d",
   "outputs": [
    {
     "data": {
      "text/plain": [
       "<Figure size 800x500 with 1 Axes>"
      ],
      "image/png": "[encoded data removed]"
     },
     "metadata": {},
     "output_type": "display_data"
    }
   ],
   "execution_count": 25
  },
  {
   "metadata": {},
   "cell_type": "markdown",
   "source": [
    "训练集的性能最终会超过验证性能，就像通常情况下训练足够长的时间一样。可以说模型尚未完全收敛，\n",
    "\n",
    "因为验证损失仍在下降，因此可能应该继续训练。可以直接再次调用fit()方法，因为Keras只是从它停止的地方继续训练，应该能够达到大约89.8%的验证精度，\n",
    "\n",
    "而训练精度将继续上升到100%（这并非总是如此）。"
   ],
   "id": "99e348577343172c"
  },
  {
   "metadata": {},
   "cell_type": "markdown",
   "source": [
    "如果对模型的性能不满意，则应回头调整超参数。首先要检查的是学习率。\n",
    "\n",
    "如果这样做没有帮助，请尝试使用另一个优化器（并在更改任何超参数后始终重新调整学习率）。\n",
    "\n",
    "如果性能仍然不佳，则尝试调整模型超参数（例如层数）、每层神经元数，以及用于每个隐藏层的激活函数的类型。\n",
    "\n",
    "还可以尝试调整其他超参数，例如批量大小（可以在fit()方法中使用batch_size参数进行设置，默认为32）。\n",
    "\n",
    "我们将学习神经网络的超参数调整。对模型的验证精度感到满意后，应在测试集上评估其泛化误差，然后再将模型部署到生产环境中。可以使用evaluate()方法轻松完成此操作（它还支持其他几个参数，例如batch_size和sample_weight）\n",
    "\n",
    "在测试集上获得比在验证集上略低的性能是很常见的，因为超参数是在验证集而不是测试集上进行调优的"
   ],
   "id": "df6f64fce3a916ea"
  },
  {
   "metadata": {
    "ExecuteTime": {
     "end_time": "2025-08-26T09:30:10.838323Z",
     "start_time": "2025-08-26T09:30:10.212510Z"
    }
   },
   "cell_type": "code",
   "source": "model.evaluate(X_test, y_test)",
   "id": "1f1d85b5922d803f",
   "outputs": [
    {
     "name": "stdout",
     "output_type": "stream",
     "text": [
      "313/313 [==============================] - 0s 2ms/step - loss: 0.3280 - categorical_accuracy: 0.0972\n"
     ]
    },
    {
     "data": {
      "text/plain": [
       "[0.32804131507873535, 0.09719999879598618]"
      ]
     },
     "execution_count": 34,
     "metadata": {},
     "output_type": "execute_result"
    }
   ],
   "execution_count": 34
  },
  {
   "metadata": {},
   "cell_type": "markdown",
   "source": "接下来，我们可以使用模型的predict()方法对新实例进行预测。由于没有实际的新实例，因此将仅使用测试集的前三个实例：",
   "id": "bd2863050e8a9598"
  },
  {
   "metadata": {
    "ExecuteTime": {
     "end_time": "2025-08-24T06:36:29.296636Z",
     "start_time": "2025-08-24T06:36:29.090212Z"
    }
   },
   "cell_type": "code",
   "source": [
    "# 使用模型进行预测\n",
    "X_new = X_test[:3]\n",
    "y_proba = model.predict(X_new)\n",
    "y_proba.round(2)"
   ],
   "id": "ee06ec69f0ea0d23",
   "outputs": [
    {
     "name": "stdout",
     "output_type": "stream",
     "text": [
      "1/1 [==============================] - 0s 132ms/step\n"
     ]
    },
    {
     "data": {
      "text/plain": [
       "array([[0.  , 0.  , 0.  , 0.  , 0.  , 0.  , 0.  , 0.03, 0.  , 0.97],\n",
       "       [0.  , 0.  , 1.  , 0.  , 0.  , 0.  , 0.  , 0.  , 0.  , 0.  ],\n",
       "       [0.  , 1.  , 0.  , 0.  , 0.  , 0.  , 0.  , 0.  , 0.  , 0.  ]],\n",
       "      dtype=float32)"
      ]
     },
     "execution_count": 28,
     "metadata": {},
     "output_type": "execute_result"
    }
   ],
   "execution_count": 28
  },
  {
   "metadata": {
    "ExecuteTime": {
     "end_time": "2025-08-24T06:39:21.667461Z",
     "start_time": "2025-08-24T06:39:21.651839Z"
    }
   },
   "cell_type": "code",
   "source": [
    "import numpy as np\n",
    "y_pred = np.argmax(y_proba, axis=-1)\n",
    "y_pred\n",
    "np.array(class_names)[y_pred]"
   ],
   "id": "8415f7433b44ab61",
   "outputs": [
    {
     "data": {
      "text/plain": [
       "array(['Ankle boot', 'Pullover', 'Trouser'], dtype='<U11')"
      ]
     },
     "execution_count": 30,
     "metadata": {},
     "output_type": "execute_result"
    }
   ],
   "execution_count": 30
  },
  {
   "metadata": {
    "ExecuteTime": {
     "end_time": "2025-08-24T06:39:57.108394Z",
     "start_time": "2025-08-24T06:39:56.994266Z"
    }
   },
   "cell_type": "code",
   "source": [
    "# 对3个图像都进行了正确分类\n",
    "plt.figure(figsize=(7.2, 2.4))\n",
    "for index, image in enumerate(X_new):\n",
    "    plt.subplot(1, 3, index + 1)\n",
    "    plt.imshow(image, cmap=\"binary\", interpolation=\"nearest\")\n",
    "    plt.axis('off')\n",
    "    plt.title(class_names[y_test[index]])\n",
    "plt.subplots_adjust(wspace=0.2, hspace=0.5)\n",
    "plt.show()"
   ],
   "id": "7cb1095ba644aab3",
   "outputs": [
    {
     "data": {
      "text/plain": [
       "<Figure size 720x240 with 3 Axes>"
      ],
      "image/png": "[encoded data removed]"
     },
     "metadata": {},
     "output_type": "display_data"
    }
   ],
   "execution_count": 31
  },
  {
   "metadata": {},
   "cell_type": "markdown",
   "source": "### 使用顺序API构建回归MLP",
   "id": "25795853141ab87e"
  },
  {
   "metadata": {},
   "cell_type": "markdown",
   "source": [
    "使用顺序API来构建、训练、评估和使用回归MLP与分类所做的非常相似。\n",
    "\n",
    "以下代码示例的主要区别在于输出层只有一个神经元（因为只预测一个值），并且它不使用激活函数，损失函数是均方误差，度量是RMSE，\n",
    "\n",
    "使用像Scikit-Learn的MLPRegressor那样的Adam优化器。\n",
    "\n",
    "此外，在这个示例中，不需要Flatten层，而是使用Normalization层作为第一层：它与Scikit-Learn的StandardScaler做同样的事情，但它必须在调用模型的fit()方法之前调用adapt()方法来拟合训练数据。（Keras还有其他预处理层）。"
   ],
   "id": "e31ae2f8d5c2f965"
  },
  {
   "metadata": {
    "ExecuteTime": {
     "end_time": "2025-08-27T05:30:52.263314Z",
     "start_time": "2025-08-27T05:30:52.232071Z"
    }
   },
   "cell_type": "code",
   "source": [
    "from sklearn.datasets import fetch_california_housing\n",
    "housing = fetch_california_housing()  # 可能要换成作业5的数据集\n",
    "X_train_full, X_test, y_train_full, y_test = train_test_split(\n",
    "    housing.data, housing.target, random_state=42)\n",
    "\n",
    "X_train, X_valid, y_train, y_valid = train_test_split(\n",
    "    X_train_full, y_train_full, random_state=42)"
   ],
   "id": "46328a1edb82e8fe",
   "outputs": [],
   "execution_count": 29
  },
  {
   "metadata": {
    "ExecuteTime": {
     "end_time": "2025-08-24T07:14:31.608126Z",
     "start_time": "2025-08-24T07:14:20.877182Z"
    }
   },
   "cell_type": "code",
   "source": [
    "tf.random.set_seed(42)\n",
    "norm_layer = tf.keras.layers.Normalization(input_shape=X_train.shape[1:])  # keras的input_shape要的是单个样本的形状， 把第一个维度去掉就是标准化需要的样本形状\n",
    "model = tf.keras.Sequential([\n",
    "    norm_layer,\n",
    "    tf.keras.layers.Dense(50, activation=\"relu\"),\n",
    "    tf.keras.layers.Dense(50, activation=\"relu\"),\n",
    "    tf.keras.layers.Dense(50, activation=\"relu\"),\n",
    "    tf.keras.layers.Dense(1)\n",
    "])\n",
    "\n",
    "optimizer = tf.keras.optimizers.Adam(learning_rate=1e-3)\n",
    "model.compile(loss=\"mse\", optimizer=optimizer, metrics=[\"RootMeanSquaredError\"])\n",
    "norm_layer.adapt(X_train)\n",
    "history = model.fit(X_train, y_train, epochs=20, validation_data=(X_valid, y_valid))\n",
    "mse_test, rmse_test = model.evaluate(X_test, y_test)\n",
    "X_new = X_test[:3]\n",
    "y_pred = model.predict(X_new)"
   ],
   "id": "aab0b11907c5a0e9",
   "outputs": [
    {
     "name": "stdout",
     "output_type": "stream",
     "text": [
      "Epoch 1/20\n",
      "363/363 [==============================] - 2s 2ms/step - loss: 0.7955 - root_mean_squared_error: 0.8919 - val_loss: 0.7716 - val_root_mean_squared_error: 0.8784\n",
      "Epoch 2/20\n",
      "363/363 [==============================] - 1s 2ms/step - loss: 0.3769 - root_mean_squared_error: 0.6139 - val_loss: 0.5732 - val_root_mean_squared_error: 0.7571\n",
      "Epoch 3/20\n",
      "363/363 [==============================] - 0s 1ms/step - loss: 0.3536 - root_mean_squared_error: 0.5946 - val_loss: 0.4113 - val_root_mean_squared_error: 0.6413\n",
      "Epoch 4/20\n",
      "363/363 [==============================] - 0s 1ms/step - loss: 0.3372 - root_mean_squared_error: 0.5807 - val_loss: 0.5662 - val_root_mean_squared_error: 0.7525\n",
      "Epoch 5/20\n",
      "363/363 [==============================] - 0s 1ms/step - loss: 0.3226 - root_mean_squared_error: 0.5680 - val_loss: 0.4191 - val_root_mean_squared_error: 0.6474\n",
      "Epoch 6/20\n",
      "363/363 [==============================] - 0s 1ms/step - loss: 0.3150 - root_mean_squared_error: 0.5613 - val_loss: 1.7404 - val_root_mean_squared_error: 1.3192\n",
      "Epoch 7/20\n",
      "363/363 [==============================] - 0s 1ms/step - loss: 0.3223 - root_mean_squared_error: 0.5677 - val_loss: 0.3226 - val_root_mean_squared_error: 0.5680\n",
      "Epoch 8/20\n",
      "363/363 [==============================] - 0s 1ms/step - loss: 0.3012 - root_mean_squared_error: 0.5488 - val_loss: 0.5496 - val_root_mean_squared_error: 0.7414\n",
      "Epoch 9/20\n",
      "363/363 [==============================] - 0s 1ms/step - loss: 0.3001 - root_mean_squared_error: 0.5478 - val_loss: 0.9492 - val_root_mean_squared_error: 0.9742\n",
      "Epoch 10/20\n",
      "363/363 [==============================] - 0s 1ms/step - loss: 0.3019 - root_mean_squared_error: 0.5495 - val_loss: 1.4667 - val_root_mean_squared_error: 1.2111\n",
      "Epoch 11/20\n",
      "363/363 [==============================] - 0s 1ms/step - loss: 0.2936 - root_mean_squared_error: 0.5418 - val_loss: 0.3235 - val_root_mean_squared_error: 0.5688\n",
      "Epoch 12/20\n",
      "363/363 [==============================] - 0s 1ms/step - loss: 0.2944 - root_mean_squared_error: 0.5426 - val_loss: 0.7444 - val_root_mean_squared_error: 0.8628\n",
      "Epoch 13/20\n",
      "363/363 [==============================] - 0s 1ms/step - loss: 0.2852 - root_mean_squared_error: 0.5340 - val_loss: 0.2841 - val_root_mean_squared_error: 0.5330\n",
      "Epoch 14/20\n",
      "363/363 [==============================] - 0s 1ms/step - loss: 0.2811 - root_mean_squared_error: 0.5302 - val_loss: 0.2873 - val_root_mean_squared_error: 0.5360\n",
      "Epoch 15/20\n",
      "363/363 [==============================] - 0s 1ms/step - loss: 0.2795 - root_mean_squared_error: 0.5286 - val_loss: 0.2923 - val_root_mean_squared_error: 0.5407\n",
      "Epoch 16/20\n",
      "363/363 [==============================] - 0s 1ms/step - loss: 0.2760 - root_mean_squared_error: 0.5254 - val_loss: 0.3018 - val_root_mean_squared_error: 0.5494\n",
      "Epoch 17/20\n",
      "363/363 [==============================] - 0s 1ms/step - loss: 0.2755 - root_mean_squared_error: 0.5249 - val_loss: 0.5007 - val_root_mean_squared_error: 0.7076\n",
      "Epoch 18/20\n",
      "363/363 [==============================] - 0s 1ms/step - loss: 0.2712 - root_mean_squared_error: 0.5207 - val_loss: 0.3279 - val_root_mean_squared_error: 0.5726\n",
      "Epoch 19/20\n",
      "363/363 [==============================] - 0s 1ms/step - loss: 0.2681 - root_mean_squared_error: 0.5178 - val_loss: 0.2790 - val_root_mean_squared_error: 0.5282\n",
      "Epoch 20/20\n",
      "363/363 [==============================] - 0s 1ms/step - loss: 0.2685 - root_mean_squared_error: 0.5182 - val_loss: 0.4661 - val_root_mean_squared_error: 0.6827\n",
      "162/162 [==============================] - 0s 696us/step - loss: 0.2864 - root_mean_squared_error: 0.5352\n",
      "1/1 [==============================] - 0s 47ms/step\n"
     ]
    }
   ],
   "execution_count": 35
  },
  {
   "metadata": {},
   "cell_type": "markdown",
   "source": "当调用adapt()方法时，Normalization层会学习训练数据中的特征均值和标准差。然而，当显示模型的摘要时，这些统计数据被列为不可训练的。这是因为这些参数不受梯度下降的影响。",
   "id": "cd7b4b94c76aa1b6"
  },
  {
   "metadata": {},
   "cell_type": "markdown",
   "source": "### 使用函数式API构建复杂模型\n",
   "id": "96a90046f8bc6a68"
  },
  {
   "metadata": {},
   "cell_type": "markdown",
   "source": [
    "顺序API非常简洁明了。然而，虽然Sequential模型非常常见，但有时构建具有更复杂拓扑结构或具有多个输入或输出的神经网络很有用。为此，Keras提供了函数式API。\n",
    "\n",
    "非顺序神经网络的一个示例是“宽深”神经网络。这种神经网络架构是在2016年发表的论文引入的。它将所有或部分输入直接连接到输出层，如图1所示。这种架构使神经网络能够学习深度模式（使用深度路径）和简单规则（通过短路径)。\n",
    "\n",
    "相比之下，常规的MLP迫使所有数据流经整个层的堆栈。因此，数据的简单模式最终可能会因为顺序被转换而失真。\n",
    "\n",
    "![宽深神经网络](./images/neural_network/p7.png)"
   ],
   "id": "9746d19c94cacff3"
  },
  {
   "metadata": {
    "ExecuteTime": {
     "end_time": "2025-08-24T08:07:01.410255Z",
     "start_time": "2025-08-24T08:07:01.349013Z"
    }
   },
   "cell_type": "code",
   "source": [
    "tf.keras.backend.clear_session()\n",
    "normalization_layer = tf.keras.layers.Normalization()\n",
    "hidden_layer1 = tf.keras.layers.Dense(30, activation=\"relu\")\n",
    "hidden_layer2 = tf.keras.layers.Dense(30, activation=\"relu\")\n",
    "concat_layer = tf.keras.layers.Concatenate()\n",
    "output_layer = tf.keras.layers.Dense(1)\n",
    "\n",
    "input_ = tf.keras.layers.Input(shape=X_train.shape[1:])\n",
    "normalized = normalization_layer(input_)\n",
    "hidden1 = hidden_layer1(normalized)\n",
    "hidden2 = hidden_layer2(hidden1)\n",
    "\n",
    "concat = concat_layer([normalized, hidden2])\n",
    "output = output_layer(concat)\n",
    "\n",
    "model = tf.keras.Model(inputs=[input_], outputs=[output])"
   ],
   "id": "6fb4f0728004bff0",
   "outputs": [],
   "execution_count": 50
  },
  {
   "metadata": {
    "ExecuteTime": {
     "end_time": "2025-08-24T08:07:03.724991Z",
     "start_time": "2025-08-24T08:07:03.693737Z"
    }
   },
   "cell_type": "code",
   "source": "model.summary()",
   "id": "388645d14987aaf8",
   "outputs": [
    {
     "name": "stdout",
     "output_type": "stream",
     "text": [
      "Model: \"model\"\n",
      "__________________________________________________________________________________________________\n",
      " Layer (type)                Output Shape                 Param #   Connected to                  \n",
      "==================================================================================================\n",
      " input_1 (InputLayer)        [(None, 8)]                  0         []                            \n",
      "                                                                                                  \n",
      " normalization (Normalizati  (None, 8)                    17        ['input_1[0][0]']             \n",
      " on)                                                                                              \n",
      "                                                                                                  \n",
      " dense (Dense)               (None, 30)                   270       ['normalization[0][0]']       \n",
      "                                                                                                  \n",
      " dense_1 (Dense)             (None, 30)                   930       ['dense[0][0]']               \n",
      "                                                                                                  \n",
      " concatenate (Concatenate)   (None, 38)                   0         ['normalization[0][0]',       \n",
      "                                                                     'dense_1[0][0]']             \n",
      "                                                                                                  \n",
      " dense_2 (Dense)             (None, 1)                    39        ['concatenate[0][0]']         \n",
      "                                                                                                  \n",
      "==================================================================================================\n",
      "Total params: 1256 (4.91 KB)\n",
      "Trainable params: 1239 (4.84 KB)\n",
      "Non-trainable params: 17 (72.00 Byte)\n",
      "__________________________________________________________________________________________________\n"
     ]
    }
   ],
   "execution_count": 51
  },
  {
   "metadata": {
    "ExecuteTime": {
     "end_time": "2025-08-24T08:07:07.296537Z",
     "start_time": "2025-08-24T08:07:06.901215Z"
    }
   },
   "cell_type": "code",
   "source": "tf.keras.utils.plot_model(model, \"./images/neural_network/wide_deep_nn.png\", show_shapes=True)",
   "id": "63ea72c9a169d1cb",
   "outputs": [
    {
     "data": {
      "image/png": "[encoded data removed]",
      "text/plain": [
       "<IPython.core.display.Image object>"
      ]
     },
     "execution_count": 52,
     "metadata": {},
     "output_type": "execute_result"
    }
   ],
   "execution_count": 52
  },
  {
   "metadata": {},
   "cell_type": "markdown",
   "source": [
    "在高层次上，前5行创建了我们构建模型所需的所有层，接下来的6行就像函数一样使用这些层，从输入到输出，最后一行通过指向输入和输出创建一个Keras Model对象。\n",
    "\n",
    "详细地看一下这段代码：\n",
    "- 首先，创建5层：一个用于标准化输入的Normalization层，两个Dense层（每层有30个神经元，使用ReLU激活函数），一个Concatenate层，以及一个Dense层（输出层只有一个单神经元，没有任何激活函数）。\n",
    "- 接下来，创建一个Input对象（变量名称input_用于避免掩盖Python的内置input()函数)。这是模型将要获得的输入类型的一个规范，包括其shape和可选的dtype，默认为32位浮点数。一个模型实际上可能有多个输入\n",
    "- 然后，像函数一样使用Normalization层，将Input对象传递给它。这就是将其称为函数式API的原因。请注意，只是告诉Keras应该如何将各层连接在一起，尚未处理任何实际数据，因为Input对象只是一个数据规范。换句话说，它是一个符号输入。此调用的输出也是符号化的：normalized不存储任何实际数据，仅用于构建模型。· 之后以同样的方式，我们将normalized传递给hidden_layer1，它输出hidden1，再将hidden1传递给hidden_layer2，它输出hidden2。\n",
    "- 到目前为止，虽然已经按顺序连接了层，但还要使用concat_layer连接输入和第二个隐藏层的输出。同样，还没有连接实际数据：都是象征性的，用于构建模型。\n",
    "- 之后，我们将concat传递给output_layer，它给我们最终的output。\n",
    "- 最后，我们创建一个Keras Model，指定要使用的输入和输出。一旦构建了Keras模型，一切就都与之前的一样，因此无须在此重复：编译模型，Normalization层转换数据，拟合模型，评估模型并使用它进行预测。"
   ],
   "id": "afe4d282ee8b4dbe"
  },
  {
   "metadata": {
    "ExecuteTime": {
     "end_time": "2025-08-24T08:07:24.917822Z",
     "start_time": "2025-08-24T08:07:16.475698Z"
    }
   },
   "cell_type": "code",
   "source": [
    "# 用这个神经网络来解决房价预测问题\n",
    "optimizer = tf.keras.optimizers.Adam(learning_rate=1e-3)\n",
    "model.compile(loss=\"mse\", optimizer=optimizer, metrics=[\"RootMeanSquaredError\"])\n",
    "normalization_layer.adapt(X_train)\n",
    "history = model.fit(X_train, y_train, epochs=20, validation_data=(X_valid, y_valid))\n",
    "mse_test, rmse_test = model.evaluate(X_test, y_test)"
   ],
   "id": "9081858e54e2512d",
   "outputs": [
    {
     "name": "stdout",
     "output_type": "stream",
     "text": [
      "Epoch 1/20\n",
      "363/363 [==============================] - 1s 1ms/step - loss: 1.0382 - root_mean_squared_error: 1.0189 - val_loss: 1.2096 - val_root_mean_squared_error: 1.0998\n",
      "Epoch 2/20\n",
      "363/363 [==============================] - 0s 994us/step - loss: 0.4460 - root_mean_squared_error: 0.6678 - val_loss: 0.5929 - val_root_mean_squared_error: 0.7700\n",
      "Epoch 3/20\n",
      "363/363 [==============================] - 0s 1ms/step - loss: 0.3916 - root_mean_squared_error: 0.6258 - val_loss: 0.4171 - val_root_mean_squared_error: 0.6459\n",
      "Epoch 4/20\n",
      "363/363 [==============================] - 0s 1ms/step - loss: 0.3721 - root_mean_squared_error: 0.6100 - val_loss: 0.5461 - val_root_mean_squared_error: 0.7390\n",
      "Epoch 5/20\n",
      "363/363 [==============================] - 0s 1ms/step - loss: 0.3588 - root_mean_squared_error: 0.5990 - val_loss: 0.5246 - val_root_mean_squared_error: 0.7243\n",
      "Epoch 6/20\n",
      "363/363 [==============================] - 0s 1ms/step - loss: 0.3488 - root_mean_squared_error: 0.5906 - val_loss: 0.4837 - val_root_mean_squared_error: 0.6955\n",
      "Epoch 7/20\n",
      "363/363 [==============================] - 0s 1ms/step - loss: 0.3386 - root_mean_squared_error: 0.5819 - val_loss: 0.3515 - val_root_mean_squared_error: 0.5929\n",
      "Epoch 8/20\n",
      "363/363 [==============================] - 0s 1ms/step - loss: 0.3311 - root_mean_squared_error: 0.5754 - val_loss: 1.2431 - val_root_mean_squared_error: 1.1149\n",
      "Epoch 9/20\n",
      "363/363 [==============================] - 0s 1ms/step - loss: 0.3309 - root_mean_squared_error: 0.5752 - val_loss: 1.9374 - val_root_mean_squared_error: 1.3919\n",
      "Epoch 10/20\n",
      "363/363 [==============================] - 0s 995us/step - loss: 0.3395 - root_mean_squared_error: 0.5826 - val_loss: 0.5784 - val_root_mean_squared_error: 0.7605\n",
      "Epoch 11/20\n",
      "363/363 [==============================] - 0s 964us/step - loss: 0.3164 - root_mean_squared_error: 0.5625 - val_loss: 0.3793 - val_root_mean_squared_error: 0.6158\n",
      "Epoch 12/20\n",
      "363/363 [==============================] - 0s 1ms/step - loss: 0.3161 - root_mean_squared_error: 0.5622 - val_loss: 0.3221 - val_root_mean_squared_error: 0.5676\n",
      "Epoch 13/20\n",
      "363/363 [==============================] - 0s 1ms/step - loss: 0.3150 - root_mean_squared_error: 0.5613 - val_loss: 1.5169 - val_root_mean_squared_error: 1.2316\n",
      "Epoch 14/20\n",
      "363/363 [==============================] - 0s 995us/step - loss: 0.3193 - root_mean_squared_error: 0.5650 - val_loss: 3.2061 - val_root_mean_squared_error: 1.7905\n",
      "Epoch 15/20\n",
      "363/363 [==============================] - 0s 1ms/step - loss: 0.3215 - root_mean_squared_error: 0.5670 - val_loss: 3.2970 - val_root_mean_squared_error: 1.8158\n",
      "Epoch 16/20\n",
      "363/363 [==============================] - 0s 1ms/step - loss: 0.3251 - root_mean_squared_error: 0.5702 - val_loss: 3.2926 - val_root_mean_squared_error: 1.8146\n",
      "Epoch 17/20\n",
      "363/363 [==============================] - 0s 1ms/step - loss: 0.3295 - root_mean_squared_error: 0.5740 - val_loss: 1.8292 - val_root_mean_squared_error: 1.3525\n",
      "Epoch 18/20\n",
      "363/363 [==============================] - 0s 1ms/step - loss: 0.3099 - root_mean_squared_error: 0.5567 - val_loss: 1.4531 - val_root_mean_squared_error: 1.2055\n",
      "Epoch 19/20\n",
      "363/363 [==============================] - 0s 999us/step - loss: 0.3074 - root_mean_squared_error: 0.5545 - val_loss: 0.8014 - val_root_mean_squared_error: 0.8952\n",
      "Epoch 20/20\n",
      "363/363 [==============================] - 0s 1ms/step - loss: 0.3060 - root_mean_squared_error: 0.5532 - val_loss: 0.8096 - val_root_mean_squared_error: 0.8998\n",
      "162/162 [==============================] - 0s 582us/step - loss: 0.3027 - root_mean_squared_error: 0.5502\n"
     ]
    }
   ],
   "execution_count": 53
  },
  {
   "metadata": {
    "ExecuteTime": {
     "end_time": "2025-08-24T08:07:34.961188Z",
     "start_time": "2025-08-24T08:07:34.883076Z"
    }
   },
   "cell_type": "code",
   "source": [
    "X_new = X_test[:3]\n",
    "y_pred = model.predict(X_new)"
   ],
   "id": "1c14a7f9f0882c36",
   "outputs": [
    {
     "name": "stdout",
     "output_type": "stream",
     "text": [
      "1/1 [==============================] - 0s 47ms/step\n"
     ]
    }
   ],
   "execution_count": 54
  },
  {
   "metadata": {
    "ExecuteTime": {
     "end_time": "2025-08-24T08:20:46.048868Z",
     "start_time": "2025-08-24T08:20:46.001964Z"
    }
   },
   "cell_type": "code",
   "source": [
    "# 如果想通过宽路径送入特征的子集，而通过深路径送入特征的另一个子集 ： 一次使用多个输入\n",
    "\n",
    "input_wide = tf.keras.layers.Input(shape=[5])  # 5个特征\n",
    "input_deep = tf.keras.layers.Input(shape=[6])  # 6个特征\n",
    "norm_layer_wide = tf.keras.layers.Normalization()\n",
    "norm_layer_deep = tf.keras.layers.Normalization()\n",
    "norm_wide = norm_layer_wide(input_wide)\n",
    "norm_deep = norm_layer_deep(input_deep)\n",
    "hidden1 = tf.keras.layers.Dense(30, activation=\"relu\")(norm_deep)\n",
    "hidden2 = tf.keras.layers.Dense(30, activation=\"relu\")(hidden1)\n",
    "concat = tf.keras.layers.concatenate([norm_wide, hidden2])\n",
    "output = tf.keras.layers.Dense(1)(concat)\n",
    "\n",
    "model = tf.keras.Model(inputs=[input_wide, input_deep], outputs=[output])"
   ],
   "id": "36908d5cc67ef0af",
   "outputs": [],
   "execution_count": 57
  },
  {
   "metadata": {
    "ExecuteTime": {
     "end_time": "2025-08-24T08:24:11.813897Z",
     "start_time": "2025-08-24T08:24:11.775711Z"
    }
   },
   "cell_type": "code",
   "source": "model.summary()",
   "id": "8790958c5d8e4117",
   "outputs": [
    {
     "name": "stdout",
     "output_type": "stream",
     "text": [
      "Model: \"model_1\"\n",
      "__________________________________________________________________________________________________\n",
      " Layer (type)                Output Shape                 Param #   Connected to                  \n",
      "==================================================================================================\n",
      " input_7 (InputLayer)        [(None, 6)]                  0         []                            \n",
      "                                                                                                  \n",
      " normalization_4 (Normaliza  (None, 6)                    13        ['input_7[0][0]']             \n",
      " tion)                                                                                            \n",
      "                                                                                                  \n",
      " input_6 (InputLayer)        [(None, 5)]                  0         []                            \n",
      "                                                                                                  \n",
      " dense_5 (Dense)             (None, 30)                   210       ['normalization_4[0][0]']     \n",
      "                                                                                                  \n",
      " normalization_3 (Normaliza  (None, 5)                    11        ['input_6[0][0]']             \n",
      " tion)                                                                                            \n",
      "                                                                                                  \n",
      " dense_6 (Dense)             (None, 30)                   930       ['dense_5[0][0]']             \n",
      "                                                                                                  \n",
      " concatenate_1 (Concatenate  (None, 35)                   0         ['normalization_3[0][0]',     \n",
      " )                                                                   'dense_6[0][0]']             \n",
      "                                                                                                  \n",
      " dense_7 (Dense)             (None, 1)                    36        ['concatenate_1[0][0]']       \n",
      "                                                                                                  \n",
      "==================================================================================================\n",
      "Total params: 1200 (4.70 KB)\n",
      "Trainable params: 1176 (4.59 KB)\n",
      "Non-trainable params: 24 (104.00 Byte)\n",
      "__________________________________________________________________________________________________\n"
     ]
    }
   ],
   "execution_count": 58
  },
  {
   "metadata": {
    "ExecuteTime": {
     "end_time": "2025-08-24T08:25:01.284112Z",
     "start_time": "2025-08-24T08:25:00.726868Z"
    }
   },
   "cell_type": "code",
   "source": "tf.keras.utils.plot_model(model, \"./images/neural_network/wide_deep_inputs_nn.png\", show_shapes=True)",
   "id": "5bc623a5b2317780",
   "outputs": [
    {
     "data": {
      "image/png": "[encoded data removed]",
      "text/plain": [
       "<IPython.core.display.Image object>"
      ]
     },
     "execution_count": 59,
     "metadata": {},
     "output_type": "execute_result"
    }
   ],
   "execution_count": 59
  },
  {
   "metadata": {},
   "cell_type": "markdown",
   "source": [
    "![多输入宽深神经网络](./images/neural_network/p8.png)\n",
    "\n",
    "- 每个Dense层都在同一行上创建和调用。这是一种常见的做法，因为它使代码更简洁而不失清晰。\n",
    "- 但是，我们不能对Normalization层执行此操作，因为我们需要一个对该层的引用才能在拟合模型之前调用其adapt()方法。\n",
    "- 使用了tf.keras.layers.concatenate()，创建一个Concatenate层并使用给定的输入调用它。·\n",
    "- 在创建模型时指定了inputs=[input_wide，input_deep]，因为有两个输入。"
   ],
   "id": "4b7f1049ed0670fe"
  },
  {
   "metadata": {
    "ExecuteTime": {
     "end_time": "2025-08-25T12:38:48.964759Z",
     "start_time": "2025-08-25T12:38:48.949129Z"
    }
   },
   "cell_type": "code",
   "source": [
    "# 可以像往常一样编译模型，但当调用fit()方法时，必须传递一对矩阵（X_train_wide, X_train_deep), 代表两个输入，而不是传递单个输入矩阵X_train\n",
    "# 当调用evaluate() 或 predict()时，对于X_valid以及X_test和X_new也是如此\n",
    "\n",
    "optimizer = tf.keras.optimizers.Adam(learning_rate=1e-3)\n",
    "model.compile(loss=\"mse\", optimizer=optimizer, metrics=[\"RootMeanSquaredError\"])\n",
    "\n",
    "X_train_wide, X_train_deep = X_train[:, :5], X_train[:, 2:]   # 宽的5个特征（0-4）， 深的6个特征（2-7）\n",
    "X_valid_wide, X_valid_deep = X_valid[:, :5], X_valid[:, 2:]\n",
    "X_test_wide, X_test_deep = X_test[:, :5], X_test[:, 2:]\n",
    "\n",
    "X_new_wide, X_new_deep = X_test_wide[:3], X_test_deep[:3]\n",
    "\n",
    "norm_layer_wide.adapt(X_train_wide)\n",
    "norm_layer_deep.adapt(X_train_deep)\n",
    "history = model.fit((X_train_wide, X_train_deep), y_train, epochs=20, validation_data=((X_valid_wide, X_valid_deep), y_valid))"
   ],
   "id": "78132f1e3d321454",
   "outputs": [],
   "execution_count": 9
  },
  {
   "metadata": {
    "ExecuteTime": {
     "end_time": "2025-08-24T09:30:49.416162Z",
     "start_time": "2025-08-24T09:30:49.151214Z"
    }
   },
   "cell_type": "code",
   "source": [
    "mse_test = model.evaluate((X_test_wide, X_test_deep), y_test)\n",
    "y_pred = model.predict((X_new_wide, X_new_deep))"
   ],
   "id": "33c3efc584456dab",
   "outputs": [
    {
     "name": "stdout",
     "output_type": "stream",
     "text": [
      "162/162 [==============================] - 0s 778us/step - loss: 0.3271 - root_mean_squared_error: 0.5719\n",
      "1/1 [==============================] - 0s 46ms/step\n"
     ]
    }
   ],
   "execution_count": 62
  },
  {
   "metadata": {},
   "cell_type": "markdown",
   "source": "创建输入时设置name=\"input_wide\"和name=\"input_deep\"，则可以传递字典{\"input_wide\"：X_train_wide，\"input_deep\"：X_train_deep，而不是传递元组(X_train_wide，X_train_deep)。当有很多输入时，强烈建议这样做，以澄清代码和避免弄错顺序。",
   "id": "347fa6250d377274"
  },
  {
   "metadata": {},
   "cell_type": "markdown",
   "source": [
    "在许多用例中，可能需要多个输出：\n",
    "- 例如，可能想在图片中定位和分类主要对象。这既是回归任务又是分类任务。\n",
    "\n",
    "同样，可能有基于同一数据的多个独立任务。当然，可以为每个任务训练一个神经网络，但是在许多情况下，通过训练每个任务一个输出的单个神经网络，会在所有任务上获得更好的结果。这是因为神经网络可以学习数据中对任务有用的特征。\n",
    "- 例如，可以对面部图片执行多任务分类，使用一个输出对人的面部表情进行分类（微笑、惊讶等），并使用另一个输出来识别他们是否戴着眼镜。\n",
    "\n",
    "另一个示例是作为正则化技术（即训练约束，其目的是减少过拟合，从而提高模型的泛化能力）。\n",
    "- 例如，可能希望在神经网络架构中添加一个辅助输出， 避免网络层的参数拟合数据的噪声\n",
    "\n",
    "辅助输出给了前半段层一个独立的优化目标：前半段参数不仅要服务于主输出，还要让辅助输出的预测达标。这就分散了 “过拟合风险”—— 后半段层不用再承担 “修正所有问题” 的压力，前半段层也被迫学更通用的特征，整个网络的参数不会过度偏向拟合训练数据的局部特性。\n",
    "\n",
    "![处理多输出，添加辅助输出以正则化](./images/neural_network/p9.png)"
   ],
   "id": "46e62dd2629adb9a"
  },
  {
   "metadata": {
    "ExecuteTime": {
     "end_time": "2025-08-25T12:30:51.470346Z",
     "start_time": "2025-08-25T12:30:48.367085Z"
    }
   },
   "cell_type": "code",
   "source": [
    "# 添加额外的输出非常容易，只需将它们连接到适当的层，然后将它们添加到模型的输出列表中\n",
    "\n",
    "tf.keras.backend.clear_session()\n",
    "tf.random.set_seed(42)\n",
    "\n",
    "input_wide = tf.keras.layers.Input(shape=[5])\n",
    "input_deep = tf.keras.layers.Input(shape=[6])\n",
    "norm_layer_wide = tf.keras.layers.Normalization()\n",
    "norm_layer_deep = tf.keras.layers.Normalization()\n",
    "norm_wide = norm_layer_wide(input_wide)\n",
    "norm_deep = norm_layer_deep(input_deep)\n",
    "hidden1 = tf.keras.layers.Dense(30, activation=\"relu\")(norm_deep)\n",
    "hidden2 = tf.keras.layers.Dense(30, activation=\"relu\")(hidden1)\n",
    "concat = tf.keras.layers.concatenate([norm_wide, hidden2])\n",
    "\n",
    "output = tf.keras.layers.Dense(1)(concat)\n",
    "aux_output = tf.keras.layers.Dense(1)(hidden2)\n",
    "model = tf.keras.Model(inputs=[input_wide, input_deep], outputs=[output, aux_output])"
   ],
   "id": "387c3a45aed01af7",
   "outputs": [],
   "execution_count": 2
  },
  {
   "metadata": {
    "ExecuteTime": {
     "end_time": "2025-08-24T10:30:01.817225Z",
     "start_time": "2025-08-24T10:30:01.053484Z"
    }
   },
   "cell_type": "code",
   "source": "tf.keras.utils.plot_model(model, \"./images/neural_network/wide_deep_inputs_outputs_nn.png\", show_shapes=True)",
   "id": "f448ddd427a5338c",
   "outputs": [
    {
     "data": {
      "image/png": "[encoded data removed]",
      "text/plain": [
       "<IPython.core.display.Image object>"
      ]
     },
     "execution_count": 76,
     "metadata": {},
     "output_type": "execute_result"
    }
   ],
   "execution_count": 76
  },
  {
   "metadata": {
    "ExecuteTime": {
     "end_time": "2025-08-24T10:32:24.462304Z",
     "start_time": "2025-08-24T10:32:24.425319Z"
    }
   },
   "cell_type": "code",
   "source": "model.summary()",
   "id": "e3cdc835fca9ed87",
   "outputs": [
    {
     "name": "stdout",
     "output_type": "stream",
     "text": [
      "Model: \"model\"\n",
      "__________________________________________________________________________________________________\n",
      " Layer (type)                Output Shape                 Param #   Connected to                  \n",
      "==================================================================================================\n",
      " input_2 (InputLayer)        [(None, 6)]                  0         []                            \n",
      "                                                                                                  \n",
      " normalization_1 (Normaliza  (None, 6)                    13        ['input_2[0][0]']             \n",
      " tion)                                                                                            \n",
      "                                                                                                  \n",
      " input_1 (InputLayer)        [(None, 5)]                  0         []                            \n",
      "                                                                                                  \n",
      " dense (Dense)               (None, 30)                   210       ['normalization_1[0][0]']     \n",
      "                                                                                                  \n",
      " normalization (Normalizati  (None, 5)                    11        ['input_1[0][0]']             \n",
      " on)                                                                                              \n",
      "                                                                                                  \n",
      " dense_1 (Dense)             (None, 30)                   930       ['dense[0][0]']               \n",
      "                                                                                                  \n",
      " concatenate (Concatenate)   (None, 35)                   0         ['normalization[0][0]',       \n",
      "                                                                     'dense_1[0][0]']             \n",
      "                                                                                                  \n",
      " dense_2 (Dense)             (None, 1)                    36        ['concatenate[0][0]']         \n",
      "                                                                                                  \n",
      " dense_3 (Dense)             (None, 1)                    31        ['dense_1[0][0]']             \n",
      "                                                                                                  \n",
      "==================================================================================================\n",
      "Total params: 1231 (4.82 KB)\n",
      "Trainable params: 1207 (4.71 KB)\n",
      "Non-trainable params: 24 (104.00 Byte)\n",
      "__________________________________________________________________________________________________\n"
     ]
    }
   ],
   "execution_count": 79
  },
  {
   "metadata": {},
   "cell_type": "markdown",
   "source": [
    "每个输出都需要自己的损失函数。因此当编译模型时，应该传递一系列损失。\n",
    "\n",
    "如果传递单个损失，Keras将假定所有输出必须使用相同的损失。默认情况下，Keras将计算所有这些损失，并将它们简单累加即可得到用于训练的最终损失。\n",
    "\n",
    "我们更关心主要输出而不是辅助输出（因为它仅用于正则化），因此要给主要输出的损失更大的权重。可以在编译模型时设置所有的损失权重："
   ],
   "id": "417f6f2750e6c27b"
  },
  {
   "metadata": {
    "ExecuteTime": {
     "end_time": "2025-08-25T12:37:16.025082Z",
     "start_time": "2025-08-25T12:37:15.993829Z"
    }
   },
   "cell_type": "code",
   "source": [
    "optimizer = tf.keras.optimizers.Adam(learning_rate=1e-3)\n",
    "model.compile(loss=(\"mse\", \"mse\"), loss_weights=(0.9, 0.1), optimizer=optimizer, metrics=[\"RootMeanSquaredError\"])"
   ],
   "id": "7271760cbfb04430",
   "outputs": [],
   "execution_count": 3
  },
  {
   "metadata": {},
   "cell_type": "markdown",
   "source": [
    "可以传递字典loss={\"output\"：\"mse\"，\"aux_output\"：\"mse\"，而不是传递元组loss=(\"mse\"，\"mse\")，\n",
    "\n",
    "假设用name=\"output\"和name=\"aux_output\"创建了输出层。就像输入一样，这可以澄清代码并避免在有多个输出时出错。也可以为loss_weights传递一个字典。\n",
    "\n",
    "现在当训练模型时，需要为每个输出提供标签。在此示例中，主输出和辅助输出应尝试预测同一事物，因此它们应使用相同的标签。\n",
    "\n",
    "因此，如果输出名为\"output\"和\"aux_output\"，需要传递(y_train，y_train)或字典{\"output\"：y_train，\"aux_output\"：y_train，而不是传递y_train。y_valid和y_test也是如此："
   ],
   "id": "5a21558ef6b4cd3d"
  },
  {
   "metadata": {
    "ExecuteTime": {
     "end_time": "2025-08-25T12:39:16.278493Z",
     "start_time": "2025-08-25T12:39:06.183517Z"
    }
   },
   "cell_type": "code",
   "source": [
    "norm_layer_wide.adapt(X_train_wide)\n",
    "norm_layer_deep.adapt(X_train_deep)\n",
    "\n",
    "history = model.fit(\n",
    "    (X_train_wide, X_train_deep), (y_train, y_train), epochs=20, validation_data=((X_valid_wide, X_valid_deep), (y_valid, y_valid))\n",
    ")"
   ],
   "id": "6bbdaf0358753ca5",
   "outputs": [
    {
     "name": "stdout",
     "output_type": "stream",
     "text": [
      "Epoch 1/20\n",
      "363/363 [==============================] - 1s 2ms/step - loss: 1.4509 - dense_2_loss: 1.3953 - dense_3_loss: 1.9514 - dense_2_root_mean_squared_error: 1.1812 - dense_3_root_mean_squared_error: 1.3969 - val_loss: 0.9719 - val_dense_2_loss: 0.7606 - val_dense_3_loss: 2.8731 - val_dense_2_root_mean_squared_error: 0.8721 - val_dense_3_root_mean_squared_error: 1.6950\n",
      "Epoch 2/20\n",
      "363/363 [==============================] - 0s 1ms/step - loss: 0.5095 - dense_2_loss: 0.4803 - dense_3_loss: 0.7727 - dense_2_root_mean_squared_error: 0.6930 - dense_3_root_mean_squared_error: 0.8790 - val_loss: 0.9985 - val_dense_2_loss: 0.9577 - val_dense_3_loss: 1.3656 - val_dense_2_root_mean_squared_error: 0.9786 - val_dense_3_root_mean_squared_error: 1.1686\n",
      "Epoch 3/20\n",
      "363/363 [==============================] - 0s 1ms/step - loss: 0.4369 - dense_2_loss: 0.4202 - dense_3_loss: 0.5876 - dense_2_root_mean_squared_error: 0.6482 - dense_3_root_mean_squared_error: 0.7665 - val_loss: 0.4406 - val_dense_2_loss: 0.4283 - val_dense_3_loss: 0.5517 - val_dense_2_root_mean_squared_error: 0.6544 - val_dense_3_root_mean_squared_error: 0.7428\n",
      "Epoch 4/20\n",
      "363/363 [==============================] - 0s 1ms/step - loss: 0.4123 - dense_2_loss: 0.3986 - dense_3_loss: 0.5358 - dense_2_root_mean_squared_error: 0.6314 - dense_3_root_mean_squared_error: 0.7320 - val_loss: 0.3967 - val_dense_2_loss: 0.3843 - val_dense_3_loss: 0.5084 - val_dense_2_root_mean_squared_error: 0.6199 - val_dense_3_root_mean_squared_error: 0.7130\n",
      "Epoch 5/20\n",
      "363/363 [==============================] - 0s 1ms/step - loss: 0.4001 - dense_2_loss: 0.3882 - dense_3_loss: 0.5077 - dense_2_root_mean_squared_error: 0.6230 - dense_3_root_mean_squared_error: 0.7125 - val_loss: 0.8249 - val_dense_2_loss: 0.8565 - val_dense_3_loss: 0.5400 - val_dense_2_root_mean_squared_error: 0.9255 - val_dense_3_root_mean_squared_error: 0.7349\n",
      "Epoch 6/20\n",
      "363/363 [==============================] - 0s 1ms/step - loss: 0.3911 - dense_2_loss: 0.3804 - dense_3_loss: 0.4876 - dense_2_root_mean_squared_error: 0.6168 - dense_3_root_mean_squared_error: 0.6983 - val_loss: 1.8829 - val_dense_2_loss: 2.0128 - val_dense_3_loss: 0.7137 - val_dense_2_root_mean_squared_error: 1.4187 - val_dense_3_root_mean_squared_error: 0.8448\n",
      "Epoch 7/20\n",
      "363/363 [==============================] - 0s 1ms/step - loss: 0.3953 - dense_2_loss: 0.3861 - dense_3_loss: 0.4775 - dense_2_root_mean_squared_error: 0.6214 - dense_3_root_mean_squared_error: 0.6910 - val_loss: 2.0947 - val_dense_2_loss: 2.2507 - val_dense_3_loss: 0.6908 - val_dense_2_root_mean_squared_error: 1.5002 - val_dense_3_root_mean_squared_error: 0.8312\n",
      "Epoch 8/20\n",
      "363/363 [==============================] - 0s 1ms/step - loss: 0.3780 - dense_2_loss: 0.3689 - dense_3_loss: 0.4606 - dense_2_root_mean_squared_error: 0.6073 - dense_3_root_mean_squared_error: 0.6787 - val_loss: 4.8265 - val_dense_2_loss: 5.0083 - val_dense_3_loss: 3.1905 - val_dense_2_root_mean_squared_error: 2.2379 - val_dense_3_root_mean_squared_error: 1.7862\n",
      "Epoch 9/20\n",
      "363/363 [==============================] - 0s 1ms/step - loss: 0.3850 - dense_2_loss: 0.3767 - dense_3_loss: 0.4596 - dense_2_root_mean_squared_error: 0.6138 - dense_3_root_mean_squared_error: 0.6779 - val_loss: 2.8726 - val_dense_2_loss: 3.0260 - val_dense_3_loss: 1.4918 - val_dense_2_root_mean_squared_error: 1.7395 - val_dense_3_root_mean_squared_error: 1.2214\n",
      "Epoch 10/20\n",
      "363/363 [==============================] - 0s 1ms/step - loss: 0.3852 - dense_2_loss: 0.3777 - dense_3_loss: 0.4523 - dense_2_root_mean_squared_error: 0.6146 - dense_3_root_mean_squared_error: 0.6725 - val_loss: 0.8005 - val_dense_2_loss: 0.8364 - val_dense_3_loss: 0.4767 - val_dense_2_root_mean_squared_error: 0.9146 - val_dense_3_root_mean_squared_error: 0.6904\n",
      "Epoch 11/20\n",
      "363/363 [==============================] - 0s 1ms/step - loss: 0.3571 - dense_2_loss: 0.3488 - dense_3_loss: 0.4317 - dense_2_root_mean_squared_error: 0.5906 - dense_3_root_mean_squared_error: 0.6570 - val_loss: 0.3403 - val_dense_2_loss: 0.3316 - val_dense_3_loss: 0.4186 - val_dense_2_root_mean_squared_error: 0.5759 - val_dense_3_root_mean_squared_error: 0.6470\n",
      "Epoch 12/20\n",
      "363/363 [==============================] - 0s 1ms/step - loss: 0.3537 - dense_2_loss: 0.3455 - dense_3_loss: 0.4273 - dense_2_root_mean_squared_error: 0.5878 - dense_3_root_mean_squared_error: 0.6537 - val_loss: 0.3972 - val_dense_2_loss: 0.3933 - val_dense_3_loss: 0.4330 - val_dense_2_root_mean_squared_error: 0.6271 - val_dense_3_root_mean_squared_error: 0.6580\n",
      "Epoch 13/20\n",
      "363/363 [==============================] - 0s 1ms/step - loss: 0.3502 - dense_2_loss: 0.3419 - dense_3_loss: 0.4244 - dense_2_root_mean_squared_error: 0.5848 - dense_3_root_mean_squared_error: 0.6515 - val_loss: 0.3287 - val_dense_2_loss: 0.3197 - val_dense_3_loss: 0.4103 - val_dense_2_root_mean_squared_error: 0.5654 - val_dense_3_root_mean_squared_error: 0.6405\n",
      "Epoch 14/20\n",
      "363/363 [==============================] - 0s 1ms/step - loss: 0.3477 - dense_2_loss: 0.3399 - dense_3_loss: 0.4183 - dense_2_root_mean_squared_error: 0.5830 - dense_3_root_mean_squared_error: 0.6468 - val_loss: 0.3415 - val_dense_2_loss: 0.3339 - val_dense_3_loss: 0.4106 - val_dense_2_root_mean_squared_error: 0.5778 - val_dense_3_root_mean_squared_error: 0.6408\n",
      "Epoch 15/20\n",
      "363/363 [==============================] - 0s 1ms/step - loss: 0.3457 - dense_2_loss: 0.3383 - dense_3_loss: 0.4125 - dense_2_root_mean_squared_error: 0.5816 - dense_3_root_mean_squared_error: 0.6422 - val_loss: 0.3235 - val_dense_2_loss: 0.3151 - val_dense_3_loss: 0.3990 - val_dense_2_root_mean_squared_error: 0.5614 - val_dense_3_root_mean_squared_error: 0.6317\n",
      "Epoch 16/20\n",
      "363/363 [==============================] - 0s 1ms/step - loss: 0.3425 - dense_2_loss: 0.3350 - dense_3_loss: 0.4099 - dense_2_root_mean_squared_error: 0.5788 - dense_3_root_mean_squared_error: 0.6402 - val_loss: 0.3232 - val_dense_2_loss: 0.3149 - val_dense_3_loss: 0.3980 - val_dense_2_root_mean_squared_error: 0.5612 - val_dense_3_root_mean_squared_error: 0.6309\n",
      "Epoch 17/20\n",
      "363/363 [==============================] - 0s 1ms/step - loss: 0.3414 - dense_2_loss: 0.3341 - dense_3_loss: 0.4069 - dense_2_root_mean_squared_error: 0.5780 - dense_3_root_mean_squared_error: 0.6379 - val_loss: 0.3973 - val_dense_2_loss: 0.3913 - val_dense_3_loss: 0.4509 - val_dense_2_root_mean_squared_error: 0.6256 - val_dense_3_root_mean_squared_error: 0.6715\n",
      "Epoch 18/20\n",
      "363/363 [==============================] - 0s 1ms/step - loss: 0.3384 - dense_2_loss: 0.3313 - dense_3_loss: 0.4027 - dense_2_root_mean_squared_error: 0.5756 - dense_3_root_mean_squared_error: 0.6346 - val_loss: 0.3482 - val_dense_2_loss: 0.3390 - val_dense_3_loss: 0.4309 - val_dense_2_root_mean_squared_error: 0.5822 - val_dense_3_root_mean_squared_error: 0.6565\n",
      "Epoch 19/20\n",
      "363/363 [==============================] - 0s 1ms/step - loss: 0.3377 - dense_2_loss: 0.3308 - dense_3_loss: 0.3996 - dense_2_root_mean_squared_error: 0.5752 - dense_3_root_mean_squared_error: 0.6321 - val_loss: 0.3781 - val_dense_2_loss: 0.3752 - val_dense_3_loss: 0.4043 - val_dense_2_root_mean_squared_error: 0.6125 - val_dense_3_root_mean_squared_error: 0.6359\n",
      "Epoch 20/20\n",
      "363/363 [==============================] - 0s 1ms/step - loss: 0.3400 - dense_2_loss: 0.3335 - dense_3_loss: 0.3989 - dense_2_root_mean_squared_error: 0.5775 - dense_3_root_mean_squared_error: 0.6316 - val_loss: 0.3155 - val_dense_2_loss: 0.3081 - val_dense_3_loss: 0.3825 - val_dense_2_root_mean_squared_error: 0.5551 - val_dense_3_root_mean_squared_error: 0.6185\n"
     ]
    }
   ],
   "execution_count": 10
  },
  {
   "metadata": {
    "ExecuteTime": {
     "end_time": "2025-08-25T12:43:32.429399Z",
     "start_time": "2025-08-25T12:43:32.236416Z"
    }
   },
   "cell_type": "code",
   "source": [
    "# 评估模型时，Keras返回损失的加权和，以及所有单独的损失和指标\n",
    "eval_results = model.evaluate((X_test_wide, X_test_deep), (y_test, y_test), return_dict=True) # 设置return_dict=True，那么evaluate()将返回一个字典而不是一个大元组。\n",
    "eval_results"
   ],
   "id": "16a726bd943f0f54",
   "outputs": [
    {
     "name": "stdout",
     "output_type": "stream",
     "text": [
      "162/162 [==============================] - 0s 756us/step - loss: 0.3338 - dense_2_loss: 0.3274 - dense_3_loss: 0.3914 - dense_2_root_mean_squared_error: 0.5722 - dense_3_root_mean_squared_error: 0.6256\n"
     ]
    },
    {
     "data": {
      "text/plain": [
       "{'loss': 0.33381107449531555,\n",
       " 'dense_2_loss': 0.327409029006958,\n",
       " 'dense_3_loss': 0.3914297819137573,\n",
       " 'dense_2_root_mean_squared_error': 0.5721966624259949,\n",
       " 'dense_3_root_mean_squared_error': 0.6256434917449951}"
      ]
     },
     "execution_count": 13,
     "metadata": {},
     "output_type": "execute_result"
    }
   ],
   "execution_count": 13
  },
  {
   "metadata": {
    "ExecuteTime": {
     "end_time": "2025-08-25T13:03:10.154399Z",
     "start_time": "2025-08-25T13:03:09.991105Z"
    }
   },
   "cell_type": "code",
   "source": [
    "# predict()方法将为每个输出返回预测值\n",
    "y_train_main, y_pred_aux = model.predict((X_new_wide, X_new_deep))\n",
    "\n",
    "# predict()方法返回一个元组，它没有return_dict参数来获取字典，但可以利用model.output_names创建一个\n",
    "y_pred_tuple = model.predict((X_new_wide, X_new_deep))\n",
    "y_pred = dict(zip(model.output_names, y_pred_tuple))\n",
    "y_pred"
   ],
   "id": "27d519d1d7564ca0",
   "outputs": [
    {
     "name": "stdout",
     "output_type": "stream",
     "text": [
      "1/1 [==============================] - 0s 63ms/step\n",
      "1/1 [==============================] - 0s 16ms/step\n"
     ]
    },
    {
     "data": {
      "text/plain": [
       "{'dense_2': array([[0.485312 ],\n",
       "        [1.2125455],\n",
       "        [3.6725173]], dtype=float32),\n",
       " 'dense_3': array([[0.5520584],\n",
       "        [1.1122292],\n",
       "        [3.4289303]], dtype=float32)}"
      ]
     },
     "execution_count": 14,
     "metadata": {},
     "output_type": "execute_result"
    }
   ],
   "execution_count": 14
  },
  {
   "metadata": {},
   "cell_type": "code",
   "outputs": [],
   "execution_count": null,
   "source": [
    "# 随堂练习：使用字典改写这个多输入 和 多输出的神经网络模型，并进行训练和评估\n",
    "tf.keras.backend.clear_session()\n",
    "tf.random.set_seed(42)"
   ],
   "id": "11c0004123ca7f20"
  },
  {
   "metadata": {},
   "cell_type": "markdown",
   "source": "### 使用子类化API构建动态模型",
   "id": "e7f4fe28fa3c240a"
  },
  {
   "metadata": {},
   "cell_type": "markdown",
   "source": [
    "顺序API和函数式API都是声明性的：首先声明要使用的层以及应该如何连接它们，然后才能开始向模型提供一些数据进行训练或推断。这有许多优点：可以轻松地保存、克隆和共享模型；可以显示和分析它的结构；该框架可以推断形状和检查类型，因此可以及早发现错误（即在任何数据通过模型之前）。由于整个模型是一个静态图，因此调试起来也相当容易。但另一方面是它是静态的\n",
    "\n",
    "一些模型涉及循环、变化的形状、条件分支和其他动态行为。对于这种情况，或者只是你喜欢命令式的编程风格，则子类化API非常适合。\n",
    "\n",
    "子类化Model类，在构造函数中创建所需的层，然后在call()方法中执行所需的计算。例如，创建以下WideAndDeepModel类的实例将给我们一个等效于刚刚使用函数式API构建的模型："
   ],
   "id": "8dd2ad6f69a6146"
  },
  {
   "metadata": {
    "ExecuteTime": {
     "end_time": "2025-08-25T13:47:57.346950Z",
     "start_time": "2025-08-25T13:47:57.302072Z"
    }
   },
   "cell_type": "code",
   "source": [
    "# 构造函数中创建层与在call()方法中使用层分开。\n",
    "# 不需要创建Input对象：可以使用call()方法的Input参数\n",
    "class WideAndDeepModel(tf.keras.Model):\n",
    "    def __init__(self, units=30, activation=\"relu\", **kwargs):\n",
    "        super().__init__(**kwargs)  # 需要调用这句话，模型才有名字\n",
    "        self.norm_layer_wide = tf.keras.layers.Normalization()\n",
    "        self.norm_layer_deep = tf.keras.layers.Normalization()\n",
    "        self.hidden1 = tf.keras.layers.Dense(units, activation=activation)\n",
    "        self.hidden2 = tf.keras.layers.Dense(units, activation=activation)\n",
    "        self.main_output = tf.keras.layers.Dense(1)\n",
    "        self.aux_output = tf.keras.layers.Dense(1)\n",
    "\n",
    "    def call(self, inputs):\n",
    "        input_wide, input_deep = inputs\n",
    "        norm_wide = self.norm_layer_wide(input_wide)\n",
    "        norm_deep = self.norm_layer_deep(input_deep)\n",
    "        hidden1 = self.hidden1(norm_deep)\n",
    "        hidden2 = self.hidden2(hidden1)\n",
    "        concat = tf.keras.layers.concatenate([norm_wide, hidden2])\n",
    "        output = self.main_output(concat)\n",
    "        aux_output = self.aux_output(hidden2)\n",
    "        return output, aux_output\n",
    "\n",
    "tf.random.set_seed(42)\n",
    "model = WideAndDeepModel(30, activation=\"relu\", name=\"my_cool_model\")"
   ],
   "id": "cc17ed563bccfd84",
   "outputs": [],
   "execution_count": 17
  },
  {
   "metadata": {
    "ExecuteTime": {
     "end_time": "2025-08-25T13:49:00.961758Z",
     "start_time": "2025-08-25T13:48:54.032972Z"
    }
   },
   "cell_type": "code",
   "source": [
    "# 现在有了一个模型实例，可以编译它，调用它的归一化层（例如，使用model.norm_layer_wide.adapt(...)和model.norm_layer_deep.adapt(...)），拟合它，评估它，并使用它进行预测，就像对函数式API所做的那样。\n",
    "optimizer = tf.keras.optimizers.Adam(learning_rate=1e-3)\n",
    "model.compile(loss=[\"mse\", \"mse\"], loss_weights=[0.9, 0.1], optimizer=optimizer,\n",
    "              metrics=[\"RootMeanSquaredError\"])\n",
    "model.norm_layer_wide.adapt(X_train_wide)\n",
    "model.norm_layer_deep.adapt(X_train_deep)\n",
    "history = model.fit(\n",
    "    (X_train_wide, X_train_deep), (y_train, y_train), epochs=10,\n",
    "    validation_data=((X_valid_wide, X_valid_deep), (y_valid, y_valid)))\n",
    "eval_results = model.evaluate((X_test_wide, X_test_deep), (y_test, y_test))\n",
    "y_pred_main, y_pred_aux = model.predict((X_new_wide, X_new_deep))"
   ],
   "id": "6f494af0f04bff6e",
   "outputs": [
    {
     "name": "stdout",
     "output_type": "stream",
     "text": [
      "Epoch 1/10\n",
      "363/363 [==============================] - 1s 2ms/step - loss: 1.6221 - output_1_loss: 1.5753 - output_2_loss: 2.0427 - output_1_root_mean_squared_error: 1.2551 - output_2_root_mean_squared_error: 1.4292 - val_loss: 1.0018 - val_output_1_loss: 0.7761 - val_output_2_loss: 3.0333 - val_output_1_root_mean_squared_error: 0.8810 - val_output_2_root_mean_squared_error: 1.7416\n",
      "Epoch 2/10\n",
      "363/363 [==============================] - 0s 1ms/step - loss: 0.4955 - output_1_loss: 0.4707 - output_2_loss: 0.7185 - output_1_root_mean_squared_error: 0.6861 - output_2_root_mean_squared_error: 0.8477 - val_loss: 0.7988 - val_output_1_loss: 0.6922 - val_output_2_loss: 1.7582 - val_output_1_root_mean_squared_error: 0.8320 - val_output_2_root_mean_squared_error: 1.3260\n",
      "Epoch 3/10\n",
      "363/363 [==============================] - 0s 1ms/step - loss: 0.4390 - output_1_loss: 0.4207 - output_2_loss: 0.6040 - output_1_root_mean_squared_error: 0.6486 - output_2_root_mean_squared_error: 0.7772 - val_loss: 0.4416 - val_output_1_loss: 0.3790 - val_output_2_loss: 1.0054 - val_output_1_root_mean_squared_error: 0.6156 - val_output_2_root_mean_squared_error: 1.0027\n",
      "Epoch 4/10\n",
      "363/363 [==============================] - 0s 1ms/step - loss: 0.4198 - output_1_loss: 0.4036 - output_2_loss: 0.5653 - output_1_root_mean_squared_error: 0.6353 - output_2_root_mean_squared_error: 0.7518 - val_loss: 0.4531 - val_output_1_loss: 0.4198 - val_output_2_loss: 0.7531 - val_output_1_root_mean_squared_error: 0.6479 - val_output_2_root_mean_squared_error: 0.8678\n",
      "Epoch 5/10\n",
      "363/363 [==============================] - 1s 1ms/step - loss: 0.4055 - output_1_loss: 0.3907 - output_2_loss: 0.5388 - output_1_root_mean_squared_error: 0.6250 - output_2_root_mean_squared_error: 0.7340 - val_loss: 0.4284 - val_output_1_loss: 0.4064 - val_output_2_loss: 0.6260 - val_output_1_root_mean_squared_error: 0.6375 - val_output_2_root_mean_squared_error: 0.7912\n",
      "Epoch 6/10\n",
      "363/363 [==============================] - 0s 1ms/step - loss: 0.3960 - output_1_loss: 0.3822 - output_2_loss: 0.5196 - output_1_root_mean_squared_error: 0.6182 - output_2_root_mean_squared_error: 0.7208 - val_loss: 0.4040 - val_output_1_loss: 0.3808 - val_output_2_loss: 0.6129 - val_output_1_root_mean_squared_error: 0.6171 - val_output_2_root_mean_squared_error: 0.7829\n",
      "Epoch 7/10\n",
      "363/363 [==============================] - 0s 1ms/step - loss: 0.3896 - output_1_loss: 0.3770 - output_2_loss: 0.5022 - output_1_root_mean_squared_error: 0.6140 - output_2_root_mean_squared_error: 0.7087 - val_loss: 0.5355 - val_output_1_loss: 0.5367 - val_output_2_loss: 0.5251 - val_output_1_root_mean_squared_error: 0.7326 - val_output_2_root_mean_squared_error: 0.7246\n",
      "Epoch 8/10\n",
      "363/363 [==============================] - 0s 1ms/step - loss: 0.3807 - output_1_loss: 0.3689 - output_2_loss: 0.4868 - output_1_root_mean_squared_error: 0.6074 - output_2_root_mean_squared_error: 0.6977 - val_loss: 0.5145 - val_output_1_loss: 0.5017 - val_output_2_loss: 0.6294 - val_output_1_root_mean_squared_error: 0.7083 - val_output_2_root_mean_squared_error: 0.7934\n",
      "Epoch 9/10\n",
      "363/363 [==============================] - 0s 1ms/step - loss: 0.3734 - output_1_loss: 0.3627 - output_2_loss: 0.4703 - output_1_root_mean_squared_error: 0.6022 - output_2_root_mean_squared_error: 0.6858 - val_loss: 0.6604 - val_output_1_loss: 0.6851 - val_output_2_loss: 0.4387 - val_output_1_root_mean_squared_error: 0.8277 - val_output_2_root_mean_squared_error: 0.6624\n",
      "Epoch 10/10\n",
      "363/363 [==============================] - 0s 1ms/step - loss: 0.3715 - output_1_loss: 0.3620 - output_2_loss: 0.4570 - output_1_root_mean_squared_error: 0.6016 - output_2_root_mean_squared_error: 0.6760 - val_loss: 1.0721 - val_output_1_loss: 1.1178 - val_output_2_loss: 0.6612 - val_output_1_root_mean_squared_error: 1.0573 - val_output_2_root_mean_squared_error: 0.8132\n",
      "162/162 [==============================] - 0s 825us/step - loss: 0.3656 - output_1_loss: 0.3568 - output_2_loss: 0.4447 - output_1_root_mean_squared_error: 0.5973 - output_2_root_mean_squared_error: 0.6669\n",
      "1/1 [==============================] - 0s 45ms/step\n"
     ]
    }
   ],
   "execution_count": 19
  },
  {
   "metadata": {},
   "cell_type": "markdown",
   "source": [
    "这个API的最大区别在于，可以在call()方法中包含几乎任何想要的内容：for循环、if语句、低级TensorFlow操作\n",
    "\n",
    "这使得它在尝试新想法时成为一个很好的API，尤其是对于研究人员而言。\n",
    "\n",
    "然而，这种额外的灵活性确实是有代价的：模型的架构隐藏在call()方法中，因此Keras无法轻松检查它\n",
    "\n",
    "无法使用tf.keras.models.clone_model()克隆模型，并且当调用summary()方法时，只会得到一个层列表，而没有任何关于它们是如何相互连接的信息。\n",
    "\n",
    "而且Keras无法提前检查类型和形状，更容易出错\n",
    "\n",
    "因此，除非真的需要额外的灵活性，否则你应该坚持使用顺序API或函数式API。"
   ],
   "id": "d658f0d1dbbfb3d1"
  },
  {
   "metadata": {},
   "cell_type": "markdown",
   "source": "### 保存和还原模型",
   "id": "c203efc5aa36cb1a"
  },
  {
   "metadata": {},
   "cell_type": "markdown",
   "source": [
    "设置save_format=\"tf\"时，Keras使用TensorFlow的保存模型格式保存模型：这是一个包含多个文件和子目录的目录（具有给定的名称）。特别地，saved_model.pb文件以序列化计算图的形式包含模型的架构和逻辑，因此无须部署模型的源代码即可在生产环境中使用它, SavedModel足够。\n",
    "\n",
    "keras_metadata.pb文件包含Keras所需的额外信息。variables子目录包含所有参数值（包括连接权重、偏置、归一化统计信息和优化器参数），如果模型非常大，则可能会拆分为多个文件。最后，assets目录可能包含额外的文件，例如数据样本、特征名称、类名称等。默认情况下，assets目录是空的。因为优化器也已保存，包括它的超参数和它可能具有的任何状态，加载模型后可以根据需要继续训练。"
   ],
   "id": "f19f9115336f920a"
  },
  {
   "metadata": {
    "ExecuteTime": {
     "end_time": "2025-08-25T13:53:53.976526Z",
     "start_time": "2025-08-25T13:53:53.440420Z"
    }
   },
   "cell_type": "code",
   "source": [
    "model.save(\"./models/my_keras_model\", save_format=\"tf\")\n",
    "\n",
    "# todo: Warning: Keras's model.save() method no longer supports TensorFlow's SavedModel format. However, you can still export models to the SavedModel format using model.export() like this:\n",
    "# model.export(\"./models/my_keras_model\")"
   ],
   "id": "a3adfd5cc470a8bd",
   "outputs": [
    {
     "name": "stdout",
     "output_type": "stream",
     "text": [
      "INFO:tensorflow:Assets written to: ./models/my_keras_model\\assets\n"
     ]
    },
    {
     "name": "stderr",
     "output_type": "stream",
     "text": [
      "INFO:tensorflow:Assets written to: ./models/my_keras_model\\assets\n"
     ]
    }
   ],
   "execution_count": 25
  },
  {
   "metadata": {},
   "cell_type": "markdown",
   "source": [
    "通常会有一个脚本来训练模型并保存它，以及一个或多个脚本（或Web服务）来加载模型并使用它来评估模型或进行预测。加载模型和保存模型一样简单：\n",
    "\n",
    "还可以使用save_weights()和load_weights()来仅保存和加载参数值。这包括连接权重、偏置、预处理统计数据、优化器状态等。参数值保存在一个或多个文件，以及一个索引文件中"
   ],
   "id": "ccf43d2984d83b7e"
  },
  {
   "metadata": {
    "ExecuteTime": {
     "end_time": "2025-08-25T13:53:57.960486Z",
     "start_time": "2025-08-25T13:53:57.654637Z"
    }
   },
   "cell_type": "code",
   "source": [
    "model = tf.keras.models.load_model(\"./models/my_keras_model\", custom_objects={\"WideAndDeepModel\": WideAndDeepModel})\n",
    "y_pred_main, y_pred_aux = model.predict((X_new_wide, X_new_deep))\n",
    "\n",
    "# tfsm_layer = tf.keras.layers.TFSMLayer(\"./models/my_keras_model\")\n",
    "# y_pred_main, y_pred_aux = tfsm_layer((X_new_wide, X_new_deep))"
   ],
   "id": "3017deec911a4822",
   "outputs": [
    {
     "name": "stdout",
     "output_type": "stream",
     "text": [
      "1/1 [==============================] - 0s 47ms/step\n"
     ]
    }
   ],
   "execution_count": 26
  },
  {
   "metadata": {},
   "cell_type": "markdown",
   "source": "### 使用回调函数",
   "id": "eddf1f434ec509e8"
  },
  {
   "metadata": {},
   "cell_type": "markdown",
   "source": [
    "与保存整个模型相比，仅保存权重速度更快且使用的磁盘空间更少，适用于训练期间保存快速检查点\n",
    "\n",
    "如果你正在训练一个大模型，并且需要数小时或数天，那么必须定期保存检查点以防计算机崩溃。但是如何告诉fit()方法保存检查点呢？使用回调函数。\n",
    "\n",
    "fit()方法接收一个callbacks参数，该参数允许你指定Keras将在训练前后、每个轮次前后，甚至处理每个批次前后调用的对象列表。例如，在训练期间ModelCheckpoint回调会定期保存模型的检查点，默认情况下，在每个轮次结束时："
   ],
   "id": "4f6aaee2ca853016"
  },
  {
   "metadata": {},
   "cell_type": "code",
   "outputs": [],
   "execution_count": null,
   "source": [
    "checkpoint_cb = tf.keras.callbacks.ModelCheckpoint(\"my_checkpoints.weights.h5\",\n",
    "                                                   save_weights_only=True)\n",
    "history = model.fit(\n",
    "    (X_train_wide, X_train_deep), (y_train, y_train), epochs=10,\n",
    "    validation_data=((X_valid_wide, X_valid_deep), (y_valid, y_valid)),\n",
    "    callbacks=[checkpoint_cb])\n"
   ],
   "id": "4cee853512e86daa"
  },
  {
   "metadata": {},
   "cell_type": "markdown",
   "source": [
    "此外，如果在训练期间使用验证集，则可以在创建ModelCheckpoint时设置save_best_only=True。在这种情况下，只有当模型在验证集上的性能达到当前最佳时，它才会保存模型。这样，就不必担心训练时间太长而过拟合训练集：只需还原训练后保存的最后一个模型，这就是验证集中的最佳模型。这是实现早停的一种方法，但它不会真正停止训练。\n",
    "\n",
    "另一种方法是使用EarlyStopping回调。当它在多个轮次（由patience参数定义）测量验证集没有进展时，它将中断训练，如果设置restore_best_weights=True，则它将在训练结束时回滚到最佳模型。可以结合这两个回调来保存模型的检查点，以防计算机崩溃，并在没有更多进展时提前中断训练，以避免浪费时间和资源并减少过拟合："
   ],
   "id": "ed5abcc8364a819b"
  },
  {
   "metadata": {
    "ExecuteTime": {
     "end_time": "2025-08-25T13:56:42.244803Z",
     "start_time": "2025-08-25T13:56:31.630293Z"
    }
   },
   "cell_type": "code",
   "source": [
    "# 轮次的数量可以设置为一个很大的值，因为当没有更多进展时训练会自动停止（只要确保学习率不要太小，否则它可能会一直进展缓慢，直到结束\n",
    "early_stopping_cb = tf.keras.callbacks.EarlyStopping(patience=10,\n",
    "                                                     restore_best_weights=True)\n",
    "history = model.fit(\n",
    "    (X_train_wide, X_train_deep), (y_train, y_train), epochs=100,\n",
    "    validation_data=((X_valid_wide, X_valid_deep), (y_valid, y_valid)),\n",
    "    callbacks=[checkpoint_cb, early_stopping_cb])\n",
    "\n",
    "# EarlyStopping回调会将最佳模型的权重存储在内存中，并在训练结束时为你恢复它们。"
   ],
   "id": "dadeaaad44b7398d",
   "outputs": [
    {
     "name": "stdout",
     "output_type": "stream",
     "text": [
      "Epoch 1/100\n",
      "363/363 [==============================] - 1s 2ms/step - loss: 0.3311 - output_1_loss: 0.3253 - output_2_loss: 0.3838 - output_1_root_mean_squared_error: 0.5703 - output_2_root_mean_squared_error: 0.6195 - val_loss: 0.5228 - val_output_1_loss: 0.4968 - val_output_2_loss: 0.7573 - val_output_1_root_mean_squared_error: 0.7048 - val_output_2_root_mean_squared_error: 0.8703\n",
      "Epoch 2/100\n",
      "363/363 [==============================] - 0s 1ms/step - loss: 0.3350 - output_1_loss: 0.3294 - output_2_loss: 0.3861 - output_1_root_mean_squared_error: 0.5739 - output_2_root_mean_squared_error: 0.6214 - val_loss: 0.3789 - val_output_1_loss: 0.3775 - val_output_2_loss: 0.3914 - val_output_1_root_mean_squared_error: 0.6144 - val_output_2_root_mean_squared_error: 0.6256\n",
      "Epoch 3/100\n",
      "363/363 [==============================] - 0s 1ms/step - loss: 0.3292 - output_1_loss: 0.3237 - output_2_loss: 0.3789 - output_1_root_mean_squared_error: 0.5689 - output_2_root_mean_squared_error: 0.6156 - val_loss: 0.6127 - val_output_1_loss: 0.5793 - val_output_2_loss: 0.9133 - val_output_1_root_mean_squared_error: 0.7611 - val_output_2_root_mean_squared_error: 0.9557\n",
      "Epoch 4/100\n",
      "363/363 [==============================] - 0s 1ms/step - loss: 0.3294 - output_1_loss: 0.3236 - output_2_loss: 0.3813 - output_1_root_mean_squared_error: 0.5689 - output_2_root_mean_squared_error: 0.6175 - val_loss: 1.0229 - val_output_1_loss: 1.0850 - val_output_2_loss: 0.4638 - val_output_1_root_mean_squared_error: 1.0416 - val_output_2_root_mean_squared_error: 0.6810\n",
      "Epoch 5/100\n",
      "363/363 [==============================] - 0s 1ms/step - loss: 0.3313 - output_1_loss: 0.3263 - output_2_loss: 0.3765 - output_1_root_mean_squared_error: 0.5712 - output_2_root_mean_squared_error: 0.6136 - val_loss: 1.2277 - val_output_1_loss: 1.2296 - val_output_2_loss: 1.2109 - val_output_1_root_mean_squared_error: 1.1089 - val_output_2_root_mean_squared_error: 1.1004\n",
      "Epoch 6/100\n",
      "363/363 [==============================] - 0s 1ms/step - loss: 0.3314 - output_1_loss: 0.3260 - output_2_loss: 0.3800 - output_1_root_mean_squared_error: 0.5710 - output_2_root_mean_squared_error: 0.6164 - val_loss: 0.8064 - val_output_1_loss: 0.8540 - val_output_2_loss: 0.3783 - val_output_1_root_mean_squared_error: 0.9241 - val_output_2_root_mean_squared_error: 0.6150\n",
      "Epoch 7/100\n",
      "363/363 [==============================] - 0s 1ms/step - loss: 0.3286 - output_1_loss: 0.3235 - output_2_loss: 0.3743 - output_1_root_mean_squared_error: 0.5688 - output_2_root_mean_squared_error: 0.6118 - val_loss: 0.7125 - val_output_1_loss: 0.6721 - val_output_2_loss: 1.0760 - val_output_1_root_mean_squared_error: 0.8198 - val_output_2_root_mean_squared_error: 1.0373\n",
      "Epoch 8/100\n",
      "363/363 [==============================] - 0s 1ms/step - loss: 0.3239 - output_1_loss: 0.3185 - output_2_loss: 0.3727 - output_1_root_mean_squared_error: 0.5644 - output_2_root_mean_squared_error: 0.6105 - val_loss: 0.7464 - val_output_1_loss: 0.7845 - val_output_2_loss: 0.4035 - val_output_1_root_mean_squared_error: 0.8857 - val_output_2_root_mean_squared_error: 0.6352\n",
      "Epoch 9/100\n",
      "363/363 [==============================] - 0s 1ms/step - loss: 0.3231 - output_1_loss: 0.3180 - output_2_loss: 0.3692 - output_1_root_mean_squared_error: 0.5639 - output_2_root_mean_squared_error: 0.6076 - val_loss: 0.9636 - val_output_1_loss: 0.9498 - val_output_2_loss: 1.0880 - val_output_1_root_mean_squared_error: 0.9746 - val_output_2_root_mean_squared_error: 1.0431\n",
      "Epoch 10/100\n",
      "363/363 [==============================] - 0s 1ms/step - loss: 0.3284 - output_1_loss: 0.3234 - output_2_loss: 0.3727 - output_1_root_mean_squared_error: 0.5687 - output_2_root_mean_squared_error: 0.6105 - val_loss: 0.4812 - val_output_1_loss: 0.4947 - val_output_2_loss: 0.3598 - val_output_1_root_mean_squared_error: 0.7034 - val_output_2_root_mean_squared_error: 0.5998\n",
      "Epoch 11/100\n",
      "363/363 [==============================] - 0s 1ms/step - loss: 0.3191 - output_1_loss: 0.3139 - output_2_loss: 0.3661 - output_1_root_mean_squared_error: 0.5603 - output_2_root_mean_squared_error: 0.6051 - val_loss: 0.3837 - val_output_1_loss: 0.3682 - val_output_2_loss: 0.5237 - val_output_1_root_mean_squared_error: 0.6068 - val_output_2_root_mean_squared_error: 0.7237\n",
      "Epoch 12/100\n",
      "363/363 [==============================] - 0s 1ms/step - loss: 0.3228 - output_1_loss: 0.3178 - output_2_loss: 0.3687 - output_1_root_mean_squared_error: 0.5637 - output_2_root_mean_squared_error: 0.6072 - val_loss: 0.3465 - val_output_1_loss: 0.3447 - val_output_2_loss: 0.3626 - val_output_1_root_mean_squared_error: 0.5871 - val_output_2_root_mean_squared_error: 0.6022\n",
      "Epoch 13/100\n",
      "363/363 [==============================] - 0s 1ms/step - loss: 0.3176 - output_1_loss: 0.3123 - output_2_loss: 0.3647 - output_1_root_mean_squared_error: 0.5589 - output_2_root_mean_squared_error: 0.6039 - val_loss: 0.4445 - val_output_1_loss: 0.4298 - val_output_2_loss: 0.5772 - val_output_1_root_mean_squared_error: 0.6556 - val_output_2_root_mean_squared_error: 0.7597\n",
      "Epoch 14/100\n",
      "363/363 [==============================] - 0s 1ms/step - loss: 0.3176 - output_1_loss: 0.3125 - output_2_loss: 0.3637 - output_1_root_mean_squared_error: 0.5590 - output_2_root_mean_squared_error: 0.6031 - val_loss: 0.6850 - val_output_1_loss: 0.7152 - val_output_2_loss: 0.4134 - val_output_1_root_mean_squared_error: 0.8457 - val_output_2_root_mean_squared_error: 0.6429\n",
      "Epoch 15/100\n",
      "363/363 [==============================] - 0s 1ms/step - loss: 0.3220 - output_1_loss: 0.3170 - output_2_loss: 0.3670 - output_1_root_mean_squared_error: 0.5630 - output_2_root_mean_squared_error: 0.6058 - val_loss: 0.6499 - val_output_1_loss: 0.6604 - val_output_2_loss: 0.5547 - val_output_1_root_mean_squared_error: 0.8127 - val_output_2_root_mean_squared_error: 0.7448\n",
      "Epoch 16/100\n",
      "363/363 [==============================] - 0s 1ms/step - loss: 0.3291 - output_1_loss: 0.3239 - output_2_loss: 0.3755 - output_1_root_mean_squared_error: 0.5692 - output_2_root_mean_squared_error: 0.6128 - val_loss: 0.5534 - val_output_1_loss: 0.5756 - val_output_2_loss: 0.3532 - val_output_1_root_mean_squared_error: 0.7587 - val_output_2_root_mean_squared_error: 0.5943\n",
      "Epoch 17/100\n",
      "363/363 [==============================] - 0s 1ms/step - loss: 0.3186 - output_1_loss: 0.3137 - output_2_loss: 0.3624 - output_1_root_mean_squared_error: 0.5601 - output_2_root_mean_squared_error: 0.6020 - val_loss: 1.1101 - val_output_1_loss: 1.0701 - val_output_2_loss: 1.4709 - val_output_1_root_mean_squared_error: 1.0344 - val_output_2_root_mean_squared_error: 1.2128\n",
      "Epoch 18/100\n",
      "363/363 [==============================] - 0s 1ms/step - loss: 0.3190 - output_1_loss: 0.3139 - output_2_loss: 0.3649 - output_1_root_mean_squared_error: 0.5603 - output_2_root_mean_squared_error: 0.6040 - val_loss: 0.6468 - val_output_1_loss: 0.6747 - val_output_2_loss: 0.3960 - val_output_1_root_mean_squared_error: 0.8214 - val_output_2_root_mean_squared_error: 0.6293\n",
      "Epoch 19/100\n",
      "363/363 [==============================] - 0s 1ms/step - loss: 0.3155 - output_1_loss: 0.3109 - output_2_loss: 0.3570 - output_1_root_mean_squared_error: 0.5575 - output_2_root_mean_squared_error: 0.5975 - val_loss: 0.6954 - val_output_1_loss: 0.6723 - val_output_2_loss: 0.9036 - val_output_1_root_mean_squared_error: 0.8199 - val_output_2_root_mean_squared_error: 0.9506\n",
      "Epoch 20/100\n",
      "363/363 [==============================] - 0s 1ms/step - loss: 0.3163 - output_1_loss: 0.3113 - output_2_loss: 0.3607 - output_1_root_mean_squared_error: 0.5580 - output_2_root_mean_squared_error: 0.6006 - val_loss: 0.4022 - val_output_1_loss: 0.4075 - val_output_2_loss: 0.3550 - val_output_1_root_mean_squared_error: 0.6383 - val_output_2_root_mean_squared_error: 0.5958\n",
      "Epoch 21/100\n",
      "363/363 [==============================] - 0s 1ms/step - loss: 0.3123 - output_1_loss: 0.3074 - output_2_loss: 0.3558 - output_1_root_mean_squared_error: 0.5545 - output_2_root_mean_squared_error: 0.5965 - val_loss: 0.5975 - val_output_1_loss: 0.5769 - val_output_2_loss: 0.7830 - val_output_1_root_mean_squared_error: 0.7595 - val_output_2_root_mean_squared_error: 0.8849\n",
      "Epoch 22/100\n",
      "363/363 [==============================] - 1s 1ms/step - loss: 0.3132 - output_1_loss: 0.3083 - output_2_loss: 0.3572 - output_1_root_mean_squared_error: 0.5553 - output_2_root_mean_squared_error: 0.5977 - val_loss: 0.4857 - val_output_1_loss: 0.5005 - val_output_2_loss: 0.3523 - val_output_1_root_mean_squared_error: 0.7074 - val_output_2_root_mean_squared_error: 0.5936\n"
     ]
    }
   ],
   "execution_count": 28
  },
  {
   "metadata": {},
   "cell_type": "markdown",
   "source": [
    "tf.keras.callbacks包 (https://keras.io/api/callbacks) 中提供了许多其他回调。\n",
    "\n",
    "如果需要额外的控制，可以轻松编写自己的自定义回调。例如，以下自定义回调将显示训练期间验证损失与训练损失之间的比率（例如，检测过拟合）：\n",
    "\n",
    "可以实现on_train_begin()、on_train_end()、on_epoch_begin()、on_epoch_end()、on_batch_begin()和on_batch_end()。\n",
    "\n",
    "如果需要它们（例如，为了调试），也可以在评估和预测期间使用回调。对于评估，应该实现on_test_begin()、on_test_end、on_test_batch_begin()或on_test_batch_end()，它们由evaluate()调用。对于预测，你应该实现on_predict_begin()、on_predict_end()、on_predict_batch_begin()或on_predict_batch_end()，它们由predict()调用。"
   ],
   "id": "b6a1ede89692f6ad"
  },
  {
   "metadata": {
    "ExecuteTime": {
     "end_time": "2025-08-25T14:00:58.909964Z",
     "start_time": "2025-08-25T14:00:58.894511Z"
    }
   },
   "cell_type": "code",
   "source": [
    "class PrintValTrainRatioCallback(tf.keras.callbacks.Callback):\n",
    "    def on_epoch_end(self, epoch, logs):\n",
    "        ratio = logs[\"val_loss\"] / logs[\"loss\"]\n",
    "        print(f\"Epoch={epoch}, val/train={ratio:.2f}\")"
   ],
   "id": "c24bd4eacf911e71",
   "outputs": [],
   "execution_count": 30
  },
  {
   "metadata": {
    "ExecuteTime": {
     "end_time": "2025-08-25T14:01:03.050925Z",
     "start_time": "2025-08-25T14:00:59.218130Z"
    }
   },
   "cell_type": "code",
   "source": [
    "val_train_ratio_cb = PrintValTrainRatioCallback()\n",
    "history = model.fit(\n",
    "    (X_train_wide, X_train_deep), (y_train, y_train), epochs=10,\n",
    "    validation_data=((X_valid_wide, X_valid_deep), (y_valid, y_valid)),\n",
    "    callbacks=[val_train_ratio_cb], verbose=0)"
   ],
   "id": "5261f2a3548aeea6",
   "outputs": [
    {
     "name": "stdout",
     "output_type": "stream",
     "text": [
      "Epoch=0, val/train=1.27\n",
      "Epoch=1, val/train=1.20\n",
      "Epoch=2, val/train=2.46\n",
      "Epoch=3, val/train=3.71\n",
      "Epoch=4, val/train=3.94\n",
      "Epoch=5, val/train=2.18\n",
      "Epoch=6, val/train=1.08\n",
      "Epoch=7, val/train=1.00\n",
      "Epoch=8, val/train=1.38\n",
      "Epoch=9, val/train=0.97\n"
     ]
    }
   ],
   "execution_count": 31
  },
  {
   "metadata": {},
   "cell_type": "markdown",
   "source": "### 使用TensorBoard进行可视化",
   "id": "10d6c59758dd7b96"
  },
  {
   "metadata": {},
   "cell_type": "markdown",
   "source": [
    "TensorBoard是一款出色的交互式可视化工具，可用于在训练期间查看学习曲线；\n",
    "\n",
    "比较多次运行的学习曲线和指标；可视化计算图；\n",
    "\n",
    "分析训练统计数据；查看由模型生成的图像；\n",
    "\n",
    "把复杂的多维数据投影到3D，并自动进行聚类；分析你的网络（即测量其速度以识别瓶颈）等等！"
   ],
   "id": "f65c5b78e6536b8c"
  },
  {
   "metadata": {},
   "cell_type": "markdown",
   "source": [
    "安装TensorFlow时会自动安装TensorBoard。但是，需要一个TensorBoard插件来可视化分析数据。如果按照 **环境安装说明.md** 上的安装说明在本地运行所有内容, 说明已经安装插件\n",
    "\n",
    "要使用TensorBoard，必须修改程序，以便它将想要可视化的数据输出到称为事件文件的特殊二进制日志文件。\n",
    "\n",
    "pip/conda install -q -U tensorboard-plugin-profile\n",
    "\n",
    "每个二进制数据记录称为摘要。TensorBoard服务器将监视日志目录，并将自动获取更改并更新可视化效果：这可以可视化实时数据（有短暂延迟），例如训练期间的学习曲线。\n",
    "\n",
    "通常想把TensorBoard服务器指向根日志目录并配置自己的程序，以使其在每次运行时都写入不同的子目录。这样相同的TensorBoard服务器实例可以可视化并比较程序多次运行中的数据，而不会混淆所有内容。"
   ],
   "id": "1099b6d0707cd100"
  },
  {
   "metadata": {
    "ExecuteTime": {
     "end_time": "2025-08-27T05:27:42.249076Z",
     "start_time": "2025-08-27T05:27:42.217833Z"
    }
   },
   "cell_type": "code",
   "source": [
    "from pathlib import Path\n",
    "from time import strftime\n",
    "\n",
    "# 根据当前日期和时间生成日志子目录的路径，以便每次运行时都不同：\n",
    "def get_run_logdir(root_logdir=\"my_logs\"):\n",
    "    return Path(root_logdir) / strftime(\"run_%Y_%m_%d_%H_%M_%S\")\n",
    "\n",
    "run_logdir = get_run_logdir()\n",
    "run_logdir"
   ],
   "id": "9854ebf133871e20",
   "outputs": [
    {
     "data": {
      "text/plain": [
       "WindowsPath('my_logs/run_2025_08_27_13_27_42')"
      ]
     },
     "execution_count": 26,
     "metadata": {},
     "output_type": "execute_result"
    }
   ],
   "execution_count": 26
  },
  {
   "metadata": {},
   "cell_type": "markdown",
   "source": [
    "Keras提供了一个方便的TensorBoard()回调，它负责创建日志目录（如果需要，还包括其父目录），\n",
    "\n",
    "并且它将创建事件文件并在训练期间向它们写入摘要。它将测量模型的训练损失、验证损失和指标（在本例中为MSE和RMSE），并且还将分析神经网络。使用起来很简单"
   ],
   "id": "7324e39cbb43a741"
  },
  {
   "metadata": {
    "ExecuteTime": {
     "end_time": "2025-08-27T05:27:47.172882Z",
     "start_time": "2025-08-27T05:27:46.705243Z"
    }
   },
   "cell_type": "code",
   "source": [
    "tf.keras.backend.clear_session()\n",
    "tf.random.set_seed(42)\n",
    "norm_layer = tf.keras.layers.Normalization(input_shape=X_train.shape[1:])\n",
    "model = tf.keras.Sequential([\n",
    "    norm_layer,\n",
    "    tf.keras.layers.Dense(30, activation=\"relu\"),\n",
    "    tf.keras.layers.Dense(30, activation=\"relu\"),\n",
    "    tf.keras.layers.Dense(1)\n",
    "])\n",
    "optimizer = tf.keras.optimizers.SGD(learning_rate=1e-3)\n",
    "model.compile(loss=\"mse\", optimizer=optimizer, metrics=[\"RootMeanSquaredError\"])\n",
    "norm_layer.adapt(X_train)"
   ],
   "id": "160d87ce3f7d966",
   "outputs": [],
   "execution_count": 27
  },
  {
   "metadata": {},
   "cell_type": "markdown",
   "source": [
    "它将在第一个轮次期间对批次100和200之间的网络进行分析。\n",
    "\n",
    "神经网络通常需要几个批次才能“预热”，因此，不想过早地分析，分析会占用资源，所以最好不要对每个批次都进行分析。"
   ],
   "id": "83aded33d6c8b5e3"
  },
  {
   "metadata": {
    "ExecuteTime": {
     "end_time": "2025-08-27T05:28:05.254565Z",
     "start_time": "2025-08-27T05:27:49.996404Z"
    }
   },
   "cell_type": "code",
   "source": [
    "tensorboard_cb = tf.keras.callbacks.TensorBoard(run_logdir,\n",
    "                                                profile_batch=(100, 200)) # 对批次100和200之间的网络进行分析\n",
    "history = model.fit(X_train, y_train, epochs=20,\n",
    "                    validation_data=(X_valid, y_valid),\n",
    "                    callbacks=[tensorboard_cb])"
   ],
   "id": "7962bb02e85da82c",
   "outputs": [
    {
     "name": "stdout",
     "output_type": "stream",
     "text": [
      "Epoch 1/20\n",
      "363/363 [==============================] - 1s 3ms/step - loss: 2.1329 - root_mean_squared_error: 1.4605 - val_loss: 0.9595 - val_root_mean_squared_error: 0.9795\n",
      "Epoch 2/20\n",
      "363/363 [==============================] - 1s 2ms/step - loss: 0.7854 - root_mean_squared_error: 0.8863 - val_loss: 1.0009 - val_root_mean_squared_error: 1.0004\n",
      "Epoch 3/20\n",
      "363/363 [==============================] - 1s 2ms/step - loss: 0.6855 - root_mean_squared_error: 0.8280 - val_loss: 0.8161 - val_root_mean_squared_error: 0.9034\n",
      "Epoch 4/20\n",
      "363/363 [==============================] - 1s 2ms/step - loss: 0.6343 - root_mean_squared_error: 0.7964 - val_loss: 0.5981 - val_root_mean_squared_error: 0.7734\n",
      "Epoch 5/20\n",
      "363/363 [==============================] - 1s 2ms/step - loss: 0.5954 - root_mean_squared_error: 0.7716 - val_loss: 0.5579 - val_root_mean_squared_error: 0.7469\n",
      "Epoch 6/20\n",
      "363/363 [==============================] - 1s 2ms/step - loss: 0.5599 - root_mean_squared_error: 0.7483 - val_loss: 0.5433 - val_root_mean_squared_error: 0.7371\n",
      "Epoch 7/20\n",
      "363/363 [==============================] - 1s 2ms/step - loss: 0.5310 - root_mean_squared_error: 0.7287 - val_loss: 0.5767 - val_root_mean_squared_error: 0.7594\n",
      "Epoch 8/20\n",
      "363/363 [==============================] - 1s 2ms/step - loss: 0.5056 - root_mean_squared_error: 0.7111 - val_loss: 0.4741 - val_root_mean_squared_error: 0.6886\n",
      "Epoch 9/20\n",
      "363/363 [==============================] - 1s 2ms/step - loss: 0.4826 - root_mean_squared_error: 0.6947 - val_loss: 0.4607 - val_root_mean_squared_error: 0.6788\n",
      "Epoch 10/20\n",
      "363/363 [==============================] - 1s 2ms/step - loss: 0.4643 - root_mean_squared_error: 0.6814 - val_loss: 0.4723 - val_root_mean_squared_error: 0.6873\n",
      "Epoch 11/20\n",
      "363/363 [==============================] - 1s 2ms/step - loss: 0.4499 - root_mean_squared_error: 0.6707 - val_loss: 0.4447 - val_root_mean_squared_error: 0.6669\n",
      "Epoch 12/20\n",
      "363/363 [==============================] - 1s 2ms/step - loss: 0.4384 - root_mean_squared_error: 0.6621 - val_loss: 0.4253 - val_root_mean_squared_error: 0.6522\n",
      "Epoch 13/20\n",
      "363/363 [==============================] - 1s 2ms/step - loss: 0.4294 - root_mean_squared_error: 0.6553 - val_loss: 0.4035 - val_root_mean_squared_error: 0.6352\n",
      "Epoch 14/20\n",
      "363/363 [==============================] - 1s 2ms/step - loss: 0.4224 - root_mean_squared_error: 0.6499 - val_loss: 0.3987 - val_root_mean_squared_error: 0.6314\n",
      "Epoch 15/20\n",
      "363/363 [==============================] - 1s 2ms/step - loss: 0.4167 - root_mean_squared_error: 0.6455 - val_loss: 0.3921 - val_root_mean_squared_error: 0.6262\n",
      "Epoch 16/20\n",
      "363/363 [==============================] - 1s 2ms/step - loss: 0.4119 - root_mean_squared_error: 0.6418 - val_loss: 0.3873 - val_root_mean_squared_error: 0.6224\n",
      "Epoch 17/20\n",
      "363/363 [==============================] - 1s 2ms/step - loss: 0.4080 - root_mean_squared_error: 0.6387 - val_loss: 0.4036 - val_root_mean_squared_error: 0.6353\n",
      "Epoch 18/20\n",
      "363/363 [==============================] - 1s 2ms/step - loss: 0.4053 - root_mean_squared_error: 0.6366 - val_loss: 0.3924 - val_root_mean_squared_error: 0.6264\n",
      "Epoch 19/20\n",
      "363/363 [==============================] - 1s 2ms/step - loss: 0.4016 - root_mean_squared_error: 0.6337 - val_loss: 0.3811 - val_root_mean_squared_error: 0.6173\n",
      "Epoch 20/20\n",
      "363/363 [==============================] - 1s 2ms/step - loss: 0.3995 - root_mean_squared_error: 0.6321 - val_loss: 0.4099 - val_root_mean_squared_error: 0.6403\n"
     ]
    }
   ],
   "execution_count": 28
  },
  {
   "metadata": {},
   "cell_type": "markdown",
   "source": [
    "每次运行有一个目录，每个目录包含一个用于训练日志的子目录和一个用于验证日志的子目录。两者都包含事件文件，训练日志还包括分析跟踪。\n",
    "\n",
    "准备好数据后，启动TensorBoard服务器。\n",
    "\n",
    "这可以使用TensorBoard的Jupyter扩展直接在Jupyter中完成，它与TensorBoard库一起安装。\n",
    "\n",
    "以下代码为TensorBoard加载Jupyter扩展，第二行为my_logs目录启动TensorBoard服务器，连接到该服务器并直接在Jupyter内部显示用户界面。服务器监听大于或等于6006的第一个可用TCP端口（或者可以使用--port选项设置想要的端口）"
   ],
   "id": "b5b5d3398936df9c"
  },
  {
   "metadata": {
    "ExecuteTime": {
     "end_time": "2025-08-25T14:45:21.627743Z",
     "start_time": "2025-08-25T14:45:21.604420Z"
    }
   },
   "cell_type": "code",
   "source": [
    "# %load_ext tensorboard\n",
    "# %tensorboard --logdir=./my_logs"
   ],
   "id": "ca3c081c2025960e",
   "outputs": [],
   "execution_count": 39
  },
  {
   "metadata": {},
   "cell_type": "markdown",
   "source": [
    "如果在自己的机器上运行所有内容，则可以通过在终端中执行tensorboard --logdir=./my_logs来启动TensorBoard。\n",
    "\n",
    "必须先激活安装TensorBoard的Conda环境，然后进入项目目录。服务器启动后，访问http://localhost：6006。"
   ],
   "id": "804d133952c4cbd1"
  }
 ],
 "metadata": {
  "kernelspec": {
   "display_name": "Python 3",
   "language": "python",
   "name": "python3"
  },
  "language_info": {
   "codemirror_mode": {
    "name": "ipython",
    "version": 2
   },
   "file_extension": ".py",
   "mimetype": "text/x-python",
   "name": "python",
   "nbconvert_exporter": "python",
   "pygments_lexer": "ipython2",
   "version": "2.7.6"
  }
 },
 "nbformat": 4,
 "nbformat_minor": 5
}
