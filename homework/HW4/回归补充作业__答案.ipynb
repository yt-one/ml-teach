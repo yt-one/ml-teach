{
 "cells": [
  {
   "metadata": {},
   "cell_type": "markdown",
   "source": [
    "## 简单题\n",
    "1. 如果你的训练集有数百万个特征，可以使用随机梯度下降（Stochastic Gradient Descent）或小批量梯度下降（Mini-batch Gradient Descent），在内存中训练模型；但不能使用正规方程（Normal Equation）或 SVD 方法，因为它们的计算复杂度随着特征数的平方甚至更高增长，计算量会非常大。\n",
    "\n",
    "2. 如果训练集中的特征具有非常不同的尺度，代价函数的形状会像一个细长的碗，梯度下降算法收敛会非常慢。为了解决这个问题，你应该在训练模型前对数据进行缩放。注意，如果使用正规方程或 SVD 方法，则无需缩放。此外，如果未缩放特征，正则化模型可能会收敛到次优解：因为正则化会惩罚权重较大的特征，尺度较小的特征相较于尺度较大的特征更容易被忽略。\n",
    "\n",
    "3. 在训练逻辑回归模型时，梯度下降不会陷入局部最小值，因为代价函数是凸的。凸（convex）意味着如果你在曲线上任意两点之间画一条直线，这条直线不会低于曲线。\n",
    "\n",
    "4. 如果优化问题是凸的（例如线性回归或逻辑回归），且学习率不太高，那么所有梯度下降算法都会收敛到全局最优解，并产生非常相似的模型。然而，除非逐渐降低学习率，否则随机梯度下降和小批量梯度下降将永远无法真正收敛；它们会在全局最优解附近不断来回摆动。如果运行很长时间，这些算法会产生略有不同的模型。\n",
    "\n",
    "5. 如果验证误差在每个 epoch 后都在增加，一种可能是学习率太高，算法正在发散。如果训练误差也增加，这很明显是学习率过高，应当降低学习率。如果训练误差不增加，但验证误差持续上升，说明模型过拟合，应停止训练。\n",
    "\n",
    "6. 由于其随机性，随机梯度下降或小批量梯度下降不能保证在每次训练迭代中都取得进展。因此，如果验证误差上升时立即停止训练，可能会过早终止，导致未达到最优解。更好的方法是在固定间隔保存模型，当验证误差长时间未改善时（意味着可能不会再刷新最优值），可以恢复到保存的最佳模型。\n",
    "\n",
    "7. 随机梯度下降由于每次只考虑一个训练样本（或小批量梯度下降中使用非常小的批量大小），通常最快到达全局最优解附近。然而，只有批量梯度下降最终能真正收敛（在足够长的训练时间下）。随机梯度下降和小批量梯度下降会在最优解附近来回摆动，除非逐渐降低学习率。\n",
    "\n",
    "8. 如果验证误差远高于训练误差，说明模型可能过拟合训练集。解决方法之一是降低多项式的阶数：自由度较低的模型更不容易过拟合。另外，你也可以通过正则化模型来减少过拟合，例如加入 L2 惩罚（Ridge）或 L1 惩罚（Lasso），这也会减少模型的自由度。最后，还可以尝试增加训练集大小。\n",
    "\n",
    "9. 如果训练误差和验证误差都很高且接近，说明模型可能欠拟合，这意味着高偏差。你应该尝试降低正则化超参数 α。\n",
    "\n",
    "10. 说明：\n",
    "    - 具有一些正则化的模型通常比没有正则化的模型表现更好，因此应优先选择岭回归（Ridge Regression）而不是线性回归（Linear Regression）。\n",
    "    - Lasso 回归使用 L1 惩罚，会将某些权重推到恰好为零，从而得到稀疏模型（只有少数重要特征的权重非零）。这是一种自动特征选择方法，如果你怀疑只有少数特征真正重要，可以尝试。如果不确定，应优先选择 Ridge 回归。\n",
    "    - 弹性网（Elastic Net）一般优于 Lasso，因为当特征强相关或特征数大于样本数时，Lasso 表现不稳定。不过，Elastic Net 多了一个需要调整的超参数。如果你想要 Lasso 的稀疏性又想避免其不稳定性，可以使用 `l1_ratio` 接近 1 的 Elastic Net。\n",
    "\n",
    "11. 如果你想分类图片是户外/室内，以及白天/夜晚（这些不是互斥类别，即四种组合都可能存在），你应该训练两个逻辑回归分类器。"
   ],
   "id": "ca919f741042e6f5"
  },
  {
   "metadata": {
    "ExecuteTime": {
     "end_time": "2025-08-10T14:38:14.198494Z",
     "start_time": "2025-08-10T14:38:13.638965Z"
    }
   },
   "cell_type": "code",
   "source": [
    "from sklearn.datasets import load_iris\n",
    "import numpy as np"
   ],
   "id": "4b3220a184549bda",
   "outputs": [],
   "execution_count": 1
  },
  {
   "metadata": {
    "ExecuteTime": {
     "end_time": "2025-08-10T14:38:17.757560Z",
     "start_time": "2025-08-10T14:38:17.478902Z"
    }
   },
   "cell_type": "code",
   "source": [
    "iris = load_iris(as_frame=True)\n",
    "iris.data"
   ],
   "id": "cb4e397002de8764",
   "outputs": [
    {
     "data": {
      "text/plain": [
       "     sepal length (cm)  sepal width (cm)  petal length (cm)  petal width (cm)\n",
       "0                  5.1               3.5                1.4               0.2\n",
       "1                  4.9               3.0                1.4               0.2\n",
       "2                  4.7               3.2                1.3               0.2\n",
       "3                  4.6               3.1                1.5               0.2\n",
       "4                  5.0               3.6                1.4               0.2\n",
       "..                 ...               ...                ...               ...\n",
       "145                6.7               3.0                5.2               2.3\n",
       "146                6.3               2.5                5.0               1.9\n",
       "147                6.5               3.0                5.2               2.0\n",
       "148                6.2               3.4                5.4               2.3\n",
       "149                5.9               3.0                5.1               1.8\n",
       "\n",
       "[150 rows x 4 columns]"
      ],
      "text/html": [
       "<div>\n",
       "<style scoped>\n",
       "    .dataframe tbody tr th:only-of-type {\n",
       "        vertical-align: middle;\n",
       "    }\n",
       "\n",
       "    .dataframe tbody tr th {\n",
       "        vertical-align: top;\n",
       "    }\n",
       "\n",
       "    .dataframe thead th {\n",
       "        text-align: right;\n",
       "    }\n",
       "</style>\n",
       "<table border=\"1\" class=\"dataframe\">\n",
       "  <thead>\n",
       "    <tr style=\"text-align: right;\">\n",
       "      <th></th>\n",
       "      <th>sepal length (cm)</th>\n",
       "      <th>sepal width (cm)</th>\n",
       "      <th>petal length (cm)</th>\n",
       "      <th>petal width (cm)</th>\n",
       "    </tr>\n",
       "  </thead>\n",
       "  <tbody>\n",
       "    <tr>\n",
       "      <th>0</th>\n",
       "      <td>5.1</td>\n",
       "      <td>3.5</td>\n",
       "      <td>1.4</td>\n",
       "      <td>0.2</td>\n",
       "    </tr>\n",
       "    <tr>\n",
       "      <th>1</th>\n",
       "      <td>4.9</td>\n",
       "      <td>3.0</td>\n",
       "      <td>1.4</td>\n",
       "      <td>0.2</td>\n",
       "    </tr>\n",
       "    <tr>\n",
       "      <th>2</th>\n",
       "      <td>4.7</td>\n",
       "      <td>3.2</td>\n",
       "      <td>1.3</td>\n",
       "      <td>0.2</td>\n",
       "    </tr>\n",
       "    <tr>\n",
       "      <th>3</th>\n",
       "      <td>4.6</td>\n",
       "      <td>3.1</td>\n",
       "      <td>1.5</td>\n",
       "      <td>0.2</td>\n",
       "    </tr>\n",
       "    <tr>\n",
       "      <th>4</th>\n",
       "      <td>5.0</td>\n",
       "      <td>3.6</td>\n",
       "      <td>1.4</td>\n",
       "      <td>0.2</td>\n",
       "    </tr>\n",
       "    <tr>\n",
       "      <th>...</th>\n",
       "      <td>...</td>\n",
       "      <td>...</td>\n",
       "      <td>...</td>\n",
       "      <td>...</td>\n",
       "    </tr>\n",
       "    <tr>\n",
       "      <th>145</th>\n",
       "      <td>6.7</td>\n",
       "      <td>3.0</td>\n",
       "      <td>5.2</td>\n",
       "      <td>2.3</td>\n",
       "    </tr>\n",
       "    <tr>\n",
       "      <th>146</th>\n",
       "      <td>6.3</td>\n",
       "      <td>2.5</td>\n",
       "      <td>5.0</td>\n",
       "      <td>1.9</td>\n",
       "    </tr>\n",
       "    <tr>\n",
       "      <th>147</th>\n",
       "      <td>6.5</td>\n",
       "      <td>3.0</td>\n",
       "      <td>5.2</td>\n",
       "      <td>2.0</td>\n",
       "    </tr>\n",
       "    <tr>\n",
       "      <th>148</th>\n",
       "      <td>6.2</td>\n",
       "      <td>3.4</td>\n",
       "      <td>5.4</td>\n",
       "      <td>2.3</td>\n",
       "    </tr>\n",
       "    <tr>\n",
       "      <th>149</th>\n",
       "      <td>5.9</td>\n",
       "      <td>3.0</td>\n",
       "      <td>5.1</td>\n",
       "      <td>1.8</td>\n",
       "    </tr>\n",
       "  </tbody>\n",
       "</table>\n",
       "<p>150 rows × 4 columns</p>\n",
       "</div>"
      ]
     },
     "execution_count": 2,
     "metadata": {},
     "output_type": "execute_result"
    }
   ],
   "execution_count": 2
  },
  {
   "metadata": {
    "ExecuteTime": {
     "end_time": "2025-08-10T14:38:23.514004Z",
     "start_time": "2025-08-10T14:38:23.498391Z"
    }
   },
   "cell_type": "code",
   "source": "X, y = iris.data[['petal length (cm)', 'petal width (cm)']].values, iris.target.values",
   "id": "d8aaece834c6a4c6",
   "outputs": [],
   "execution_count": 3
  },
  {
   "metadata": {
    "ExecuteTime": {
     "end_time": "2025-08-10T14:38:30.250791Z",
     "start_time": "2025-08-10T14:38:29.817296Z"
    }
   },
   "cell_type": "code",
   "source": [
    "import matplotlib.pyplot as plt\n",
    "\n",
    "plt.plot(X[y==0, 0], X[y==0, 1], \"b.\", label=\"class 0\")\n",
    "plt.plot(X[y==1, 0], X[y==1, 1], \"r^\", label=\"class 1\")\n",
    "plt.plot(X[y==2, 0], X[y==2, 1], \"gs\", label=\"class 2\")\n",
    "plt.legend()\n",
    "plt.show()"
   ],
   "id": "6d4909d196920de5",
   "outputs": [
    {
     "data": {
      "text/plain": [
       "<Figure size 640x480 with 1 Axes>"
      ],
      "image/png": "[encoded data removed]"
     },
     "metadata": {},
     "output_type": "display_data"
    }
   ],
   "execution_count": 4
  },
  {
   "metadata": {
    "ExecuteTime": {
     "end_time": "2025-08-10T14:38:39.678667Z",
     "start_time": "2025-08-10T14:38:39.663052Z"
    }
   },
   "cell_type": "code",
   "source": [
    "def cross_entropy(y_true, y_pred):\n",
    "    # y_pred: m,k\n",
    "    # y_true: m,\n",
    "    m = len(y_true)\n",
    "    y_true = y_true.reshape(-1,1)  # (m,1)\n",
    "\n",
    "    result = np.sum((y_true == np.unique(y_true).reshape(1,-1)) * np.log(y_pred)) / (-m)\n",
    "    return result\n",
    "\n",
    "def cross_entropy_l2(y_true, y_pred, alpha, w):\n",
    "    return cross_entropy(y_true, y_pred) + alpha * np.sum(w**2)\n",
    "\n",
    "def softmax_predict(X, w ,b):\n",
    "    # X: m*n\n",
    "    # w: n*k\n",
    "    # b: k,\n",
    "    s = X@w  + b# m,k\n",
    "    exps = np.exp(s) # m,k\n",
    "    return exps / np.sum(exps, axis=1, keepdims=True)\n",
    "\n",
    "def softmax_gradient(X, y_true, w, b, alpha=0):\n",
    "    # 返回dw 和 db\n",
    "    # X: m,n\n",
    "    # y_true: m,\n",
    "    # w: n,k\n",
    "    # b, k,\n",
    "    # dw形状：(n, k)\n",
    "    # db形状：(k,)\n",
    "    # alpha=0: l2正则化的强度\n",
    "    m = len(y_true)\n",
    "    p = softmax_predict(X, w, b)\n",
    "    y_true = y_true.reshape(-1,1)\n",
    "    y_true = y_true == np.unique(y_true).reshape(1,-1)  # m,k\n",
    "    dw = X.T @ (p - y_true) / m + 2*alpha*w\n",
    "    db = np.sum(p-y_true, axis=0) / m\n",
    "    return dw, db"
   ],
   "id": "8ad1ed6b5b575b48",
   "outputs": [],
   "execution_count": 5
  },
  {
   "metadata": {
    "ExecuteTime": {
     "end_time": "2025-08-10T14:39:14.646312Z",
     "start_time": "2025-08-10T14:39:13.583859Z"
    }
   },
   "cell_type": "code",
   "source": [
    "n_epoches = 10000\n",
    "learning_rate = 0.03\n",
    "alpha = 0\n",
    "\n",
    "m, n = X.shape\n",
    "k = len(np.unique(y))\n",
    "\n",
    "np.random.seed(100)\n",
    "w_init = np.random.randn(n,k)\n",
    "b_init = np.random.randn(k)\n",
    "\n",
    "w = w_init\n",
    "b = b_init\n",
    "\n",
    "\n",
    "rnd_indices = np.random.permutation(m)\n",
    "valid_ratio = 0.3\n",
    "valid_size = int(m*valid_ratio)\n",
    "train_size = m - valid_size\n",
    "\n",
    "X = X[rnd_indices]\n",
    "y = y[rnd_indices]\n",
    "X_train, X_valid = X[:train_size], X[train_size:]\n",
    "y_train, y_valid = y[:train_size], y[train_size:]\n",
    "\n",
    "best_valid_loss = float('inf')\n",
    "w_best = w_init.copy()\n",
    "b_best = b_init.copy()\n",
    "\n",
    "train_errors, valid_errors = [], []\n",
    "best_epoch = 0\n",
    "\n",
    "for i in range(n_epoches):\n",
    "    dw, db = softmax_gradient(X_train, y_train, w, b, alpha=alpha/m)\n",
    "    w -= learning_rate * dw\n",
    "    b -= learning_rate * db\n",
    "\n",
    "    y_pred_valid = softmax_predict(X_valid, w, b)\n",
    "    loss_valid = cross_entropy(y_valid, y_pred_valid)\n",
    "\n",
    "    # 早停逻辑\n",
    "    if loss_valid < best_valid_loss:\n",
    "        best_valid_loss = loss_valid\n",
    "        w_best = w.copy()\n",
    "        b_best = b.copy()\n",
    "        best_epoch = i + 1\n",
    "\n",
    "    y_pred_train = softmax_predict(X_train, w, b)\n",
    "    loss_train = cross_entropy_l2(y_train, y_pred_train, alpha/m, w)\n",
    "    train_errors.append(loss_train)\n",
    "    valid_errors.append(loss_valid)\n",
    "\n",
    "# 在图里 画注释\n",
    "plt.annotate('Best model',\n",
    "             xy=(best_epoch, best_valid_loss),\n",
    "             xytext=(best_epoch, best_valid_loss + 0.5),\n",
    "             ha=\"center\",   # 水平方向对齐方式\n",
    "             arrowprops=dict(facecolor='black', shrink=0.05))   # arrowprops 字典中的一个键，用来设置箭头两端的“收缩比例”，即让箭头稍微不完全连接起点 xy 和终点 xytext\n",
    "\n",
    "plt.plot([0, n_epoches], [best_valid_loss, best_valid_loss], \"k:\", linewidth=2)  # 横线\n",
    "plt.plot(valid_errors, \"b-\", linewidth=3, label=\"Validation set\")                 # 验证误差折线\n",
    "plt.plot(best_epoch, best_valid_loss, \"bo\")                                     # 最佳验证误差的点\n",
    "plt.plot(train_errors, \"r--\", linewidth=2, label=\"Training set\")                # 训练误差折线\n",
    "plt.legend(loc=\"upper right\")\n",
    "plt.xlabel(\"Epoch\")\n",
    "plt.ylabel(\"Cross Entropy\")\n",
    "plt.axis([0, n_epoches, 0, 3.5])\n",
    "plt.grid()\n",
    "plt.show()"
   ],
   "id": "bab4a22b284da4cc",
   "outputs": [
    {
     "data": {
      "text/plain": [
       "<Figure size 640x480 with 1 Axes>"
      ],
      "image/png": "[encoded data removed]"
     },
     "metadata": {},
     "output_type": "display_data"
    }
   ],
   "execution_count": 6
  },
  {
   "metadata": {
    "ExecuteTime": {
     "end_time": "2025-08-10T14:39:21.277758Z",
     "start_time": "2025-08-10T14:39:21.254504Z"
    }
   },
   "cell_type": "code",
   "source": [
    "y_train_pred = np.argmax(softmax_predict(X_train, w_best, b), axis=1)\n",
    "(y_train_pred== y_train).mean()"
   ],
   "id": "e9f3075c5552486f",
   "outputs": [
    {
     "data": {
      "text/plain": [
       "0.9523809523809523"
      ]
     },
     "execution_count": 7,
     "metadata": {},
     "output_type": "execute_result"
    }
   ],
   "execution_count": 7
  },
  {
   "metadata": {
    "ExecuteTime": {
     "end_time": "2025-08-10T14:39:26.294440Z",
     "start_time": "2025-08-10T14:39:26.273797Z"
    }
   },
   "cell_type": "code",
   "source": [
    "y_valid_pred = np.argmax(softmax_predict(X_valid, w_best, b), axis=1)\n",
    "(y_valid_pred == y_valid).mean()"
   ],
   "id": "f638ae39cb8b7a1f",
   "outputs": [
    {
     "data": {
      "text/plain": [
       "0.9777777777777777"
      ]
     },
     "execution_count": 8,
     "metadata": {},
     "output_type": "execute_result"
    }
   ],
   "execution_count": 8
  },
  {
   "metadata": {},
   "cell_type": "code",
   "outputs": [],
   "execution_count": null,
   "source": "",
   "id": "ec8cceb06c5816db"
  }
 ],
 "metadata": {
  "kernelspec": {
   "display_name": "Python 3",
   "language": "python",
   "name": "python3"
  },
  "language_info": {
   "codemirror_mode": {
    "name": "ipython",
    "version": 2
   },
   "file_extension": ".py",
   "mimetype": "text/x-python",
   "name": "python",
   "nbconvert_exporter": "python",
   "pygments_lexer": "ipython2",
   "version": "2.7.6"
  }
 },
 "nbformat": 4,
 "nbformat_minor": 5
}
