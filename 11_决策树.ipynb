{
 "cells": [
  {
   "metadata": {},
   "cell_type": "markdown",
   "source": [
    "## 决策树\n",
    "决策树是多功能的机器学习算法，可以执行分类和回归任务，甚至可以执行多输出任务。它们是功能强大的算法，能够拟合复杂的数据集。例如，在加州房屋数据集中训练了DecisionTreeRegressor模型，使其完全拟合（实际上是过拟合）。\n",
    "\n",
    "决策树也是随机森林的基本组成部分，它们是当今最强大的机器学习算法之一。\n",
    "\n",
    "将讨论如何使用决策树进行训练，可视化和做出预测开始。然后，将了解Scikit-Learn使用的CART训练算法，并将探索如何对树进行正则化并将其用于回归任务。最后，将讨论决策树的一些局限性。"
   ],
   "id": "47a1b4f6353c5ea8"
  },
  {
   "metadata": {
    "ExecuteTime": {
     "end_time": "2025-08-06T13:37:31.081513Z",
     "start_time": "2025-08-06T13:37:31.056054Z"
    }
   },
   "cell_type": "code",
   "source": [
    "from sklearn.datasets import load_iris\n",
    "from sklearn.tree import DecisionTreeClassifier\n",
    "\n",
    "iris = load_iris(as_frame=True)\n",
    "X_iris = iris.data[[\"petal length (cm)\", \"petal width (cm)\"]].values\n",
    "y_iris = iris.target\n",
    "\n",
    "tree_clf = DecisionTreeClassifier(max_depth=3, random_state=42)\n",
    "tree_clf.fit(X_iris, y_iris)"
   ],
   "id": "e7e438b63235e127",
   "outputs": [
    {
     "data": {
      "text/plain": [
       "DecisionTreeClassifier(max_depth=3, random_state=42)"
      ],
      "text/html": [
       "<style>#sk-container-id-6 {color: black;}#sk-container-id-6 pre{padding: 0;}#sk-container-id-6 div.sk-toggleable {background-color: white;}#sk-container-id-6 label.sk-toggleable__label {cursor: pointer;display: block;width: 100%;margin-bottom: 0;padding: 0.3em;box-sizing: border-box;text-align: center;}#sk-container-id-6 label.sk-toggleable__label-arrow:before {content: \"▸\";float: left;margin-right: 0.25em;color: #696969;}#sk-container-id-6 label.sk-toggleable__label-arrow:hover:before {color: black;}#sk-container-id-6 div.sk-estimator:hover label.sk-toggleable__label-arrow:before {color: black;}#sk-container-id-6 div.sk-toggleable__content {max-height: 0;max-width: 0;overflow: hidden;text-align: left;background-color: #f0f8ff;}#sk-container-id-6 div.sk-toggleable__content pre {margin: 0.2em;color: black;border-radius: 0.25em;background-color: #f0f8ff;}#sk-container-id-6 input.sk-toggleable__control:checked~div.sk-toggleable__content {max-height: 200px;max-width: 100%;overflow: auto;}#sk-container-id-6 input.sk-toggleable__control:checked~label.sk-toggleable__label-arrow:before {content: \"▾\";}#sk-container-id-6 div.sk-estimator input.sk-toggleable__control:checked~label.sk-toggleable__label {background-color: #d4ebff;}#sk-container-id-6 div.sk-label input.sk-toggleable__control:checked~label.sk-toggleable__label {background-color: #d4ebff;}#sk-container-id-6 input.sk-hidden--visually {border: 0;clip: rect(1px 1px 1px 1px);clip: rect(1px, 1px, 1px, 1px);height: 1px;margin: -1px;overflow: hidden;padding: 0;position: absolute;width: 1px;}#sk-container-id-6 div.sk-estimator {font-family: monospace;background-color: #f0f8ff;border: 1px dotted black;border-radius: 0.25em;box-sizing: border-box;margin-bottom: 0.5em;}#sk-container-id-6 div.sk-estimator:hover {background-color: #d4ebff;}#sk-container-id-6 div.sk-parallel-item::after {content: \"\";width: 100%;border-bottom: 1px solid gray;flex-grow: 1;}#sk-container-id-6 div.sk-label:hover label.sk-toggleable__label {background-color: #d4ebff;}#sk-container-id-6 div.sk-serial::before {content: \"\";position: absolute;border-left: 1px solid gray;box-sizing: border-box;top: 0;bottom: 0;left: 50%;z-index: 0;}#sk-container-id-6 div.sk-serial {display: flex;flex-direction: column;align-items: center;background-color: white;padding-right: 0.2em;padding-left: 0.2em;position: relative;}#sk-container-id-6 div.sk-item {position: relative;z-index: 1;}#sk-container-id-6 div.sk-parallel {display: flex;align-items: stretch;justify-content: center;background-color: white;position: relative;}#sk-container-id-6 div.sk-item::before, #sk-container-id-6 div.sk-parallel-item::before {content: \"\";position: absolute;border-left: 1px solid gray;box-sizing: border-box;top: 0;bottom: 0;left: 50%;z-index: -1;}#sk-container-id-6 div.sk-parallel-item {display: flex;flex-direction: column;z-index: 1;position: relative;background-color: white;}#sk-container-id-6 div.sk-parallel-item:first-child::after {align-self: flex-end;width: 50%;}#sk-container-id-6 div.sk-parallel-item:last-child::after {align-self: flex-start;width: 50%;}#sk-container-id-6 div.sk-parallel-item:only-child::after {width: 0;}#sk-container-id-6 div.sk-dashed-wrapped {border: 1px dashed gray;margin: 0 0.4em 0.5em 0.4em;box-sizing: border-box;padding-bottom: 0.4em;background-color: white;}#sk-container-id-6 div.sk-label label {font-family: monospace;font-weight: bold;display: inline-block;line-height: 1.2em;}#sk-container-id-6 div.sk-label-container {text-align: center;}#sk-container-id-6 div.sk-container {/* jupyter's `normalize.less` sets `[hidden] { display: none; }` but bootstrap.min.css set `[hidden] { display: none !important; }` so we also need the `!important` here to be able to override the default hidden behavior on the sphinx rendered scikit-learn.org. See: https://github.com/scikit-learn/scikit-learn/issues/21755 */display: inline-block !important;position: relative;}#sk-container-id-6 div.sk-text-repr-fallback {display: none;}</style><div id=\"sk-container-id-6\" class=\"sk-top-container\"><div class=\"sk-text-repr-fallback\"><pre>DecisionTreeClassifier(max_depth=3, random_state=42)</pre><b>In a Jupyter environment, please rerun this cell to show the HTML representation or trust the notebook. <br />On GitHub, the HTML representation is unable to render, please try loading this page with nbviewer.org.</b></div><div class=\"sk-container\" hidden><div class=\"sk-item\"><div class=\"sk-estimator sk-toggleable\"><input class=\"sk-toggleable__control sk-hidden--visually\" id=\"sk-estimator-id-6\" type=\"checkbox\" checked><label for=\"sk-estimator-id-6\" class=\"sk-toggleable__label sk-toggleable__label-arrow\">DecisionTreeClassifier</label><div class=\"sk-toggleable__content\"><pre>DecisionTreeClassifier(max_depth=3, random_state=42)</pre></div></div></div></div></div>"
      ]
     },
     "execution_count": 27,
     "metadata": {},
     "output_type": "execute_result"
    }
   ],
   "execution_count": 27
  },
  {
   "metadata": {
    "ExecuteTime": {
     "end_time": "2025-08-06T13:37:31.464260Z",
     "start_time": "2025-08-06T13:37:31.448623Z"
    }
   },
   "cell_type": "code",
   "source": [
    "# 可视化决策树，用export_graphviz() 函数输出一个图形定义文件\n",
    "from sklearn.tree import export_graphviz\n",
    "\n",
    "export_graphviz(tree_clf,\n",
    "                out_file=\"./images/decision_tree/iris_tree.dot\",\n",
    "                feature_names=[\"petal length (cm)\", \"petal width (cm)\"],\n",
    "                class_names=iris.target_names,\n",
    "                rounded=True,\n",
    "                filled=True)\n"
   ],
   "id": "a91fce4a79816be8",
   "outputs": [],
   "execution_count": 28
  },
  {
   "metadata": {
    "ExecuteTime": {
     "end_time": "2025-08-06T13:37:32.823534Z",
     "start_time": "2025-08-06T13:37:32.490742Z"
    }
   },
   "cell_type": "code",
   "source": [
    "# 使用graphviz.Source.from_file() 加载并显示该文件\n",
    "from graphviz import Source\n",
    "\n",
    "Source.from_file(\"./images/decision_tree/iris_tree.dot\")"
   ],
   "id": "31c6ccfb16468e34",
   "outputs": [
    {
     "data": {
      "image/svg+xml": "<?xml version=\"1.0\" encoding=\"UTF-8\" standalone=\"no\"?>\n<!DOCTYPE svg PUBLIC \"-//W3C//DTD SVG 1.1//EN\"\n \"http://www.w3.org/Graphics/SVG/1.1/DTD/svg11.dtd\">\n<!-- Generated by graphviz version 13.1.0 (0)\n -->\n<!-- Title: Tree Pages: 1 -->\n<svg width=\"550pt\" height=\"447pt\"\n viewBox=\"0.00 0.00 550.00 447.00\" xmlns=\"http://www.w3.org/2000/svg\" xmlns:xlink=\"http://www.w3.org/1999/xlink\">\n<g id=\"graph0\" class=\"graph\" transform=\"scale(1 1) rotate(0) translate(4 443.25)\">\n<title>Tree</title>\n<polygon fill=\"white\" stroke=\"none\" points=\"-4,4 -4,-443.25 546.38,-443.25 546.38,4 -4,4\"/>\n<!-- 0 -->\n<g id=\"node1\" class=\"node\">\n<title>0</title>\n<path fill=\"#ffffff\" stroke=\"black\" d=\"M265.88,-439.25C265.88,-439.25 122.38,-439.25 122.38,-439.25 116.38,-439.25 110.38,-433.25 110.38,-427.25 110.38,-427.25 110.38,-364.5 110.38,-364.5 110.38,-358.5 116.38,-352.5 122.38,-352.5 122.38,-352.5 265.88,-352.5 265.88,-352.5 271.88,-352.5 277.88,-358.5 277.88,-364.5 277.88,-364.5 277.88,-427.25 277.88,-427.25 277.88,-433.25 271.88,-439.25 265.88,-439.25\"/>\n<text xml:space=\"preserve\" text-anchor=\"middle\" x=\"194.12\" y=\"-421.95\" font-family=\"Helvetica,sans-Serif\" font-size=\"14.00\">petal length (cm) &lt;= 2.45</text>\n<text xml:space=\"preserve\" text-anchor=\"middle\" x=\"194.12\" y=\"-406.2\" font-family=\"Helvetica,sans-Serif\" font-size=\"14.00\">gini = 0.667</text>\n<text xml:space=\"preserve\" text-anchor=\"middle\" x=\"194.12\" y=\"-390.45\" font-family=\"Helvetica,sans-Serif\" font-size=\"14.00\">samples = 150</text>\n<text xml:space=\"preserve\" text-anchor=\"middle\" x=\"194.12\" y=\"-374.7\" font-family=\"Helvetica,sans-Serif\" font-size=\"14.00\">value = [50, 50, 50]</text>\n<text xml:space=\"preserve\" text-anchor=\"middle\" x=\"194.12\" y=\"-358.95\" font-family=\"Helvetica,sans-Serif\" font-size=\"14.00\">class = setosa</text>\n</g>\n<!-- 1 -->\n<g id=\"node2\" class=\"node\">\n<title>1</title>\n<path fill=\"#e58139\" stroke=\"black\" d=\"M162.38,-308.62C162.38,-308.62 69.88,-308.62 69.88,-308.62 63.88,-308.62 57.88,-302.62 57.88,-296.62 57.88,-296.62 57.88,-249.62 57.88,-249.62 57.88,-243.62 63.88,-237.62 69.88,-237.62 69.88,-237.62 162.38,-237.62 162.38,-237.62 168.38,-237.62 174.38,-243.62 174.38,-249.62 174.38,-249.62 174.38,-296.62 174.38,-296.62 174.38,-302.62 168.38,-308.62 162.38,-308.62\"/>\n<text xml:space=\"preserve\" text-anchor=\"middle\" x=\"116.12\" y=\"-291.32\" font-family=\"Helvetica,sans-Serif\" font-size=\"14.00\">gini = 0.0</text>\n<text xml:space=\"preserve\" text-anchor=\"middle\" x=\"116.12\" y=\"-275.57\" font-family=\"Helvetica,sans-Serif\" font-size=\"14.00\">samples = 50</text>\n<text xml:space=\"preserve\" text-anchor=\"middle\" x=\"116.12\" y=\"-259.82\" font-family=\"Helvetica,sans-Serif\" font-size=\"14.00\">value = [50, 0, 0]</text>\n<text xml:space=\"preserve\" text-anchor=\"middle\" x=\"116.12\" y=\"-244.07\" font-family=\"Helvetica,sans-Serif\" font-size=\"14.00\">class = setosa</text>\n</g>\n<!-- 0&#45;&gt;1 -->\n<g id=\"edge1\" class=\"edge\">\n<title>0&#45;&gt;1</title>\n<path fill=\"none\" stroke=\"black\" d=\"M166.63,-352.3C159.5,-341.27 151.82,-329.38 144.64,-318.27\"/>\n<polygon fill=\"black\" stroke=\"black\" points=\"147.68,-316.53 139.32,-310.02 141.8,-320.32 147.68,-316.53\"/>\n<text xml:space=\"preserve\" text-anchor=\"middle\" x=\"133.24\" y=\"-327.77\" font-family=\"Helvetica,sans-Serif\" font-size=\"14.00\">True</text>\n</g>\n<!-- 2 -->\n<g id=\"node3\" class=\"node\">\n<title>2</title>\n<path fill=\"#ffffff\" stroke=\"black\" d=\"M342.25,-316.5C342.25,-316.5 204,-316.5 204,-316.5 198,-316.5 192,-310.5 192,-304.5 192,-304.5 192,-241.75 192,-241.75 192,-235.75 198,-229.75 204,-229.75 204,-229.75 342.25,-229.75 342.25,-229.75 348.25,-229.75 354.25,-235.75 354.25,-241.75 354.25,-241.75 354.25,-304.5 354.25,-304.5 354.25,-310.5 348.25,-316.5 342.25,-316.5\"/>\n<text xml:space=\"preserve\" text-anchor=\"middle\" x=\"273.12\" y=\"-299.2\" font-family=\"Helvetica,sans-Serif\" font-size=\"14.00\">petal width (cm) &lt;= 1.75</text>\n<text xml:space=\"preserve\" text-anchor=\"middle\" x=\"273.12\" y=\"-283.45\" font-family=\"Helvetica,sans-Serif\" font-size=\"14.00\">gini = 0.5</text>\n<text xml:space=\"preserve\" text-anchor=\"middle\" x=\"273.12\" y=\"-267.7\" font-family=\"Helvetica,sans-Serif\" font-size=\"14.00\">samples = 100</text>\n<text xml:space=\"preserve\" text-anchor=\"middle\" x=\"273.12\" y=\"-251.95\" font-family=\"Helvetica,sans-Serif\" font-size=\"14.00\">value = [0, 50, 50]</text>\n<text xml:space=\"preserve\" text-anchor=\"middle\" x=\"273.12\" y=\"-236.2\" font-family=\"Helvetica,sans-Serif\" font-size=\"14.00\">class = versicolor</text>\n</g>\n<!-- 0&#45;&gt;2 -->\n<g id=\"edge2\" class=\"edge\">\n<title>0&#45;&gt;2</title>\n<path fill=\"none\" stroke=\"black\" d=\"M221.98,-352.3C227.52,-343.83 233.41,-334.84 239.13,-326.08\"/>\n<polygon fill=\"black\" stroke=\"black\" points=\"241.88,-328.27 244.43,-317.99 236.03,-324.44 241.88,-328.27\"/>\n<text xml:space=\"preserve\" text-anchor=\"middle\" x=\"250.37\" y=\"-335.77\" font-family=\"Helvetica,sans-Serif\" font-size=\"14.00\">False</text>\n</g>\n<!-- 3 -->\n<g id=\"node4\" class=\"node\">\n<title>3</title>\n<path fill=\"#4de88e\" stroke=\"black\" d=\"M251.88,-193.75C251.88,-193.75 108.38,-193.75 108.38,-193.75 102.38,-193.75 96.38,-187.75 96.38,-181.75 96.38,-181.75 96.38,-119 96.38,-119 96.38,-113 102.38,-107 108.38,-107 108.38,-107 251.88,-107 251.88,-107 257.88,-107 263.88,-113 263.88,-119 263.88,-119 263.88,-181.75 263.88,-181.75 263.88,-187.75 257.88,-193.75 251.88,-193.75\"/>\n<text xml:space=\"preserve\" text-anchor=\"middle\" x=\"180.12\" y=\"-176.45\" font-family=\"Helvetica,sans-Serif\" font-size=\"14.00\">petal length (cm) &lt;= 4.95</text>\n<text xml:space=\"preserve\" text-anchor=\"middle\" x=\"180.12\" y=\"-160.7\" font-family=\"Helvetica,sans-Serif\" font-size=\"14.00\">gini = 0.168</text>\n<text xml:space=\"preserve\" text-anchor=\"middle\" x=\"180.12\" y=\"-144.95\" font-family=\"Helvetica,sans-Serif\" font-size=\"14.00\">samples = 54</text>\n<text xml:space=\"preserve\" text-anchor=\"middle\" x=\"180.12\" y=\"-129.2\" font-family=\"Helvetica,sans-Serif\" font-size=\"14.00\">value = [0, 49, 5]</text>\n<text xml:space=\"preserve\" text-anchor=\"middle\" x=\"180.12\" y=\"-113.45\" font-family=\"Helvetica,sans-Serif\" font-size=\"14.00\">class = versicolor</text>\n</g>\n<!-- 2&#45;&gt;3 -->\n<g id=\"edge3\" class=\"edge\">\n<title>2&#45;&gt;3</title>\n<path fill=\"none\" stroke=\"black\" d=\"M240.34,-229.55C233.74,-220.99 226.74,-211.89 219.93,-203.06\"/>\n<polygon fill=\"black\" stroke=\"black\" points=\"222.73,-200.96 213.85,-195.17 217.18,-205.23 222.73,-200.96\"/>\n</g>\n<!-- 6 -->\n<g id=\"node7\" class=\"node\">\n<title>6</title>\n<path fill=\"#843de6\" stroke=\"black\" d=\"M437.88,-193.75C437.88,-193.75 294.38,-193.75 294.38,-193.75 288.38,-193.75 282.38,-187.75 282.38,-181.75 282.38,-181.75 282.38,-119 282.38,-119 282.38,-113 288.38,-107 294.38,-107 294.38,-107 437.88,-107 437.88,-107 443.88,-107 449.88,-113 449.88,-119 449.88,-119 449.88,-181.75 449.88,-181.75 449.88,-187.75 443.88,-193.75 437.88,-193.75\"/>\n<text xml:space=\"preserve\" text-anchor=\"middle\" x=\"366.12\" y=\"-176.45\" font-family=\"Helvetica,sans-Serif\" font-size=\"14.00\">petal length (cm) &lt;= 4.85</text>\n<text xml:space=\"preserve\" text-anchor=\"middle\" x=\"366.12\" y=\"-160.7\" font-family=\"Helvetica,sans-Serif\" font-size=\"14.00\">gini = 0.043</text>\n<text xml:space=\"preserve\" text-anchor=\"middle\" x=\"366.12\" y=\"-144.95\" font-family=\"Helvetica,sans-Serif\" font-size=\"14.00\">samples = 46</text>\n<text xml:space=\"preserve\" text-anchor=\"middle\" x=\"366.12\" y=\"-129.2\" font-family=\"Helvetica,sans-Serif\" font-size=\"14.00\">value = [0, 1, 45]</text>\n<text xml:space=\"preserve\" text-anchor=\"middle\" x=\"366.12\" y=\"-113.45\" font-family=\"Helvetica,sans-Serif\" font-size=\"14.00\">class = virginica</text>\n</g>\n<!-- 2&#45;&gt;6 -->\n<g id=\"edge6\" class=\"edge\">\n<title>2&#45;&gt;6</title>\n<path fill=\"none\" stroke=\"black\" d=\"M305.91,-229.55C312.51,-220.99 319.51,-211.89 326.32,-203.06\"/>\n<polygon fill=\"black\" stroke=\"black\" points=\"329.07,-205.23 332.4,-195.17 323.52,-200.96 329.07,-205.23\"/>\n</g>\n<!-- 4 -->\n<g id=\"node5\" class=\"node\">\n<title>4</title>\n<path fill=\"#3de684\" stroke=\"black\" d=\"M108.25,-71C108.25,-71 12,-71 12,-71 6,-71 0,-65 0,-59 0,-59 0,-12 0,-12 0,-6 6,0 12,0 12,0 108.25,0 108.25,0 114.25,0 120.25,-6 120.25,-12 120.25,-12 120.25,-59 120.25,-59 120.25,-65 114.25,-71 108.25,-71\"/>\n<text xml:space=\"preserve\" text-anchor=\"middle\" x=\"60.12\" y=\"-53.7\" font-family=\"Helvetica,sans-Serif\" font-size=\"14.00\">gini = 0.041</text>\n<text xml:space=\"preserve\" text-anchor=\"middle\" x=\"60.12\" y=\"-37.95\" font-family=\"Helvetica,sans-Serif\" font-size=\"14.00\">samples = 48</text>\n<text xml:space=\"preserve\" text-anchor=\"middle\" x=\"60.12\" y=\"-22.2\" font-family=\"Helvetica,sans-Serif\" font-size=\"14.00\">value = [0, 47, 1]</text>\n<text xml:space=\"preserve\" text-anchor=\"middle\" x=\"60.12\" y=\"-6.45\" font-family=\"Helvetica,sans-Serif\" font-size=\"14.00\">class = versicolor</text>\n</g>\n<!-- 3&#45;&gt;4 -->\n<g id=\"edge4\" class=\"edge\">\n<title>3&#45;&gt;4</title>\n<path fill=\"none\" stroke=\"black\" d=\"M134.76,-106.7C125.11,-97.62 114.92,-88.04 105.28,-78.97\"/>\n<polygon fill=\"black\" stroke=\"black\" points=\"107.75,-76.5 98.07,-72.19 102.96,-81.6 107.75,-76.5\"/>\n</g>\n<!-- 5 -->\n<g id=\"node6\" class=\"node\">\n<title>5</title>\n<path fill=\"#c09cf2\" stroke=\"black\" d=\"M238.12,-71C238.12,-71 150.12,-71 150.12,-71 144.12,-71 138.12,-65 138.12,-59 138.12,-59 138.12,-12 138.12,-12 138.12,-6 144.12,0 150.12,0 150.12,0 238.12,0 238.12,0 244.12,0 250.12,-6 250.12,-12 250.12,-12 250.12,-59 250.12,-59 250.12,-65 244.12,-71 238.12,-71\"/>\n<text xml:space=\"preserve\" text-anchor=\"middle\" x=\"194.12\" y=\"-53.7\" font-family=\"Helvetica,sans-Serif\" font-size=\"14.00\">gini = 0.444</text>\n<text xml:space=\"preserve\" text-anchor=\"middle\" x=\"194.12\" y=\"-37.95\" font-family=\"Helvetica,sans-Serif\" font-size=\"14.00\">samples = 6</text>\n<text xml:space=\"preserve\" text-anchor=\"middle\" x=\"194.12\" y=\"-22.2\" font-family=\"Helvetica,sans-Serif\" font-size=\"14.00\">value = [0, 2, 4]</text>\n<text xml:space=\"preserve\" text-anchor=\"middle\" x=\"194.12\" y=\"-6.45\" font-family=\"Helvetica,sans-Serif\" font-size=\"14.00\">class = virginica</text>\n</g>\n<!-- 3&#45;&gt;5 -->\n<g id=\"edge5\" class=\"edge\">\n<title>3&#45;&gt;5</title>\n<path fill=\"none\" stroke=\"black\" d=\"M185.42,-106.7C186.4,-98.82 187.42,-90.55 188.41,-82.57\"/>\n<polygon fill=\"black\" stroke=\"black\" points=\"191.88,-83.01 189.64,-72.66 184.94,-82.15 191.88,-83.01\"/>\n</g>\n<!-- 7 -->\n<g id=\"node8\" class=\"node\">\n<title>7</title>\n<path fill=\"#c09cf2\" stroke=\"black\" d=\"M396.12,-71C396.12,-71 308.12,-71 308.12,-71 302.12,-71 296.12,-65 296.12,-59 296.12,-59 296.12,-12 296.12,-12 296.12,-6 302.12,0 308.12,0 308.12,0 396.12,0 396.12,0 402.12,0 408.12,-6 408.12,-12 408.12,-12 408.12,-59 408.12,-59 408.12,-65 402.12,-71 396.12,-71\"/>\n<text xml:space=\"preserve\" text-anchor=\"middle\" x=\"352.12\" y=\"-53.7\" font-family=\"Helvetica,sans-Serif\" font-size=\"14.00\">gini = 0.444</text>\n<text xml:space=\"preserve\" text-anchor=\"middle\" x=\"352.12\" y=\"-37.95\" font-family=\"Helvetica,sans-Serif\" font-size=\"14.00\">samples = 3</text>\n<text xml:space=\"preserve\" text-anchor=\"middle\" x=\"352.12\" y=\"-22.2\" font-family=\"Helvetica,sans-Serif\" font-size=\"14.00\">value = [0, 1, 2]</text>\n<text xml:space=\"preserve\" text-anchor=\"middle\" x=\"352.12\" y=\"-6.45\" font-family=\"Helvetica,sans-Serif\" font-size=\"14.00\">class = virginica</text>\n</g>\n<!-- 6&#45;&gt;7 -->\n<g id=\"edge7\" class=\"edge\">\n<title>6&#45;&gt;7</title>\n<path fill=\"none\" stroke=\"black\" d=\"M360.83,-106.7C359.85,-98.82 358.83,-90.55 357.84,-82.57\"/>\n<polygon fill=\"black\" stroke=\"black\" points=\"361.31,-82.15 356.61,-72.66 354.37,-83.01 361.31,-82.15\"/>\n</g>\n<!-- 8 -->\n<g id=\"node9\" class=\"node\">\n<title>8</title>\n<path fill=\"#8139e5\" stroke=\"black\" d=\"M530.38,-71C530.38,-71 437.88,-71 437.88,-71 431.88,-71 425.88,-65 425.88,-59 425.88,-59 425.88,-12 425.88,-12 425.88,-6 431.88,0 437.88,0 437.88,0 530.38,0 530.38,0 536.38,0 542.38,-6 542.38,-12 542.38,-12 542.38,-59 542.38,-59 542.38,-65 536.38,-71 530.38,-71\"/>\n<text xml:space=\"preserve\" text-anchor=\"middle\" x=\"484.12\" y=\"-53.7\" font-family=\"Helvetica,sans-Serif\" font-size=\"14.00\">gini = 0.0</text>\n<text xml:space=\"preserve\" text-anchor=\"middle\" x=\"484.12\" y=\"-37.95\" font-family=\"Helvetica,sans-Serif\" font-size=\"14.00\">samples = 43</text>\n<text xml:space=\"preserve\" text-anchor=\"middle\" x=\"484.12\" y=\"-22.2\" font-family=\"Helvetica,sans-Serif\" font-size=\"14.00\">value = [0, 0, 43]</text>\n<text xml:space=\"preserve\" text-anchor=\"middle\" x=\"484.12\" y=\"-6.45\" font-family=\"Helvetica,sans-Serif\" font-size=\"14.00\">class = virginica</text>\n</g>\n<!-- 6&#45;&gt;8 -->\n<g id=\"edge8\" class=\"edge\">\n<title>6&#45;&gt;8</title>\n<path fill=\"none\" stroke=\"black\" d=\"M410.74,-106.7C420.23,-97.62 430.24,-88.04 439.73,-78.97\"/>\n<polygon fill=\"black\" stroke=\"black\" points=\"441.99,-81.65 446.8,-72.2 437.15,-76.59 441.99,-81.65\"/>\n</g>\n</g>\n</svg>\n",
      "text/plain": [
       "<graphviz.sources.Source at 0x19dcf3811b0>"
      ]
     },
     "execution_count": 29,
     "metadata": {},
     "output_type": "execute_result"
    }
   ],
   "execution_count": 29
  },
  {
   "metadata": {},
   "cell_type": "markdown",
   "source": [
    "找到一朵鸢尾花，并希望根据它的花瓣对其进行分类。你从根节点开始（深度0，顶部）​：该节点询问花的花瓣长度是否小于等于2.45cm。如果是，则向下移动到根的左子节点（深度1，左）。在这种情况下，它是一个叶节点（即它没有任何子节点），因此它不会提出任何问题：只需查看该节点的预测类，然后决策树就可以预测你的花朵是Setosa鸢尾花(class=setosa)。\n",
    "\n",
    "假设找到另一朵花，这次花瓣的长度大于2.45 cm。再次从根开始，但现在向下移动到它的右子节点（深度1，右）。这不是叶节点，是拆分节点，所以又问了一个问题：花瓣宽度是否小于等于1.75cm？如果是，那么花很可能是Versicolor鸢尾花（深度2，左）。如果不是，则可能是Virginica鸢尾花（深度2，右)\n",
    "\n",
    "决策树的特质之一就是它们几乎不需要数据准备。实际上，它们根本不需要特征缩放或居中。"
   ],
   "id": "118a3c0f223eadf9"
  },
  {
   "metadata": {},
   "cell_type": "markdown",
   "source": [
    "b节点的samples属性统计它应用的训练实例数量。例如，有100个训练实例的花瓣长度大于2.45cm（深度1，右），其中54个花瓣宽度小于1.75cm（深度2，左）。\n",
    "\n",
    "节点的value属性说明了该节点上每个类的训练实例数量：例如，右下节点应用在0个Setosa鸢尾花、1个Versicolor鸢尾花和45个Virginica鸢尾花实例上。\n",
    "\n",
    "最后，节点的gini属性衡量其基尼杂质：如果应用的所有训练实例都属于同一个类，那么节点就是“纯”的(gini=0)。例如，深度1左侧节点仅应用于Setosa鸢尾花训练实例，因此它是纯的并且其基尼杂质为0。以下公式说明了第i个节点的基尼杂质Gi的计算方式。例如，深度2左侧节点，基尼杂质等于\n",
    "1-(0/54)^2-(49/54)^2-(5/54)^2≈0.168。\n",
    "\n",
    "$$\n",
    "G_i = 1 - \\sum_{k=1}^{n} p_{i,k}^2\n",
    "$$\n",
    "\n",
    "在此公式中：\n",
    "\n",
    "- $ G_i $ 是第 i 个节点的基尼杂质。\n",
    "- $ p_{i,k} $ 是第  i  个节点中训练实例之间的第 k 类实例的比率。\n",
    "\n"
   ],
   "id": "b6d42df49f204781"
  },
  {
   "metadata": {},
   "cell_type": "markdown",
   "source": [
    "决策树的决策边界。加粗垂直实线表示根节点（深度0）的决策边界：花瓣长度=2.45cm。因为左侧区域是纯的（只有Setosa鸢尾花），所以它不可再分。\n",
    "\n",
    "但是右侧区域是不纯的，所以深度1右侧的节点在花瓣宽度=1.75cm处（虚线所示）再次分裂。\n",
    "\n",
    "因为这里最大深度max_depth设置为2，所以决策树在此停止。但是如果将max_depth设置为3，那么两个深度为2的节点将各自再产生一条决策边界\n",
    "\n",
    "![决策树的决策边界](./images/decision_tree/p1.png)"
   ],
   "id": "9ca54ead1f90ddab"
  },
  {
   "metadata": {},
   "cell_type": "markdown",
   "source": [
    "### 估计类概率\n",
    "决策树同样可以估算某个实例属于特定类k的概率：首先，跟随决策树找到该实例的叶节点，然后返回该节点中类k的训练实例占比。\n",
    "\n",
    "例如，假设发现一朵花，其花瓣长5cm，宽1.5cm。相应的叶节点为深度2左侧节点，因此决策树输出如下概率：Setosa鸢尾花，0%(0/54)；Versicolor鸢尾花，90.7%(49/54)；Virginica鸢尾花，9.3%(5/54)。\n",
    "\n",
    "要求它预测类，那么它会输出Versicolor鸢尾花（类1），因为它的概率最大"
   ],
   "id": "75a8030d21e54f16"
  },
  {
   "metadata": {
    "ExecuteTime": {
     "end_time": "2025-08-06T13:36:10.075998Z",
     "start_time": "2025-08-06T13:36:10.060381Z"
    }
   },
   "cell_type": "code",
   "source": [
    "tree_clf.predict_proba([[5,1.5]]).round(3)\n",
    "\n",
    "tree_clf.predict([[5, 1.5]])"
   ],
   "id": "c769ea69cdaa328e",
   "outputs": [
    {
     "data": {
      "text/plain": [
       "array([1])"
      ]
     },
     "execution_count": 25,
     "metadata": {},
     "output_type": "execute_result"
    }
   ],
   "execution_count": 25
  },
  {
   "metadata": {
    "ExecuteTime": {
     "end_time": "2025-08-06T13:36:55.601201Z",
     "start_time": "2025-08-06T13:36:55.585532Z"
    }
   },
   "cell_type": "code",
   "source": [
    "tree_clf_deeper = DecisionTreeClassifier(max_depth=3, random_state=42)\n",
    "tree_clf_deeper.fit(X_iris, y_iris)\n",
    "tree_clf_deeper.predict_proba([[6,1.5]]).round(3)"
   ],
   "id": "c88c4663dbc2bb32",
   "outputs": [
    {
     "data": {
      "text/plain": [
       "array([[0.   , 0.333, 0.667]])"
      ]
     },
     "execution_count": 26,
     "metadata": {},
     "output_type": "execute_result"
    }
   ],
   "execution_count": 26
  },
  {
   "metadata": {},
   "cell_type": "markdown",
   "source": [
    "### CART训练算法\n",
    "Scikit-Learn使用分类和回归树(Classification and Regression Tree，CART)算法来训练决策树（也称为“增长树”）。\n",
    "\n",
    "该算法的工作原理是，首先使用单个特征k和阈值tk（例如，“花瓣长度≤2.45cm”）将训练集分为两个子集。\n",
    "\n",
    "如何选择k和tk？它搜索产生最纯子集的一对(k，tk)，按其大小加权。以下公式给出了算法试图最小化的代价函数。\n",
    "\n",
    "$$\n",
    "J(k, t_k) = \\frac{m_{\\text{左}}}{m} G_{\\text{左}} + \\frac{m_{\\text{右}}}{m} G_{\\text{右}}\n",
    "$$\n",
    "\n",
    "其中：\n",
    "\n",
    "- $ G_{\\text{左/右}} $：测量左/右子集的不纯度, 可以用基尼指数衡量\n",
    "- $ m_{\\text{左/右}} $：测量左/右子集的实例数\n",
    "\n",
    "一旦CART算法成功地将训练集分为两部分，它就会使用相同的逻辑将子集进行拆分，然后再拆分子子集，以此类推。一旦达到最大深度（由max_depth超参数定义），或者找不到可减少不纯度的分割，它将停止递归。其他一些超参数可以控制其他一些停止条件：min_samples_split、min_samples_leaf、min_weight_fraction_leaf和max_leaf_nodes。"
   ],
   "id": "4b9b992cbbc65d4d"
  },
  {
   "metadata": {},
   "cell_type": "markdown",
   "source": [
    "bCART是一种贪心算法：从顶层开始搜索最优拆分，然后每层重复这个过程。几层拆分之后，它并不会检视这个拆分的不纯度是否为可能的最小值。贪心算法通常会产生一个相当不错的解，但是不能保证是最优解。\n",
    "\n",
    "寻找全局最优的树需要访问所有的可能性，需要O(exp(m))时间，即使小训练集也需要花费很多时间，所以训练决策树满足于“不错”的解决方案。"
   ],
   "id": "d5c28b1aafdb9697"
  },
  {
   "metadata": {},
   "cell_type": "markdown",
   "source": [
    "### 计算复杂度\n",
    "进行预测需要从根到叶遍历决策树。决策树通常是近似平衡的，因此遍历决策树需要经过大约 O($ log_2(m)$)  个节点，其中 $ log_2(m) $ 是 m 的二进制对数，等于 log(m)/log(2)。由于每个节点仅需检查一个特征值，因此总体预测复杂度为 O($log_2(m)$)，与特征数量无关。因此，即使处理大训练集，预测也非常快。\n",
    "\n",
    "训练算法比较每个节点上所有样本上的所有特征值（如果设置了 `max_features`，则更少）。比较每个节点上所有样本的所有特征会导致训练复杂度为 $ O(n \\times m \\log_2(m)) $。\n"
   ],
   "id": "c94dcf206fff447d"
  },
  {
   "metadata": {},
   "cell_type": "markdown",
   "source": [
    "### 基尼杂质或熵\n",
    "\n",
    "默认情况下，DecisionTreeClassifier类使用基尼杂质来度量，但是，可以将超参数criterion设置为\"entropy\"来选择信息熵作为杂质的测量方式。\n",
    "\n",
    "熵是衡量一个节点中数据混杂程度的指标。如果一个节点中的样本全部属于同一类，那么熵为 0，表示纯度最高；如果样本被多个类均匀分布，则熵较高，表示更混杂。\n",
    "\n",
    "例如，某个节点中共有 54 个样本，其中 49 个是正类，5 个是负类，则该节点的熵为：\n",
    "\n",
    "$$\n",
    "H_i = -\\frac{49}{54} \\log_2\\left(\\frac{49}{54}\\right) - \\frac{5}{54} \\log_2\\left(\\frac{5}{54}\\right) \\approx 0.445\n",
    "$$\n",
    "\n",
    "这个值表示该节点的样本并不是完全纯净的，存在一定的混杂程度。\n",
    "\n",
    "\n",
    "熵越大，表示一个节点中的样本分布越均匀、越混杂。比如下面两个节点的对比：\n",
    "\n",
    "- **节点 A** 中有 50 个样本，其中 49 个是正类、1 个是负类：\n",
    "\n",
    "  $$\n",
    "  H_A = -\\frac{49}{50} \\log_2\\left(\\frac{49}{50}\\right) - \\frac{1}{50} \\log_2\\left(\\frac{1}{50}\\right) \\approx 0.081\n",
    "  $$\n",
    "\n",
    "  熵很小，说明这个节点很“纯”。\n",
    "\n",
    "- **节点 B** 中有 50 个样本，25 个是正类，25 个是负类：\n",
    "\n",
    "  $$\n",
    "  H_B = -\\frac{25}{50} \\log_2\\left(\\frac{25}{50}\\right) - \\frac{25}{50} \\log_2\\left(\\frac{25}{50}\\right) = -0.5 \\log_2(0.5) - 0.5 \\log_2(0.5) = 1\n",
    "  $$\n",
    "\n",
    "  熵为 1，是两类最均匀的情况，表示完全混乱。\n",
    "\n",
    "因此，在决策树中我们更倾向于选择那些**可以把数据划分为低熵子集的特征**，以提升纯度。\n",
    "\n",
    "公式：\n",
    "$$\n",
    "H_i = -\\sum_{\\substack{k=1 \\\\ p_{i,k} \\ne 0}}^{n} p_{i,k} \\log_2(p_{i,k})\n",
    "$$\n",
    "\n"
   ],
   "id": "20b815b12a22bab6"
  },
  {
   "metadata": {},
   "cell_type": "markdown",
   "source": "那么应该使用基尼杂质还是信息熵呢？其实，大多数情况下，它们并没有什么大的不同，产生的树都很相似。基尼杂质的计算速度略微快一些，所以它是个不错的默认选择。它们的不同在于，基尼杂质倾向于从树枝中分裂出最常见的类，而信息熵则倾向于生成更平衡的树",
   "id": "14f148ed6bc95d1c"
  },
  {
   "metadata": {},
   "cell_type": "markdown",
   "source": [
    "### 正则化超参数\n",
    "\n",
    "决策树极少对训练数据做出假设（比如线性模型就正好相反，它显然假设数据是线性的）。如果不加以限制，树的结构将跟随训练集变化，严密拟合，并且很可能过拟合。\n",
    "\n",
    "这种模型通常被称为非参数模型，这不是说它不包含任何参数（事实上它通常有很多参数），而是指在训练之前没有确定参数的数量，导致模型结构自由而紧密地贴近数据。\n",
    "\n",
    "相应的参数模型，比如线性模型，则有预先设定好的一部分参数，因此其自由度受限，从而降低了过拟合的风险（但是增加了欠拟合的风险）。\n",
    "\n",
    "为避免过拟合，需要在训练过程中降低决策树的自由度（正则化）。正则化超参数的选择取决于你所使用的模型，但是通常来说，至少可以限制决策树的最大深度。在Scikit-Learn中，这由超参数max_depth控制，默认值为None，意味着无限制。减小max_depth可使模型正则化，从而降低过拟合的风险。"
   ],
   "id": "f9606aaed849048"
  },
  {
   "metadata": {},
   "cell_type": "markdown",
   "source": [
    "DecisionTreeClassifier类有一些其他参数类似地限制决策树的形状：\n",
    "\n",
    "- max_features: 为在每个节点处进行拆分而评估的最大特征数\n",
    "- max_leaf_nodes: 最大叶节点数\n",
    "- min_samples_split: 一个节点在拆分之前必须拥有的最小样本数\n",
    "- min_samples_leaf: 必须创建叶节点的最小样本数\n",
    "- min_weight_fraction_leaf: 与min_samples_leaf相同效果，但表示为加权实例总数的一小部分 （这个参数主要用于加权决策树，也就是说，每个样本不仅仅是“1票”，而是可能有不同的权重（weight））\n",
    "\n",
    "增加min_*,或者减少max_*超参数将使模型正则化"
   ],
   "id": "e00b76ed9c9c3129"
  },
  {
   "metadata": {
    "ExecuteTime": {
     "end_time": "2025-08-06T14:39:41.721507Z",
     "start_time": "2025-08-06T14:39:41.674177Z"
    }
   },
   "cell_type": "code",
   "source": [
    "from sklearn.datasets import make_moons\n",
    "\n",
    "X_moons, y_moons = make_moons(n_samples=150, noise=0.2, random_state=42)\n",
    "\n",
    "tree_clf1 = DecisionTreeClassifier(random_state=42)\n",
    "tree_clf2 = DecisionTreeClassifier(min_samples_leaf=5, random_state=42)\n",
    "\n",
    "tree_clf1.fit(X_moons, y_moons)\n",
    "tree_clf2.fit(X_moons, y_moons)"
   ],
   "id": "f0e5a6cd31762dca",
   "outputs": [
    {
     "data": {
      "text/plain": [
       "DecisionTreeClassifier(min_samples_leaf=5, random_state=42)"
      ],
      "text/html": [
       "<style>#sk-container-id-7 {color: black;}#sk-container-id-7 pre{padding: 0;}#sk-container-id-7 div.sk-toggleable {background-color: white;}#sk-container-id-7 label.sk-toggleable__label {cursor: pointer;display: block;width: 100%;margin-bottom: 0;padding: 0.3em;box-sizing: border-box;text-align: center;}#sk-container-id-7 label.sk-toggleable__label-arrow:before {content: \"▸\";float: left;margin-right: 0.25em;color: #696969;}#sk-container-id-7 label.sk-toggleable__label-arrow:hover:before {color: black;}#sk-container-id-7 div.sk-estimator:hover label.sk-toggleable__label-arrow:before {color: black;}#sk-container-id-7 div.sk-toggleable__content {max-height: 0;max-width: 0;overflow: hidden;text-align: left;background-color: #f0f8ff;}#sk-container-id-7 div.sk-toggleable__content pre {margin: 0.2em;color: black;border-radius: 0.25em;background-color: #f0f8ff;}#sk-container-id-7 input.sk-toggleable__control:checked~div.sk-toggleable__content {max-height: 200px;max-width: 100%;overflow: auto;}#sk-container-id-7 input.sk-toggleable__control:checked~label.sk-toggleable__label-arrow:before {content: \"▾\";}#sk-container-id-7 div.sk-estimator input.sk-toggleable__control:checked~label.sk-toggleable__label {background-color: #d4ebff;}#sk-container-id-7 div.sk-label input.sk-toggleable__control:checked~label.sk-toggleable__label {background-color: #d4ebff;}#sk-container-id-7 input.sk-hidden--visually {border: 0;clip: rect(1px 1px 1px 1px);clip: rect(1px, 1px, 1px, 1px);height: 1px;margin: -1px;overflow: hidden;padding: 0;position: absolute;width: 1px;}#sk-container-id-7 div.sk-estimator {font-family: monospace;background-color: #f0f8ff;border: 1px dotted black;border-radius: 0.25em;box-sizing: border-box;margin-bottom: 0.5em;}#sk-container-id-7 div.sk-estimator:hover {background-color: #d4ebff;}#sk-container-id-7 div.sk-parallel-item::after {content: \"\";width: 100%;border-bottom: 1px solid gray;flex-grow: 1;}#sk-container-id-7 div.sk-label:hover label.sk-toggleable__label {background-color: #d4ebff;}#sk-container-id-7 div.sk-serial::before {content: \"\";position: absolute;border-left: 1px solid gray;box-sizing: border-box;top: 0;bottom: 0;left: 50%;z-index: 0;}#sk-container-id-7 div.sk-serial {display: flex;flex-direction: column;align-items: center;background-color: white;padding-right: 0.2em;padding-left: 0.2em;position: relative;}#sk-container-id-7 div.sk-item {position: relative;z-index: 1;}#sk-container-id-7 div.sk-parallel {display: flex;align-items: stretch;justify-content: center;background-color: white;position: relative;}#sk-container-id-7 div.sk-item::before, #sk-container-id-7 div.sk-parallel-item::before {content: \"\";position: absolute;border-left: 1px solid gray;box-sizing: border-box;top: 0;bottom: 0;left: 50%;z-index: -1;}#sk-container-id-7 div.sk-parallel-item {display: flex;flex-direction: column;z-index: 1;position: relative;background-color: white;}#sk-container-id-7 div.sk-parallel-item:first-child::after {align-self: flex-end;width: 50%;}#sk-container-id-7 div.sk-parallel-item:last-child::after {align-self: flex-start;width: 50%;}#sk-container-id-7 div.sk-parallel-item:only-child::after {width: 0;}#sk-container-id-7 div.sk-dashed-wrapped {border: 1px dashed gray;margin: 0 0.4em 0.5em 0.4em;box-sizing: border-box;padding-bottom: 0.4em;background-color: white;}#sk-container-id-7 div.sk-label label {font-family: monospace;font-weight: bold;display: inline-block;line-height: 1.2em;}#sk-container-id-7 div.sk-label-container {text-align: center;}#sk-container-id-7 div.sk-container {/* jupyter's `normalize.less` sets `[hidden] { display: none; }` but bootstrap.min.css set `[hidden] { display: none !important; }` so we also need the `!important` here to be able to override the default hidden behavior on the sphinx rendered scikit-learn.org. See: https://github.com/scikit-learn/scikit-learn/issues/21755 */display: inline-block !important;position: relative;}#sk-container-id-7 div.sk-text-repr-fallback {display: none;}</style><div id=\"sk-container-id-7\" class=\"sk-top-container\"><div class=\"sk-text-repr-fallback\"><pre>DecisionTreeClassifier(min_samples_leaf=5, random_state=42)</pre><b>In a Jupyter environment, please rerun this cell to show the HTML representation or trust the notebook. <br />On GitHub, the HTML representation is unable to render, please try loading this page with nbviewer.org.</b></div><div class=\"sk-container\" hidden><div class=\"sk-item\"><div class=\"sk-estimator sk-toggleable\"><input class=\"sk-toggleable__control sk-hidden--visually\" id=\"sk-estimator-id-7\" type=\"checkbox\" checked><label for=\"sk-estimator-id-7\" class=\"sk-toggleable__label sk-toggleable__label-arrow\">DecisionTreeClassifier</label><div class=\"sk-toggleable__content\"><pre>DecisionTreeClassifier(min_samples_leaf=5, random_state=42)</pre></div></div></div></div></div>"
      ]
     },
     "execution_count": 30,
     "metadata": {},
     "output_type": "execute_result"
    }
   ],
   "execution_count": 30
  },
  {
   "metadata": {
    "ExecuteTime": {
     "end_time": "2025-08-06T14:42:26.324006Z",
     "start_time": "2025-08-06T14:42:26.308372Z"
    }
   },
   "cell_type": "code",
   "source": [
    "# 非正则化的模型明显过拟合，正则化后的树泛化得更好\n",
    "X_moons_test, y_moons_test = make_moons(n_samples=1000, noise=0.2, random_state=43)\n",
    "tree_clf1.score(X_moons_test, y_moons_test)\n",
    "tree_clf2.score(X_moons_test, y_moons_test)"
   ],
   "id": "4008505b19ef1ac7",
   "outputs": [
    {
     "data": {
      "text/plain": [
       "0.92"
      ]
     },
     "execution_count": 33,
     "metadata": {},
     "output_type": "execute_result"
    }
   ],
   "execution_count": 33
  },
  {
   "metadata": {},
   "cell_type": "code",
   "outputs": [],
   "execution_count": null,
   "source": "",
   "id": "a75a0b1440cd0f59"
  }
 ],
 "metadata": {
  "kernelspec": {
   "display_name": "Python 3",
   "language": "python",
   "name": "python3"
  },
  "language_info": {
   "codemirror_mode": {
    "name": "ipython",
    "version": 2
   },
   "file_extension": ".py",
   "mimetype": "text/x-python",
   "name": "python",
   "nbconvert_exporter": "python",
   "pygments_lexer": "ipython2",
   "version": "2.7.6"
  }
 },
 "nbformat": 4,
 "nbformat_minor": 5
}
