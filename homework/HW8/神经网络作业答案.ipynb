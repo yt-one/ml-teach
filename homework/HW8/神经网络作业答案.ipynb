{
 "cells": [
  {
   "metadata": {},
   "cell_type": "markdown",
   "source": "## 第一部分",
   "id": "246736e93b7a1f06"
  },
  {
   "metadata": {},
   "cell_type": "markdown",
   "source": "### 简答题",
   "id": "25bb416d2c618bea"
  },
  {
   "metadata": {},
   "cell_type": "markdown",
   "source": [
    "1. 为什么激活函数是训练一个多层感知机（MLP）的关键要素\n",
    "\n",
    "**答：因为没有激活函数/线性激活函数的话，MLP组合再多层还是线性的。 TODO： 展示RELU组合可以拟合任意的函数；而且激活函数决定了导数（梯度），如果激活函数是阶跃函数，它导数一直是0，梯度下降无法更新它**\n",
    "\n",
    "2. 列举三种常用的激活函数，说明一下它们的大概形状\n",
    "\n",
    "**答：sigmoid，tanh，ReLU及其变体**\n",
    "\n",
    "3. 反向传播的算法解决什么问题，如何工作的\n",
    "\n",
    "**答：反向传播是一种用于训练人工神经网络的技术。它首先计算成本函数关于每个模型参数（所有权重和偏差）的梯度，然后使用这些梯度执行梯度下降步骤。这个反向传播步骤通常执行数千次或数百万次，使用许多训练批次，直到模型参数收敛到（希望）最小化成本函数的值。为了计算梯度，反向传播使用链式法则+缓存中间结果计算梯度，它先进行正向传播，计算当前训练批次的每个节点的值，然后执行反向传递，一次性计算所有梯度。**\n",
    "\n",
    "4. 列出可以在基本MLP（不考虑其他神经网络架构）中进行调整的所有超参数？如果MLP过拟合训练数据，如何调整这些超参数来解决该问题？\n",
    "\n",
    "**答：隐藏层的数量、每个隐藏层的神经元数量以及每个隐藏层和输出层使用的激活函数。通常，ReLU 激活函数（或其变体）是隐藏层的良好默认激活函数。对于输出层，通常需要使用 S 型激活函数进行二分类，使用 Softmax 激活函数进行多分类，或者不使用激活函数进行回归。如果 MLP 对训练数据过拟合，可以尝试减少隐藏层的数量并减少每个隐藏层的神经元数量。**\n",
    "\n",
    "5. 假设有一个MLP，该MLP由一个输入层，10个特征，随后是一个包含50个神经元的隐藏层，最后是3个神经元组成的输出层。所有人工神经元都使用ReLU激活函数。\n",
    "\n",
    "   a. 输入矩阵X的形状是什么\n",
    "\n",
    "   b. 隐藏层的权重W_hidden及其偏置b_hidden的形状分别是什么\n",
    "\n",
    "   c. 输出层的权重W_output及其偏置b_output的形状是什么\n",
    "\n",
    "   d. 网络输出矩阵Y的形状是什么\n",
    "\n",
    "   e. 写出输出矩阵Y的计算公式，满足Y是W_hidden, b_hidden, W_output, b_output的函数\n",
    "\n",
    "**答：输入矩阵 X 的形状为 m × 10，其中 m 表示训练批次大小。\n",
    "隐藏层权重矩阵 Wh 的形状为 10 × 50，其偏置向量 bh 的长度为 50。\n",
    "输出层权重矩阵 Wo 的形状为 50 × 3，其偏置向量 bo 的长度为 3。\n",
    "网络输出矩阵 Y 的形状为 m × 3。\n",
    "Y = ReLU(ReLU(X Wh + bh) Wo + bo)。回想一下，ReLU 函数只是将矩阵中的每个负数设置为零。另请注意，当向矩阵添加偏置向量时，它会被添加到矩阵的每一行，公式里也有广播。**\n",
    "\n",
    "6. 如果要将电子邮件分类为垃圾邮件或正常邮件，需要在输出层中有多少个神经元？应该在输出层中使用什么激活函数？相反，如果想解决MNIST图片分类问题，则在输出层中需要有多少个神经元，应该使用哪种激活函数？如何使神经网络预测 回归话题里提到的房价？\n",
    "\n",
    "**答：要将电子邮件分类为垃圾邮件或正常邮件，只需在神经网络的输出层中放置一个神经元即可——例如，指示该电子邮件为垃圾邮件的概率。估算概率时，通常会在输出层使用 S 型激活函数。但如果要处理 MNIST，则需要在输出层放置 10 个神经元，并且必须将 S 型函数替换为 Softmax 激活函数，后者可以处理多个类别，每个类别输出一个概率。如果希望神经网络预测房价，则只需要一个输出神经元，并且在输出层中完全不使用任何激活函数。注意：当待预测值可能相差多个数量级时，您可能需要预测目标值的对数，而不是直接预测目标值。只需计算神经网络输出的指数即可得到估计值（因为 exp(log v) = v）。**"
   ],
   "id": "ea8f407ae4e8e0c5"
  },
  {
   "metadata": {},
   "cell_type": "markdown",
   "source": "### 编程题",
   "id": "4257a19edfab44e2"
  },
  {
   "metadata": {},
   "cell_type": "markdown",
   "source": [
    "在MNIST数据集上训练深度MLP（可以使用tf.keras.datasets.mnist.load_data()加载它）。看看是否可以通过手动调整超参数获得98%以上的精度。\n",
    "\n",
    "首先尝试使用课堂上介绍的方法搜索最佳学习率（即通过以指数方式增加学习率，根据学习率变化绘制训练损失，并找到损失激增的点）。\n",
    "\n",
    "接下来，尝试使用Keras Tuner调整超参数——保存检查点，使用早停，并使用TensorBoard绘制学习曲线。"
   ],
   "id": "e3aa8f9aad31be74"
  },
  {
   "metadata": {
    "ExecuteTime": {
     "end_time": "2025-09-04T06:04:54.006760Z",
     "start_time": "2025-09-04T06:04:47.448851Z"
    }
   },
   "cell_type": "code",
   "source": [
    "import tensorflow as tf\n",
    "import numpy as np\n",
    "from pathlib import Path"
   ],
   "id": "93c8c1de742154d3",
   "outputs": [],
   "execution_count": 1
  },
  {
   "metadata": {
    "ExecuteTime": {
     "end_time": "2025-09-04T06:04:54.533477Z",
     "start_time": "2025-09-04T06:04:54.020736Z"
    }
   },
   "cell_type": "code",
   "source": "(X_train_full, y_train_full), (X_test_full, y_test_full) = tf.keras.datasets.mnist.load_data()",
   "id": "c4a2019b599c28db",
   "outputs": [],
   "execution_count": 2
  },
  {
   "metadata": {
    "ExecuteTime": {
     "end_time": "2025-09-04T06:04:58.785555Z",
     "start_time": "2025-09-04T06:04:58.774435Z"
    }
   },
   "cell_type": "code",
   "source": [
    "# 拆出验证集\n",
    "X_train, X_valid = X_train_full[:-5000], X_train_full[-5000:]\n",
    "y_train, y_valid = y_train_full[:-5000], y_train_full[-5000:]\n"
   ],
   "id": "c8dfc7666eedbea1",
   "outputs": [],
   "execution_count": 3
  },
  {
   "metadata": {
    "ExecuteTime": {
     "end_time": "2025-09-04T06:05:05.826473Z",
     "start_time": "2025-09-04T06:05:05.523259Z"
    }
   },
   "cell_type": "code",
   "source": [
    "# 像素压缩\n",
    "X_train, X_valid, X_test_full = X_train / 255., X_valid / 255., X_test_full / 255."
   ],
   "id": "d1e3050bad4cb184",
   "outputs": [],
   "execution_count": 4
  },
  {
   "metadata": {
    "ExecuteTime": {
     "end_time": "2025-09-04T06:05:25.352046Z",
     "start_time": "2025-09-04T06:05:25.249082Z"
    }
   },
   "cell_type": "code",
   "source": "np.ptp(X_train) # 检查是否超过1",
   "id": "df1701143431e737",
   "outputs": [
    {
     "data": {
      "text/plain": [
       "1.0"
      ]
     },
     "execution_count": 5,
     "metadata": {},
     "output_type": "execute_result"
    }
   ],
   "execution_count": 5
  },
  {
   "metadata": {
    "ExecuteTime": {
     "end_time": "2025-09-04T06:07:05.541991Z",
     "start_time": "2025-09-04T06:07:05.531293Z"
    }
   },
   "cell_type": "code",
   "source": [
    "# 搭建基础模型\n",
    "def build_model():\n",
    "    tf.keras.backend.clear_session()\n",
    "    tf.random.set_seed(42)\n",
    "\n",
    "    input_ = tf.keras.layers.Input(shape=(28,28))\n",
    "    flat_in = tf.keras.layers.Flatten()(input_)\n",
    "\n",
    "    norm_layer = tf.keras.layers.Normalization()\n",
    "    norm_in = norm_layer(flat_in)\n",
    "    hidden1 = tf.keras.layers.Dense(300, activation='relu')(norm_in)\n",
    "    hidden2 = tf.keras.layers.Dense(100, activation='relu')(hidden1)\n",
    "    output = tf.keras.layers.Dense(10, activation=\"softmax\")(hidden2)\n",
    "\n",
    "    model = tf.keras.Model(inputs=[input_], outputs=[output])\n",
    "    return model"
   ],
   "id": "30354cbc089fc5a3",
   "outputs": [],
   "execution_count": 6
  },
  {
   "metadata": {
    "ExecuteTime": {
     "end_time": "2025-09-04T06:10:50.509179Z",
     "start_time": "2025-09-04T06:08:56.772825Z"
    }
   },
   "cell_type": "code",
   "source": [
    "# 检查是否可以训练\n",
    "model = build_model()\n",
    "\n",
    "model.compile(optimizer=\"adam\", loss=\"sparse_categorical_crossentropy\", metrics=[\"accuracy\"])\n",
    "model.get_layer(\"normalization\").adapt(X_train.reshape(-1, 28*28))\n",
    "model.fit(X_train, y_train, epochs=10, validation_data=(X_valid, y_valid))"
   ],
   "id": "3f50ad2aec4b1a22",
   "outputs": [
    {
     "name": "stdout",
     "output_type": "stream",
     "text": [
      "Epoch 1/10\n",
      "1719/1719 [==============================] - 12s 6ms/step - loss: 0.2344 - accuracy: 0.9345 - val_loss: 0.1301 - val_accuracy: 0.9642\n",
      "Epoch 2/10\n",
      "1719/1719 [==============================] - 15s 9ms/step - loss: 0.1072 - accuracy: 0.9693 - val_loss: 0.1199 - val_accuracy: 0.9702\n",
      "Epoch 3/10\n",
      "1719/1719 [==============================] - 10s 6ms/step - loss: 0.0741 - accuracy: 0.9769 - val_loss: 0.1038 - val_accuracy: 0.9742\n",
      "Epoch 4/10\n",
      "1719/1719 [==============================] - 10s 6ms/step - loss: 0.0554 - accuracy: 0.9819 - val_loss: 0.1434 - val_accuracy: 0.9702\n",
      "Epoch 5/10\n",
      "1719/1719 [==============================] - 10s 6ms/step - loss: 0.0484 - accuracy: 0.9851 - val_loss: 0.1257 - val_accuracy: 0.9760\n",
      "Epoch 6/10\n",
      "1719/1719 [==============================] - 10s 6ms/step - loss: 0.0458 - accuracy: 0.9870 - val_loss: 0.1451 - val_accuracy: 0.9714\n",
      "Epoch 7/10\n",
      "1719/1719 [==============================] - 10s 6ms/step - loss: 0.0360 - accuracy: 0.9894 - val_loss: 0.1723 - val_accuracy: 0.9722\n",
      "Epoch 8/10\n",
      "1719/1719 [==============================] - 10s 6ms/step - loss: 0.0390 - accuracy: 0.9891 - val_loss: 0.1464 - val_accuracy: 0.9766\n",
      "Epoch 9/10\n",
      "1719/1719 [==============================] - 10s 6ms/step - loss: 0.0340 - accuracy: 0.9906 - val_loss: 0.1576 - val_accuracy: 0.9774\n",
      "Epoch 10/10\n",
      "1719/1719 [==============================] - 10s 6ms/step - loss: 0.0348 - accuracy: 0.9915 - val_loss: 0.1932 - val_accuracy: 0.9756\n"
     ]
    },
    {
     "data": {
      "text/plain": [
       "<keras.src.callbacks.History at 0x227d3523c70>"
      ]
     },
     "execution_count": 7,
     "metadata": {},
     "output_type": "execute_result"
    }
   ],
   "execution_count": 7
  },
  {
   "metadata": {
    "ExecuteTime": {
     "end_time": "2025-09-04T06:16:12.393898Z",
     "start_time": "2025-09-04T06:16:09.805720Z"
    }
   },
   "cell_type": "code",
   "source": [
    "# 搜索最佳学习率：即通过以指数方式增加学习率，根据学习率变化绘制训练损失，并找到损失激增的点\n",
    "import matplotlib.pyplot as plt\n",
    "\n",
    "class LearningRateChange(tf.keras.callbacks.Callback):\n",
    "    def __init__(self, min_learning_rate, max_learning_rate, batches_per_epoch):\n",
    "        super().__init__()\n",
    "        self.min_learning_rate = min_learning_rate\n",
    "        self.learning_rate = self.min_learning_rate\n",
    "        self.power = np.power(max_learning_rate / min_learning_rate, 1 / batches_per_epoch)\n",
    "        self.losses = []\n",
    "        self.learning_rates = []\n",
    "\n",
    "    def on_batch_end(self, epoch, logs):\n",
    "        self.learning_rates.append(self.learning_rate)\n",
    "        self.losses.append(logs[\"loss\"])\n",
    "\n",
    "        self.learning_rate *= self.power\n",
    "        self.model.optimizer.learning_rate = self.learning_rate\n",
    "\n",
    "    def on_train_end(self, logs):\n",
    "        plt.gca().set_xscale(\"log\")\n",
    "        plt.plot(self.learning_rates, self.losses)\n",
    "\n",
    "        # 找到最小 loss 的位置\n",
    "        min_idx = np.argmin(self.losses)\n",
    "        best_lr = self.learning_rates[min_idx]\n",
    "        best_loss = self.losses[min_idx]\n",
    "\n",
    "        # 画竖线\n",
    "        plt.vlines(x=best_lr, ymin=plt.ylim()[0], ymax=best_loss,\n",
    "                   colors=\"red\", linestyles=\"--\", label=f\"best lr = {best_lr:.2e}\")\n",
    "\n",
    "        # 标注文本\n",
    "        plt.scatter([best_lr], [best_loss], color=\"red\")\n",
    "        plt.text(best_lr, best_loss, f\"lr={best_lr:.2e}\", color=\"red\", ha=\"left\", va=\"bottom\")\n",
    "\n",
    "        plt.xlabel(\"Learning rate\")\n",
    "        plt.ylabel(\"Loss\")\n",
    "        plt.title(\"Learning rate vs Loss\")\n",
    "        plt.legend()\n",
    "        plt.show()\n",
    "        plt.show()\n"
   ],
   "id": "c63d8a4126628243",
   "outputs": [],
   "execution_count": 8
  },
  {
   "metadata": {
    "ExecuteTime": {
     "end_time": "2025-09-04T06:18:43.146098Z",
     "start_time": "2025-09-04T06:18:27.499890Z"
    }
   },
   "cell_type": "code",
   "source": [
    "min_learning_rate = 1e-4\n",
    "max_learning_rate = 2\n",
    "batch_size = 32\n",
    "batches_per_epoch = np.ceil(X_train.shape[0] / batch_size)\n",
    "\n",
    "model = build_model()\n",
    "\n",
    "\n",
    "model.compile(optimizer=\"sgd\", loss=\"sparse_categorical_crossentropy\", metrics=[\"accuracy\"])\n",
    "model.get_layer(\"normalization\").adapt(X_train.reshape(-1, 28*28))\n",
    "model.fit(X_train, y_train, epochs=1, validation_data=(X_valid, y_valid), callbacks=[LearningRateChange(min_learning_rate, max_learning_rate, batches_per_epoch)])"
   ],
   "id": "c1daaa35625746f3",
   "outputs": [
    {
     "name": "stdout",
     "output_type": "stream",
     "text": [
      "1719/1719 [==============================] - 10s 5ms/step - loss: 1.3695 - accuracy: 0.5787 - val_loss: 2.3120 - val_accuracy: 0.1064\n"
     ]
    },
    {
     "data": {
      "text/plain": [
       "<Figure size 640x480 with 1 Axes>"
      ],
      "image/png": "[encoded data removed]"
     },
     "metadata": {},
     "output_type": "display_data"
    },
    {
     "data": {
      "text/plain": [
       "<keras.src.callbacks.History at 0x22782b55810>"
      ]
     },
     "execution_count": 9,
     "metadata": {},
     "output_type": "execute_result"
    }
   ],
   "execution_count": 9
  },
  {
   "metadata": {
    "ExecuteTime": {
     "end_time": "2025-09-04T06:25:31.782059Z",
     "start_time": "2025-09-04T06:22:39.664207Z"
    }
   },
   "cell_type": "code",
   "source": [
    "# 学习率过了0.566 ，也就是0.6左右，损失开始往上走，-> 学习率拐点的10分之一 选择0.06\n",
    "optimizer = tf.keras.optimizers.SGD(learning_rate=0.06)\n",
    "\n",
    "early_stopping_cb = tf.keras.callbacks.EarlyStopping(patience=10)\n",
    "check_points_cb = tf.keras.callbacks.ModelCheckpoint(\"./models/mnist_best_weights.weights.h5\", save_best_only=True, save_weights_only=True)\n",
    "\n",
    "model = build_model()\n",
    "model.compile(optimizer, loss=\"sparse_categorical_crossentropy\", metrics=[\"accuracy\"])\n",
    "model.get_layer(\"normalization\").adapt(X_train.reshape(-1, 28*28))\n",
    "model.fit(X_train, y_train, epochs=100, validation_data=(X_valid, y_valid), callbacks=[check_points_cb, early_stopping_cb])"
   ],
   "id": "cf6bc0255d89e54b",
   "outputs": [
    {
     "name": "stdout",
     "output_type": "stream",
     "text": [
      "Epoch 1/100\n",
      "1719/1719 [==============================] - 10s 5ms/step - loss: 0.2707 - accuracy: 0.9259 - val_loss: 0.1344 - val_accuracy: 0.9656\n",
      "Epoch 2/100\n",
      "1719/1719 [==============================] - 11s 6ms/step - loss: 0.1082 - accuracy: 0.9693 - val_loss: 0.1213 - val_accuracy: 0.9676\n",
      "Epoch 3/100\n",
      "1719/1719 [==============================] - 16s 9ms/step - loss: 0.0674 - accuracy: 0.9801 - val_loss: 0.1027 - val_accuracy: 0.9730\n",
      "Epoch 4/100\n",
      "1719/1719 [==============================] - 9s 5ms/step - loss: 0.0466 - accuracy: 0.9872 - val_loss: 0.1047 - val_accuracy: 0.9754\n",
      "Epoch 5/100\n",
      "1719/1719 [==============================] - 8s 5ms/step - loss: 0.0292 - accuracy: 0.9929 - val_loss: 0.1084 - val_accuracy: 0.9764\n",
      "Epoch 6/100\n",
      "1719/1719 [==============================] - 8s 5ms/step - loss: 0.0181 - accuracy: 0.9956 - val_loss: 0.1130 - val_accuracy: 0.9754\n",
      "Epoch 7/100\n",
      "1719/1719 [==============================] - 8s 5ms/step - loss: 0.0120 - accuracy: 0.9977 - val_loss: 0.0992 - val_accuracy: 0.9770\n",
      "Epoch 8/100\n",
      "1719/1719 [==============================] - 8s 5ms/step - loss: 0.0072 - accuracy: 0.9989 - val_loss: 0.1061 - val_accuracy: 0.9772\n",
      "Epoch 9/100\n",
      "1719/1719 [==============================] - 8s 5ms/step - loss: 0.0044 - accuracy: 0.9996 - val_loss: 0.1087 - val_accuracy: 0.9776\n",
      "Epoch 10/100\n",
      "1719/1719 [==============================] - 8s 5ms/step - loss: 0.0027 - accuracy: 0.9997 - val_loss: 0.1116 - val_accuracy: 0.9778\n",
      "Epoch 11/100\n",
      "1719/1719 [==============================] - 8s 5ms/step - loss: 0.0042 - accuracy: 0.9995 - val_loss: 0.1125 - val_accuracy: 0.9782\n",
      "Epoch 12/100\n",
      "1719/1719 [==============================] - 10s 6ms/step - loss: 0.0020 - accuracy: 0.9998 - val_loss: 0.1113 - val_accuracy: 0.9784\n",
      "Epoch 13/100\n",
      "1719/1719 [==============================] - 11s 6ms/step - loss: 0.0014 - accuracy: 0.9999 - val_loss: 0.1144 - val_accuracy: 0.9790\n",
      "Epoch 14/100\n",
      "1719/1719 [==============================] - 11s 6ms/step - loss: 0.0011 - accuracy: 0.9999 - val_loss: 0.1176 - val_accuracy: 0.9796\n",
      "Epoch 15/100\n",
      "1719/1719 [==============================] - 11s 6ms/step - loss: 9.7156e-04 - accuracy: 0.9999 - val_loss: 0.1172 - val_accuracy: 0.9796\n",
      "Epoch 16/100\n",
      "1719/1719 [==============================] - 11s 6ms/step - loss: 8.6136e-04 - accuracy: 1.0000 - val_loss: 0.1183 - val_accuracy: 0.9790\n",
      "Epoch 17/100\n",
      "1719/1719 [==============================] - 11s 6ms/step - loss: 7.3743e-04 - accuracy: 1.0000 - val_loss: 0.1210 - val_accuracy: 0.9794\n"
     ]
    },
    {
     "data": {
      "text/plain": [
       "<keras.src.callbacks.History at 0x227848dc1c0>"
      ]
     },
     "execution_count": 10,
     "metadata": {},
     "output_type": "execute_result"
    }
   ],
   "execution_count": 10
  },
  {
   "metadata": {
    "ExecuteTime": {
     "end_time": "2025-09-04T06:25:56.006213Z",
     "start_time": "2025-09-04T06:25:55.606797Z"
    }
   },
   "cell_type": "code",
   "source": [
    "# 恢复最佳模型\n",
    "model.load_weights(\"./models/mnist_best_weights.weights.h5\")"
   ],
   "id": "71c2a6b948c36709",
   "outputs": [],
   "execution_count": 11
  },
  {
   "metadata": {
    "ExecuteTime": {
     "end_time": "2025-09-04T06:26:07.826953Z",
     "start_time": "2025-09-04T06:26:06.523881Z"
    }
   },
   "cell_type": "code",
   "source": "model.evaluate(X_test_full, y_test_full)",
   "id": "832e031d83cd0acf",
   "outputs": [
    {
     "name": "stdout",
     "output_type": "stream",
     "text": [
      "313/313 [==============================] - 1s 4ms/step - loss: 9.7955 - accuracy: 0.9745\n"
     ]
    },
    {
     "data": {
      "text/plain": [
       "[9.795466423034668, 0.9745000004768372]"
      ]
     },
     "execution_count": 12,
     "metadata": {},
     "output_type": "execute_result"
    }
   ],
   "execution_count": 12
  },
  {
   "metadata": {
    "ExecuteTime": {
     "end_time": "2025-09-04T06:29:47.757780Z",
     "start_time": "2025-09-04T06:29:38.474877Z"
    }
   },
   "cell_type": "code",
   "source": [
    "#  keras Tuner探索 网络的层数 + 神经元数量，激活函数（relu, sigmoid, tanh),  优化器（sgd，adam）\n",
    "import keras_tuner as kt\n",
    "\n",
    "def build_model(hp, learning_rate):\n",
    "    num_layers = hp.Int(\"num_layers\", min_value=1, max_value=8)\n",
    "    num_neurons = hp.Int(\"num_neurons\", min_value=16, max_value=256)\n",
    "\n",
    "    activation = hp.Choice(\"activation\", [\"relu\", \"tanh\", \"sigmoid\"])\n",
    "    optimizer = hp.Choice(\"optimizer\", [\"sgd\", \"adam\"])\n",
    "\n",
    "    if optimizer == \"sgd\":\n",
    "        optimizer = tf.keras.optimizers.SGD(learning_rate=learning_rate)\n",
    "    else:\n",
    "        optimizer = tf.keras.optimizers.Adam(learning_rate=learning_rate)\n",
    "\n",
    "    model = tf.keras.Sequential()\n",
    "    model.add(tf.keras.layers.Flatten())\n",
    "    for _ in range(num_layers):\n",
    "        model.add(tf.keras.layers.Dense(num_neurons, activation=activation, kernel_initializer=\"he_normal\" if activation == \"relu\" else \"glorot_uniform\"))\n",
    "    model.add(tf.keras.layers.Dense(10, activation=\"softmax\"))\n",
    "\n",
    "    model.compile(loss=\"sparse_categorical_crossentropy\", optimizer=optimizer, metrics=[\"accuracy\"])\n",
    "    return model"
   ],
   "id": "4ef2b675ac861c66",
   "outputs": [],
   "execution_count": 13
  },
  {
   "metadata": {
    "jupyter": {
     "is_executing": true
    }
   },
   "cell_type": "code",
   "source": [
    "rnd_search_tuner = kt.RandomSearch(lambda hp: build_model(hp, 0.06), objective=\"val_accuracy\", max_trials=20, overwrite=True, directory=\"./models/my_mnist\", project_name=\"my_rnd_search\", seed=42)\n",
    "\n",
    "early_stopping_cb = tf.keras.callbacks.EarlyStopping(patience=8, restore_best_weights=True)\n",
    "\n",
    "# tensorboard回调\n",
    "root_logdir = Path(rnd_search_tuner.project_dir) / \"tensorboard\"\n",
    "tensorboard_cb = tf.keras.callbacks.TensorBoard(root_logdir)\n",
    "\n",
    "# model checkpoint回调\n",
    "model_checkpoint_cb = tf.keras.callbacks.ModelCheckpoint(\"./models/mnist_best_weights.weights.h5\", save_best_only=True, save_weights_only=True)\n",
    "\n",
    "rnd_search_tuner.search(X_train, y_train, epochs=30, validation_data=(X_valid, y_valid), callbacks=[early_stopping_cb, tensorboard_cb, model_checkpoint_cb])\n",
    "\n",
    "# EarlyStopping(restore_best_weights=True)：保证每个 trial 内恢复到该 trial 的最佳状态。\n",
    "\n",
    "#   ModelCheckpoint(save_best_only=True)：保证整个搜索过程中保存一个全局最佳的模型权重文件。"
   ],
   "id": "83909cb64566a687",
   "execution_count": null,
   "outputs": [
    {
     "name": "stdout",
     "output_type": "stream",
     "text": [
      "Trial 5 Complete [00h 01m 36s]\n",
      "val_accuracy: 0.978600025177002\n",
      "\n",
      "Best val_accuracy So Far: 0.9805999994277954\n",
      "Total elapsed time: 00h 09m 39s\n",
      "\n",
      "Search: Running Trial #6\n",
      "\n",
      "Value             |Best Value So Far |Hyperparameter\n",
      "8                 |8                 |num_layers\n",
      "123               |100               |num_neurons\n",
      "tanh              |tanh              |activation\n",
      "sgd               |sgd               |optimizer\n",
      "\n",
      "Epoch 1/30\n",
      "   1/1719 [..............................] - ETA: 26:02 - loss: 2.3368 - accuracy: 0.2188WARNING:tensorflow:Callback method `on_train_batch_end` is slow compared to the batch time (batch time: 0.0032s vs `on_train_batch_end` time: 0.0119s). Check your callbacks.\n",
      " 435/1719 [======>.......................] - ETA: 6s - loss: 0.5285 - accuracy: 0.8422"
     ]
    }
   ]
  },
  {
   "metadata": {
    "ExecuteTime": {
     "end_time": "2025-09-01T13:55:29.009409Z",
     "start_time": "2025-09-01T13:55:28.978327Z"
    }
   },
   "cell_type": "code",
   "source": [
    "top5_hyperparams = rnd_search_tuner.get_best_hyperparameters(num_trials=5)\n",
    "for hp in top5_hyperparams:\n",
    "    print(hp.values)"
   ],
   "id": "5228a688f3c35b0c",
   "outputs": [
    {
     "name": "stdout",
     "output_type": "stream",
     "text": [
      "{'num_layers': 5, 'num_neurons': 199, 'activation': 'tanh', 'optimizer': 'sgd'}\n",
      "{'num_layers': 6, 'num_neurons': 239, 'activation': 'tanh', 'optimizer': 'sgd'}\n",
      "{'num_layers': 8, 'num_neurons': 123, 'activation': 'tanh', 'optimizer': 'sgd'}\n",
      "{'num_layers': 8, 'num_neurons': 215, 'activation': 'tanh', 'optimizer': 'sgd'}\n",
      "{'num_layers': 8, 'num_neurons': 94, 'activation': 'relu', 'optimizer': 'sgd'}\n"
     ]
    }
   ],
   "execution_count": 24
  },
  {
   "metadata": {
    "ExecuteTime": {
     "end_time": "2025-09-01T13:55:32.976060Z",
     "start_time": "2025-09-01T13:55:32.968700Z"
    }
   },
   "cell_type": "code",
   "source": [
    "best_trial = rnd_search_tuner.oracle.get_best_trials(num_trials=1)[0]\n",
    "best_trial.summary()"
   ],
   "id": "2fadbe497404a2fc",
   "outputs": [
    {
     "name": "stdout",
     "output_type": "stream",
     "text": [
      "Trial 13 summary\n",
      "Hyperparameters:\n",
      "num_layers: 5\n",
      "num_neurons: 199\n",
      "activation: tanh\n",
      "optimizer: sgd\n",
      "Score: 0.9850000143051147\n"
     ]
    }
   ],
   "execution_count": 25
  },
  {
   "metadata": {
    "ExecuteTime": {
     "end_time": "2025-09-01T13:55:49.854264Z",
     "start_time": "2025-09-01T13:55:49.649576Z"
    }
   },
   "cell_type": "code",
   "source": [
    "top_model = rnd_search_tuner.get_best_models()\n",
    "best_model = top_model[0]"
   ],
   "id": "f6250440973f9bd3",
   "outputs": [],
   "execution_count": 26
  },
  {
   "metadata": {
    "ExecuteTime": {
     "end_time": "2025-09-01T13:55:52.565054Z",
     "start_time": "2025-09-01T13:55:51.837616Z"
    }
   },
   "cell_type": "code",
   "source": "best_model.evaluate(X_test_full, y_test_full)",
   "id": "1a8517dd51b84a4",
   "outputs": [
    {
     "name": "stdout",
     "output_type": "stream",
     "text": [
      "313/313 [==============================] - 1s 2ms/step - loss: 0.0753 - accuracy: 0.9808\n"
     ]
    },
    {
     "data": {
      "text/plain": [
       "[0.0753113180398941, 0.9807999730110168]"
      ]
     },
     "execution_count": 27,
     "metadata": {},
     "output_type": "execute_result"
    }
   ],
   "execution_count": 27
  },
  {
   "metadata": {},
   "cell_type": "code",
   "outputs": [],
   "execution_count": null,
   "source": "# tensorboard --logdir=./models/my_mnist/my_rnd_search/tensorboard",
   "id": "fb9aa562618bc1bc"
  },
  {
   "metadata": {
    "ExecuteTime": {
     "end_time": "2025-09-04T08:18:03.618493Z",
     "start_time": "2025-09-04T08:18:02.778380Z"
    }
   },
   "cell_type": "code",
   "source": [
    "# logits = 最后一个隐藏层的输出 @ W + b\n",
    "\n",
    "# 不用算e^z / (e^z的全部和），也能计算损失函数\n",
    "\n",
    "# 输出层不激活，编译的时候去用 tf.keras.losses.sparse_categorical_crossentropy(from_logits=True)\n",
    "#\n",
    "# 这样做的优势：浮点计算误差可能小一点，因为避免计算概率； 劣势：模型代码的可读性差了\n",
    "\n",
    "import tensorflow as tf\n",
    "\n",
    "fashion_mnist = tf.keras.datasets.fashion_mnist.load_data()\n",
    "(X_train_full, y_train_full), (X_test, y_test) = fashion_mnist\n",
    "X_train, y_train = X_train_full[:-5000], y_train_full[:-5000]\n",
    "X_valid, y_valid = X_train_full[-5000:], y_train_full[-5000:]\n",
    "X_train, X_valid, X_test = X_train / 255, X_valid / 255, X_test / 255"
   ],
   "id": "487bfbcc22cf6e9",
   "outputs": [],
   "execution_count": 3
  },
  {
   "metadata": {
    "ExecuteTime": {
     "end_time": "2025-09-04T08:19:03.994850Z",
     "start_time": "2025-09-04T08:19:03.824229Z"
    }
   },
   "cell_type": "code",
   "source": [
    "model = tf.keras.Sequential([\n",
    "    tf.keras.layers.Flatten(input_shape=[28, 28]),\n",
    "    tf.keras.layers.Dense(300, kernel_initializer=\"he_normal\", activation=\"relu\"),\n",
    "    tf.keras.layers.Dense(100, kernel_initializer=\"he_normal\", activation=\"relu\"),\n",
    "    tf.keras.layers.Dense(10)\n",
    "])"
   ],
   "id": "ab1730094bacb0ab",
   "outputs": [],
   "execution_count": 4
  },
  {
   "metadata": {
    "ExecuteTime": {
     "end_time": "2025-09-04T08:22:15.354153Z",
     "start_time": "2025-09-04T08:22:15.329937Z"
    }
   },
   "cell_type": "code",
   "source": "model.compile(loss=tf.keras.losses.SparseCategoricalCrossentropy(from_logits=True), optimizer=\"adam\", metrics=[\"accuracy\"])",
   "id": "f49a1c5ad5a30f37",
   "outputs": [],
   "execution_count": 8
  },
  {
   "metadata": {
    "ExecuteTime": {
     "end_time": "2025-09-04T08:23:05.696349Z",
     "start_time": "2025-09-04T08:22:16.187233Z"
    }
   },
   "cell_type": "code",
   "source": "model.fit(X_train, y_train, epochs=5, validation_data=(X_valid, y_valid))",
   "id": "5cf4ce71a93df9a1",
   "outputs": [
    {
     "name": "stdout",
     "output_type": "stream",
     "text": [
      "Epoch 1/5\n",
      "1719/1719 [==============================] - 10s 6ms/step - loss: 0.4905 - accuracy: 0.8254 - val_loss: 0.4393 - val_accuracy: 0.8430\n",
      "Epoch 2/5\n",
      "1719/1719 [==============================] - 9s 5ms/step - loss: 0.3673 - accuracy: 0.8653 - val_loss: 0.3471 - val_accuracy: 0.8706\n",
      "Epoch 3/5\n",
      "1719/1719 [==============================] - 11s 6ms/step - loss: 0.3271 - accuracy: 0.8789 - val_loss: 0.3620 - val_accuracy: 0.8698\n",
      "Epoch 4/5\n",
      "1719/1719 [==============================] - 9s 5ms/step - loss: 0.3032 - accuracy: 0.8881 - val_loss: 0.3755 - val_accuracy: 0.8652\n",
      "Epoch 5/5\n",
      "1719/1719 [==============================] - 9s 5ms/step - loss: 0.2872 - accuracy: 0.8923 - val_loss: 0.3150 - val_accuracy: 0.8834\n"
     ]
    },
    {
     "data": {
      "text/plain": [
       "<keras.src.callbacks.History at 0x17ff7ec5ae0>"
      ]
     },
     "execution_count": 9,
     "metadata": {},
     "output_type": "execute_result"
    }
   ],
   "execution_count": 9
  },
  {
   "metadata": {
    "ExecuteTime": {
     "end_time": "2025-09-04T08:24:56.250174Z",
     "start_time": "2025-09-04T08:24:55.972359Z"
    }
   },
   "cell_type": "code",
   "source": "model.predict(X_test[:3])",
   "id": "362f89611a0d0533",
   "outputs": [
    {
     "name": "stdout",
     "output_type": "stream",
     "text": [
      "1/1 [==============================] - 0s 178ms/step\n"
     ]
    },
    {
     "data": {
      "text/plain": [
       "array([[-10.220925  , -12.852585  ,  -9.033422  , -13.418523  ,\n",
       "        -11.3642    ,   1.9136566 ,  -8.40555   ,   1.8409057 ,\n",
       "        -11.272936  ,   6.178007  ],\n",
       "       [ -3.1790247 , -14.92253   ,   6.7902055 ,  -8.133708  ,\n",
       "          1.7203285 , -23.372698  ,   0.45000648, -28.532953  ,\n",
       "        -12.440653  , -17.352966  ],\n",
       "       [ -3.2284853 ,  22.608685  , -10.003534  ,  -2.404499  ,\n",
       "         -4.4847684 , -34.093006  ,  -7.785138  , -28.404333  ,\n",
       "        -14.723762  , -30.222555  ]], dtype=float32)"
      ]
     },
     "execution_count": 11,
     "metadata": {},
     "output_type": "execute_result"
    }
   ],
   "execution_count": 11
  },
  {
   "metadata": {},
   "cell_type": "code",
   "outputs": [],
   "execution_count": null,
   "source": "",
   "id": "9e4323288d30576e"
  }
 ],
 "metadata": {
  "kernelspec": {
   "display_name": "Python 3",
   "language": "python",
   "name": "python3"
  },
  "language_info": {
   "codemirror_mode": {
    "name": "ipython",
    "version": 2
   },
   "file_extension": ".py",
   "mimetype": "text/x-python",
   "name": "python",
   "nbconvert_exporter": "python",
   "pygments_lexer": "ipython2",
   "version": "2.7.6"
  }
 },
 "nbformat": 4,
 "nbformat_minor": 5
}
