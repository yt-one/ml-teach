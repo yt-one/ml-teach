{
 "cells": [
  {
   "metadata": {},
   "cell_type": "markdown",
   "source": [
    "## 回归话题补充\n",
    "两种不同的训练模型的方式\n",
    "- 通过闭式方程，直接计算出最拟合训练集的模型参数\n",
    "- 迭代优化的方式：梯度下降和它的变体：批量梯度下降，小批量梯度下降以及随机梯度下降\n",
    "\n",
    "多种正则化技巧\n",
    "- 岭回归，Lasso回归和弹性网络回归\n",
    "\n",
    "分类任务模型\n",
    "- 针对多分类的softmax回归  （通过组合二元分类做多分类，直接做多分类）"
   ],
   "id": "7b5f9e12aa330967"
  },
  {
   "metadata": {},
   "cell_type": "markdown",
   "source": [
    "### 闭式方程\n",
    "$$\n",
    "\\hat{\\theta} = (X^\\top X)^{-1} X^\\top y\n",
    "$$\n",
    "\n",
    "这个方程中：\n",
    "\n",
    "- $\\hat{\\theta}$ 是使代价函数最小的 $\\theta$ 值。\n",
    "- $y$ 是包含 $y^{(1)}$ 到 $y^{(m)}$ 的目标值向量。\n"
   ],
   "id": "b9a04ea6df444925"
  },
  {
   "metadata": {
    "ExecuteTime": {
     "end_time": "2025-07-31T16:33:55.098897Z",
     "start_time": "2025-07-31T16:33:55.089778Z"
    }
   },
   "cell_type": "code",
   "source": [
    "# 生成假数据\n",
    "import numpy as np\n",
    "\n",
    "np.random.seed(100)\n",
    "\n",
    "m = 100\n",
    "X = 2 * np.random.rand(m, 1)\n",
    "\n",
    "y = 4 + 3 * X + np.random.randn(m, 1)   # y = 4+3*x + 随机数"
   ],
   "id": "1558d12f22490701",
   "outputs": [],
   "execution_count": 8
  },
  {
   "metadata": {
    "ExecuteTime": {
     "end_time": "2025-07-31T16:33:55.883505Z",
     "start_time": "2025-07-31T16:33:55.867889Z"
    }
   },
   "cell_type": "code",
   "source": [
    "# 用方程拟合\n",
    "from sklearn.preprocessing import add_dummy_feature\n",
    "\n",
    "# 如果想通过 方程，直接把最有的 截距b 算出来，直接往 特征矩阵里面 加一列1 就可以\n",
    "\n",
    "X_b = add_dummy_feature(X)  # X里 增加一列1\n",
    "# print(X)\n",
    "# print(X_b)\n",
    "theta_best = np.linalg.inv(X_b.T @ X_b) @ X_b.T @ y\n",
    "theta_best"
   ],
   "id": "77895a22a6a8a798",
   "outputs": [
    {
     "data": {
      "text/plain": [
       "array([[3.98485975],\n",
       "       [2.86232606]])"
      ]
     },
     "execution_count": 9,
     "metadata": {},
     "output_type": "execute_result"
    }
   ],
   "execution_count": 9
  },
  {
   "metadata": {
    "ExecuteTime": {
     "end_time": "2025-07-31T16:33:56.611728Z",
     "start_time": "2025-07-31T16:33:56.596102Z"
    }
   },
   "cell_type": "code",
   "source": [
    "# 做出预测\n",
    "X_new = np.array([[0],\n",
    "                  [2]])\n",
    "X_new_b = add_dummy_feature(X_new) # X_new里 增加一列1\n",
    "y_predict = X_new_b @ theta_best\n",
    "y_predict"
   ],
   "id": "4569db0f2213ac32",
   "outputs": [
    {
     "data": {
      "text/plain": [
       "array([[3.98485975],\n",
       "       [9.70951187]])"
      ]
     },
     "execution_count": 10,
     "metadata": {},
     "output_type": "execute_result"
    }
   ],
   "execution_count": 10
  },
  {
   "metadata": {
    "ExecuteTime": {
     "end_time": "2025-07-31T16:33:57.308540Z",
     "start_time": "2025-07-31T16:33:57.076276Z"
    }
   },
   "cell_type": "code",
   "source": [
    "# 绘制预测结果\n",
    "import matplotlib.pyplot as plt\n",
    "\n",
    "plt.figure(figsize=(6, 4))\n",
    "# plt.plot(X_new, y_predict, \"r-\", label=\"Predictions\")  # c=\"r\", linestyle=\"-\"\n",
    "plt.plot(X_new, y_predict, label=\"Predictions\", c=\"r\", linestyle=\"-\")\n",
    "plt.plot(X, y, c=\"b\",  marker=\".\", linestyle=\"\")  # plt.plot(X, y, \"b.\")  用画折线图的方式 画散点图\n",
    "\n",
    "# extra code – beautifies and saves Figure 4–2\n",
    "plt.xlabel(\"$x_1$\")\n",
    "plt.ylabel(\"$y$\", rotation=0)\n",
    "plt.axis([0, 2, 0, 15])\n",
    "plt.grid()\n",
    "plt.legend(loc=\"upper left\")\n",
    "\n",
    "plt.show()"
   ],
   "id": "60bb5dedd46e2ef4",
   "outputs": [
    {
     "data": {
      "text/plain": [
       "<Figure size 600x400 with 1 Axes>"
      ],
      "image/png": "[encoded data removed]"
     },
     "metadata": {},
     "output_type": "display_data"
    }
   ],
   "execution_count": 11
  },
  {
   "metadata": {
    "ExecuteTime": {
     "end_time": "2025-07-31T16:33:57.605941Z",
     "start_time": "2025-07-31T16:33:57.590357Z"
    }
   },
   "cell_type": "code",
   "source": [
    "# 使用sklearn做更简单了\n",
    "\n",
    "\n",
    "from sklearn.linear_model import LinearRegression\n",
    "lin_reg = LinearRegression()\n",
    "lin_reg.fit(X, y)  #  线性回归内部 它用的是方程 ，算最优参数\n",
    "lin_reg.intercept_, lin_reg.coef_\n",
    "lin_reg.predict(X_new)"
   ],
   "id": "f0ada304b3ffd8e2",
   "outputs": [
    {
     "data": {
      "text/plain": [
       "array([[3.98485975],\n",
       "       [9.70951187]])"
      ]
     },
     "execution_count": 12,
     "metadata": {},
     "output_type": "execute_result"
    }
   ],
   "execution_count": 12
  },
  {
   "metadata": {
    "ExecuteTime": {
     "end_time": "2025-07-31T16:33:58.154107Z",
     "start_time": "2025-07-31T16:33:58.138498Z"
    }
   },
   "cell_type": "code",
   "source": [
    "# LinearRegression类基于 np.linalg.lstsq()函数，可以直接调用它\n",
    "theta_best_svd, residuals, rank, s = np.linalg.lstsq(X_b, y, rcond=1e-6)\n",
    "theta_best_svd"
   ],
   "id": "fab3bbdf9d09a1d7",
   "outputs": [
    {
     "data": {
      "text/plain": [
       "array([[3.98485975],\n",
       "       [2.86232606]])"
      ]
     },
     "execution_count": 13,
     "metadata": {},
     "output_type": "execute_result"
    }
   ],
   "execution_count": 13
  },
  {
   "metadata": {
    "ExecuteTime": {
     "end_time": "2025-07-31T16:33:58.802702Z",
     "start_time": "2025-07-31T16:33:58.794340Z"
    }
   },
   "cell_type": "code",
   "source": [
    "# 上面的函数计算的是 X的伪逆(np.linalg.pinv(), Moore-Penrose逆） 和 y的矩阵乘法\n",
    "np.linalg.pinv(X_b) @ y"
   ],
   "id": "70f88665eaba3c34",
   "outputs": [
    {
     "data": {
      "text/plain": [
       "array([[3.98485975],\n",
       "       [2.86232606]])"
      ]
     },
     "execution_count": 14,
     "metadata": {},
     "output_type": "execute_result"
    }
   ],
   "execution_count": 14
  },
  {
   "metadata": {},
   "cell_type": "markdown",
   "source": "伪逆本身是使用被称为奇异值分解(Singular Value Decomposition，SVD)的标准矩阵分解技术来计算的，可以分解训练集矩阵X为三个矩阵UΣV⊤的乘积［numpy.linalg.svd()］。伪逆的计算公式为：X+=VΣ+U⊤。为了计算矩阵Σ+，该算法取Σ并将所有小于一个小阈值的值设置为零，然后将所有非零值替换成它们的倒数，最后把结果矩阵转置。这种方法比计算标准方程更有效，而且它可以很好地处理边缘情况：的确，标准方程可能没有解，如果矩阵X⊤X是不可逆的（即奇异的），例如如果m＜n或某些特征是多余的，但伪逆总是有定义的。",
   "id": "77c4dd8db2b151d6"
  },
  {
   "metadata": {},
   "cell_type": "markdown",
   "source": [
    "#### 计算复杂度\n",
    "标准方程计算$X^⊤X$的逆，是一个(n+1)×(n+1)的矩阵（n是特征数量）。对这种矩阵求逆的计算复杂度通常为O(n^2.4)到O(n^3)之间，取决于具体实现。换句话说，如果将特征数量翻倍，那么计算时间将乘以大约2^2.4=5.3倍到2^3=8倍。Scikit-Learn的LinearRegression类使用的SVD方法复杂度约为O(n^2)。如果你将特征数量加倍，那计算时间大约是原来的4倍。\n",
    "\n",
    "特征数量比较大（例如100000）时，标准方程和SVD的计算将极其缓慢。好的一面是，相对于训练集中的实例数量[O(m)]来说，两个都是线性的，所以能够有效地处理大量的训练集，只要内存足够。同样，线性回归模型一经训练（不论是标准方程还是其他算法）​，预测就非常快速：因为计算复杂度相对于想要预测的实例数量和特征数量来说，都是线性的。换句话说，对两倍的实例（或者是两倍的特征）进行预测，大概需要两倍的时间。"
   ],
   "id": "c4bcb7c7bed3f631"
  },
  {
   "metadata": {},
   "cell_type": "markdown",
   "source": [
    "### 梯度下降\n",
    "- 更适合特征数量或者训练实例数量大到内存无法满足要求的场景。"
   ],
   "id": "b4473166b89161a8"
  },
  {
   "metadata": {},
   "cell_type": "markdown",
   "source": [
    "- 要点复习：不同尺度的特征梯度下降速度不一样，应用梯度下降时，需要保证所有特征值的大小比例都差不多（Sklearn的StandardScaler类），否则收敛的时间会长很多\n",
    "![有和没有特征缩放的梯度下降](./images/regression/p1.png)\n",
    "\n",
    "左边的训练集特征1和特征2有相同的数值规模，而右边的训练集上，特征1的值比特征2要小得多。（因为特征1较小，需要比特征2有更大的变化才能影响代价函数，这也是被拉长的特征是更小的特征的原因）"
   ],
   "id": "6bfb9526874b0951"
  },
  {
   "metadata": {
    "ExecuteTime": {
     "end_time": "2025-07-31T16:34:02.117137Z",
     "start_time": "2025-07-31T16:34:02.091153Z"
    }
   },
   "cell_type": "code",
   "source": [
    "# 批量梯度下降算法快速实现\n",
    "# 批量梯度下降： 每个轮次 都在拿所有训练集 计算梯度\n",
    "eta = 0.1 # 学习率\n",
    "n_epochs = 1000   # 轮次\n",
    "m = len(X_b)\n",
    "\n",
    "np.random.seed(100)\n",
    "theta = np.random.randn(2,1)\n",
    "\n",
    "for epoch in range(n_epochs):\n",
    "    gradients = X_b.T @ (X_b @ theta - y) / m\n",
    "    theta = theta - eta * gradients\n"
   ],
   "id": "ded706a5e1d3eccb",
   "outputs": [],
   "execution_count": 15
  },
  {
   "metadata": {
    "ExecuteTime": {
     "end_time": "2025-07-31T16:34:02.721995Z",
     "start_time": "2025-07-31T16:34:02.713872Z"
    }
   },
   "cell_type": "code",
   "source": "theta",
   "id": "2f0688e4520ffdb0",
   "outputs": [
    {
     "data": {
      "text/plain": [
       "array([[3.9848596],\n",
       "       [2.8623262]])"
      ]
     },
     "execution_count": 16,
     "metadata": {},
     "output_type": "execute_result"
    }
   ],
   "execution_count": 16
  },
  {
   "metadata": {},
   "cell_type": "markdown",
   "source": "#### 随机梯度下降(Stochastic Gradient Descent)\n",
   "id": "826ba791d9259d4"
  },
  {
   "metadata": {},
   "cell_type": "markdown",
   "source": [
    "批量梯度下降的主要问题是它要用整个训练集来计算每一步的梯度，所以当训练集很大时，算法会特别慢。与之相反的极端是随机梯度下降，随机梯度下降每一步在训练集中随机选择一个实例，并且仅基于该单个实例来计算梯度。显然，这让算法变得快多了，因为每个迭代都只需要操作少量的数据。它也可以被用来训练海量的数据集，因为每次迭代只需要在内存中运行一个实例（SGD可以作为核外算法实现，大量数据无法一次载入内存，分批训练）。另外，由于算法的随机性质，它比批量梯度下降要不规则得多。代价函数将不再是缓缓降低直到抵达最小值，而是不断上上下下，但是从整体来看，还是在慢慢下降。随着时间推移，代价函数最终会非常接近最小值，但是即使它到达了最小值，依旧会持续反弹，永远不会停止。一旦算法停止，最终的参数值会很好，但不是最优的。\n",
    "\n",
    "![随机梯度下降的路线图](./images/regression/p2.png)"
   ],
   "id": "3a24cf17eca3f9e5"
  },
  {
   "metadata": {},
   "cell_type": "markdown",
   "source": [
    "当代价函数非常不规则时，随机梯度下降其实可以帮助算法跳出局部最小值，所以相比批量梯度下降，它对找到全局最小值更有优势。因此，随机性的好处在于可以逃离局部最优，但缺点是永远定位不出最小值。\n",
    "\n",
    "要解决这个困境，有一个办法是逐步降低学习率。开始的步长比较大（这有助于快速进展和逃离局部最小值），然后越来越小，让算法尽量靠近全局最小值。这个过程叫作模拟退火，因为它类似于冶金时熔化的金属慢慢冷却的退火过程。确定每个迭代学习率的函数叫作学习率调度。如果学习率降得太快，可能会陷入局部最小值，甚至停留在走向最小值的半途中。如果学习率降得太慢，你需要很长时间才能跳到最小值附近，如果提早结束训练，可能只得到一个次优的解决方案。\n",
    "\n",
    "学习率调度理解：eta = 1.0 / (alpha * (t + t0))； t0和alpha两个超参数需要提前确定； 或者是 按 eta = eta0 / (1+k*t)理解, eta0是初始学习率，k是衰减的速度"
   ],
   "id": "119e08de0ad86d90"
  },
  {
   "metadata": {
    "ExecuteTime": {
     "end_time": "2025-07-31T16:34:05.508112Z",
     "start_time": "2025-07-31T16:34:05.455926Z"
    }
   },
   "cell_type": "code",
   "source": [
    "# 有学习率调度的随机梯度下降实现\n",
    "\n",
    "n_epochs = 50\n",
    "t0, t1 = 5, 50\n",
    "\n",
    "def learning_schedule(t):\n",
    "    return t0 / (t + t1)\n",
    "\n",
    "np.random.seed(100)\n",
    "theta = np.random.randn(2,1)\n",
    "\n",
    "for epoch in range(n_epochs):\n",
    "    for iteration in range(m):\n",
    "        random_index = np.random.randint(m)\n",
    "        xi = X_b[random_index : random_index + 1]\n",
    "        yi = y[random_index : random_index + 1]\n",
    "        gradients = xi.T @ (xi @ theta - yi)  # 单个样本的梯度 不需要除以m\n",
    "        eta = learning_schedule(epoch*m + iteration)\n",
    "        theta = theta - eta * gradients\n"
   ],
   "id": "f25fceeb0521ecb1",
   "outputs": [],
   "execution_count": 17
  },
  {
   "metadata": {
    "ExecuteTime": {
     "end_time": "2025-07-31T16:34:06.119458Z",
     "start_time": "2025-07-31T16:34:06.107153Z"
    }
   },
   "cell_type": "code",
   "source": "theta",
   "id": "ac205c05d8e02f5f",
   "outputs": [
    {
     "data": {
      "text/plain": [
       "array([[3.98380275],\n",
       "       [2.87435455]])"
      ]
     },
     "execution_count": 18,
     "metadata": {},
     "output_type": "execute_result"
    }
   ],
   "execution_count": 18
  },
  {
   "metadata": {},
   "cell_type": "markdown",
   "source": "用随机梯度下降时，训练实例必须独立且在同一个概率分布下(Independent and Identically Distributed，IID)，以确保平均而言将参数拉向全局最优值。确保这一点的一种简单方法是在训练过程中对实例进行随机混洗（例如，随机选择每个实例，或者在每个轮次开始时随机混洗训练集）。如果不对实例进行混洗（例如，如果实例按标签排序）​，那么SGD将首先针对一个标签进行优化，然后针对下一个标签进行优化，以此类推，并且它不会接近全局最小值。",
   "id": "cf80f2e08480e2a4"
  },
  {
   "metadata": {},
   "cell_type": "markdown",
   "source": "要使用带有Scikit-Learn的随机梯度下降执行线性回归，可以使用SGDRegressor类，该类默认优化MSE代价函数。以下代码最多可运行1000个轮次(max_iter)，或者直到 连续100个轮次训练后，损失下降小于10-5(tol)为止(n_iter_no_change)。它使用默认的学习调度（与前一个使用的不同）以0.01(eta0)的学习率开始（eta0/迭代次数)。最后，它不使用任何正则化（penalty=None）",
   "id": "8f3a23a8700750cc"
  },
  {
   "metadata": {
    "ExecuteTime": {
     "end_time": "2025-07-31T16:34:08.029003Z",
     "start_time": "2025-07-31T16:34:08.016466Z"
    }
   },
   "cell_type": "code",
   "source": [
    "from sklearn.linear_model import SGDRegressor\n",
    "\n",
    "sgd_reg = SGDRegressor(max_iter=1000, tol=1e-5, penalty=None, eta0=0.01, n_iter_no_change=100, random_state=100)\n",
    "# sgd_reg.fit(X, y) # DataConversionWarning: A column-vector y was passed when a 1d array was expected. Please change the shape of y to (n_samples, ), for example using ravel().\n",
    "sgd_reg.fit(X, y.ravel())\n",
    "\n",
    "sgd_reg.intercept_, sgd_reg.coef_"
   ],
   "id": "5f412dd1fa96a87b",
   "outputs": [
    {
     "data": {
      "text/plain": [
       "(array([3.98345809]), array([2.86442731]))"
      ]
     },
     "execution_count": 19,
     "metadata": {},
     "output_type": "execute_result"
    }
   ],
   "execution_count": 19
  },
  {
   "metadata": {},
   "cell_type": "markdown",
   "source": "#### 小批量梯度下降（Mini-Batch gradient descent)",
   "id": "3f5e55ab921ff827"
  },
  {
   "metadata": {},
   "cell_type": "markdown",
   "source": [
    "最后一个梯度下降算法变体称为小批量梯度下降。了解了批量和随机梯度下降后，就很容易理解它：在每一步中，不是根据完整的训练集（如批量GD）或仅基于一个实例（如随机GD）来计算梯度，小批量GD在称为小型批量的随机实例集上计算梯度。小批量GD优于随机GD的主要优点是，可以通过矩阵操作的硬件优化来提高性能，特别是在使用GPU时。\n",
    "\n",
    "与随机GD相比，该算法在参数空间上的进展更稳定，尤其是在相当大的小批次中。小批量GD最终将比随机GD走得更接近最小值，但它可能很难摆脱局部最小值（在受局部最小值影响的情况下，不像有MSE代价函数的线性回归）。下图展示了训练期间参数空间中三种梯度下降算法所采用的路径。它们最终都接近最小值，但是批量GD的路径实际上是在最小值处停止，而随机GD和小批量GD都继续走动。但是，要记住批量GD每步需要花费很多时间，如果使用了良好的学习率调度，则随机GD和小批量GD也会达到最小值。\n",
    "\n",
    "![不同梯度下降在参数空间中的路径](./images/regression/p3.png)"
   ],
   "id": "b22ecafa0b1fee13"
  },
  {
   "metadata": {},
   "cell_type": "markdown",
   "source": [
    "- 线性回归算法的比较\n",
    "\n",
    "![线性回归的算法比较](./images/regression/p4.png)"
   ],
   "id": "834c60e6ab9833f7"
  },
  {
   "metadata": {},
   "cell_type": "markdown",
   "source": "### 多项式回归",
   "id": "decd702e4ba6406e"
  },
  {
   "metadata": {
    "ExecuteTime": {
     "end_time": "2025-07-31T16:34:11.301471Z",
     "start_time": "2025-07-31T16:34:11.285845Z"
    }
   },
   "cell_type": "code",
   "source": [
    "np.random.seed(100)\n",
    "m = 100\n",
    "X = 6 * np.random.rand(m, 1) - 3\n",
    "y = 0.5 * X ** 2 + X + 2 + np.random.randn(m, 1)"
   ],
   "id": "9cfeeef6994fdf23",
   "outputs": [],
   "execution_count": 20
  },
  {
   "metadata": {
    "ExecuteTime": {
     "end_time": "2025-07-31T16:34:11.836683Z",
     "start_time": "2025-07-31T16:34:11.749785Z"
    }
   },
   "cell_type": "code",
   "source": [
    "plt.figure(figsize=(6, 4))\n",
    "plt.plot(X, y, \"b.\")\n",
    "plt.xlabel(\"$x_1$\")\n",
    "plt.ylabel(\"$y$\", rotation=0)\n",
    "plt.axis([-3, 3, 0, 10])\n",
    "plt.grid()\n",
    "plt.show()"
   ],
   "id": "4bab0c532e70419b",
   "outputs": [
    {
     "data": {
      "text/plain": [
       "<Figure size 600x400 with 1 Axes>"
      ],
      "image/png": "[encoded data removed]"
     },
     "metadata": {},
     "output_type": "display_data"
    }
   ],
   "execution_count": 21
  },
  {
   "metadata": {
    "ExecuteTime": {
     "end_time": "2025-07-31T16:34:12.299849Z",
     "start_time": "2025-07-31T16:34:12.284363Z"
    }
   },
   "cell_type": "code",
   "source": [
    "from sklearn.preprocessing import PolynomialFeatures\n",
    "poly_features = PolynomialFeatures(degree=2, include_bias=False)\n",
    "\n",
    "X_poly = poly_features.fit_transform(X)\n",
    "X_poly.shape\n",
    "X[0]\n",
    "X_poly[0] # X_poly包含X的原始特征以及该特征的平方"
   ],
   "id": "90ff0905ad9661a",
   "outputs": [
    {
     "data": {
      "text/plain": [
       "array([0.26042965, 0.0678236 ])"
      ]
     },
     "execution_count": 22,
     "metadata": {},
     "output_type": "execute_result"
    }
   ],
   "execution_count": 22
  },
  {
   "metadata": {
    "ExecuteTime": {
     "end_time": "2025-07-31T16:34:12.789071Z",
     "start_time": "2025-07-31T16:34:12.774063Z"
    }
   },
   "cell_type": "code",
   "source": [
    "lin_reg = LinearRegression()\n",
    "lin_reg.fit(X_poly, y)\n",
    "lin_reg.intercept_, lin_reg.coef_"
   ],
   "id": "d1230afe9b34b1d7",
   "outputs": [
    {
     "data": {
      "text/plain": [
       "(array([1.84320636]), array([[0.95406518, 0.50130709]]))"
      ]
     },
     "execution_count": 23,
     "metadata": {},
     "output_type": "execute_result"
    }
   ],
   "execution_count": 23
  },
  {
   "metadata": {
    "ExecuteTime": {
     "end_time": "2025-07-31T16:34:13.340839Z",
     "start_time": "2025-07-31T16:34:13.248571Z"
    }
   },
   "cell_type": "code",
   "source": [
    "# 随堂练习，利用lin_reg的预测能力 和 poly_features的组合特征的能力，生成抛物线\n",
    "\n",
    "plt.plot(X, y, \"b.\")\n",
    "plt.xlabel(\"$x_1$\")\n",
    "plt.ylabel(\"$y$\", rotation=0)\n",
    "plt.grid()\n",
    "plt.show()"
   ],
   "id": "5d676d6f26cdfe76",
   "outputs": [
    {
     "data": {
      "text/plain": [
       "<Figure size 640x480 with 1 Axes>"
      ],
      "image/png": "[encoded data removed]"
     },
     "metadata": {},
     "output_type": "display_data"
    }
   ],
   "execution_count": 24
  },
  {
   "metadata": {},
   "cell_type": "markdown",
   "source": "-注意：PolynomialFeatures可以将特征的所有组合添加到给定的多项式阶数。例如特征a和b，degree=3,会有ab，a^2 * b, ab^2. PolynomialFeatures(degree=d)可以将一个包含n个特征的数组转换为包含(n+d)!/(d!n!)个特征的数组, 要小心特征组合的数量爆炸\n",
   "id": "74ef85d705d848d2"
  },
  {
   "metadata": {},
   "cell_type": "markdown",
   "source": [
    "### 学习曲线\n",
    "所有sklearn估计器都可以使用fit()方法进行训练，有一些估计器还有partial_fit()方法，可以调用该方法在一个或多个实例上运行单轮训练。\n",
    "\n",
    "反复调用partial_fit()会逐渐训练模型。可能同时有一个warm_start=True的超参数，如果warm_start=True,则在训练模型调用fit()方法将不会重置模型，它会在停止的地方继续训练。\n",
    "\n",
    "sklearn的学习曲线可以得到模型的训练误差和验证误差随训练集大小变化的图（类似于反复调用partial_fit(), 每次评估一次训练和验证误差），如果不支持partial_fit()或warm_start, 则必须在训练集逐渐变大的子集上多次训练它。\n",
    "\n",
    "sklearn的learning_curve函数返回它评估模型的训练集大小，以及它为每个大小和每个交叉验证测量的训练和验证分数"
   ],
   "id": "44c8c799bcb73907"
  },
  {
   "metadata": {
    "ExecuteTime": {
     "end_time": "2025-07-31T16:34:15.154920Z",
     "start_time": "2025-07-31T16:34:14.880468Z"
    }
   },
   "cell_type": "code",
   "source": [
    "from sklearn.model_selection import learning_curve\n",
    "\n",
    "train_sizes, train_scores, valid_scores = learning_curve(LinearRegression(), X, y, train_sizes=np.linspace(0.01, 1.0, 40), cv=5, scoring=\"neg_mean_squared_error\")\n",
    "train_errors = -train_scores.mean(axis=1)\n",
    "valid_errors = -valid_scores.mean(axis=1)\n",
    "\n",
    "plt.figure(figsize=(6, 4))\n",
    "plt.plot(train_sizes, train_errors, c=\"r\", linewidth=2, label=\"train\", linestyle=\"-\", marker=\"+\")\n",
    "plt.plot(train_sizes, valid_errors, \"b-\", linewidth=3, label=\"valid\")\n",
    "\n",
    "plt.xlabel(\"Training set size\")\n",
    "plt.ylabel(\"RMSE\")\n",
    "plt.grid()\n",
    "plt.legend(loc=\"upper right\")\n",
    "plt.axis([0, 80, 0, 4])\n",
    "plt.show()"
   ],
   "id": "2ad034792779d9bb",
   "outputs": [
    {
     "data": {
      "text/plain": [
       "<Figure size 600x400 with 1 Axes>"
      ],
      "image/png": "[encoded data removed]"
     },
     "metadata": {},
     "output_type": "display_data"
    }
   ],
   "execution_count": 25
  },
  {
   "metadata": {},
   "cell_type": "markdown",
   "source": [
    "这是个典型的欠拟合learning curve：训练集只有1-2个实例时，模型完全贴合，红色曲线从0开始，但是随着将新实例添加到训练集中，模型不能完美拟合数据，训练误差一致上升，直到达到平稳状态\n",
    "\n",
    "验证误差：很多训练集时，无法正确泛化，一开始验证误差很大，随着样例变多，验证误差逐渐降低，但误差没降低多少已经趋于平稳，接近训练的误差曲线。\n",
    "\n",
    "-> 典型的欠拟合状态：两条曲线趋于平稳，很接近，很高。"
   ],
   "id": "bdcd83548b1055b2"
  },
  {
   "metadata": {
    "ExecuteTime": {
     "end_time": "2025-07-31T16:34:16.115753Z",
     "start_time": "2025-07-31T16:34:16.110154Z"
    }
   },
   "cell_type": "code",
   "source": "# 随堂练习：生成相同数据上10阶多项式模型的学习曲线（如下图） 提示：可以把Polynomial feature和LinearRegression组成一个流水线\n",
   "id": "55d1f5b2468cbc21",
   "outputs": [],
   "execution_count": 26
  },
  {
   "metadata": {},
   "cell_type": "markdown",
   "source": [
    "这个学习曲线和之前的区别：\n",
    "- 和之前比，训练数据上的误差要低得多\n",
    "- 曲线之间存在间隙。这意味着该模型在训练数据上的性能要比在验证数据上的性能好得多，这是过拟合的标志。但是，如果使用更大的训练集，则两条曲线会继续接近"
   ],
   "id": "d9b4fdb76c392969"
  },
  {
   "metadata": {},
   "cell_type": "markdown",
   "source": [
    "**理论：偏差/方差权衡**\n",
    "\n",
    "- 偏差/方差权衡统计学和机器学习的重要理论成果是以下一个事实：模型的泛化误差可以表示为三个非常不同的误差之和：\n",
    "- 偏差：这部分泛化误差的原因在于错误的假设，比如假设数据是线性的，而实际上是二次的。高偏差模型最有可能对训练数据欠拟合。\n",
    "- 方差：这部分是由于模型对训练数据的细微变化过于敏感。具有许多自由度的模型（例如高阶多项式模型）可能具有较高的方差，因此可能过拟合训练数据。\n",
    "- 不可避免的误差：这部分误差是因为数据本身的噪声所致。减少这部分误差的唯一方法就是清洗数据（例如修复数据源（如损坏的传感器），或者检测并移除异常值）。\n",
    "\n",
    "增加模型的复杂度通常会显著提升模型的方差，减少偏差。反过来，降低模型的复杂度则会提升模型的偏差，降低方差。这就是为什么称其为权衡。"
   ],
   "id": "5a732ed2a93a317"
  },
  {
   "metadata": {},
   "cell_type": "markdown",
   "source": [
    "### 正则化线性模型\n",
    "讨论的是通过约束模型的权重实现的正则化，岭回归（Ridge，L2正则化）， 套索回归（Lasso，L1正则化），弹性网络回归（Elastic Net，L1+L2正则化）"
   ],
   "id": "9b2b9318566ff797"
  },
  {
   "metadata": {},
   "cell_type": "markdown",
   "source": [
    "#### 岭回归\n",
    "\n",
    "岭回归（L2正则化）是线性回归的正则化版本：将等于$\\frac{\\alpha}{m} \\sum_{i=1}^{n} \\theta_i^2$的正则化项添加到MSE。这迫使学习算法不仅拟合数据，而且还使模型权重尽可能地小。请注意，仅在训练期间将正则化项添加到代价函数中。训练模型后，你希望使用非正则化MSE（或RMSE）来评估模型的性能。\n",
    "\n",
    "超参数α控制要对模型进行正则化的程度。如果α=0，则岭回归仅是线性回归。如果α非常大，则所有权重最终都非常接近于零，结果是一条经过数据均值的平线。\n",
    "$$\n",
    "J(\\boldsymbol{\\theta}) = \\text{MSE}(\\boldsymbol{\\theta}) + \\frac{\\alpha}{m} \\sum_{i=1}^{n} \\theta_i^2\n",
    "$$\n",
    "\n",
    "请注意，偏置项 $\\theta_0$ 没有进行正则化（总和从 $i=1$ 开始，而不是 0）。\n",
    "如果我们将 $\\mathbf{w}$ 定义为特征权重的向量（$\\theta_1$ 至 $\\theta_n$），则正则项等于 $\\alpha \\|\\mathbf{w}\\|_2^2$，其中 $\\|\\mathbf{w}\\|_2$ 表示权重向量的 $\\ell_2$ 范数。\n",
    "\n",
    "对于梯度下降，只需将 $\\frac{2\\alpha}{m} \\mathbf{w}$ 添加到 MSE 梯度向量中对应于特征权重的部分，而不添加任何偏差项的梯度。\n",
    "\n",
    "在执行岭回归之前缩放数据（例如使用StandardScaler）很重要，因为它对输入特征的缩放敏感。大多数正则化模型都需要如此。"
   ],
   "id": "6ca8c77c7436f453"
  },
  {
   "metadata": {
    "ExecuteTime": {
     "end_time": "2025-07-31T16:34:19.033944Z",
     "start_time": "2025-07-31T16:34:19.018497Z"
    }
   },
   "cell_type": "code",
   "source": [
    "# alpha的增加会导致更平坦的预测，从而减少了模型的方差，但增加了其偏差\n",
    "import numpy as np\n",
    "np.random.seed(100)\n",
    "m = 20\n",
    "X = 3 * np.random.rand(m, 1)\n",
    "y = 1 + 0.5 * X + np.random.randn(m, 1) / 1.5\n",
    "X_new = np.linspace(0, 3, 100).reshape(100, 1)"
   ],
   "id": "28f28d2d83867545",
   "outputs": [],
   "execution_count": 27
  },
  {
   "metadata": {
    "ExecuteTime": {
     "end_time": "2025-07-31T16:34:19.811747Z",
     "start_time": "2025-07-31T16:34:19.704028Z"
    }
   },
   "cell_type": "code",
   "source": [
    "plt.figure(figsize=(6, 4))\n",
    "plt.plot(X, y, \".\")\n",
    "plt.xlabel(\"$x_1$\")\n",
    "plt.ylabel(\"$y$  \", rotation=0)\n",
    "plt.axis([0, 3, 0, 3.5])\n",
    "plt.grid()\n",
    "plt.show()"
   ],
   "id": "bdc49208d433be4",
   "outputs": [
    {
     "data": {
      "text/plain": [
       "<Figure size 600x400 with 1 Axes>"
      ],
      "image/png": "[encoded data removed]"
     },
     "metadata": {},
     "output_type": "display_data"
    }
   ],
   "execution_count": 28
  },
  {
   "metadata": {
    "ExecuteTime": {
     "end_time": "2025-07-31T16:34:20.508125Z",
     "start_time": "2025-07-31T16:34:20.304221Z"
    }
   },
   "cell_type": "code",
   "source": [
    "from sklearn.linear_model import Ridge\n",
    "from sklearn.preprocessing import StandardScaler\n",
    "from sklearn.pipeline import make_pipeline\n",
    "\n",
    "def plot_model(model_class, polynomial, alphas, **model_kwargs):\n",
    "    plt.plot(X, y, \"b.\", linewidth=3)\n",
    "    for alpha, style in zip(alphas, (\"b:\", \"g--\", \"r-\")):\n",
    "        if alpha > 0:\n",
    "            model = model_class(alpha, **model_kwargs)\n",
    "        else:\n",
    "            model = LinearRegression()\n",
    "        if polynomial:\n",
    "            model = make_pipeline(\n",
    "                PolynomialFeatures(degree=10, include_bias=False),\n",
    "                StandardScaler(),\n",
    "                model)\n",
    "        model.fit(X, y)\n",
    "        y_new_regul = model.predict(X_new)\n",
    "        plt.plot(X_new, y_new_regul, style, linewidth=2,\n",
    "                 label=fr\"$\\alpha = {alpha}$\")\n",
    "    plt.legend(loc=\"upper left\")\n",
    "    plt.xlabel(\"$x_1$\")\n",
    "    plt.axis([0, 3, 0, 3.5])\n",
    "    plt.grid()\n",
    "\n",
    "plt.figure(figsize=(9, 3.5))\n",
    "plt.subplot(1,2,1)\n",
    "plot_model(Ridge, polynomial=False, alphas=(0, 10, 100), random_state=100)\n",
    "plt.ylabel(\"$y$  \", rotation=0)\n",
    "plt.subplot(1,2,2)\n",
    "plot_model(Ridge, polynomial=True, alphas=(0, 10**-5, 1), random_state=100)\n",
    "plt.show()"
   ],
   "id": "cf3db60db16d3cbf",
   "outputs": [
    {
     "data": {
      "text/plain": [
       "<Figure size 900x350 with 2 Axes>"
      ],
      "image/png": "[encoded data removed]"
     },
     "metadata": {},
     "output_type": "display_data"
    }
   ],
   "execution_count": 29
  },
  {
   "metadata": {},
   "cell_type": "markdown",
   "source": [
    "alpha增加会导致更平坦的预测，从而减少了模型的方差，但增加了其偏差。\n",
    "\n",
    "岭回归可以通过计算闭合形式的方程 或执行梯度下降执行， 闭式解公式：$\n",
    "\\hat{\\boldsymbol{\\theta}} = (X^\\top X + \\alpha A)^{-1} X^\\top \\mathbf{y}\n",
    "$\n"
   ],
   "id": "400cdb77d0612485"
  },
  {
   "metadata": {
    "ExecuteTime": {
     "end_time": "2025-07-31T16:34:21.575274Z",
     "start_time": "2025-07-31T16:34:21.560315Z"
    }
   },
   "cell_type": "code",
   "source": [
    "# 岭回归可以通过计算闭合形式的方程 或执行梯度下降执行\n",
    "from sklearn.linear_model import Ridge\n",
    "ridge_reg = Ridge(alpha=0.1, solver=\"cholesky\")  # 闭式解公式的变体\n",
    "ridge_reg.fit(X, y)\n",
    "ridge_reg.predict([[1.5]])\n",
    "\n",
    "# penalty=\"l2\", alpha=0.1/m -> 添加正则项 alpha * l2范数的平方，这里 0.1/m，/m要手动添加，获得和Ridge(alpha=0.1)一样的效果\n",
    "#  tol=None表示不会提前停止，跑到max_iter规定的次数\n",
    "sgd_reg = SGDRegressor(penalty=\"l2\", alpha=0.1/m, tol=None, max_iter=1000, eta0=0.1, random_state=100)\n",
    "sgd_reg.fit(X, y.ravel())\n",
    "sgd_reg.predict([[1.5]])"
   ],
   "id": "702e64d978d4abdf",
   "outputs": [
    {
     "data": {
      "text/plain": [
       "array([1.88777645])"
      ]
     },
     "execution_count": 30,
     "metadata": {},
     "output_type": "execute_result"
    }
   ],
   "execution_count": 30
  },
  {
   "metadata": {},
   "cell_type": "markdown",
   "source": "RidgeCV类也执行岭回归，但它使用交叉验证自动调整超参数。它大致相当于使用GridSearchCV，但它针对岭回归进行了优化并且运行速度更快。其他几个估计器（主要是线性的）也有高效的CV变体，例如LassoCV和ElasticNetCV。",
   "id": "a49648c6976f458f"
  },
  {
   "metadata": {},
   "cell_type": "markdown",
   "source": [
    "#### Lasso回归\n",
    "它和岭回归类似，在代价函数上增加了一个正则化项，但它使用向量的l1范数而不是l2范数的平方，注意l1范数乘以2a，而l2范数在岭回归中乘以a/m。不同的范数选择不同系数的目的是确保选择最佳的a可以独立于训练集大小\n",
    "\n",
    "$$\n",
    "J(\\theta)=\\text{MSE}(\\theta)+2\\alpha\\sum_{i=1}^{n}\\lvert\\theta_i\\rvert\n",
    "$$\n"
   ],
   "id": "ce3d1a72f2ba7e74"
  },
  {
   "metadata": {},
   "cell_type": "markdown",
   "source": [
    "- Lasso回归和岭回归的相似性：都可以限制权重大小，进而降低过拟合 （直接记）\n",
    "\n",
    "$$\n",
    "w^{(t+1)} \\;=\\; w^{(t)} \\;-\\; \\eta\\,\\alpha\\,\\operatorname{sign}\\!\\bigl(w^{(t)}\\bigr)\n",
    "$$\n",
    "\n",
    "其中\n",
    "$\n",
    "\\operatorname{sign}(w_t)=\n",
    "\\begin{cases}\n",
    "-1, & w_t < 0\\\\\n",
    "[-1,1], & w_t = 0\\\\\n",
    "+1, & w_t > 0\n",
    "\\end{cases}\n",
    "$\n",
    "\n",
    "上述公式省掉了 均方误差函数的梯度，重点体现权重的衰减： W是正数，微小幅度往下降；W是负数，微小幅度往上升；W是0，可以保持不变\n",
    "\n",
    "Lasso代价函数在权重为0处是不可微的，但是用任何围绕该点的梯度值之间的中间值去替代，梯度下降仍然可以正常工作\n"
   ],
   "id": "a4c5cf9796e4adbc"
  },
  {
   "metadata": {},
   "cell_type": "markdown",
   "source": [
    "- Lasso回归和岭回归的不同：岭回归倾向把权重压得接近0，Lasso回归倾向于完全消除掉不重要特征得权重。换句话说，Lasso回归自动执行特征选择并输出具有很少非零特征权重的系数模型 （直接记）\n",
    "\n",
    "解释：L1正则化的损失函数的梯度 = 0 在权重是0的时候更容易被满足\n",
    "\n",
    "数学细节（了解）：\n",
    "\n"
   ],
   "id": "a85630bd62043c1"
  },
  {
   "metadata": {},
   "cell_type": "markdown",
   "source": [
    "1. 设定\n",
    "\n",
    "记\n",
    "\n",
    "* 训练样本 $X\\in\\mathbb R^{n\\times p}$，目标 $y\\in\\mathbb R^{n}$\n",
    "* 参数向量 $w\\in\\mathbb R^{p}$\n",
    "\n",
    "目标函数（把 $1/2n$ 写进平方误差，只为符号简洁）\n",
    "\n",
    "$$\n",
    "J(w)\n",
    "= \\frac1{2n}\\,\\|\\,y-Xw\\|_2^{2} \\;+\\; \\lambda\\,\\|w\\|_1\n",
    "\\tag{1}\n",
    "$$\n",
    "\n",
    "其中 $\\lambda>0$ 控制正则强度。\n",
    "\n",
    "\n",
    "\n",
    "2. 可微部分的梯度\n",
    "\n",
    "平方损失是可微的：\n",
    "\n",
    "$$\n",
    "\\nabla_{w}\\frac1{2n}\\,\\|\\,y-Xw\\|_2^{2}\n",
    "= -\\frac1n X^{\\!\\top}(y-Xw)\n",
    "=: g(w)\\in\\mathbb R^{p}.\n",
    "\\tag{2}\n",
    "$$\n",
    "\n",
    "（也常写成 $g(w)=\\frac1n X^{\\!\\top}Xw-\\frac1n X^{\\!\\top}y$。）\n",
    "\n",
    "\n",
    "\n",
    "3. 不可微部分的**次梯度**\n",
    "\n",
    "L1 范数在 $w_j=0$ 处不可导，用**次梯度 (sub-gradient)**：\n",
    "\n",
    "$$\n",
    "\\partial|w_j|=\n",
    "\\begin{cases}\n",
    "\\{\\;+\\!1\\;\\}, & w_j>0 \\\\[2pt]\n",
    "[-1,+1], & w_j=0 \\\\[2pt]\n",
    "\\{\\;-1\\;\\}, & w_j<0\n",
    "\\end{cases}\n",
    "\\tag{3}\n",
    "$$\n",
    "\n",
    "整体写成向量形式：$\\partial\\|w\\|_1 = \\{\\,s\\in\\mathbb R^{p} \\mid s_j\\in\\partial|w_j|\\,\\}$.\n",
    "\n",
    "\n",
    "\n",
    "4. 最优条件：**0 = 梯度 + λ·次梯度**\n",
    "\n",
    "$$\n",
    "\\mathbf 0 \\;\\in\\;\n",
    "g(w) \\;+\\; \\lambda\\,\\partial\\|w\\|_1\n",
    "\\tag{4}\n",
    "$$\n",
    "\n",
    "把它拆成每一维 $j$：\n",
    "\n",
    "$$\n",
    "0\\;\\in\\;g_j(w) + \\lambda\\cdot \\mathrm{sign}(w)_j,\n",
    "\\qquad\n",
    "\\text{其中 } \\mathrm{sign}(0)\\equiv[-1,1].\n",
    "\\tag{5}\n",
    "$$\n",
    "\n",
    "\n",
    "\n",
    "5. 逐坐标解析：产生“0”与“软阈值”\n",
    "\n",
    "设残差 $r = y - Xw$。由 (2):\n",
    "\n",
    "$$\n",
    "g_j(w) \\;=\\; -\\frac1n \\boldsymbol x_j^{\\!\\top} r\n",
    "$$\n",
    "\n",
    "其中 $\\boldsymbol x_j$ 是第 $j$ 列特征向量。\n",
    "\n",
    "\n",
    "\n",
    "5.1 若 $w_j\\neq0$\n",
    "\n",
    "则 $\\mathrm{sign}(w_j)$ 只可能是 ±1，(5) 变为\n",
    "\n",
    "$$\n",
    "-\\frac1n\\boldsymbol x_j^{\\!\\top}r + \\lambda\\,\\mathrm{sign}(w_j)\n",
    " = 0\n",
    "\\;\\;\\Longrightarrow\\;\\;\n",
    "\\bigl|\\boldsymbol x_j^{\\!\\top}r\\bigr|/n = \\lambda .\n",
    "\\tag{6}\n",
    "$$\n",
    "\n",
    "也就是说 **非零权重必须让该特征与残差的相关度** 精准等于 $\\lambda$。\n",
    "\n",
    "\n",
    "\n",
    "5.2 若 $w_j=0$\n",
    "\n",
    "此时 $\\mathrm{sign}(0)=[-1,1]$，条件 (5) 允许\n",
    "\n",
    "$$\n",
    "\\left|\\,\\frac1n \\boldsymbol x_j^{\\!\\top} r \\right|\n",
    "\\;\\le\\;\\lambda .\n",
    "\\tag{7}\n",
    "$$\n",
    "\n",
    "> ↳ **宽松得多**：只要相关度落进 $[-λ,λ]$，就满足最优条件，\n",
    "> 所以“停在 0”最容易。\n",
    "\n",
    "\n",
    "\n"
   ],
   "id": "e2c8e5e86784368c"
  },
  {
   "metadata": {
    "ExecuteTime": {
     "end_time": "2025-07-31T16:34:25.977581Z",
     "start_time": "2025-07-31T16:34:25.961957Z"
    }
   },
   "cell_type": "code",
   "source": [
    "from sklearn.linear_model import Lasso\n",
    "\n",
    "lasso_reg = Lasso(alpha=0.1)\n",
    "lasso_reg.fit(X, y)\n",
    "lasso_reg.predict([[1.5]])"
   ],
   "id": "86ccb9c93ce927ab",
   "outputs": [
    {
     "data": {
      "text/plain": [
       "array([1.86696274])"
      ]
     },
     "execution_count": 31,
     "metadata": {},
     "output_type": "execute_result"
    }
   ],
   "execution_count": 31
  },
  {
   "metadata": {},
   "cell_type": "code",
   "outputs": [],
   "execution_count": null,
   "source": "# 随堂练习：注意上述可以改用 SGDRegressor(penalty=\"l1\", alpha=0.1)",
   "id": "992de0930bbc0936"
  },
  {
   "metadata": {
    "ExecuteTime": {
     "end_time": "2025-07-31T16:34:26.874680Z",
     "start_time": "2025-07-31T16:34:26.671955Z"
    }
   },
   "cell_type": "code",
   "source": [
    "import matplotlib.pyplot as plt\n",
    "plt.figure(figsize=(9, 3.5))\n",
    "plt.subplot(1,2,1)\n",
    "plot_model(Lasso, polynomial=False, alphas=(0, 0.1, 1), random_state=100)\n",
    "plt.ylabel(\"$y$  \", rotation=0)\n",
    "plt.subplot(1,2,2)\n",
    "plot_model(Lasso, polynomial=True, alphas=(0, 1e-2, 1), random_state=100)   # a=0.01时 已经看起来像个二次曲线了，体现Lasso回归自动特征选择，并输出很少非0特征权重\n",
    "plt.show()"
   ],
   "id": "6ba1b3a1fcd55ccb",
   "outputs": [
    {
     "data": {
      "text/plain": [
       "<Figure size 900x350 with 2 Axes>"
      ],
      "image/png": "[encoded data removed]"
     },
     "metadata": {},
     "output_type": "display_data"
    }
   ],
   "execution_count": 32
  },
  {
   "metadata": {},
   "cell_type": "markdown",
   "source": "为了防止在使用Lasso时梯度下降最终在最优解附近反弹，需要降低训练期间的学习率，虽然降低仍会反弹，但反弹幅度不大，学习率*梯度会越来越小，最终收敛",
   "id": "331ee58744c44f0c"
  },
  {
   "metadata": {},
   "cell_type": "markdown",
   "source": [
    "#### 弹性网络回归\n",
    "弹性网络回归是岭回归和Lasso回归之间的中间地带。它的正则化项是岭和Lasso正则化项的加权和。可以控制混合比r，当r=0时，弹性网络相当于岭回归，当r=1时，相当于Lasso回归\n",
    "$$J(\\boldsymbol{\\theta}) \\;=\\; \\mathrm{MSE}(\\boldsymbol{\\theta}) \\;+\\; r\\!\\bigl(2\\alpha \\sum_{i=1}^{n} \\lvert \\theta_i \\rvert \\bigr) \\;+\\; (1-r)\\!\\left(\\frac{\\alpha}{m}\\sum_{i=1}^{n} \\theta_i^{2}\\right)$$\n"
   ],
   "id": "ffc063af2320af3"
  },
  {
   "metadata": {},
   "cell_type": "markdown",
   "source": [
    "什么时候应该使用弹性网络、岭、Lasso，或者普通的线性回归（即不进行任何正则化）呢？(记忆)\n",
    "\n",
    "通常来说，有正则化（哪怕是很小），总是比没有更可取一些。所以大多数情况下，应该避免使用纯线性回归。岭回归是个不错的默认选择，但是如果你觉得实际用到的特征只有少数几个，那就应该更倾向于Lasso回归或是弹性网络，因为它们会将无用特征的权重降为零，如前所述。一般而言，弹性网络优于Lasso回归，因为当特征数量超过训练实例数量，又或者是几个特征强相关时，Lasso回归的表现可能非常不稳定。"
   ],
   "id": "823413638cb53a23"
  },
  {
   "metadata": {
    "ExecuteTime": {
     "end_time": "2025-07-31T16:49:53.765544Z",
     "start_time": "2025-07-31T16:49:53.743497Z"
    }
   },
   "cell_type": "code",
   "source": [
    "from sklearn.linear_model import ElasticNet\n",
    "elastic_net = ElasticNet(alpha=0.1, l1_ratio=0.1)\n",
    "elastic_net.fit(X, y)\n",
    "elastic_net.predict([[1.5]])"
   ],
   "id": "a2c80e6537b6ae56",
   "outputs": [
    {
     "data": {
      "text/plain": [
       "array([1.87283437])"
      ]
     },
     "execution_count": 34,
     "metadata": {},
     "output_type": "execute_result"
    }
   ],
   "execution_count": 34
  },
  {
   "metadata": {},
   "cell_type": "code",
   "outputs": [],
   "execution_count": null,
   "source": "",
   "id": "a401f0eb82542d59"
  }
 ],
 "metadata": {
  "kernelspec": {
   "display_name": "Python 3",
   "language": "python",
   "name": "python3"
  },
  "language_info": {
   "codemirror_mode": {
    "name": "ipython",
    "version": 2
   },
   "file_extension": ".py",
   "mimetype": "text/x-python",
   "name": "python",
   "nbconvert_exporter": "python",
   "pygments_lexer": "ipython2",
   "version": "2.7.6"
  }
 },
 "nbformat": 4,
 "nbformat_minor": 5
}
