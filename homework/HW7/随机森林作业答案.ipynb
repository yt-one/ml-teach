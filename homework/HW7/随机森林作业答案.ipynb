{
 "cells": [
  {
   "metadata": {},
   "cell_type": "markdown",
   "source": "## 简答题",
   "id": "cfac48c32b317ca0"
  },
  {
   "metadata": {},
   "cell_type": "markdown",
   "source": [
    "1. **模型投票法（Voting）**\n",
    "   如果你训练了五个不同的模型，并且它们都达到了 95% 的精度，可以尝试将它们组合成一个投票集成（voting ensemble），通常能得到更好的结果。\n",
    "\n",
    "   * 当模型差异很大时（例如 SVM 分类器、决策树分类器、逻辑回归分类器等），效果更好。\n",
    "   * 如果它们训练在不同的训练实例上，效果会更佳（这正是 bagging 和 pasting 的目的）。\n",
    "   * 即使不是这样，只要模型之间差异足够大，集成仍然有效。\n",
    "\n",
    "2. **硬投票 vs. 软投票**\n",
    "\n",
    "   * 硬投票分类器统计每个分类器的投票，选择得票最多的类别。\n",
    "   * 软投票分类器计算每个类别的平均预测概率，选择概率最高的类别。\n",
    "   * 软投票会给高置信度的预测更大权重，通常表现更好，但前提是每个分类器都能估计类别概率（例如在 Scikit-Learn 中使用 SVM 分类器时必须设置 `probability=True`）。\n",
    "\n",
    "3. **加速训练**\n",
    "\n",
    "   * 对于 Bagging 集成，可以将训练分配到多个服务器，因为每个预测器都是独立的。\n",
    "   * 同样的道理适用于 Pasting 集成和随机森林。\n",
    "   * 但 Boosting 中每个预测器依赖前一个预测器，训练是顺序进行的，因此无法并行。\n",
    "   * Stacking 集成中的每一层预测器可以并行训练，但必须等上一层的预测器训练完毕后才能继续。\n",
    "\n",
    "4. **包外评估（Out-of-Bag Evaluation, OOB）**\n",
    "\n",
    "   * 在 Bagging 集成中，每个预测器都会用到未训练过的实例进行评估（这些样本被“留出”）。\n",
    "   * 这提供了对集成结果相对无偏的评估，不需要额外验证集。\n",
    "\n",
    "5. **随机森林与 Extra-Trees**\n",
    "\n",
    "   * 在随机森林中，节点划分时只考虑特征的随机子集。\n",
    "   * Extra-Trees 更进一步：它们使用完全随机的阈值，而不是搜索最优阈值。\n",
    "   * 这种随机性类似正则化，可以减少过拟合。\n",
    "   * 如果随机森林过拟合，Extra-Trees 可能表现更好。\n",
    "   * 它们训练速度更快，但在性能上可能不一定比随机森林更好或更差。\n",
    "\n",
    "6. **AdaBoost 欠拟合的解决办法**\n",
    "\n",
    "   * 如果 AdaBoost 欠拟合，可以尝试：\n",
    "\n",
    "     * 增加估计器数量\n",
    "     * 减小基学习器的正则化\n",
    "     * 适度增加学习率\n",
    "\n",
    "7. **梯度提升（Gradient Boosting）过拟合的解决办法**\n",
    "\n",
    "   * 如果梯度提升过拟合，可以尝试降低学习率。\n",
    "   * 也可以使用早停法，在找到最佳预测器数量时提前终止训练。\n"
   ],
   "id": "6cae8a1456ccf6"
  },
  {
   "metadata": {},
   "cell_type": "markdown",
   "source": "## 编程题1",
   "id": "a9a57dac62aff2d6"
  },
  {
   "metadata": {
    "ExecuteTime": {
     "end_time": "2025-08-20T07:14:17.648219Z",
     "start_time": "2025-08-20T07:14:12.230592Z"
    }
   },
   "cell_type": "code",
   "source": [
    "from sklearn.datasets import fetch_openml\n",
    "\n",
    "mnist = fetch_openml('mnist_784', as_frame=False, parser=\"auto\")"
   ],
   "id": "b86dd6cc6d4d048d",
   "outputs": [],
   "execution_count": 2
  },
  {
   "metadata": {
    "ExecuteTime": {
     "end_time": "2025-08-20T07:14:17.678902Z",
     "start_time": "2025-08-20T07:14:17.657222Z"
    }
   },
   "cell_type": "code",
   "source": [
    "X, y = mnist.data, mnist.target\n",
    "X_train, X_valid, X_test, y_train, y_valid, y_test = X[:40000], X[40000:50000],X[50000:], y[:40000], y[40000:50000], y[50000:]"
   ],
   "id": "4877425196bcce24",
   "outputs": [],
   "execution_count": 3
  },
  {
   "metadata": {
    "ExecuteTime": {
     "end_time": "2025-08-20T07:15:41.924767Z",
     "start_time": "2025-08-20T07:14:17.690401Z"
    }
   },
   "cell_type": "code",
   "source": [
    "from sklearn.ensemble import RandomForestClassifier, ExtraTreesClassifier, VotingClassifier\n",
    "from sklearn.svm import LinearSVC\n",
    "\n",
    "voting_classifier = VotingClassifier(\n",
    "    estimators = [(\"rf\", RandomForestClassifier(n_estimators=300, max_leaf_nodes=32, random_state=42)),\n",
    "                  (\"et\", ExtraTreesClassifier(n_estimators=300, max_leaf_nodes=32, random_state=43)),\n",
    "                  (\"svc\", LinearSVC(random_state=42, C=0.05, dual=True)),\n",
    "], voting = 'hard', n_jobs = -1)\n",
    "\n",
    "voting_classifier.fit(X_train, y_train)"
   ],
   "id": "4d113c3c7351d4b9",
   "outputs": [
    {
     "data": {
      "text/plain": [
       "VotingClassifier(estimators=[('rf',\n",
       "                              RandomForestClassifier(max_leaf_nodes=32,\n",
       "                                                     n_estimators=300,\n",
       "                                                     random_state=42)),\n",
       "                             ('et',\n",
       "                              ExtraTreesClassifier(max_leaf_nodes=32,\n",
       "                                                   n_estimators=300,\n",
       "                                                   random_state=43)),\n",
       "                             ('svc',\n",
       "                              LinearSVC(C=0.05, dual=True, random_state=42))],\n",
       "                 n_jobs=-1)"
      ],
      "text/html": [
       "<style>#sk-container-id-1 {color: black;}#sk-container-id-1 pre{padding: 0;}#sk-container-id-1 div.sk-toggleable {background-color: white;}#sk-container-id-1 label.sk-toggleable__label {cursor: pointer;display: block;width: 100%;margin-bottom: 0;padding: 0.3em;box-sizing: border-box;text-align: center;}#sk-container-id-1 label.sk-toggleable__label-arrow:before {content: \"▸\";float: left;margin-right: 0.25em;color: #696969;}#sk-container-id-1 label.sk-toggleable__label-arrow:hover:before {color: black;}#sk-container-id-1 div.sk-estimator:hover label.sk-toggleable__label-arrow:before {color: black;}#sk-container-id-1 div.sk-toggleable__content {max-height: 0;max-width: 0;overflow: hidden;text-align: left;background-color: #f0f8ff;}#sk-container-id-1 div.sk-toggleable__content pre {margin: 0.2em;color: black;border-radius: 0.25em;background-color: #f0f8ff;}#sk-container-id-1 input.sk-toggleable__control:checked~div.sk-toggleable__content {max-height: 200px;max-width: 100%;overflow: auto;}#sk-container-id-1 input.sk-toggleable__control:checked~label.sk-toggleable__label-arrow:before {content: \"▾\";}#sk-container-id-1 div.sk-estimator input.sk-toggleable__control:checked~label.sk-toggleable__label {background-color: #d4ebff;}#sk-container-id-1 div.sk-label input.sk-toggleable__control:checked~label.sk-toggleable__label {background-color: #d4ebff;}#sk-container-id-1 input.sk-hidden--visually {border: 0;clip: rect(1px 1px 1px 1px);clip: rect(1px, 1px, 1px, 1px);height: 1px;margin: -1px;overflow: hidden;padding: 0;position: absolute;width: 1px;}#sk-container-id-1 div.sk-estimator {font-family: monospace;background-color: #f0f8ff;border: 1px dotted black;border-radius: 0.25em;box-sizing: border-box;margin-bottom: 0.5em;}#sk-container-id-1 div.sk-estimator:hover {background-color: #d4ebff;}#sk-container-id-1 div.sk-parallel-item::after {content: \"\";width: 100%;border-bottom: 1px solid gray;flex-grow: 1;}#sk-container-id-1 div.sk-label:hover label.sk-toggleable__label {background-color: #d4ebff;}#sk-container-id-1 div.sk-serial::before {content: \"\";position: absolute;border-left: 1px solid gray;box-sizing: border-box;top: 0;bottom: 0;left: 50%;z-index: 0;}#sk-container-id-1 div.sk-serial {display: flex;flex-direction: column;align-items: center;background-color: white;padding-right: 0.2em;padding-left: 0.2em;position: relative;}#sk-container-id-1 div.sk-item {position: relative;z-index: 1;}#sk-container-id-1 div.sk-parallel {display: flex;align-items: stretch;justify-content: center;background-color: white;position: relative;}#sk-container-id-1 div.sk-item::before, #sk-container-id-1 div.sk-parallel-item::before {content: \"\";position: absolute;border-left: 1px solid gray;box-sizing: border-box;top: 0;bottom: 0;left: 50%;z-index: -1;}#sk-container-id-1 div.sk-parallel-item {display: flex;flex-direction: column;z-index: 1;position: relative;background-color: white;}#sk-container-id-1 div.sk-parallel-item:first-child::after {align-self: flex-end;width: 50%;}#sk-container-id-1 div.sk-parallel-item:last-child::after {align-self: flex-start;width: 50%;}#sk-container-id-1 div.sk-parallel-item:only-child::after {width: 0;}#sk-container-id-1 div.sk-dashed-wrapped {border: 1px dashed gray;margin: 0 0.4em 0.5em 0.4em;box-sizing: border-box;padding-bottom: 0.4em;background-color: white;}#sk-container-id-1 div.sk-label label {font-family: monospace;font-weight: bold;display: inline-block;line-height: 1.2em;}#sk-container-id-1 div.sk-label-container {text-align: center;}#sk-container-id-1 div.sk-container {/* jupyter's `normalize.less` sets `[hidden] { display: none; }` but bootstrap.min.css set `[hidden] { display: none !important; }` so we also need the `!important` here to be able to override the default hidden behavior on the sphinx rendered scikit-learn.org. See: https://github.com/scikit-learn/scikit-learn/issues/21755 */display: inline-block !important;position: relative;}#sk-container-id-1 div.sk-text-repr-fallback {display: none;}</style><div id=\"sk-container-id-1\" class=\"sk-top-container\"><div class=\"sk-text-repr-fallback\"><pre>VotingClassifier(estimators=[(&#x27;rf&#x27;,\n",
       "                              RandomForestClassifier(max_leaf_nodes=32,\n",
       "                                                     n_estimators=300,\n",
       "                                                     random_state=42)),\n",
       "                             (&#x27;et&#x27;,\n",
       "                              ExtraTreesClassifier(max_leaf_nodes=32,\n",
       "                                                   n_estimators=300,\n",
       "                                                   random_state=43)),\n",
       "                             (&#x27;svc&#x27;,\n",
       "                              LinearSVC(C=0.05, dual=True, random_state=42))],\n",
       "                 n_jobs=-1)</pre><b>In a Jupyter environment, please rerun this cell to show the HTML representation or trust the notebook. <br />On GitHub, the HTML representation is unable to render, please try loading this page with nbviewer.org.</b></div><div class=\"sk-container\" hidden><div class=\"sk-item sk-dashed-wrapped\"><div class=\"sk-label-container\"><div class=\"sk-label sk-toggleable\"><input class=\"sk-toggleable__control sk-hidden--visually\" id=\"sk-estimator-id-1\" type=\"checkbox\" ><label for=\"sk-estimator-id-1\" class=\"sk-toggleable__label sk-toggleable__label-arrow\">VotingClassifier</label><div class=\"sk-toggleable__content\"><pre>VotingClassifier(estimators=[(&#x27;rf&#x27;,\n",
       "                              RandomForestClassifier(max_leaf_nodes=32,\n",
       "                                                     n_estimators=300,\n",
       "                                                     random_state=42)),\n",
       "                             (&#x27;et&#x27;,\n",
       "                              ExtraTreesClassifier(max_leaf_nodes=32,\n",
       "                                                   n_estimators=300,\n",
       "                                                   random_state=43)),\n",
       "                             (&#x27;svc&#x27;,\n",
       "                              LinearSVC(C=0.05, dual=True, random_state=42))],\n",
       "                 n_jobs=-1)</pre></div></div></div><div class=\"sk-parallel\"><div class=\"sk-parallel-item\"><div class=\"sk-item\"><div class=\"sk-label-container\"><div class=\"sk-label sk-toggleable\"><label>rf</label></div></div><div class=\"sk-serial\"><div class=\"sk-item\"><div class=\"sk-estimator sk-toggleable\"><input class=\"sk-toggleable__control sk-hidden--visually\" id=\"sk-estimator-id-2\" type=\"checkbox\" ><label for=\"sk-estimator-id-2\" class=\"sk-toggleable__label sk-toggleable__label-arrow\">RandomForestClassifier</label><div class=\"sk-toggleable__content\"><pre>RandomForestClassifier(max_leaf_nodes=32, n_estimators=300, random_state=42)</pre></div></div></div></div></div></div><div class=\"sk-parallel-item\"><div class=\"sk-item\"><div class=\"sk-label-container\"><div class=\"sk-label sk-toggleable\"><label>et</label></div></div><div class=\"sk-serial\"><div class=\"sk-item\"><div class=\"sk-estimator sk-toggleable\"><input class=\"sk-toggleable__control sk-hidden--visually\" id=\"sk-estimator-id-3\" type=\"checkbox\" ><label for=\"sk-estimator-id-3\" class=\"sk-toggleable__label sk-toggleable__label-arrow\">ExtraTreesClassifier</label><div class=\"sk-toggleable__content\"><pre>ExtraTreesClassifier(max_leaf_nodes=32, n_estimators=300, random_state=43)</pre></div></div></div></div></div></div><div class=\"sk-parallel-item\"><div class=\"sk-item\"><div class=\"sk-label-container\"><div class=\"sk-label sk-toggleable\"><label>svc</label></div></div><div class=\"sk-serial\"><div class=\"sk-item\"><div class=\"sk-estimator sk-toggleable\"><input class=\"sk-toggleable__control sk-hidden--visually\" id=\"sk-estimator-id-4\" type=\"checkbox\" ><label for=\"sk-estimator-id-4\" class=\"sk-toggleable__label sk-toggleable__label-arrow\">LinearSVC</label><div class=\"sk-toggleable__content\"><pre>LinearSVC(C=0.05, dual=True, random_state=42)</pre></div></div></div></div></div></div></div></div></div></div>"
      ]
     },
     "execution_count": 4,
     "metadata": {},
     "output_type": "execute_result"
    }
   ],
   "execution_count": 4
  },
  {
   "metadata": {
    "ExecuteTime": {
     "end_time": "2025-08-16T13:24:55.179736Z",
     "start_time": "2025-08-16T13:24:50.875572Z"
    }
   },
   "cell_type": "code",
   "source": [
    "for name, clf in voting_classifier.named_estimators_.items():\n",
    "    print(name, \" valid accuracy =\", clf.score(X_valid, y_valid.astype(int)), \"train accuracy =\", clf.score(X_train, y_train.astype(int)), \"test accuracy =\", clf.score(X_test, y_test.astype(int)))\n",
    "\n",
    "print(voting_classifier.score(X_valid,y_valid))"
   ],
   "id": "b4427ab4b811d618",
   "outputs": [
    {
     "name": "stdout",
     "output_type": "stream",
     "text": [
      "rf  valid accuracy = 0.8683 train accuracy = 0.870175 test accuracy = 0.88015\n",
      "et  valid accuracy = 0.8524 train accuracy = 0.8564 test accuracy = 0.86625\n",
      "svc  valid accuracy = 0.8488 train accuracy = 0.876725 test accuracy = 0.8702\n",
      "0.8718\n"
     ]
    }
   ],
   "execution_count": 51
  },
  {
   "metadata": {
    "ExecuteTime": {
     "end_time": "2025-08-16T13:26:40.841318Z",
     "start_time": "2025-08-16T13:26:39.655399Z"
    }
   },
   "cell_type": "code",
   "source": "print(voting_classifier.score(X_test,y_test))   # test accuracy: 0.8849",
   "id": "b0d3e71219888997",
   "outputs": [
    {
     "name": "stdout",
     "output_type": "stream",
     "text": [
      "0.8849\n"
     ]
    }
   ],
   "execution_count": 53
  },
  {
   "metadata": {},
   "cell_type": "markdown",
   "source": "## 编程题2",
   "id": "bfef2c04b31ace3e"
  },
  {
   "metadata": {
    "ExecuteTime": {
     "end_time": "2025-08-16T13:46:36.084469Z",
     "start_time": "2025-08-16T13:46:35.351103Z"
    }
   },
   "cell_type": "code",
   "source": [
    "import numpy as np\n",
    "X_valid_predict = np.empty((len(X_valid), len(voting_classifier.estimators_)))\n",
    "for i, name_clf in enumerate(voting_classifier.named_estimators_.items()):\n",
    "    _, clf = name_clf\n",
    "    X_valid_predict[:, i] = clf.predict(X_valid)\n",
    "\n",
    "final_estimator = RandomForestClassifier(random_state=43)\n",
    "final_estimator.fit(X_valid_predict, y_valid)"
   ],
   "id": "89d23bb16a87c955",
   "outputs": [
    {
     "data": {
      "text/plain": [
       "RandomForestClassifier(random_state=43)"
      ],
      "text/html": [
       "<style>#sk-container-id-8 {color: black;}#sk-container-id-8 pre{padding: 0;}#sk-container-id-8 div.sk-toggleable {background-color: white;}#sk-container-id-8 label.sk-toggleable__label {cursor: pointer;display: block;width: 100%;margin-bottom: 0;padding: 0.3em;box-sizing: border-box;text-align: center;}#sk-container-id-8 label.sk-toggleable__label-arrow:before {content: \"▸\";float: left;margin-right: 0.25em;color: #696969;}#sk-container-id-8 label.sk-toggleable__label-arrow:hover:before {color: black;}#sk-container-id-8 div.sk-estimator:hover label.sk-toggleable__label-arrow:before {color: black;}#sk-container-id-8 div.sk-toggleable__content {max-height: 0;max-width: 0;overflow: hidden;text-align: left;background-color: #f0f8ff;}#sk-container-id-8 div.sk-toggleable__content pre {margin: 0.2em;color: black;border-radius: 0.25em;background-color: #f0f8ff;}#sk-container-id-8 input.sk-toggleable__control:checked~div.sk-toggleable__content {max-height: 200px;max-width: 100%;overflow: auto;}#sk-container-id-8 input.sk-toggleable__control:checked~label.sk-toggleable__label-arrow:before {content: \"▾\";}#sk-container-id-8 div.sk-estimator input.sk-toggleable__control:checked~label.sk-toggleable__label {background-color: #d4ebff;}#sk-container-id-8 div.sk-label input.sk-toggleable__control:checked~label.sk-toggleable__label {background-color: #d4ebff;}#sk-container-id-8 input.sk-hidden--visually {border: 0;clip: rect(1px 1px 1px 1px);clip: rect(1px, 1px, 1px, 1px);height: 1px;margin: -1px;overflow: hidden;padding: 0;position: absolute;width: 1px;}#sk-container-id-8 div.sk-estimator {font-family: monospace;background-color: #f0f8ff;border: 1px dotted black;border-radius: 0.25em;box-sizing: border-box;margin-bottom: 0.5em;}#sk-container-id-8 div.sk-estimator:hover {background-color: #d4ebff;}#sk-container-id-8 div.sk-parallel-item::after {content: \"\";width: 100%;border-bottom: 1px solid gray;flex-grow: 1;}#sk-container-id-8 div.sk-label:hover label.sk-toggleable__label {background-color: #d4ebff;}#sk-container-id-8 div.sk-serial::before {content: \"\";position: absolute;border-left: 1px solid gray;box-sizing: border-box;top: 0;bottom: 0;left: 50%;z-index: 0;}#sk-container-id-8 div.sk-serial {display: flex;flex-direction: column;align-items: center;background-color: white;padding-right: 0.2em;padding-left: 0.2em;position: relative;}#sk-container-id-8 div.sk-item {position: relative;z-index: 1;}#sk-container-id-8 div.sk-parallel {display: flex;align-items: stretch;justify-content: center;background-color: white;position: relative;}#sk-container-id-8 div.sk-item::before, #sk-container-id-8 div.sk-parallel-item::before {content: \"\";position: absolute;border-left: 1px solid gray;box-sizing: border-box;top: 0;bottom: 0;left: 50%;z-index: -1;}#sk-container-id-8 div.sk-parallel-item {display: flex;flex-direction: column;z-index: 1;position: relative;background-color: white;}#sk-container-id-8 div.sk-parallel-item:first-child::after {align-self: flex-end;width: 50%;}#sk-container-id-8 div.sk-parallel-item:last-child::after {align-self: flex-start;width: 50%;}#sk-container-id-8 div.sk-parallel-item:only-child::after {width: 0;}#sk-container-id-8 div.sk-dashed-wrapped {border: 1px dashed gray;margin: 0 0.4em 0.5em 0.4em;box-sizing: border-box;padding-bottom: 0.4em;background-color: white;}#sk-container-id-8 div.sk-label label {font-family: monospace;font-weight: bold;display: inline-block;line-height: 1.2em;}#sk-container-id-8 div.sk-label-container {text-align: center;}#sk-container-id-8 div.sk-container {/* jupyter's `normalize.less` sets `[hidden] { display: none; }` but bootstrap.min.css set `[hidden] { display: none !important; }` so we also need the `!important` here to be able to override the default hidden behavior on the sphinx rendered scikit-learn.org. See: https://github.com/scikit-learn/scikit-learn/issues/21755 */display: inline-block !important;position: relative;}#sk-container-id-8 div.sk-text-repr-fallback {display: none;}</style><div id=\"sk-container-id-8\" class=\"sk-top-container\"><div class=\"sk-text-repr-fallback\"><pre>RandomForestClassifier(random_state=43)</pre><b>In a Jupyter environment, please rerun this cell to show the HTML representation or trust the notebook. <br />On GitHub, the HTML representation is unable to render, please try loading this page with nbviewer.org.</b></div><div class=\"sk-container\" hidden><div class=\"sk-item\"><div class=\"sk-estimator sk-toggleable\"><input class=\"sk-toggleable__control sk-hidden--visually\" id=\"sk-estimator-id-26\" type=\"checkbox\" checked><label for=\"sk-estimator-id-26\" class=\"sk-toggleable__label sk-toggleable__label-arrow\">RandomForestClassifier</label><div class=\"sk-toggleable__content\"><pre>RandomForestClassifier(random_state=43)</pre></div></div></div></div></div>"
      ]
     },
     "execution_count": 56,
     "metadata": {},
     "output_type": "execute_result"
    }
   ],
   "execution_count": 56
  },
  {
   "metadata": {
    "ExecuteTime": {
     "end_time": "2025-08-16T13:49:20.461971Z",
     "start_time": "2025-08-16T13:49:20.369658Z"
    }
   },
   "cell_type": "code",
   "source": "final_estimator.score(X_valid_predict, y_valid)",
   "id": "fcb838f58bd8edb0",
   "outputs": [
    {
     "data": {
      "text/plain": [
       "0.906"
      ]
     },
     "execution_count": 58,
     "metadata": {},
     "output_type": "execute_result"
    }
   ],
   "execution_count": 58
  },
  {
   "metadata": {
    "ExecuteTime": {
     "end_time": "2025-08-16T13:49:00.188040Z",
     "start_time": "2025-08-16T13:48:58.811324Z"
    }
   },
   "cell_type": "code",
   "source": [
    "# 在测试集评估 堆叠分类器的性能\n",
    "\n",
    "X_test_predict = np.empty((len(X_test), len(voting_classifier.estimators_)))\n",
    "for i, name_clf in enumerate(voting_classifier.named_estimators_.items()):\n",
    "    _, clf = name_clf\n",
    "    X_test_predict[:, i] = clf.predict(X_test)\n",
    "\n",
    "final_estimator.score(X_test_predict, y_test)"
   ],
   "id": "3f5f7f1f7ce60124",
   "outputs": [
    {
     "data": {
      "text/plain": [
       "0.90365"
      ]
     },
     "execution_count": 57,
     "metadata": {},
     "output_type": "execute_result"
    }
   ],
   "execution_count": 57
  },
  {
   "metadata": {
    "ExecuteTime": {
     "end_time": "2025-08-16T13:53:28.129630Z",
     "start_time": "2025-08-16T13:53:28.022855Z"
    }
   },
   "cell_type": "code",
   "source": [
    "# 现在来评估 内置的 StackingClassifier， 内置的StackingClassifier用交叉验证预测，所以不需要手动分 训练+验证集\n",
    "\n",
    "X_train_full, y_train_full = np.vstack((X_train, X_valid)), np.concatenate((y_train, y_valid))"
   ],
   "id": "8646359777c054bc",
   "outputs": [],
   "execution_count": 60
  },
  {
   "metadata": {
    "ExecuteTime": {
     "end_time": "2025-08-16T13:53:49.149340Z",
     "start_time": "2025-08-16T13:53:49.137335Z"
    }
   },
   "cell_type": "code",
   "source": [
    "# X_train_full.shape\n",
    "# y_train_full.shape"
   ],
   "id": "95d621ec0b7e899d",
   "outputs": [
    {
     "data": {
      "text/plain": [
       "(50000,)"
      ]
     },
     "execution_count": 63,
     "metadata": {},
     "output_type": "execute_result"
    }
   ],
   "execution_count": 63
  },
  {
   "metadata": {
    "ExecuteTime": {
     "end_time": "2025-08-16T14:21:59.172897Z",
     "start_time": "2025-08-16T14:09:47.631006Z"
    }
   },
   "cell_type": "code",
   "source": [
    "from sklearn.ensemble import StackingClassifier\n",
    "\n",
    "stacking_clf = StackingClassifier(\n",
    "     estimators = [(\"rf\", RandomForestClassifier(n_estimators=300, max_leaf_nodes=32, random_state=42)),\n",
    "                  (\"et\", ExtraTreesClassifier(n_estimators=300, max_leaf_nodes=32, random_state=43)),\n",
    "                  (\"svc\", LinearSVC(random_state=42, C=0.05, dual=True)),],\n",
    "    final_estimator = RandomForestClassifier(random_state=43),\n",
    "    cv = 5\n",
    ")\n",
    "\n",
    "stacking_clf.fit(X_train_full, y_train_full)"
   ],
   "id": "6cd2331de6faffdc",
   "outputs": [
    {
     "name": "stderr",
     "output_type": "stream",
     "text": [
      "E:\\MiniConda\\envs\\homl3\\lib\\site-packages\\sklearn\\svm\\_base.py:1250: ConvergenceWarning: Liblinear failed to converge, increase the number of iterations.\n",
      "  warnings.warn(\n",
      "E:\\MiniConda\\envs\\homl3\\lib\\site-packages\\sklearn\\svm\\_base.py:1250: ConvergenceWarning: Liblinear failed to converge, increase the number of iterations.\n",
      "  warnings.warn(\n",
      "E:\\MiniConda\\envs\\homl3\\lib\\site-packages\\sklearn\\svm\\_base.py:1250: ConvergenceWarning: Liblinear failed to converge, increase the number of iterations.\n",
      "  warnings.warn(\n",
      "E:\\MiniConda\\envs\\homl3\\lib\\site-packages\\sklearn\\svm\\_base.py:1250: ConvergenceWarning: Liblinear failed to converge, increase the number of iterations.\n",
      "  warnings.warn(\n",
      "E:\\MiniConda\\envs\\homl3\\lib\\site-packages\\sklearn\\svm\\_base.py:1250: ConvergenceWarning: Liblinear failed to converge, increase the number of iterations.\n",
      "  warnings.warn(\n",
      "E:\\MiniConda\\envs\\homl3\\lib\\site-packages\\sklearn\\svm\\_base.py:1250: ConvergenceWarning: Liblinear failed to converge, increase the number of iterations.\n",
      "  warnings.warn(\n"
     ]
    },
    {
     "data": {
      "text/plain": [
       "StackingClassifier(cv=5,\n",
       "                   estimators=[('rf',\n",
       "                                RandomForestClassifier(max_leaf_nodes=32,\n",
       "                                                       n_estimators=300,\n",
       "                                                       random_state=42)),\n",
       "                               ('et',\n",
       "                                ExtraTreesClassifier(max_leaf_nodes=32,\n",
       "                                                     n_estimators=300,\n",
       "                                                     random_state=43)),\n",
       "                               ('svc',\n",
       "                                LinearSVC(C=0.05, dual=True, random_state=42))],\n",
       "                   final_estimator=RandomForestClassifier(random_state=43))"
      ],
      "text/html": [
       "<style>#sk-container-id-10 {color: black;}#sk-container-id-10 pre{padding: 0;}#sk-container-id-10 div.sk-toggleable {background-color: white;}#sk-container-id-10 label.sk-toggleable__label {cursor: pointer;display: block;width: 100%;margin-bottom: 0;padding: 0.3em;box-sizing: border-box;text-align: center;}#sk-container-id-10 label.sk-toggleable__label-arrow:before {content: \"▸\";float: left;margin-right: 0.25em;color: #696969;}#sk-container-id-10 label.sk-toggleable__label-arrow:hover:before {color: black;}#sk-container-id-10 div.sk-estimator:hover label.sk-toggleable__label-arrow:before {color: black;}#sk-container-id-10 div.sk-toggleable__content {max-height: 0;max-width: 0;overflow: hidden;text-align: left;background-color: #f0f8ff;}#sk-container-id-10 div.sk-toggleable__content pre {margin: 0.2em;color: black;border-radius: 0.25em;background-color: #f0f8ff;}#sk-container-id-10 input.sk-toggleable__control:checked~div.sk-toggleable__content {max-height: 200px;max-width: 100%;overflow: auto;}#sk-container-id-10 input.sk-toggleable__control:checked~label.sk-toggleable__label-arrow:before {content: \"▾\";}#sk-container-id-10 div.sk-estimator input.sk-toggleable__control:checked~label.sk-toggleable__label {background-color: #d4ebff;}#sk-container-id-10 div.sk-label input.sk-toggleable__control:checked~label.sk-toggleable__label {background-color: #d4ebff;}#sk-container-id-10 input.sk-hidden--visually {border: 0;clip: rect(1px 1px 1px 1px);clip: rect(1px, 1px, 1px, 1px);height: 1px;margin: -1px;overflow: hidden;padding: 0;position: absolute;width: 1px;}#sk-container-id-10 div.sk-estimator {font-family: monospace;background-color: #f0f8ff;border: 1px dotted black;border-radius: 0.25em;box-sizing: border-box;margin-bottom: 0.5em;}#sk-container-id-10 div.sk-estimator:hover {background-color: #d4ebff;}#sk-container-id-10 div.sk-parallel-item::after {content: \"\";width: 100%;border-bottom: 1px solid gray;flex-grow: 1;}#sk-container-id-10 div.sk-label:hover label.sk-toggleable__label {background-color: #d4ebff;}#sk-container-id-10 div.sk-serial::before {content: \"\";position: absolute;border-left: 1px solid gray;box-sizing: border-box;top: 0;bottom: 0;left: 50%;z-index: 0;}#sk-container-id-10 div.sk-serial {display: flex;flex-direction: column;align-items: center;background-color: white;padding-right: 0.2em;padding-left: 0.2em;position: relative;}#sk-container-id-10 div.sk-item {position: relative;z-index: 1;}#sk-container-id-10 div.sk-parallel {display: flex;align-items: stretch;justify-content: center;background-color: white;position: relative;}#sk-container-id-10 div.sk-item::before, #sk-container-id-10 div.sk-parallel-item::before {content: \"\";position: absolute;border-left: 1px solid gray;box-sizing: border-box;top: 0;bottom: 0;left: 50%;z-index: -1;}#sk-container-id-10 div.sk-parallel-item {display: flex;flex-direction: column;z-index: 1;position: relative;background-color: white;}#sk-container-id-10 div.sk-parallel-item:first-child::after {align-self: flex-end;width: 50%;}#sk-container-id-10 div.sk-parallel-item:last-child::after {align-self: flex-start;width: 50%;}#sk-container-id-10 div.sk-parallel-item:only-child::after {width: 0;}#sk-container-id-10 div.sk-dashed-wrapped {border: 1px dashed gray;margin: 0 0.4em 0.5em 0.4em;box-sizing: border-box;padding-bottom: 0.4em;background-color: white;}#sk-container-id-10 div.sk-label label {font-family: monospace;font-weight: bold;display: inline-block;line-height: 1.2em;}#sk-container-id-10 div.sk-label-container {text-align: center;}#sk-container-id-10 div.sk-container {/* jupyter's `normalize.less` sets `[hidden] { display: none; }` but bootstrap.min.css set `[hidden] { display: none !important; }` so we also need the `!important` here to be able to override the default hidden behavior on the sphinx rendered scikit-learn.org. See: https://github.com/scikit-learn/scikit-learn/issues/21755 */display: inline-block !important;position: relative;}#sk-container-id-10 div.sk-text-repr-fallback {display: none;}</style><div id=\"sk-container-id-10\" class=\"sk-top-container\"><div class=\"sk-text-repr-fallback\"><pre>StackingClassifier(cv=5,\n",
       "                   estimators=[(&#x27;rf&#x27;,\n",
       "                                RandomForestClassifier(max_leaf_nodes=32,\n",
       "                                                       n_estimators=300,\n",
       "                                                       random_state=42)),\n",
       "                               (&#x27;et&#x27;,\n",
       "                                ExtraTreesClassifier(max_leaf_nodes=32,\n",
       "                                                     n_estimators=300,\n",
       "                                                     random_state=43)),\n",
       "                               (&#x27;svc&#x27;,\n",
       "                                LinearSVC(C=0.05, dual=True, random_state=42))],\n",
       "                   final_estimator=RandomForestClassifier(random_state=43))</pre><b>In a Jupyter environment, please rerun this cell to show the HTML representation or trust the notebook. <br />On GitHub, the HTML representation is unable to render, please try loading this page with nbviewer.org.</b></div><div class=\"sk-container\" hidden><div class=\"sk-item sk-dashed-wrapped\"><div class=\"sk-label-container\"><div class=\"sk-label sk-toggleable\"><input class=\"sk-toggleable__control sk-hidden--visually\" id=\"sk-estimator-id-32\" type=\"checkbox\" ><label for=\"sk-estimator-id-32\" class=\"sk-toggleable__label sk-toggleable__label-arrow\">StackingClassifier</label><div class=\"sk-toggleable__content\"><pre>StackingClassifier(cv=5,\n",
       "                   estimators=[(&#x27;rf&#x27;,\n",
       "                                RandomForestClassifier(max_leaf_nodes=32,\n",
       "                                                       n_estimators=300,\n",
       "                                                       random_state=42)),\n",
       "                               (&#x27;et&#x27;,\n",
       "                                ExtraTreesClassifier(max_leaf_nodes=32,\n",
       "                                                     n_estimators=300,\n",
       "                                                     random_state=43)),\n",
       "                               (&#x27;svc&#x27;,\n",
       "                                LinearSVC(C=0.05, dual=True, random_state=42))],\n",
       "                   final_estimator=RandomForestClassifier(random_state=43))</pre></div></div></div><div class=\"sk-serial\"><div class=\"sk-item\"><div class=\"sk-parallel\"><div class=\"sk-parallel-item\"><div class=\"sk-item\"><div class=\"sk-label-container\"><div class=\"sk-label sk-toggleable\"><label>rf</label></div></div><div class=\"sk-serial\"><div class=\"sk-item\"><div class=\"sk-estimator sk-toggleable\"><input class=\"sk-toggleable__control sk-hidden--visually\" id=\"sk-estimator-id-33\" type=\"checkbox\" ><label for=\"sk-estimator-id-33\" class=\"sk-toggleable__label sk-toggleable__label-arrow\">RandomForestClassifier</label><div class=\"sk-toggleable__content\"><pre>RandomForestClassifier(max_leaf_nodes=32, n_estimators=300, random_state=42)</pre></div></div></div></div></div></div><div class=\"sk-parallel-item\"><div class=\"sk-item\"><div class=\"sk-label-container\"><div class=\"sk-label sk-toggleable\"><label>et</label></div></div><div class=\"sk-serial\"><div class=\"sk-item\"><div class=\"sk-estimator sk-toggleable\"><input class=\"sk-toggleable__control sk-hidden--visually\" id=\"sk-estimator-id-34\" type=\"checkbox\" ><label for=\"sk-estimator-id-34\" class=\"sk-toggleable__label sk-toggleable__label-arrow\">ExtraTreesClassifier</label><div class=\"sk-toggleable__content\"><pre>ExtraTreesClassifier(max_leaf_nodes=32, n_estimators=300, random_state=43)</pre></div></div></div></div></div></div><div class=\"sk-parallel-item\"><div class=\"sk-item\"><div class=\"sk-label-container\"><div class=\"sk-label sk-toggleable\"><label>svc</label></div></div><div class=\"sk-serial\"><div class=\"sk-item\"><div class=\"sk-estimator sk-toggleable\"><input class=\"sk-toggleable__control sk-hidden--visually\" id=\"sk-estimator-id-35\" type=\"checkbox\" ><label for=\"sk-estimator-id-35\" class=\"sk-toggleable__label sk-toggleable__label-arrow\">LinearSVC</label><div class=\"sk-toggleable__content\"><pre>LinearSVC(C=0.05, dual=True, random_state=42)</pre></div></div></div></div></div></div></div></div><div class=\"sk-item\"><div class=\"sk-parallel\"><div class=\"sk-parallel-item\"><div class=\"sk-item\"><div class=\"sk-label-container\"><div class=\"sk-label sk-toggleable\"><label>final_estimator</label></div></div><div class=\"sk-serial\"><div class=\"sk-item\"><div class=\"sk-estimator sk-toggleable\"><input class=\"sk-toggleable__control sk-hidden--visually\" id=\"sk-estimator-id-36\" type=\"checkbox\" ><label for=\"sk-estimator-id-36\" class=\"sk-toggleable__label sk-toggleable__label-arrow\">RandomForestClassifier</label><div class=\"sk-toggleable__content\"><pre>RandomForestClassifier(random_state=43)</pre></div></div></div></div></div></div></div></div></div></div></div></div>"
      ]
     },
     "execution_count": 68,
     "metadata": {},
     "output_type": "execute_result"
    }
   ],
   "execution_count": 68
  },
  {
   "metadata": {
    "ExecuteTime": {
     "end_time": "2025-08-16T14:09:40.351944Z",
     "start_time": "2025-08-16T14:09:38.927956Z"
    }
   },
   "cell_type": "code",
   "source": "stacking_clf.score(X_test, y_test)",
   "id": "d180d3ff90fd42a5",
   "outputs": [
    {
     "data": {
      "text/plain": [
       "0.9369"
      ]
     },
     "execution_count": 67,
     "metadata": {},
     "output_type": "execute_result"
    }
   ],
   "execution_count": 67
  },
  {
   "metadata": {},
   "cell_type": "markdown",
   "source": [
    "StackingClassifer比模拟的堆叠分类准确率高，有以下原因：\n",
    "1. StackingClassifier用的交叉验证预测结果作为下一层的训练集，所以预测后会有更多训练集\n",
    "2. 堆叠分类器会用预测器的predict_proba/decision_function, 最后才考虑用predict，为训练集加了多样性"
   ],
   "id": "a3b76bc4dcac5f4e"
  },
  {
   "metadata": {},
   "cell_type": "code",
   "outputs": [],
   "execution_count": null,
   "source": "",
   "id": "1ef035df96d77b90"
  }
 ],
 "metadata": {
  "kernelspec": {
   "display_name": "Python 3",
   "language": "python",
   "name": "python3"
  },
  "language_info": {
   "codemirror_mode": {
    "name": "ipython",
    "version": 2
   },
   "file_extension": ".py",
   "mimetype": "text/x-python",
   "name": "python",
   "nbconvert_exporter": "python",
   "pygments_lexer": "ipython2",
   "version": "2.7.6"
  }
 },
 "nbformat": 4,
 "nbformat_minor": 5
}
