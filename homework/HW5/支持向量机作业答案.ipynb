{
 "cells": [
  {
   "metadata": {},
   "cell_type": "markdown",
   "source": [
    "1. 支持向量机基本思想是什么？\n",
    "\n",
    "支持向量机（SVM）背后的基本思想是在类之间构建尽可能宽的“街道”。换句话说，目标是使区分两个类的决策边界与训练实例之间的边距尽可能大。在进行软边距分类时，SVM 会在完美区分两个类和尽可能宽的“街道”（即，少数实例最终可能会出现在“街道”上）之间寻找一个折衷方案。另一个关键思想是在非线性数据集上训练时使用核函数。SVM 也可以进行调整，以执行线性和非线性回归。\n",
    "\n",
    "2. 什么是支持向量？\n",
    "\n",
    "训练完 SVM 后，支持向量就是位于“街道”上的任何实例，包括其边界。决策边界完全由支持向量决定。任何非支持向量（即不在街道上）的实例都不会对决策边界产生任何影响；可以移除它们、添加更多实例或移动它们，只要它们不在街道上，就不会影响决策边界。使用核化 SVM 计算预测仅涉及支持向量，而不是整个训练集。\n",
    "\n",
    "3. 在使用SVM时，缩放输入值为什么很重要？\n",
    "\n",
    "SVM 尝试在类之间找到尽可能大的“街道”（参见第一个答案），因此如果训练集没有缩放，SVM 就会倾向于忽略小的特征（最宽的街道接近水平，小的特征看起来不影响）\n",
    "\n",
    "4. SVM分类器在对实例进行分类时能输出置信度分数吗？概率呢？\n",
    "\n",
    "可以使用decision_function获取置信度分数，这些分数表示实例与决策边界之间的距离。但是它们不能直接转换为类概率的估计值。如果在创建SVC时设置了probability=True，那么在训练结束时，使用5折交叉验证为训练样本生成作为验证集的分数（训练一个逻辑回归模型，把这些分数映射到估计的概率），之后predict_proba()和predict_log_proba()方法将可用。"
   ],
   "id": "9ea967e3c69b6244"
  },
  {
   "metadata": {},
   "cell_type": "markdown",
   "source": [
    "5. 你如何在LinearSVC，SVC和SGDClassifier之间进行选择\n",
    "\n",
    "它们三个都可用于大边距线性分类。SVC类还支持核技巧，这使得它能够处理非线性任务。但是SVC类无法很好地扩展到包含大量实例的数据集，不过能够很好地扩展到大量特征（O(m^2 * n)--O(m^3 * n))。LinearSVC类实现了针对线性SVM的优化算法，而SGDClassifier则使用随机梯度下降法。LinearSVC和SGDClassifier速度差不多（O(m*n))，但SGDClassifier更灵活，支持增量学习\n",
    "\n",
    "6. 假设已经使用RBF核训练了一个SVM分类器，但它似乎欠拟合训练集，应该增大还是减小gamma? C呢？\n",
    "\n",
    "应该增大gamma：gamma越大，远离锚定值衰减的越厉害，每个实例的影响范围随之变小：决策边界变得更不规则，开始单个实例绕弯 -> 降低欠拟合。\n",
    "应该增大C：C增大，会惩罚更宽的边距（边距宽引入更多边距内的分类错误，C越大，对这个错误惩罚越强）。 把边距收紧就是在降低欠拟合。\n",
    "\n",
    "7. epsilon不敏感模型是什么意思？\n",
    "\n",
    "回归SVM模型会尝试在预测模型的边界范围内（epsilon）拟合尽可能多的实例，训练后，在这个范围内添加实例，模型参数将完全不受影响，这个被叫做epsilon不敏感 -> 回归SVM模型的支持向量是边界范围外的实例。\n",
    "\n",
    "8. 使用核技巧有什么意义？\n",
    "\n",
    "核技巧是一种数学技巧，可以训练非线性SVM模型。生成的模型相当于使用非线性变换将输入映射到另一个空间，然后在得到的高纬输入上训练线性SVM. 核技巧无需对输入进行任何变换即可获得相同的结果\n"
   ],
   "id": "1e522472d6fefa1d"
  },
  {
   "metadata": {},
   "cell_type": "code",
   "outputs": [],
   "execution_count": null,
   "source": "",
   "id": "3baadc76729e8406"
  }
 ],
 "metadata": {
  "kernelspec": {
   "display_name": "Python 3",
   "language": "python",
   "name": "python3"
  },
  "language_info": {
   "codemirror_mode": {
    "name": "ipython",
    "version": 2
   },
   "file_extension": ".py",
   "mimetype": "text/x-python",
   "name": "python",
   "nbconvert_exporter": "python",
   "pygments_lexer": "ipython2",
   "version": "2.7.6"
  }
 },
 "nbformat": 4,
 "nbformat_minor": 5
}
